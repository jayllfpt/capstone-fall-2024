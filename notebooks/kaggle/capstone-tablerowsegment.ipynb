{
 "cells": [
  {
   "cell_type": "markdown",
   "id": "cafe5102",
   "metadata": {
    "papermill": {
     "duration": 0.006994,
     "end_time": "2024-10-17T07:00:08.609612",
     "exception": false,
     "start_time": "2024-10-17T07:00:08.602618",
     "status": "completed"
    },
    "tags": []
   },
   "source": [
    "# Capstone 2024 - Table Recognition Work\n",
    "\n",
    "Dataset:\n",
    "[PubTables-1m](https://huggingface.co/datasets/bsmock/pubtables-1m)\n",
    "\n",
    "Model: \n",
    "[YoloV11](https://docs.ultralytics.com/models/yolo11/)"
   ]
  },
  {
   "cell_type": "code",
   "execution_count": 1,
   "id": "829a39ff",
   "metadata": {
    "execution": {
     "iopub.execute_input": "2024-10-17T07:00:08.622555Z",
     "iopub.status.busy": "2024-10-17T07:00:08.622142Z",
     "iopub.status.idle": "2024-10-17T07:01:22.349650Z",
     "shell.execute_reply": "2024-10-17T07:01:22.348550Z"
    },
    "id": "ir-MS52_MfSA",
    "outputId": "d26935fb-cc93-4e2d-ff52-c365208e1eb2",
    "papermill": {
     "duration": 73.736624,
     "end_time": "2024-10-17T07:01:22.352021",
     "exception": false,
     "start_time": "2024-10-17T07:00:08.615397",
     "status": "completed"
    },
    "tags": []
   },
   "outputs": [
    {
     "name": "stdout",
     "output_type": "stream",
     "text": [
      "--2024-10-17 07:00:09--  https://huggingface.co/datasets/bsmock/pubtables-1m/resolve/main/PubTables-1M-Structure_Annotations_Val.tar.gz\r\n",
      "Resolving huggingface.co (huggingface.co)... 18.172.134.4, 18.172.134.24, 18.172.134.88, ...\r\n",
      "Connecting to huggingface.co (huggingface.co)|18.172.134.4|:443... connected.\r\n",
      "HTTP request sent, awaiting response... 302 Found\r\n",
      "Location: https://cdn-lfs.hf.co/repos/36/c0/36c021133128a16f57db86f4cb105c85b76fb8fb4968b96642a02b5140872630/6b8c4b512e24e1040fa0829935ab9c2d13fc0015f7315cc8f13ef82a8bc95ca4?response-content-disposition=inline%3B+filename*%3DUTF-8%27%27PubTables-1M-Structure_Annotations_Val.tar.gz%3B+filename%3D%22PubTables-1M-Structure_Annotations_Val.tar.gz%22%3B&response-content-type=application%2Fgzip&Expires=1729407609&Policy=eyJTdGF0ZW1lbnQiOlt7IkNvbmRpdGlvbiI6eyJEYXRlTGVzc1RoYW4iOnsiQVdTOkVwb2NoVGltZSI6MTcyOTQwNzYwOX19LCJSZXNvdXJjZSI6Imh0dHBzOi8vY2RuLWxmcy5oZi5jby9yZXBvcy8zNi9jMC8zNmMwMjExMzMxMjhhMTZmNTdkYjg2ZjRjYjEwNWM4NWI3NmZiOGZiNDk2OGI5NjY0MmEwMmI1MTQwODcyNjMwLzZiOGM0YjUxMmUyNGUxMDQwZmEwODI5OTM1YWI5YzJkMTNmYzAwMTVmNzMxNWNjOGYxM2VmODJhOGJjOTVjYTQ%7EcmVzcG9uc2UtY29udGVudC1kaXNwb3NpdGlvbj0qJnJlc3BvbnNlLWNvbnRlbnQtdHlwZT0qIn1dfQ__&Signature=g%7EAKp9QbKbknlX2bYzzLhw2yTHUqVFmqsFQhXdq0psZQ8NyLTh8-k2-8DsWi1DsYKzw-Uh21Wln7kRs0rw%7ENcYSisGFe-12Cc1kz%7EZQH-rYKk01AgrIraGIVvcnnyQTWvtsWQXAISlT3DcsBCAWC9Sb38q2u2A9E3GNgHkn5CliKqHHb0y-N1VBrhAm4l6P8jTL4Mo%7EMoRfOsW%7ElBfb1%7ExEndlnZGrqnzXqZxNFOi0pgu7PooTYUpKXMAxCmrwHv-YyjDy9-KFChkqq6V0O8SVDFEb6rY5WD7Xsq2zbiPe1Wf2NqdP-qK6G0hI-tVEm9M64EoPsB7dZ0R2ZyqxxHww__&Key-Pair-Id=K3RPWS32NSSJCE [following]\r\n",
      "--2024-10-17 07:00:09--  https://cdn-lfs.hf.co/repos/36/c0/36c021133128a16f57db86f4cb105c85b76fb8fb4968b96642a02b5140872630/6b8c4b512e24e1040fa0829935ab9c2d13fc0015f7315cc8f13ef82a8bc95ca4?response-content-disposition=inline%3B+filename*%3DUTF-8''PubTables-1M-Structure_Annotations_Val.tar.gz%3B+filename%3D%22PubTables-1M-Structure_Annotations_Val.tar.gz%22%3B&response-content-type=application%2Fgzip&Expires=1729407609&Policy=eyJTdGF0ZW1lbnQiOlt7IkNvbmRpdGlvbiI6eyJEYXRlTGVzc1RoYW4iOnsiQVdTOkVwb2NoVGltZSI6MTcyOTQwNzYwOX19LCJSZXNvdXJjZSI6Imh0dHBzOi8vY2RuLWxmcy5oZi5jby9yZXBvcy8zNi9jMC8zNmMwMjExMzMxMjhhMTZmNTdkYjg2ZjRjYjEwNWM4NWI3NmZiOGZiNDk2OGI5NjY0MmEwMmI1MTQwODcyNjMwLzZiOGM0YjUxMmUyNGUxMDQwZmEwODI5OTM1YWI5YzJkMTNmYzAwMTVmNzMxNWNjOGYxM2VmODJhOGJjOTVjYTQ~cmVzcG9uc2UtY29udGVudC1kaXNwb3NpdGlvbj0qJnJlc3BvbnNlLWNvbnRlbnQtdHlwZT0qIn1dfQ__&Signature=g~AKp9QbKbknlX2bYzzLhw2yTHUqVFmqsFQhXdq0psZQ8NyLTh8-k2-8DsWi1DsYKzw-Uh21Wln7kRs0rw~NcYSisGFe-12Cc1kz~ZQH-rYKk01AgrIraGIVvcnnyQTWvtsWQXAISlT3DcsBCAWC9Sb38q2u2A9E3GNgHkn5CliKqHHb0y-N1VBrhAm4l6P8jTL4Mo~MoRfOsW~lBfb1~xEndlnZGrqnzXqZxNFOi0pgu7PooTYUpKXMAxCmrwHv-YyjDy9-KFChkqq6V0O8SVDFEb6rY5WD7Xsq2zbiPe1Wf2NqdP-qK6G0hI-tVEm9M64EoPsB7dZ0R2ZyqxxHww__&Key-Pair-Id=K3RPWS32NSSJCE\r\n",
      "Resolving cdn-lfs.hf.co (cdn-lfs.hf.co)... 18.160.225.14, 18.160.225.92, 18.160.225.90, ...\r\n",
      "Connecting to cdn-lfs.hf.co (cdn-lfs.hf.co)|18.160.225.14|:443... connected.\r\n",
      "HTTP request sent, awaiting response... 200 OK\r\n",
      "Length: 30264304 (29M) [application/gzip]\r\n",
      "Saving to: 'PubTables-1M-Structure_Annotations_Val.tar.gz'\r\n",
      "\r\n",
      "PubTables-1M-Struct 100%[===================>]  28.86M   150MB/s    in 0.2s    \r\n",
      "\r\n",
      "2024-10-17 07:00:10 (150 MB/s) - 'PubTables-1M-Structure_Annotations_Val.tar.gz' saved [30264304/30264304]\r\n",
      "\r\n",
      "--2024-10-17 07:00:11--  https://huggingface.co/datasets/bsmock/pubtables-1m/resolve/main/PubTables-1M-Structure_Images_Val.tar.gz\r\n",
      "Resolving huggingface.co (huggingface.co)... 18.172.134.4, 18.172.134.24, 18.172.134.124, ...\r\n",
      "Connecting to huggingface.co (huggingface.co)|18.172.134.4|:443... connected.\r\n",
      "HTTP request sent, awaiting response... 302 Found\r\n",
      "Location: https://cdn-lfs.hf.co/repos/36/c0/36c021133128a16f57db86f4cb105c85b76fb8fb4968b96642a02b5140872630/e2b49caa4c015e3c96096305860774984d37bf1558f91d414355b209924795b9?response-content-disposition=inline%3B+filename*%3DUTF-8%27%27PubTables-1M-Structure_Images_Val.tar.gz%3B+filename%3D%22PubTables-1M-Structure_Images_Val.tar.gz%22%3B&response-content-type=application%2Fgzip&Expires=1729407611&Policy=eyJTdGF0ZW1lbnQiOlt7IkNvbmRpdGlvbiI6eyJEYXRlTGVzc1RoYW4iOnsiQVdTOkVwb2NoVGltZSI6MTcyOTQwNzYxMX19LCJSZXNvdXJjZSI6Imh0dHBzOi8vY2RuLWxmcy5oZi5jby9yZXBvcy8zNi9jMC8zNmMwMjExMzMxMjhhMTZmNTdkYjg2ZjRjYjEwNWM4NWI3NmZiOGZiNDk2OGI5NjY0MmEwMmI1MTQwODcyNjMwL2UyYjQ5Y2FhNGMwMTVlM2M5NjA5NjMwNTg2MDc3NDk4NGQzN2JmMTU1OGY5MWQ0MTQzNTViMjA5OTI0Nzk1Yjk%7EcmVzcG9uc2UtY29udGVudC1kaXNwb3NpdGlvbj0qJnJlc3BvbnNlLWNvbnRlbnQtdHlwZT0qIn1dfQ__&Signature=IXaDeJJ6AZEnyPnQv423M7dItQg%7Eu7GJk8Q8d%7E8jLd3azNQGA4dwz%7Egn2Fidyw%7EA%7EtlTKKZDHNp4rcpL8ru8NNaEhtxeI2DpCl-Tphq8G8v27YiJfRMoHuZDe9s07YB5jSgmpm9oppSaE0F6PAcpOp2sLHTr2qMOr4ktLTRoHHgTDama5UgqSQsrGfOYZ%7EnPQqX4Aslg8sd-hojjD2SaJehn6QLaPblO0Y3BvyIiGzDZOvODlE3-sXDD5Dt5CpljheE1UDfVygQ876hqYlC8lClKlExEV3VesFF0Q2ESOORq6mtbkqWj%7E1RQbIiqivyeKEeUGL9fpwUwbWeIzoFqPA__&Key-Pair-Id=K3RPWS32NSSJCE [following]\r\n",
      "--2024-10-17 07:00:11--  https://cdn-lfs.hf.co/repos/36/c0/36c021133128a16f57db86f4cb105c85b76fb8fb4968b96642a02b5140872630/e2b49caa4c015e3c96096305860774984d37bf1558f91d414355b209924795b9?response-content-disposition=inline%3B+filename*%3DUTF-8''PubTables-1M-Structure_Images_Val.tar.gz%3B+filename%3D%22PubTables-1M-Structure_Images_Val.tar.gz%22%3B&response-content-type=application%2Fgzip&Expires=1729407611&Policy=eyJTdGF0ZW1lbnQiOlt7IkNvbmRpdGlvbiI6eyJEYXRlTGVzc1RoYW4iOnsiQVdTOkVwb2NoVGltZSI6MTcyOTQwNzYxMX19LCJSZXNvdXJjZSI6Imh0dHBzOi8vY2RuLWxmcy5oZi5jby9yZXBvcy8zNi9jMC8zNmMwMjExMzMxMjhhMTZmNTdkYjg2ZjRjYjEwNWM4NWI3NmZiOGZiNDk2OGI5NjY0MmEwMmI1MTQwODcyNjMwL2UyYjQ5Y2FhNGMwMTVlM2M5NjA5NjMwNTg2MDc3NDk4NGQzN2JmMTU1OGY5MWQ0MTQzNTViMjA5OTI0Nzk1Yjk~cmVzcG9uc2UtY29udGVudC1kaXNwb3NpdGlvbj0qJnJlc3BvbnNlLWNvbnRlbnQtdHlwZT0qIn1dfQ__&Signature=IXaDeJJ6AZEnyPnQv423M7dItQg~u7GJk8Q8d~8jLd3azNQGA4dwz~gn2Fidyw~A~tlTKKZDHNp4rcpL8ru8NNaEhtxeI2DpCl-Tphq8G8v27YiJfRMoHuZDe9s07YB5jSgmpm9oppSaE0F6PAcpOp2sLHTr2qMOr4ktLTRoHHgTDama5UgqSQsrGfOYZ~nPQqX4Aslg8sd-hojjD2SaJehn6QLaPblO0Y3BvyIiGzDZOvODlE3-sXDD5Dt5CpljheE1UDfVygQ876hqYlC8lClKlExEV3VesFF0Q2ESOORq6mtbkqWj~1RQbIiqivyeKEeUGL9fpwUwbWeIzoFqPA__&Key-Pair-Id=K3RPWS32NSSJCE\r\n",
      "Resolving cdn-lfs.hf.co (cdn-lfs.hf.co)... 18.160.225.92, 18.160.225.14, 18.160.225.90, ...\r\n",
      "Connecting to cdn-lfs.hf.co (cdn-lfs.hf.co)|18.160.225.92|:443... connected.\r\n",
      "HTTP request sent, awaiting response... 200 OK\r\n",
      "Length: 2729881397 (2.5G) [application/gzip]\r\n",
      "Saving to: 'PubTables-1M-Structure_Images_Val.tar.gz'\r\n",
      "\r\n",
      "PubTables-1M-Struct 100%[===================>]   2.54G  31.6MB/s    in 71s     \r\n",
      "\r\n",
      "2024-10-17 07:01:22 (36.8 MB/s) - 'PubTables-1M-Structure_Images_Val.tar.gz' saved [2729881397/2729881397]\r\n",
      "\r\n"
     ]
    }
   ],
   "source": [
    "!wget https://huggingface.co/datasets/bsmock/pubtables-1m/resolve/main/PubTables-1M-Structure_Annotations_Val.tar.gz\n",
    "!wget https://huggingface.co/datasets/bsmock/pubtables-1m/resolve/main/PubTables-1M-Structure_Images_Val.tar.gz"
   ]
  },
  {
   "cell_type": "code",
   "execution_count": 2,
   "id": "ce17f8c9",
   "metadata": {
    "execution": {
     "iopub.execute_input": "2024-10-17T07:01:22.407304Z",
     "iopub.status.busy": "2024-10-17T07:01:22.406897Z",
     "iopub.status.idle": "2024-10-17T07:02:00.260461Z",
     "shell.execute_reply": "2024-10-17T07:02:00.259140Z"
    },
    "id": "LQNxCPWiM0gX",
    "outputId": "e03c0133-7889-4dc8-f6b1-3576b5eeed16",
    "papermill": {
     "duration": 37.886019,
     "end_time": "2024-10-17T07:02:00.263141",
     "exception": false,
     "start_time": "2024-10-17T07:01:22.377122",
     "status": "completed"
    },
    "tags": []
   },
   "outputs": [],
   "source": [
    "!mkdir ./data\n",
    "!mkdir ./data/PubTables-1M-Structure_Images_Val\n",
    "!mkdir ./data/PubTables-1M-Structure_Annotations_Val\n",
    "!tar -xf PubTables-1M-Structure_Images_Val.tar.gz -C ./data/PubTables-1M-Structure_Images_Val\n",
    "!tar -xf PubTables-1M-Structure_Annotations_Val.tar.gz -C ./data/PubTables-1M-Structure_Annotations_Val"
   ]
  },
  {
   "cell_type": "markdown",
   "id": "12c47903",
   "metadata": {
    "papermill": {
     "duration": 0.028394,
     "end_time": "2024-10-17T07:02:02.013562",
     "exception": false,
     "start_time": "2024-10-17T07:02:01.985168",
     "status": "completed"
    },
    "tags": []
   },
   "source": [
    "# Create YOLO Dataset"
   ]
  },
  {
   "cell_type": "code",
   "execution_count": 3,
   "id": "a9bfe02d",
   "metadata": {
    "execution": {
     "iopub.execute_input": "2024-10-17T07:02:02.068313Z",
     "iopub.status.busy": "2024-10-17T07:02:02.067823Z",
     "iopub.status.idle": "2024-10-17T07:02:02.391970Z",
     "shell.execute_reply": "2024-10-17T07:02:02.390786Z"
    },
    "papermill": {
     "duration": 0.356161,
     "end_time": "2024-10-17T07:02:02.395474",
     "exception": false,
     "start_time": "2024-10-17T07:02:02.039313",
     "status": "completed"
    },
    "tags": []
   },
   "outputs": [],
   "source": [
    "import os\n",
    "import yaml\n",
    "import shutil\n",
    "import cv2\n",
    "import random\n",
    "import colorsys\n",
    "import numpy as np\n",
    "\n",
    "import xml.etree.ElementTree as ET\n",
    "\n",
    "from glob import glob\n",
    "from PIL import Image\n",
    "\n",
    "import matplotlib.pyplot as plt"
   ]
  },
  {
   "cell_type": "code",
   "execution_count": 4,
   "id": "008cf510",
   "metadata": {
    "execution": {
     "iopub.execute_input": "2024-10-17T07:02:04.157489Z",
     "iopub.status.busy": "2024-10-17T07:02:04.156259Z",
     "iopub.status.idle": "2024-10-17T07:02:04.179107Z",
     "shell.execute_reply": "2024-10-17T07:02:04.177932Z"
    },
    "papermill": {
     "duration": 1.743867,
     "end_time": "2024-10-17T07:02:04.181718",
     "exception": false,
     "start_time": "2024-10-17T07:02:02.437851",
     "status": "completed"
    },
    "tags": []
   },
   "outputs": [],
   "source": [
    "classes = [\n",
    "#     'table column',\n",
    "    'table row',\n",
    "#     'table spanning cell',\n",
    "#     'table text cell'\n",
    "]\n",
    "\n",
    "def convert_coordinates(size, box):\n",
    "    dw, dh = 1.0/size[0], 1.0/size[1]\n",
    "    xmin, ymin, xmax, ymax = box\n",
    "    w, h = xmax - xmin, ymax - ymin\n",
    "    x_center, y_center = xmin + w/2, ymin + h/2\n",
    "    return (x_center * dw, y_center * dh, w * dw, h * dh)\n",
    "\n",
    "def convert_xml_to_yolo_and_copy_image(xml_file_path, dest_labels_dir, source_images_dir, dest_images_dir):\n",
    "    tree = ET.parse(xml_file_path)\n",
    "    root = tree.getroot()\n",
    "\n",
    "    filename = root.find('filename').text\n",
    "    image_path = os.path.join(source_images_dir, filename)\n",
    "#     print(image_path)\n",
    "    # Read image dimensions using PIL\n",
    "    with Image.open(image_path) as img:\n",
    "        width, height = img.size\n",
    "\n",
    "    output_filename = os.path.splitext(filename)[0] + '.txt'\n",
    "    with open(os.path.join(dest_labels_dir, output_filename), 'w') as out_file:\n",
    "        for obj in root.iter('object'):\n",
    "            cls = obj.find('name').text\n",
    "            if cls not in classes:\n",
    "                continue\n",
    "\n",
    "            cls_id = classes.index(cls)\n",
    "\n",
    "            xmlbox = obj.find('bndbox')\n",
    "            xmin = float(xmlbox.find('xmin').text) / width\n",
    "            ymin = float(xmlbox.find('ymin').text) / height\n",
    "            xmax = float(xmlbox.find('xmax').text) / width\n",
    "            ymax = float(xmlbox.find('ymax').text) / height\n",
    "            \n",
    "            # Create a polygon with 4 points (rectangle corners)\n",
    "            points = [\n",
    "                (xmin, ymin),  # Top-left\n",
    "                (xmax, ymin),  # Top-right\n",
    "                (xmax, ymax),  # Bottom-right\n",
    "                (xmin, ymax)   # Bottom-left\n",
    "            ]\n",
    "            \n",
    "            # Format the points as a string\n",
    "            points_str = ' '.join([f'{x:.6f} {y:.6f}' for x, y in points])\n",
    "            \n",
    "            out_file.write(f\"{cls_id} {points_str}\\n\")\n",
    "    \n",
    "    # Copy corresponding image to train directory\n",
    "    base_name = os.path.splitext(os.path.basename(xml_file_path))[0]\n",
    "    for ext in ['.jpg', '.jpeg', '.png', '.bmp']:\n",
    "        image_file = os.path.join(data_images_dir, base_name + ext)\n",
    "        if os.path.exists(image_file):\n",
    "#             print(\"Copied\", image_file, dest_images_dir)\n",
    "            shutil.copy(image_file, dest_images_dir)\n",
    "            break\n",
    "    return"
   ]
  },
  {
   "cell_type": "code",
   "execution_count": 5,
   "id": "37da87f7",
   "metadata": {
    "execution": {
     "iopub.execute_input": "2024-10-17T07:02:04.248204Z",
     "iopub.status.busy": "2024-10-17T07:02:04.247207Z",
     "iopub.status.idle": "2024-10-17T07:02:04.261958Z",
     "shell.execute_reply": "2024-10-17T07:02:04.260896Z"
    },
    "papermill": {
     "duration": 0.050159,
     "end_time": "2024-10-17T07:02:04.265625",
     "exception": false,
     "start_time": "2024-10-17T07:02:04.215466",
     "status": "completed"
    },
    "tags": []
   },
   "outputs": [],
   "source": [
    "def create_dataset(\n",
    "    data_images_dir, data_labels_dir, \n",
    "    train_images_dir, train_labels_dir,\n",
    "    val_images_dir, val_labels_dir,\n",
    "    number_of_samples=0, dataset_split_ratio = 0.8):\n",
    "\n",
    "    xml_files = glob(os.path.join(data_labels_dir, '*.xml'))\n",
    "\n",
    "    if number_of_samples:\n",
    "        xml_files = xml_files[:number_of_samples]\n",
    "    # Calculate the split index\n",
    "    split_index = int(len(xml_files) * 0.8)  # Assuming 80% train, 20% val split\n",
    "\n",
    "    # Split the files\n",
    "    train_xml_files = xml_files[:split_index]\n",
    "    val_xml_files = xml_files[split_index:]\n",
    "\n",
    "    # Process train files\n",
    "    for xml_file_path in train_xml_files:\n",
    "        convert_xml_to_yolo_and_copy_image(xml_file_path, train_labels_dir, data_images_dir, train_images_dir)\n",
    "\n",
    "    # Process validation files\n",
    "    for xml_file_path in val_xml_files:\n",
    "        convert_xml_to_yolo_and_copy_image(xml_file_path, val_labels_dir, data_images_dir, val_images_dir)\n",
    "\n",
    "def create_dataset_yaml(dataset_dir, yaml_path):\n",
    "  # Create the dataset structure\n",
    "  dataset = {\n",
    "      'path': os.path.abspath(dataset_dir),\n",
    "      'train': 'train',  # Assuming all data is for training\n",
    "      'val': 'val',    # Using same data for validation\n",
    "    #   'test': 'train',   # Using same data for testing\n",
    "      'names': {i: name for i, name in enumerate(classes)},\n",
    "      'nc': len(classes)\n",
    "  }\n",
    "\n",
    "  # Write the YAML file\n",
    "  with open(yaml_path, 'w') as file:\n",
    "      yaml.dump(dataset, file, default_flow_style=False)\n",
    "\n",
    "  print(f\"Dataset YAML file created at: {yaml_path}\")"
   ]
  },
  {
   "cell_type": "code",
   "execution_count": 6,
   "id": "b6c360f0",
   "metadata": {
    "execution": {
     "iopub.execute_input": "2024-10-17T07:02:04.344755Z",
     "iopub.status.busy": "2024-10-17T07:02:04.344340Z",
     "iopub.status.idle": "2024-10-17T07:02:10.070640Z",
     "shell.execute_reply": "2024-10-17T07:02:10.069699Z"
    },
    "papermill": {
     "duration": 5.764102,
     "end_time": "2024-10-17T07:02:10.072881",
     "exception": false,
     "start_time": "2024-10-17T07:02:04.308779",
     "status": "completed"
    },
    "tags": []
   },
   "outputs": [
    {
     "name": "stdout",
     "output_type": "stream",
     "text": [
      "Dataset YAML file created at: /kaggle/working/dataset/dataset.yaml\n"
     ]
    }
   ],
   "source": [
    "data_dir = \"/kaggle/working/data\"\n",
    "data_images_dir = \"/kaggle/working/data/PubTables-1M-Structure_Images_Val\"\n",
    "data_labels_dir = \"/kaggle/working/data/PubTables-1M-Structure_Annotations_Val\"\n",
    "\n",
    "dataset_dir = \"/kaggle/working/dataset\"\n",
    "train_images_dir = os.path.join(dataset_dir, \"train\", \"images\")\n",
    "train_labels_dir = os.path.join(dataset_dir, \"train\", \"labels\")\n",
    "val_images_dir = os.path.join(dataset_dir, \"val\", \"images\")\n",
    "val_labels_dir = os.path.join(dataset_dir, \"val\", \"labels\")\n",
    "\n",
    "dataset_yaml_path = \"/kaggle/working/dataset/dataset.yaml\"\n",
    "\n",
    "os.makedirs(dataset_dir, exist_ok=True)\n",
    "os.makedirs(train_images_dir, exist_ok=True)\n",
    "os.makedirs(train_labels_dir, exist_ok=True)\n",
    "os.makedirs(val_images_dir, exist_ok=True)\n",
    "os.makedirs(val_labels_dir, exist_ok=True)\n",
    "\n",
    "number_of_samples = 5000\n",
    "dataset_split_ratio = 0.8\n",
    "\n",
    "create_dataset(\n",
    "    data_images_dir, data_labels_dir, \n",
    "    train_images_dir, train_labels_dir,\n",
    "    val_images_dir, val_labels_dir,\n",
    "    number_of_samples,\n",
    "    dataset_split_ratio\n",
    ")\n",
    "create_dataset_yaml(dataset_dir, dataset_yaml_path)"
   ]
  },
  {
   "cell_type": "code",
   "execution_count": 7,
   "id": "1f500356",
   "metadata": {
    "execution": {
     "iopub.execute_input": "2024-10-17T07:02:10.127147Z",
     "iopub.status.busy": "2024-10-17T07:02:10.126099Z",
     "iopub.status.idle": "2024-10-17T07:02:10.131203Z",
     "shell.execute_reply": "2024-10-17T07:02:10.130279Z"
    },
    "papermill": {
     "duration": 0.035191,
     "end_time": "2024-10-17T07:02:10.133394",
     "exception": false,
     "start_time": "2024-10-17T07:02:10.098203",
     "status": "completed"
    },
    "tags": []
   },
   "outputs": [],
   "source": [
    "# !rm -rf \"/kaggle/working/dataset\""
   ]
  },
  {
   "cell_type": "markdown",
   "id": "63218ada",
   "metadata": {
    "papermill": {
     "duration": 0.025209,
     "end_time": "2024-10-17T07:02:10.183723",
     "exception": false,
     "start_time": "2024-10-17T07:02:10.158514",
     "status": "completed"
    },
    "tags": []
   },
   "source": [
    "# Data sample visualization"
   ]
  },
  {
   "cell_type": "code",
   "execution_count": 8,
   "id": "6ea61423",
   "metadata": {
    "execution": {
     "iopub.execute_input": "2024-10-17T07:02:10.236599Z",
     "iopub.status.busy": "2024-10-17T07:02:10.236209Z",
     "iopub.status.idle": "2024-10-17T07:02:10.791737Z",
     "shell.execute_reply": "2024-10-17T07:02:10.790586Z"
    },
    "id": "WySS5BWfN0oK",
    "outputId": "ac5ce44a-1005-46f6-e803-e33063d62eaf",
    "papermill": {
     "duration": 0.587264,
     "end_time": "2024-10-17T07:02:10.796713",
     "exception": false,
     "start_time": "2024-10-17T07:02:10.209449",
     "status": "completed"
    },
    "tags": []
   },
   "outputs": [
    {
     "data": {
      "image/png": "[encoded data removed]",
      "text/plain": [
       "<Figure size 1200x800 with 1 Axes>"
      ]
     },
     "metadata": {},
     "output_type": "display_data"
    }
   ],
   "source": [
    "# Load the dataset configuration\n",
    "with open(dataset_yaml_path, 'r') as file:\n",
    "    dataset_config = yaml.safe_load(file)\n",
    "\n",
    "# Get the dataset path and class names\n",
    "dataset_path = dataset_config['path']\n",
    "class_names = dataset_config['names']\n",
    "\n",
    "# Choose a random set (train or val)\n",
    "image_set = random.choice(['train', 'val'])\n",
    "images_path = os.path.join(dataset_path, image_set, 'images')\n",
    "# Get a list of all image files\n",
    "image_files = [f for f in os.listdir(images_path) if f.endswith(('.jpg', '.jpeg', '.png'))]\n",
    "\n",
    "# Choose a random image\n",
    "random_image = random.choice(image_files)\n",
    "image_path = os.path.join(images_path, random_image)\n",
    "\n",
    "# Load the image\n",
    "image = cv2.imread(image_path)\n",
    "image = cv2.cvtColor(image, cv2.COLOR_BGR2RGB)\n",
    "\n",
    "# Load the corresponding label file\n",
    "label_path = os.path.join(dataset_path, image_set, 'labels', random_image.rsplit('.', 1)[0] + '.txt')\n",
    "\n",
    "# Read and parse the label file\n",
    "with open(label_path, 'r') as file:\n",
    "    labels = file.readlines()\n",
    "\n",
    "# Get image dimensions\n",
    "height, width, _ = image.shape\n",
    "\n",
    "# Function to generate distinct colors\n",
    "def generate_colors(n):\n",
    "    hsv_tuples = [(x / n, 1., 1.) for x in range(n)]\n",
    "    return list(map(lambda x: tuple(round(i * 255) for i in colorsys.hsv_to_rgb(*x)), hsv_tuples))\n",
    "\n",
    "# Generate a color for each class\n",
    "colors = generate_colors(len(class_names))\n",
    "\n",
    "# Draw bounding boxes and labels\n",
    "for label in labels:\n",
    "    class_id, *points = map(float, label.strip().split())\n",
    "    \n",
    "    # Convert normalized coordinates to pixel coordinates\n",
    "    pixel_points = [(int(x * width), int(y * height)) for x, y in zip(points[::2], points[1::2])]\n",
    "    \n",
    "    # Get color for this class\n",
    "    color = colors[int(class_id)]\n",
    "    \n",
    "    # Draw polygon\n",
    "    cv2.polylines(image, [np.array(pixel_points)], isClosed=True, color=color, thickness=2)\n",
    "\n",
    "    # Add label\n",
    "    class_name = class_names[int(class_id)]\n",
    "    # cv2.putText(image, class_name, (x1, y1-10), cv2.FONT_HERSHEY_SIMPLEX, 0.9, color, 2)\n",
    "\n",
    "# Display the image\n",
    "plt.figure(figsize=(12, 8))\n",
    "plt.imshow(image)\n",
    "plt.axis('off')\n",
    "plt.title(f\"Random Image: {random_image}\")\n",
    "plt.show()"
   ]
  },
  {
   "cell_type": "code",
   "execution_count": 9,
   "id": "9663712b",
   "metadata": {
    "execution": {
     "iopub.execute_input": "2024-10-17T07:02:10.882671Z",
     "iopub.status.busy": "2024-10-17T07:02:10.881312Z",
     "iopub.status.idle": "2024-10-17T07:02:10.889786Z",
     "shell.execute_reply": "2024-10-17T07:02:10.888633Z"
    },
    "id": "aJGfYfCDQEkG",
    "outputId": "a27f3976-10d2-49ba-cc50-1be9fb8d3932",
    "papermill": {
     "duration": 0.04878,
     "end_time": "2024-10-17T07:02:10.892705",
     "exception": false,
     "start_time": "2024-10-17T07:02:10.843925",
     "status": "completed"
    },
    "tags": []
   },
   "outputs": [
    {
     "data": {
      "text/plain": [
       "['0 0.098882 0.099372 0.896014 0.099372 0.896014 0.197958 0.098882 0.197958\\n',\n",
       " '0 0.098882 0.197958 0.896014 0.197958 0.896014 0.242664 0.098882 0.242664\\n',\n",
       " '0 0.098882 0.242664 0.896014 0.242664 0.896014 0.288815 0.098882 0.288815\\n',\n",
       " '0 0.098882 0.288815 0.896014 0.288815 0.896014 0.367051 0.098882 0.367051\\n',\n",
       " '0 0.098882 0.367051 0.896014 0.367051 0.896014 0.445095 0.098882 0.445095\\n',\n",
       " '0 0.098882 0.445095 0.896014 0.445095 0.896014 0.522760 0.098882 0.522760\\n',\n",
       " '0 0.098882 0.522760 0.896014 0.522760 0.896014 0.570928 0.098882 0.570928\\n',\n",
       " '0 0.098882 0.570928 0.896014 0.570928 0.896014 0.618524 0.098882 0.618524\\n',\n",
       " '0 0.098882 0.618524 0.896014 0.618524 0.896014 0.666121 0.098882 0.666121\\n',\n",
       " '0 0.098882 0.666121 0.896014 0.666121 0.896014 0.713717 0.098882 0.713717\\n',\n",
       " '0 0.098882 0.713717 0.896014 0.713717 0.896014 0.761314 0.098882 0.761314\\n',\n",
       " '0 0.098882 0.761314 0.896014 0.761314 0.896014 0.808911 0.098882 0.808911\\n',\n",
       " '0 0.098882 0.808911 0.896014 0.808911 0.896014 0.856507 0.098882 0.856507\\n',\n",
       " '0 0.098882 0.856507 0.896014 0.856507 0.896014 0.895452 0.098882 0.895452\\n']"
      ]
     },
     "execution_count": 9,
     "metadata": {},
     "output_type": "execute_result"
    }
   ],
   "source": [
    "labels"
   ]
  },
  {
   "cell_type": "code",
   "execution_count": 10,
   "id": "c57c00a7",
   "metadata": {
    "execution": {
     "iopub.execute_input": "2024-10-17T07:02:10.976547Z",
     "iopub.status.busy": "2024-10-17T07:02:10.976137Z",
     "iopub.status.idle": "2024-10-17T07:02:22.845299Z",
     "shell.execute_reply": "2024-10-17T07:02:22.844204Z"
    },
    "papermill": {
     "duration": 11.902667,
     "end_time": "2024-10-17T07:02:22.847850",
     "exception": false,
     "start_time": "2024-10-17T07:02:10.945183",
     "status": "completed"
    },
    "tags": []
   },
   "outputs": [],
   "source": [
    "!rm -rf \"/kaggle/working/data\"\n",
    "!rm -rf \"/kaggle/working/*.tar\"\n",
    "!rm -rf \"/kaggle/working/*.gz\""
   ]
  },
  {
   "cell_type": "markdown",
   "id": "091463bb",
   "metadata": {
    "papermill": {
     "duration": 0.028771,
     "end_time": "2024-10-17T07:02:22.904987",
     "exception": false,
     "start_time": "2024-10-17T07:02:22.876216",
     "status": "completed"
    },
    "tags": []
   },
   "source": [
    "# Model training"
   ]
  },
  {
   "cell_type": "code",
   "execution_count": 11,
   "id": "d466e7fa",
   "metadata": {
    "execution": {
     "iopub.execute_input": "2024-10-17T07:02:22.962878Z",
     "iopub.status.busy": "2024-10-17T07:02:22.962491Z",
     "iopub.status.idle": "2024-10-17T07:02:50.859824Z",
     "shell.execute_reply": "2024-10-17T07:02:50.858835Z"
    },
    "id": "-eRwChh2R7hI",
    "outputId": "90cded72-3faa-4749-fd79-8e2fe0ff40d1",
    "papermill": {
     "duration": 27.928729,
     "end_time": "2024-10-17T07:02:50.862301",
     "exception": false,
     "start_time": "2024-10-17T07:02:22.933572",
     "status": "completed"
    },
    "tags": []
   },
   "outputs": [
    {
     "name": "stdout",
     "output_type": "stream",
     "text": [
      "Collecting ultralytics\r\n",
      "  Downloading ultralytics-8.3.15-py3-none-any.whl.metadata (34 kB)\r\n",
      "Requirement already satisfied: numpy>=1.23.0 in /opt/conda/lib/python3.10/site-packages (from ultralytics) (1.26.4)\r\n",
      "Requirement already satisfied: matplotlib>=3.3.0 in /opt/conda/lib/python3.10/site-packages (from ultralytics) (3.7.5)\r\n",
      "Requirement already satisfied: opencv-python>=4.6.0 in /opt/conda/lib/python3.10/site-packages (from ultralytics) (4.10.0.84)\r\n",
      "Requirement already satisfied: pillow>=7.1.2 in /opt/conda/lib/python3.10/site-packages (from ultralytics) (10.3.0)\r\n",
      "Requirement already satisfied: pyyaml>=5.3.1 in /opt/conda/lib/python3.10/site-packages (from ultralytics) (6.0.2)\r\n",
      "Requirement already satisfied: requests>=2.23.0 in /opt/conda/lib/python3.10/site-packages (from ultralytics) (2.32.3)\r\n",
      "Requirement already satisfied: scipy>=1.4.1 in /opt/conda/lib/python3.10/site-packages (from ultralytics) (1.14.1)\r\n",
      "Requirement already satisfied: torch>=1.8.0 in /opt/conda/lib/python3.10/site-packages (from ultralytics) (2.4.0)\r\n",
      "Requirement already satisfied: torchvision>=0.9.0 in /opt/conda/lib/python3.10/site-packages (from ultralytics) (0.19.0)\r\n",
      "Requirement already satisfied: tqdm>=4.64.0 in /opt/conda/lib/python3.10/site-packages (from ultralytics) (4.66.4)\r\n",
      "Requirement already satisfied: psutil in /opt/conda/lib/python3.10/site-packages (from ultralytics) (5.9.3)\r\n",
      "Requirement already satisfied: py-cpuinfo in /opt/conda/lib/python3.10/site-packages (from ultralytics) (9.0.0)\r\n",
      "Requirement already satisfied: pandas>=1.1.4 in /opt/conda/lib/python3.10/site-packages (from ultralytics) (2.2.2)\r\n",
      "Requirement already satisfied: seaborn>=0.11.0 in /opt/conda/lib/python3.10/site-packages (from ultralytics) (0.12.2)\r\n",
      "Collecting ultralytics-thop>=2.0.0 (from ultralytics)\r\n",
      "  Downloading ultralytics_thop-2.0.9-py3-none-any.whl.metadata (9.3 kB)\r\n",
      "Requirement already satisfied: contourpy>=1.0.1 in /opt/conda/lib/python3.10/site-packages (from matplotlib>=3.3.0->ultralytics) (1.2.1)\r\n",
      "Requirement already satisfied: cycler>=0.10 in /opt/conda/lib/python3.10/site-packages (from matplotlib>=3.3.0->ultralytics) (0.12.1)\r\n",
      "Requirement already satisfied: fonttools>=4.22.0 in /opt/conda/lib/python3.10/site-packages (from matplotlib>=3.3.0->ultralytics) (4.53.0)\r\n",
      "Requirement already satisfied: kiwisolver>=1.0.1 in /opt/conda/lib/python3.10/site-packages (from matplotlib>=3.3.0->ultralytics) (1.4.5)\r\n",
      "Requirement already satisfied: packaging>=20.0 in /opt/conda/lib/python3.10/site-packages (from matplotlib>=3.3.0->ultralytics) (21.3)\r\n",
      "Requirement already satisfied: pyparsing>=2.3.1 in /opt/conda/lib/python3.10/site-packages (from matplotlib>=3.3.0->ultralytics) (3.1.2)\r\n",
      "Requirement already satisfied: python-dateutil>=2.7 in /opt/conda/lib/python3.10/site-packages (from matplotlib>=3.3.0->ultralytics) (2.9.0.post0)\r\n",
      "Requirement already satisfied: pytz>=2020.1 in /opt/conda/lib/python3.10/site-packages (from pandas>=1.1.4->ultralytics) (2024.1)\r\n",
      "Requirement already satisfied: tzdata>=2022.7 in /opt/conda/lib/python3.10/site-packages (from pandas>=1.1.4->ultralytics) (2024.1)\r\n",
      "Requirement already satisfied: charset-normalizer<4,>=2 in /opt/conda/lib/python3.10/site-packages (from requests>=2.23.0->ultralytics) (3.3.2)\r\n",
      "Requirement already satisfied: idna<4,>=2.5 in /opt/conda/lib/python3.10/site-packages (from requests>=2.23.0->ultralytics) (3.7)\r\n",
      "Requirement already satisfied: urllib3<3,>=1.21.1 in /opt/conda/lib/python3.10/site-packages (from requests>=2.23.0->ultralytics) (1.26.18)\r\n",
      "Requirement already satisfied: certifi>=2017.4.17 in /opt/conda/lib/python3.10/site-packages (from requests>=2.23.0->ultralytics) (2024.8.30)\r\n",
      "Requirement already satisfied: filelock in /opt/conda/lib/python3.10/site-packages (from torch>=1.8.0->ultralytics) (3.15.1)\r\n",
      "Requirement already satisfied: typing-extensions>=4.8.0 in /opt/conda/lib/python3.10/site-packages (from torch>=1.8.0->ultralytics) (4.12.2)\r\n",
      "Requirement already satisfied: sympy in /opt/conda/lib/python3.10/site-packages (from torch>=1.8.0->ultralytics) (1.13.3)\r\n",
      "Requirement already satisfied: networkx in /opt/conda/lib/python3.10/site-packages (from torch>=1.8.0->ultralytics) (3.3)\r\n",
      "Requirement already satisfied: jinja2 in /opt/conda/lib/python3.10/site-packages (from torch>=1.8.0->ultralytics) (3.1.4)\r\n",
      "Requirement already satisfied: fsspec in /opt/conda/lib/python3.10/site-packages (from torch>=1.8.0->ultralytics) (2024.6.1)\r\n",
      "Requirement already satisfied: six>=1.5 in /opt/conda/lib/python3.10/site-packages (from python-dateutil>=2.7->matplotlib>=3.3.0->ultralytics) (1.16.0)\r\n",
      "Requirement already satisfied: MarkupSafe>=2.0 in /opt/conda/lib/python3.10/site-packages (from jinja2->torch>=1.8.0->ultralytics) (2.1.5)\r\n",
      "Requirement already satisfied: mpmath<1.4,>=1.1.0 in /opt/conda/lib/python3.10/site-packages (from sympy->torch>=1.8.0->ultralytics) (1.3.0)\r\n",
      "Downloading ultralytics-8.3.15-py3-none-any.whl (870 kB)\r\n",
      "\u001b[2K   \u001b[90m━━━━━━━━━━━━━━━━━━━━━━━━━━━━━━━━━━━━━━━━\u001b[0m \u001b[32m870.5/870.5 kB\u001b[0m \u001b[31m24.1 MB/s\u001b[0m eta \u001b[36m0:00:00\u001b[0m\r\n",
      "\u001b[?25hDownloading ultralytics_thop-2.0.9-py3-none-any.whl (26 kB)\r\n",
      "Installing collected packages: ultralytics-thop, ultralytics\r\n",
      "Successfully installed ultralytics-8.3.15 ultralytics-thop-2.0.9\r\n",
      "Requirement already satisfied: ipywidgets in /opt/conda/lib/python3.10/site-packages (7.7.1)\r\n",
      "Collecting ipywidgets\r\n",
      "  Downloading ipywidgets-8.1.5-py3-none-any.whl.metadata (2.3 kB)\r\n",
      "Requirement already satisfied: comm>=0.1.3 in /opt/conda/lib/python3.10/site-packages (from ipywidgets) (0.2.2)\r\n",
      "Requirement already satisfied: ipython>=6.1.0 in /opt/conda/lib/python3.10/site-packages (from ipywidgets) (8.21.0)\r\n",
      "Requirement already satisfied: traitlets>=4.3.1 in /opt/conda/lib/python3.10/site-packages (from ipywidgets) (5.14.3)\r\n",
      "Collecting widgetsnbextension~=4.0.12 (from ipywidgets)\r\n",
      "  Downloading widgetsnbextension-4.0.13-py3-none-any.whl.metadata (1.6 kB)\r\n",
      "Collecting jupyterlab-widgets~=3.0.12 (from ipywidgets)\r\n",
      "  Downloading jupyterlab_widgets-3.0.13-py3-none-any.whl.metadata (4.1 kB)\r\n",
      "Requirement already satisfied: decorator in /opt/conda/lib/python3.10/site-packages (from ipython>=6.1.0->ipywidgets) (5.1.1)\r\n",
      "Requirement already satisfied: jedi>=0.16 in /opt/conda/lib/python3.10/site-packages (from ipython>=6.1.0->ipywidgets) (0.19.1)\r\n",
      "Requirement already satisfied: matplotlib-inline in /opt/conda/lib/python3.10/site-packages (from ipython>=6.1.0->ipywidgets) (0.1.7)\r\n",
      "Requirement already satisfied: prompt-toolkit<3.1.0,>=3.0.41 in /opt/conda/lib/python3.10/site-packages (from ipython>=6.1.0->ipywidgets) (3.0.47)\r\n",
      "Requirement already satisfied: pygments>=2.4.0 in /opt/conda/lib/python3.10/site-packages (from ipython>=6.1.0->ipywidgets) (2.18.0)\r\n",
      "Requirement already satisfied: stack-data in /opt/conda/lib/python3.10/site-packages (from ipython>=6.1.0->ipywidgets) (0.6.2)\r\n",
      "Requirement already satisfied: exceptiongroup in /opt/conda/lib/python3.10/site-packages (from ipython>=6.1.0->ipywidgets) (1.2.0)\r\n",
      "Requirement already satisfied: pexpect>4.3 in /opt/conda/lib/python3.10/site-packages (from ipython>=6.1.0->ipywidgets) (4.9.0)\r\n",
      "Requirement already satisfied: parso<0.9.0,>=0.8.3 in /opt/conda/lib/python3.10/site-packages (from jedi>=0.16->ipython>=6.1.0->ipywidgets) (0.8.4)\r\n",
      "Requirement already satisfied: ptyprocess>=0.5 in /opt/conda/lib/python3.10/site-packages (from pexpect>4.3->ipython>=6.1.0->ipywidgets) (0.7.0)\r\n",
      "Requirement already satisfied: wcwidth in /opt/conda/lib/python3.10/site-packages (from prompt-toolkit<3.1.0,>=3.0.41->ipython>=6.1.0->ipywidgets) (0.2.13)\r\n",
      "Requirement already satisfied: executing>=1.2.0 in /opt/conda/lib/python3.10/site-packages (from stack-data->ipython>=6.1.0->ipywidgets) (2.0.1)\r\n",
      "Requirement already satisfied: asttokens>=2.1.0 in /opt/conda/lib/python3.10/site-packages (from stack-data->ipython>=6.1.0->ipywidgets) (2.4.1)\r\n",
      "Requirement already satisfied: pure-eval in /opt/conda/lib/python3.10/site-packages (from stack-data->ipython>=6.1.0->ipywidgets) (0.2.2)\r\n",
      "Requirement already satisfied: six>=1.12.0 in /opt/conda/lib/python3.10/site-packages (from asttokens>=2.1.0->stack-data->ipython>=6.1.0->ipywidgets) (1.16.0)\r\n",
      "Downloading ipywidgets-8.1.5-py3-none-any.whl (139 kB)\r\n",
      "\u001b[2K   \u001b[90m━━━━━━━━━━━━━━━━━━━━━━━━━━━━━━━━━━━━━━━━\u001b[0m \u001b[32m139.8/139.8 kB\u001b[0m \u001b[31m2.6 MB/s\u001b[0m eta \u001b[36m0:00:00\u001b[0m\r\n",
      "\u001b[?25hDownloading jupyterlab_widgets-3.0.13-py3-none-any.whl (214 kB)\r\n",
      "\u001b[2K   \u001b[90m━━━━━━━━━━━━━━━━━━━━━━━━━━━━━━━━━━━━━━━━\u001b[0m \u001b[32m214.4/214.4 kB\u001b[0m \u001b[31m8.2 MB/s\u001b[0m eta \u001b[36m0:00:00\u001b[0m\r\n",
      "\u001b[?25hDownloading widgetsnbextension-4.0.13-py3-none-any.whl (2.3 MB)\r\n",
      "\u001b[2K   \u001b[90m━━━━━━━━━━━━━━━━━━━━━━━━━━━━━━━━━━━━━━━━\u001b[0m \u001b[32m2.3/2.3 MB\u001b[0m \u001b[31m47.2 MB/s\u001b[0m eta \u001b[36m0:00:00\u001b[0m\r\n",
      "\u001b[?25hInstalling collected packages: widgetsnbextension, jupyterlab-widgets, ipywidgets\r\n",
      "  Attempting uninstall: widgetsnbextension\r\n",
      "    Found existing installation: widgetsnbextension 3.6.9\r\n",
      "    Uninstalling widgetsnbextension-3.6.9:\r\n",
      "      Successfully uninstalled widgetsnbextension-3.6.9\r\n",
      "  Attempting uninstall: jupyterlab-widgets\r\n",
      "    Found existing installation: jupyterlab_widgets 3.0.11\r\n",
      "    Uninstalling jupyterlab_widgets-3.0.11:\r\n",
      "      Successfully uninstalled jupyterlab_widgets-3.0.11\r\n",
      "  Attempting uninstall: ipywidgets\r\n",
      "    Found existing installation: ipywidgets 7.7.1\r\n",
      "    Uninstalling ipywidgets-7.7.1:\r\n",
      "      Successfully uninstalled ipywidgets-7.7.1\r\n",
      "\u001b[31mERROR: pip's dependency resolver does not currently take into account all the packages that are installed. This behaviour is the source of the following dependency conflicts.\r\n",
      "bigframes 0.22.0 requires google-cloud-bigquery[bqstorage,pandas]>=3.10.0, but you have google-cloud-bigquery 2.34.4 which is incompatible.\r\n",
      "bigframes 0.22.0 requires google-cloud-storage>=2.0.0, but you have google-cloud-storage 1.44.0 which is incompatible.\r\n",
      "bigframes 0.22.0 requires pandas<2.1.4,>=1.5.0, but you have pandas 2.2.2 which is incompatible.\r\n",
      "dataproc-jupyter-plugin 0.1.79 requires pydantic~=1.10.0, but you have pydantic 2.9.2 which is incompatible.\u001b[0m\u001b[31m\r\n",
      "\u001b[0mSuccessfully installed ipywidgets-8.1.5 jupyterlab-widgets-3.0.13 widgetsnbextension-4.0.13\r\n"
     ]
    }
   ],
   "source": [
    "!pip install --no-cache-dir ultralytics\n",
    "!pip install -U ipywidgets\n",
    "os.environ['WANDB_DISABLED'] = 'true'"
   ]
  },
  {
   "cell_type": "code",
   "execution_count": 12,
   "id": "8929c9c4",
   "metadata": {
    "execution": {
     "iopub.execute_input": "2024-10-17T07:02:50.930730Z",
     "iopub.status.busy": "2024-10-17T07:02:50.930393Z",
     "iopub.status.idle": "2024-10-17T13:16:37.917005Z",
     "shell.execute_reply": "2024-10-17T13:16:37.915940Z"
    },
    "id": "sgnvhwPZRlUN",
    "outputId": "fd219368-285b-4967-e8ae-913428475584",
    "papermill": {
     "duration": 22427.031986,
     "end_time": "2024-10-17T13:16:37.927971",
     "exception": false,
     "start_time": "2024-10-17T07:02:50.895985",
     "status": "completed"
    },
    "tags": []
   },
   "outputs": [
    {
     "name": "stdout",
     "output_type": "stream",
     "text": [
      "Creating new Ultralytics Settings v0.0.6 file ✅ \n",
      "View Ultralytics Settings with 'yolo settings' or at '/root/.config/Ultralytics/settings.json'\n",
      "Update Settings with 'yolo settings key=value', i.e. 'yolo settings runs_dir=path/to/dir'. For help see https://docs.ultralytics.com/quickstart/#ultralytics-settings.\n",
      "Downloading https://github.com/ultralytics/assets/releases/download/v8.3.0/yolo11m-seg.pt to 'yolo11m-seg.pt'...\n"
     ]
    },
    {
     "name": "stderr",
     "output_type": "stream",
     "text": [
      "100%|██████████| 43.3M/43.3M [00:00<00:00, 263MB/s]\n"
     ]
    },
    {
     "name": "stdout",
     "output_type": "stream",
     "text": [
      "Ultralytics 8.3.15 🚀 Python-3.10.14 torch-2.4.0 CUDA:0 (Tesla T4, 15095MiB)\n",
      "\u001b[34m\u001b[1mengine/trainer: \u001b[0mtask=segment, mode=train, model=yolo11m-seg.pt, data=/kaggle/working/dataset/dataset.yaml, epochs=100, time=None, patience=100, batch=16, imgsz=480, save=True, save_period=-1, cache=False, device=cuda, workers=8, project=None, name=train, exist_ok=False, pretrained=True, optimizer=auto, verbose=True, seed=0, deterministic=True, single_cls=False, rect=False, cos_lr=False, close_mosaic=10, resume=False, amp=True, fraction=1.0, profile=False, freeze=None, multi_scale=False, overlap_mask=True, mask_ratio=4, dropout=0.0, val=True, split=val, save_json=False, save_hybrid=False, conf=None, iou=0.7, max_det=300, half=False, dnn=False, plots=True, source=None, vid_stride=1, stream_buffer=False, visualize=False, augment=False, agnostic_nms=False, classes=None, retina_masks=False, embed=None, show=False, save_frames=False, save_txt=False, save_conf=False, save_crop=False, show_labels=True, show_conf=True, show_boxes=True, line_width=None, format=torchscript, keras=False, optimize=False, int8=False, dynamic=False, simplify=True, opset=None, workspace=4, nms=False, lr0=0.01, lrf=0.01, momentum=0.937, weight_decay=0.0005, warmup_epochs=3.0, warmup_momentum=0.8, warmup_bias_lr=0.1, box=7.5, cls=0.5, dfl=1.5, pose=12.0, kobj=1.0, label_smoothing=0.0, nbs=64, hsv_h=0.015, hsv_s=0.7, hsv_v=0.4, degrees=0.0, translate=0.2, scale=0.7, shear=0.0, perspective=0.0, flipud=0.0, fliplr=0.5, bgr=0.0, mosaic=1.0, mixup=0.0, copy_paste=0.0, copy_paste_mode=flip, auto_augment=randaugment, erasing=0.2, crop_fraction=1.0, cfg=None, tracker=botsort.yaml, save_dir=runs/segment/train\n",
      "Downloading https://ultralytics.com/assets/Arial.ttf to '/root/.config/Ultralytics/Arial.ttf'...\n"
     ]
    },
    {
     "name": "stderr",
     "output_type": "stream",
     "text": [
      "100%|██████████| 755k/755k [00:00<00:00, 14.2MB/s]\n"
     ]
    },
    {
     "name": "stdout",
     "output_type": "stream",
     "text": [
      "Overriding model.yaml nc=80 with nc=1\n",
      "\n",
      "                   from  n    params  module                                       arguments                     \n",
      "  0                  -1  1      1856  ultralytics.nn.modules.conv.Conv             [3, 64, 3, 2]                 \n",
      "  1                  -1  1     73984  ultralytics.nn.modules.conv.Conv             [64, 128, 3, 2]               \n",
      "  2                  -1  1    111872  ultralytics.nn.modules.block.C3k2            [128, 256, 1, True, 0.25]     \n",
      "  3                  -1  1    590336  ultralytics.nn.modules.conv.Conv             [256, 256, 3, 2]              \n",
      "  4                  -1  1    444928  ultralytics.nn.modules.block.C3k2            [256, 512, 1, True, 0.25]     \n",
      "  5                  -1  1   2360320  ultralytics.nn.modules.conv.Conv             [512, 512, 3, 2]              \n",
      "  6                  -1  1   1380352  ultralytics.nn.modules.block.C3k2            [512, 512, 1, True]           \n",
      "  7                  -1  1   2360320  ultralytics.nn.modules.conv.Conv             [512, 512, 3, 2]              \n",
      "  8                  -1  1   1380352  ultralytics.nn.modules.block.C3k2            [512, 512, 1, True]           \n",
      "  9                  -1  1    656896  ultralytics.nn.modules.block.SPPF            [512, 512, 5]                 \n",
      " 10                  -1  1    990976  ultralytics.nn.modules.block.C2PSA           [512, 512, 1]                 \n",
      " 11                  -1  1         0  torch.nn.modules.upsampling.Upsample         [None, 2, 'nearest']          \n",
      " 12             [-1, 6]  1         0  ultralytics.nn.modules.conv.Concat           [1]                           \n",
      " 13                  -1  1   1642496  ultralytics.nn.modules.block.C3k2            [1024, 512, 1, True]          \n",
      " 14                  -1  1         0  torch.nn.modules.upsampling.Upsample         [None, 2, 'nearest']          \n",
      " 15             [-1, 4]  1         0  ultralytics.nn.modules.conv.Concat           [1]                           \n",
      " 16                  -1  1    542720  ultralytics.nn.modules.block.C3k2            [1024, 256, 1, True]          \n",
      " 17                  -1  1    590336  ultralytics.nn.modules.conv.Conv             [256, 256, 3, 2]              \n",
      " 18            [-1, 13]  1         0  ultralytics.nn.modules.conv.Concat           [1]                           \n",
      " 19                  -1  1   1511424  ultralytics.nn.modules.block.C3k2            [768, 512, 1, True]           \n",
      " 20                  -1  1   2360320  ultralytics.nn.modules.conv.Conv             [512, 512, 3, 2]              \n",
      " 21            [-1, 10]  1         0  ultralytics.nn.modules.conv.Concat           [1]                           \n",
      " 22                  -1  1   1642496  ultralytics.nn.modules.block.C3k2            [1024, 512, 1, True]          \n",
      " 23        [16, 19, 22]  1   3718003  ultralytics.nn.modules.head.Segment          [1, 32, 256, [256, 512, 512]] \n",
      "YOLO11m-seg summary: 445 layers, 22,359,987 parameters, 22,359,971 gradients, 123.6 GFLOPs\n",
      "\n",
      "Transferred 705/711 items from pretrained weights\n",
      "\u001b[34m\u001b[1mTensorBoard: \u001b[0mStart with 'tensorboard --logdir runs/segment/train', view at http://localhost:6006/\n"
     ]
    },
    {
     "name": "stderr",
     "output_type": "stream",
     "text": [
      "\u001b[34m\u001b[1mwandb\u001b[0m: Using wandb-core as the SDK backend. Please refer to https://wandb.me/wandb-core for more information.\n",
      "\u001b[34m\u001b[1mwandb\u001b[0m: Tracking run with wandb version 0.18.3\n",
      "\u001b[34m\u001b[1mwandb\u001b[0m: W&B syncing is set to \u001b[1m`offline`\u001b[0m in this directory.  \n",
      "\u001b[34m\u001b[1mwandb\u001b[0m: Run \u001b[1m`wandb online`\u001b[0m or set \u001b[1mWANDB_MODE=online\u001b[0m to enable cloud syncing.\n"
     ]
    },
    {
     "name": "stdout",
     "output_type": "stream",
     "text": [
      "Freezing layer 'model.23.dfl.conv.weight'\n",
      "\u001b[34m\u001b[1mAMP: \u001b[0mrunning Automatic Mixed Precision (AMP) checks with YOLO11n...\n",
      "Downloading https://github.com/ultralytics/assets/releases/download/v8.3.0/yolo11n.pt to 'yolo11n.pt'...\n"
     ]
    },
    {
     "name": "stderr",
     "output_type": "stream",
     "text": [
      "100%|██████████| 5.35M/5.35M [00:00<00:00, 62.4MB/s]\n"
     ]
    },
    {
     "name": "stdout",
     "output_type": "stream",
     "text": [
      "\u001b[34m\u001b[1mAMP: \u001b[0mchecks passed ✅\n"
     ]
    },
    {
     "name": "stderr",
     "output_type": "stream",
     "text": [
      "\u001b[34m\u001b[1mtrain: \u001b[0mScanning /kaggle/working/dataset/train/labels... 4000 images, 0 backgrounds, 0 corrupt: 100%|██████████| 4000/4000 [00:05<00:00, 698.09it/s]\n"
     ]
    },
    {
     "name": "stdout",
     "output_type": "stream",
     "text": [
      "\u001b[34m\u001b[1mtrain: \u001b[0mNew cache created: /kaggle/working/dataset/train/labels.cache\n",
      "\u001b[34m\u001b[1malbumentations: \u001b[0mBlur(p=0.01, blur_limit=(3, 7)), MedianBlur(p=0.01, blur_limit=(3, 7)), ToGray(p=0.01, num_output_channels=3, method='weighted_average'), CLAHE(p=0.01, clip_limit=(1, 4.0), tile_grid_size=(8, 8))\n"
     ]
    },
    {
     "name": "stderr",
     "output_type": "stream",
     "text": [
      "/opt/conda/lib/python3.10/site-packages/albumentations/__init__.py:13: UserWarning: A new version of Albumentations is available: 1.4.18 (you have 1.4.17). Upgrade using: pip install -U albumentations. To disable automatic update checks, set the environment variable NO_ALBUMENTATIONS_UPDATE to 1.\n",
      "  check_for_updates()\n",
      "/opt/conda/lib/python3.10/multiprocessing/popen_fork.py:66: RuntimeWarning: os.fork() was called. os.fork() is incompatible with multithreaded code, and JAX is multithreaded, so this will likely lead to a deadlock.\n",
      "  self.pid = os.fork()\n",
      "\u001b[34m\u001b[1mval: \u001b[0mScanning /kaggle/working/dataset/val/labels... 1000 images, 0 backgrounds, 0 corrupt: 100%|██████████| 1000/1000 [00:02<00:00, 425.43it/s]\n"
     ]
    },
    {
     "name": "stdout",
     "output_type": "stream",
     "text": [
      "\u001b[34m\u001b[1mval: \u001b[0mNew cache created: /kaggle/working/dataset/val/labels.cache\n",
      "Plotting labels to runs/segment/train/labels.jpg... \n",
      "\u001b[34m\u001b[1moptimizer:\u001b[0m 'optimizer=auto' found, ignoring 'lr0=0.01' and 'momentum=0.937' and determining best 'optimizer', 'lr0' and 'momentum' automatically... \n",
      "\u001b[34m\u001b[1moptimizer:\u001b[0m AdamW(lr=0.002, momentum=0.9) with parameter groups 115 weight(decay=0.0), 126 weight(decay=0.0005), 125 bias(decay=0.0)\n",
      "\u001b[34m\u001b[1mTensorBoard: \u001b[0mmodel graph visualization added ✅\n",
      "Image sizes 480 train, 480 val\n",
      "Using 4 dataloader workers\n",
      "Logging results to \u001b[1mruns/segment/train\u001b[0m\n",
      "Starting training for 100 epochs...\n",
      "\n",
      "      Epoch    GPU_mem   box_loss   seg_loss   cls_loss   dfl_loss  Instances       Size\n"
     ]
    },
    {
     "name": "stderr",
     "output_type": "stream",
     "text": [
      "      1/100      6.78G      1.885       2.62      1.171      1.545        540        480: 100%|██████████| 250/250 [03:45<00:00,  1.11it/s]\n",
      "                 Class     Images  Instances      Box(P          R      mAP50  mAP50-95)     Mask(P          R      mAP50  mAP50-95): 100%|██████████| 32/32 [00:12<00:00,  2.53it/s]\n"
     ]
    },
    {
     "name": "stdout",
     "output_type": "stream",
     "text": [
      "                   all       1000      13067      0.476       0.58      0.432      0.232      0.417      0.517       0.34      0.133\n",
      "\n",
      "      Epoch    GPU_mem   box_loss   seg_loss   cls_loss   dfl_loss  Instances       Size\n"
     ]
    },
    {
     "name": "stderr",
     "output_type": "stream",
     "text": [
      "      2/100      6.65G      1.276      1.967     0.8457      1.178        482        480: 100%|██████████| 250/250 [03:36<00:00,  1.16it/s]\n",
      "                 Class     Images  Instances      Box(P          R      mAP50  mAP50-95)     Mask(P          R      mAP50  mAP50-95): 100%|██████████| 32/32 [00:12<00:00,  2.60it/s]\n"
     ]
    },
    {
     "name": "stdout",
     "output_type": "stream",
     "text": [
      "                   all       1000      13067      0.758      0.665      0.731      0.441       0.69      0.592      0.595      0.244\n",
      "\n",
      "      Epoch    GPU_mem   box_loss   seg_loss   cls_loss   dfl_loss  Instances       Size\n"
     ]
    },
    {
     "name": "stderr",
     "output_type": "stream",
     "text": [
      "      3/100      6.76G      1.154      1.837      0.782      1.068        680        480: 100%|██████████| 250/250 [03:36<00:00,  1.16it/s]\n",
      "                 Class     Images  Instances      Box(P          R      mAP50  mAP50-95)     Mask(P          R      mAP50  mAP50-95): 100%|██████████| 32/32 [00:12<00:00,  2.61it/s]\n"
     ]
    },
    {
     "name": "stdout",
     "output_type": "stream",
     "text": [
      "                   all       1000      13067      0.833      0.743      0.844       0.56      0.776      0.695      0.736       0.33\n",
      "\n",
      "      Epoch    GPU_mem   box_loss   seg_loss   cls_loss   dfl_loss  Instances       Size\n"
     ]
    },
    {
     "name": "stderr",
     "output_type": "stream",
     "text": [
      "      4/100      6.65G      1.079      1.739     0.7289      1.021        581        480: 100%|██████████| 250/250 [03:35<00:00,  1.16it/s]\n",
      "                 Class     Images  Instances      Box(P          R      mAP50  mAP50-95)     Mask(P          R      mAP50  mAP50-95): 100%|██████████| 32/32 [00:12<00:00,  2.63it/s]\n"
     ]
    },
    {
     "name": "stdout",
     "output_type": "stream",
     "text": [
      "                   all       1000      13067      0.867      0.468      0.589      0.375      0.816      0.438      0.521      0.239\n",
      "\n",
      "      Epoch    GPU_mem   box_loss   seg_loss   cls_loss   dfl_loss  Instances       Size\n"
     ]
    },
    {
     "name": "stderr",
     "output_type": "stream",
     "text": [
      "      5/100      6.79G      0.984       1.67     0.6674     0.9886        503        480: 100%|██████████| 250/250 [03:35<00:00,  1.16it/s]\n",
      "                 Class     Images  Instances      Box(P          R      mAP50  mAP50-95)     Mask(P          R      mAP50  mAP50-95): 100%|██████████| 32/32 [00:12<00:00,  2.63it/s]\n"
     ]
    },
    {
     "name": "stdout",
     "output_type": "stream",
     "text": [
      "                   all       1000      13067      0.864      0.832      0.887      0.614      0.765      0.731      0.697      0.313\n",
      "\n",
      "      Epoch    GPU_mem   box_loss   seg_loss   cls_loss   dfl_loss  Instances       Size\n"
     ]
    },
    {
     "name": "stderr",
     "output_type": "stream",
     "text": [
      "      6/100      6.64G     0.9344      1.598     0.6345     0.9653        550        480: 100%|██████████| 250/250 [03:37<00:00,  1.15it/s]\n",
      "                 Class     Images  Instances      Box(P          R      mAP50  mAP50-95)     Mask(P          R      mAP50  mAP50-95): 100%|██████████| 32/32 [00:12<00:00,  2.64it/s]\n"
     ]
    },
    {
     "name": "stdout",
     "output_type": "stream",
     "text": [
      "                   all       1000      13067      0.793      0.792      0.843       0.58      0.714      0.707      0.685      0.302\n",
      "\n",
      "      Epoch    GPU_mem   box_loss   seg_loss   cls_loss   dfl_loss  Instances       Size\n"
     ]
    },
    {
     "name": "stderr",
     "output_type": "stream",
     "text": [
      "      7/100      6.75G     0.9114      1.565     0.6132     0.9582        550        480: 100%|██████████| 250/250 [03:37<00:00,  1.15it/s]\n",
      "                 Class     Images  Instances      Box(P          R      mAP50  mAP50-95)     Mask(P          R      mAP50  mAP50-95): 100%|██████████| 32/32 [00:12<00:00,  2.62it/s]\n"
     ]
    },
    {
     "name": "stdout",
     "output_type": "stream",
     "text": [
      "                   all       1000      13067      0.885       0.87      0.937      0.725      0.845      0.799      0.816      0.408\n",
      "\n",
      "      Epoch    GPU_mem   box_loss   seg_loss   cls_loss   dfl_loss  Instances       Size\n"
     ]
    },
    {
     "name": "stderr",
     "output_type": "stream",
     "text": [
      "      8/100      6.96G     0.8875      1.547     0.5957     0.9357        529        480: 100%|██████████| 250/250 [03:45<00:00,  1.11it/s]\n",
      "                 Class     Images  Instances      Box(P          R      mAP50  mAP50-95)     Mask(P          R      mAP50  mAP50-95): 100%|██████████| 32/32 [00:12<00:00,  2.60it/s]\n"
     ]
    },
    {
     "name": "stdout",
     "output_type": "stream",
     "text": [
      "                   all       1000      13067      0.916      0.906      0.958      0.737      0.855        0.8      0.811      0.394\n",
      "\n",
      "      Epoch    GPU_mem   box_loss   seg_loss   cls_loss   dfl_loss  Instances       Size\n"
     ]
    },
    {
     "name": "stderr",
     "output_type": "stream",
     "text": [
      "      9/100      6.65G     0.8527      1.535      0.568     0.9348        541        480: 100%|██████████| 250/250 [03:40<00:00,  1.13it/s]\n",
      "                 Class     Images  Instances      Box(P          R      mAP50  mAP50-95)     Mask(P          R      mAP50  mAP50-95): 100%|██████████| 32/32 [00:12<00:00,  2.58it/s]\n"
     ]
    },
    {
     "name": "stdout",
     "output_type": "stream",
     "text": [
      "                   all       1000      13067      0.901      0.893      0.949      0.683      0.859      0.818      0.844       0.44\n",
      "\n",
      "      Epoch    GPU_mem   box_loss   seg_loss   cls_loss   dfl_loss  Instances       Size\n"
     ]
    },
    {
     "name": "stderr",
     "output_type": "stream",
     "text": [
      "     10/100      6.64G     0.8263       1.49     0.5627     0.9302        528        480: 100%|██████████| 250/250 [03:45<00:00,  1.11it/s]\n",
      "                 Class     Images  Instances      Box(P          R      mAP50  mAP50-95)     Mask(P          R      mAP50  mAP50-95): 100%|██████████| 32/32 [00:12<00:00,  2.54it/s]"
     ]
    },
    {
     "name": "stdout",
     "output_type": "stream",
     "text": [
      "                   all       1000      13067      0.932      0.896      0.954      0.682      0.881      0.824      0.865      0.462\n"
     ]
    },
    {
     "name": "stderr",
     "output_type": "stream",
     "text": [
      "\n"
     ]
    },
    {
     "name": "stdout",
     "output_type": "stream",
     "text": [
      "\n",
      "      Epoch    GPU_mem   box_loss   seg_loss   cls_loss   dfl_loss  Instances       Size\n"
     ]
    },
    {
     "name": "stderr",
     "output_type": "stream",
     "text": [
      "     11/100      6.79G     0.8203      1.496      0.551     0.9275        669        480: 100%|██████████| 250/250 [03:43<00:00,  1.12it/s]\n",
      "                 Class     Images  Instances      Box(P          R      mAP50  mAP50-95)     Mask(P          R      mAP50  mAP50-95): 100%|██████████| 32/32 [00:12<00:00,  2.65it/s]\n"
     ]
    },
    {
     "name": "stdout",
     "output_type": "stream",
     "text": [
      "                   all       1000      13067      0.883       0.88      0.942      0.678      0.823        0.8      0.831      0.436\n",
      "\n",
      "      Epoch    GPU_mem   box_loss   seg_loss   cls_loss   dfl_loss  Instances       Size\n"
     ]
    },
    {
     "name": "stderr",
     "output_type": "stream",
     "text": [
      "     12/100      6.67G     0.8017      1.478     0.5338     0.9143        587        480: 100%|██████████| 250/250 [03:44<00:00,  1.11it/s]\n",
      "                 Class     Images  Instances      Box(P          R      mAP50  mAP50-95)     Mask(P          R      mAP50  mAP50-95): 100%|██████████| 32/32 [00:12<00:00,  2.64it/s]"
     ]
    },
    {
     "name": "stdout",
     "output_type": "stream",
     "text": [
      "                   all       1000      13067      0.934      0.935       0.97      0.778      0.881      0.847      0.872      0.466\n"
     ]
    },
    {
     "name": "stderr",
     "output_type": "stream",
     "text": [
      "\n"
     ]
    },
    {
     "name": "stdout",
     "output_type": "stream",
     "text": [
      "\n",
      "      Epoch    GPU_mem   box_loss   seg_loss   cls_loss   dfl_loss  Instances       Size\n"
     ]
    },
    {
     "name": "stderr",
     "output_type": "stream",
     "text": [
      "     13/100      6.79G     0.7624      1.446     0.5117      0.901        583        480: 100%|██████████| 250/250 [03:42<00:00,  1.13it/s]\n",
      "                 Class     Images  Instances      Box(P          R      mAP50  mAP50-95)     Mask(P          R      mAP50  mAP50-95): 100%|██████████| 32/32 [00:11<00:00,  2.67it/s]\n"
     ]
    },
    {
     "name": "stdout",
     "output_type": "stream",
     "text": [
      "                   all       1000      13067       0.93      0.939       0.97       0.76      0.847      0.846       0.84      0.423\n",
      "\n",
      "      Epoch    GPU_mem   box_loss   seg_loss   cls_loss   dfl_loss  Instances       Size\n"
     ]
    },
    {
     "name": "stderr",
     "output_type": "stream",
     "text": [
      "     14/100      6.82G      0.766      1.453     0.5169     0.9034        410        480: 100%|██████████| 250/250 [03:34<00:00,  1.16it/s]\n",
      "                 Class     Images  Instances      Box(P          R      mAP50  mAP50-95)     Mask(P          R      mAP50  mAP50-95): 100%|██████████| 32/32 [00:12<00:00,  2.65it/s]"
     ]
    },
    {
     "name": "stdout",
     "output_type": "stream",
     "text": [
      "                   all       1000      13067      0.921      0.911      0.958      0.732      0.872      0.828      0.854      0.455\n"
     ]
    },
    {
     "name": "stderr",
     "output_type": "stream",
     "text": [
      "\n"
     ]
    },
    {
     "name": "stdout",
     "output_type": "stream",
     "text": [
      "\n",
      "      Epoch    GPU_mem   box_loss   seg_loss   cls_loss   dfl_loss  Instances       Size\n"
     ]
    },
    {
     "name": "stderr",
     "output_type": "stream",
     "text": [
      "     15/100       6.7G     0.7433      1.425     0.4984     0.8975        456        480: 100%|██████████| 250/250 [03:46<00:00,  1.11it/s]\n",
      "                 Class     Images  Instances      Box(P          R      mAP50  mAP50-95)     Mask(P          R      mAP50  mAP50-95): 100%|██████████| 32/32 [00:12<00:00,  2.62it/s]"
     ]
    },
    {
     "name": "stdout",
     "output_type": "stream",
     "text": [
      "                   all       1000      13067      0.905      0.918      0.958      0.716       0.84      0.837       0.84      0.427\n"
     ]
    },
    {
     "name": "stderr",
     "output_type": "stream",
     "text": [
      "\n"
     ]
    },
    {
     "name": "stdout",
     "output_type": "stream",
     "text": [
      "\n",
      "      Epoch    GPU_mem   box_loss   seg_loss   cls_loss   dfl_loss  Instances       Size\n"
     ]
    },
    {
     "name": "stderr",
     "output_type": "stream",
     "text": [
      "     16/100         7G     0.7427      1.406     0.5059      0.894        514        480: 100%|██████████| 250/250 [03:34<00:00,  1.17it/s]\n",
      "                 Class     Images  Instances      Box(P          R      mAP50  mAP50-95)     Mask(P          R      mAP50  mAP50-95): 100%|██████████| 32/32 [00:11<00:00,  2.72it/s]"
     ]
    },
    {
     "name": "stdout",
     "output_type": "stream",
     "text": [
      "                   all       1000      13067      0.928      0.932      0.968       0.72      0.861      0.853      0.862      0.471\n"
     ]
    },
    {
     "name": "stderr",
     "output_type": "stream",
     "text": [
      "\n"
     ]
    },
    {
     "name": "stdout",
     "output_type": "stream",
     "text": [
      "\n",
      "      Epoch    GPU_mem   box_loss   seg_loss   cls_loss   dfl_loss  Instances       Size\n"
     ]
    },
    {
     "name": "stderr",
     "output_type": "stream",
     "text": [
      "     17/100      6.84G     0.7286      1.385      0.485     0.8911        458        480: 100%|██████████| 250/250 [03:36<00:00,  1.15it/s]\n",
      "                 Class     Images  Instances      Box(P          R      mAP50  mAP50-95)     Mask(P          R      mAP50  mAP50-95): 100%|██████████| 32/32 [00:13<00:00,  2.45it/s]"
     ]
    },
    {
     "name": "stdout",
     "output_type": "stream",
     "text": [
      "                   all       1000      13067      0.947      0.906      0.962      0.728      0.894      0.845      0.884      0.517\n"
     ]
    },
    {
     "name": "stderr",
     "output_type": "stream",
     "text": [
      "\n"
     ]
    },
    {
     "name": "stdout",
     "output_type": "stream",
     "text": [
      "\n",
      "      Epoch    GPU_mem   box_loss   seg_loss   cls_loss   dfl_loss  Instances       Size\n"
     ]
    },
    {
     "name": "stderr",
     "output_type": "stream",
     "text": [
      "     18/100      6.69G      0.714      1.387     0.4789     0.8972        611        480: 100%|██████████| 250/250 [03:40<00:00,  1.13it/s]\n",
      "                 Class     Images  Instances      Box(P          R      mAP50  mAP50-95)     Mask(P          R      mAP50  mAP50-95): 100%|██████████| 32/32 [00:12<00:00,  2.66it/s]\n"
     ]
    },
    {
     "name": "stdout",
     "output_type": "stream",
     "text": [
      "                   all       1000      13067      0.777      0.591      0.712      0.451      0.733      0.548      0.638      0.298\n",
      "\n",
      "      Epoch    GPU_mem   box_loss   seg_loss   cls_loss   dfl_loss  Instances       Size\n"
     ]
    },
    {
     "name": "stderr",
     "output_type": "stream",
     "text": [
      "     19/100       6.7G      0.712      1.395      0.476     0.8885        553        480: 100%|██████████| 250/250 [03:34<00:00,  1.17it/s]\n",
      "                 Class     Images  Instances      Box(P          R      mAP50  mAP50-95)     Mask(P          R      mAP50  mAP50-95): 100%|██████████| 32/32 [00:11<00:00,  2.72it/s]"
     ]
    },
    {
     "name": "stdout",
     "output_type": "stream",
     "text": [
      "                   all       1000      13067      0.925      0.933      0.964      0.763       0.86       0.85      0.861      0.452\n"
     ]
    },
    {
     "name": "stderr",
     "output_type": "stream",
     "text": [
      "\n"
     ]
    },
    {
     "name": "stdout",
     "output_type": "stream",
     "text": [
      "\n",
      "      Epoch    GPU_mem   box_loss   seg_loss   cls_loss   dfl_loss  Instances       Size\n"
     ]
    },
    {
     "name": "stderr",
     "output_type": "stream",
     "text": [
      "     20/100      6.75G     0.7275       1.38     0.4884     0.8945        499        480: 100%|██████████| 250/250 [03:38<00:00,  1.15it/s]\n",
      "                 Class     Images  Instances      Box(P          R      mAP50  mAP50-95)     Mask(P          R      mAP50  mAP50-95): 100%|██████████| 32/32 [00:12<00:00,  2.65it/s]"
     ]
    },
    {
     "name": "stdout",
     "output_type": "stream",
     "text": [
      "                   all       1000      13067      0.937       0.96      0.977      0.803      0.897      0.841      0.877      0.476\n"
     ]
    },
    {
     "name": "stderr",
     "output_type": "stream",
     "text": [
      "\n"
     ]
    },
    {
     "name": "stdout",
     "output_type": "stream",
     "text": [
      "\n",
      "      Epoch    GPU_mem   box_loss   seg_loss   cls_loss   dfl_loss  Instances       Size\n"
     ]
    },
    {
     "name": "stderr",
     "output_type": "stream",
     "text": [
      "     21/100       6.7G     0.7022      1.385     0.4726     0.8867        482        480: 100%|██████████| 250/250 [03:41<00:00,  1.13it/s]\n",
      "                 Class     Images  Instances      Box(P          R      mAP50  mAP50-95)     Mask(P          R      mAP50  mAP50-95): 100%|██████████| 32/32 [00:11<00:00,  2.70it/s]\n"
     ]
    },
    {
     "name": "stdout",
     "output_type": "stream",
     "text": [
      "                   all       1000      13067      0.946      0.947      0.976      0.742      0.879      0.863      0.863      0.483\n",
      "\n",
      "      Epoch    GPU_mem   box_loss   seg_loss   cls_loss   dfl_loss  Instances       Size\n"
     ]
    },
    {
     "name": "stderr",
     "output_type": "stream",
     "text": [
      "     22/100      6.82G     0.6915      1.345     0.4609     0.8869        544        480: 100%|██████████| 250/250 [03:36<00:00,  1.16it/s]\n",
      "                 Class     Images  Instances      Box(P          R      mAP50  mAP50-95)     Mask(P          R      mAP50  mAP50-95): 100%|██████████| 32/32 [00:11<00:00,  2.75it/s]"
     ]
    },
    {
     "name": "stdout",
     "output_type": "stream",
     "text": [
      "                   all       1000      13067      0.941       0.95      0.977      0.761      0.897      0.867      0.899      0.525\n"
     ]
    },
    {
     "name": "stderr",
     "output_type": "stream",
     "text": [
      "\n"
     ]
    },
    {
     "name": "stdout",
     "output_type": "stream",
     "text": [
      "\n",
      "      Epoch    GPU_mem   box_loss   seg_loss   cls_loss   dfl_loss  Instances       Size\n"
     ]
    },
    {
     "name": "stderr",
     "output_type": "stream",
     "text": [
      "     23/100      6.66G     0.6657      1.311     0.4488     0.8787        752        480: 100%|██████████| 250/250 [03:38<00:00,  1.14it/s]\n",
      "                 Class     Images  Instances      Box(P          R      mAP50  mAP50-95)     Mask(P          R      mAP50  mAP50-95): 100%|██████████| 32/32 [00:12<00:00,  2.66it/s]"
     ]
    },
    {
     "name": "stdout",
     "output_type": "stream",
     "text": [
      "                   all       1000      13067       0.92      0.925      0.962       0.72      0.857      0.857      0.865       0.49\n"
     ]
    },
    {
     "name": "stderr",
     "output_type": "stream",
     "text": [
      "\n"
     ]
    },
    {
     "name": "stdout",
     "output_type": "stream",
     "text": [
      "\n",
      "      Epoch    GPU_mem   box_loss   seg_loss   cls_loss   dfl_loss  Instances       Size\n"
     ]
    },
    {
     "name": "stderr",
     "output_type": "stream",
     "text": [
      "     24/100      6.69G     0.6721      1.335     0.4544     0.8789        639        480: 100%|██████████| 250/250 [03:37<00:00,  1.15it/s]\n",
      "                 Class     Images  Instances      Box(P          R      mAP50  mAP50-95)     Mask(P          R      mAP50  mAP50-95): 100%|██████████| 32/32 [00:11<00:00,  2.69it/s]"
     ]
    },
    {
     "name": "stdout",
     "output_type": "stream",
     "text": [
      "                   all       1000      13067      0.949      0.948      0.981      0.799      0.887      0.859      0.882      0.483\n"
     ]
    },
    {
     "name": "stderr",
     "output_type": "stream",
     "text": [
      "\n"
     ]
    },
    {
     "name": "stdout",
     "output_type": "stream",
     "text": [
      "\n",
      "      Epoch    GPU_mem   box_loss   seg_loss   cls_loss   dfl_loss  Instances       Size\n"
     ]
    },
    {
     "name": "stderr",
     "output_type": "stream",
     "text": [
      "     25/100      6.72G     0.6706      1.317     0.4449     0.8752        650        480: 100%|██████████| 250/250 [03:38<00:00,  1.15it/s]\n",
      "                 Class     Images  Instances      Box(P          R      mAP50  mAP50-95)     Mask(P          R      mAP50  mAP50-95): 100%|██████████| 32/32 [00:11<00:00,  2.74it/s]"
     ]
    },
    {
     "name": "stdout",
     "output_type": "stream",
     "text": [
      "                   all       1000      13067      0.946      0.963      0.983      0.816       0.88      0.844      0.856      0.466\n"
     ]
    },
    {
     "name": "stderr",
     "output_type": "stream",
     "text": [
      "\n"
     ]
    },
    {
     "name": "stdout",
     "output_type": "stream",
     "text": [
      "\n",
      "      Epoch    GPU_mem   box_loss   seg_loss   cls_loss   dfl_loss  Instances       Size\n"
     ]
    },
    {
     "name": "stderr",
     "output_type": "stream",
     "text": [
      "     26/100      6.73G      0.649      1.287      0.428     0.8675        766        480: 100%|██████████| 250/250 [03:39<00:00,  1.14it/s]\n",
      "                 Class     Images  Instances      Box(P          R      mAP50  mAP50-95)     Mask(P          R      mAP50  mAP50-95): 100%|██████████| 32/32 [00:11<00:00,  2.67it/s]"
     ]
    },
    {
     "name": "stdout",
     "output_type": "stream",
     "text": [
      "                   all       1000      13067      0.934      0.947      0.975      0.792      0.875      0.854      0.874       0.49\n"
     ]
    },
    {
     "name": "stderr",
     "output_type": "stream",
     "text": [
      "\n"
     ]
    },
    {
     "name": "stdout",
     "output_type": "stream",
     "text": [
      "\n",
      "      Epoch    GPU_mem   box_loss   seg_loss   cls_loss   dfl_loss  Instances       Size\n"
     ]
    },
    {
     "name": "stderr",
     "output_type": "stream",
     "text": [
      "     27/100      6.72G      0.664      1.331     0.4468     0.8767        488        480: 100%|██████████| 250/250 [03:36<00:00,  1.15it/s]\n",
      "                 Class     Images  Instances      Box(P          R      mAP50  mAP50-95)     Mask(P          R      mAP50  mAP50-95): 100%|██████████| 32/32 [00:11<00:00,  2.70it/s]"
     ]
    },
    {
     "name": "stdout",
     "output_type": "stream",
     "text": [
      "                   all       1000      13067      0.939      0.942      0.972      0.766      0.882      0.862      0.879      0.492\n"
     ]
    },
    {
     "name": "stderr",
     "output_type": "stream",
     "text": [
      "\n"
     ]
    },
    {
     "name": "stdout",
     "output_type": "stream",
     "text": [
      "\n",
      "      Epoch    GPU_mem   box_loss   seg_loss   cls_loss   dfl_loss  Instances       Size\n"
     ]
    },
    {
     "name": "stderr",
     "output_type": "stream",
     "text": [
      "     28/100      6.55G     0.6574      1.323     0.4435     0.8752        567        480: 100%|██████████| 250/250 [03:35<00:00,  1.16it/s]\n",
      "                 Class     Images  Instances      Box(P          R      mAP50  mAP50-95)     Mask(P          R      mAP50  mAP50-95): 100%|██████████| 32/32 [00:11<00:00,  2.72it/s]"
     ]
    },
    {
     "name": "stdout",
     "output_type": "stream",
     "text": [
      "                   all       1000      13067      0.931      0.922       0.97      0.731      0.864      0.839      0.863      0.447\n"
     ]
    },
    {
     "name": "stderr",
     "output_type": "stream",
     "text": [
      "\n"
     ]
    },
    {
     "name": "stdout",
     "output_type": "stream",
     "text": [
      "\n",
      "      Epoch    GPU_mem   box_loss   seg_loss   cls_loss   dfl_loss  Instances       Size\n"
     ]
    },
    {
     "name": "stderr",
     "output_type": "stream",
     "text": [
      "     29/100      6.87G     0.6471      1.298     0.4257     0.8689        510        480: 100%|██████████| 250/250 [03:37<00:00,  1.15it/s]\n",
      "                 Class     Images  Instances      Box(P          R      mAP50  mAP50-95)     Mask(P          R      mAP50  mAP50-95): 100%|██████████| 32/32 [00:11<00:00,  2.70it/s]"
     ]
    },
    {
     "name": "stdout",
     "output_type": "stream",
     "text": [
      "                   all       1000      13067      0.955      0.952      0.982      0.813      0.893      0.845      0.868      0.471\n"
     ]
    },
    {
     "name": "stderr",
     "output_type": "stream",
     "text": [
      "\n"
     ]
    },
    {
     "name": "stdout",
     "output_type": "stream",
     "text": [
      "\n",
      "      Epoch    GPU_mem   box_loss   seg_loss   cls_loss   dfl_loss  Instances       Size\n"
     ]
    },
    {
     "name": "stderr",
     "output_type": "stream",
     "text": [
      "     30/100      6.62G      0.647       1.32     0.4307     0.8656        526        480: 100%|██████████| 250/250 [03:34<00:00,  1.17it/s]\n",
      "                 Class     Images  Instances      Box(P          R      mAP50  mAP50-95)     Mask(P          R      mAP50  mAP50-95): 100%|██████████| 32/32 [00:11<00:00,  2.68it/s]"
     ]
    },
    {
     "name": "stdout",
     "output_type": "stream",
     "text": [
      "                   all       1000      13067      0.947      0.944       0.98      0.797      0.913       0.84      0.888      0.511\n"
     ]
    },
    {
     "name": "stderr",
     "output_type": "stream",
     "text": [
      "\n"
     ]
    },
    {
     "name": "stdout",
     "output_type": "stream",
     "text": [
      "\n",
      "      Epoch    GPU_mem   box_loss   seg_loss   cls_loss   dfl_loss  Instances       Size\n"
     ]
    },
    {
     "name": "stderr",
     "output_type": "stream",
     "text": [
      "     31/100       6.7G     0.6556       1.28     0.4362     0.8731        492        480: 100%|██████████| 250/250 [03:33<00:00,  1.17it/s]\n",
      "                 Class     Images  Instances      Box(P          R      mAP50  mAP50-95)     Mask(P          R      mAP50  mAP50-95): 100%|██████████| 32/32 [00:11<00:00,  2.69it/s]"
     ]
    },
    {
     "name": "stdout",
     "output_type": "stream",
     "text": [
      "                   all       1000      13067      0.946      0.947      0.978      0.785      0.884      0.859      0.871      0.492\n"
     ]
    },
    {
     "name": "stderr",
     "output_type": "stream",
     "text": [
      "\n"
     ]
    },
    {
     "name": "stdout",
     "output_type": "stream",
     "text": [
      "\n",
      "      Epoch    GPU_mem   box_loss   seg_loss   cls_loss   dfl_loss  Instances       Size\n"
     ]
    },
    {
     "name": "stderr",
     "output_type": "stream",
     "text": [
      "     32/100      6.72G     0.6461      1.329     0.4332      0.867        556        480: 100%|██████████| 250/250 [03:35<00:00,  1.16it/s]\n",
      "                 Class     Images  Instances      Box(P          R      mAP50  mAP50-95)     Mask(P          R      mAP50  mAP50-95): 100%|██████████| 32/32 [00:12<00:00,  2.63it/s]"
     ]
    },
    {
     "name": "stdout",
     "output_type": "stream",
     "text": [
      "                   all       1000      13067      0.926      0.896       0.96      0.703      0.866      0.832      0.868      0.472\n"
     ]
    },
    {
     "name": "stderr",
     "output_type": "stream",
     "text": [
      "\n"
     ]
    },
    {
     "name": "stdout",
     "output_type": "stream",
     "text": [
      "\n",
      "      Epoch    GPU_mem   box_loss   seg_loss   cls_loss   dfl_loss  Instances       Size\n"
     ]
    },
    {
     "name": "stderr",
     "output_type": "stream",
     "text": [
      "     33/100      6.79G     0.6356      1.301     0.4164     0.8663        489        480: 100%|██████████| 250/250 [03:41<00:00,  1.13it/s]\n",
      "                 Class     Images  Instances      Box(P          R      mAP50  mAP50-95)     Mask(P          R      mAP50  mAP50-95): 100%|██████████| 32/32 [00:12<00:00,  2.50it/s]"
     ]
    },
    {
     "name": "stdout",
     "output_type": "stream",
     "text": [
      "                   all       1000      13067       0.95      0.964      0.985      0.794      0.916      0.858      0.893      0.538\n"
     ]
    },
    {
     "name": "stderr",
     "output_type": "stream",
     "text": [
      "\n"
     ]
    },
    {
     "name": "stdout",
     "output_type": "stream",
     "text": [
      "\n",
      "      Epoch    GPU_mem   box_loss   seg_loss   cls_loss   dfl_loss  Instances       Size\n"
     ]
    },
    {
     "name": "stderr",
     "output_type": "stream",
     "text": [
      "     34/100      6.64G     0.6351      1.272     0.4183     0.8614        651        480: 100%|██████████| 250/250 [03:39<00:00,  1.14it/s]\n",
      "                 Class     Images  Instances      Box(P          R      mAP50  mAP50-95)     Mask(P          R      mAP50  mAP50-95): 100%|██████████| 32/32 [00:11<00:00,  2.74it/s]"
     ]
    },
    {
     "name": "stdout",
     "output_type": "stream",
     "text": [
      "                   all       1000      13067      0.961      0.956      0.984      0.816      0.902      0.853      0.883        0.5\n"
     ]
    },
    {
     "name": "stderr",
     "output_type": "stream",
     "text": [
      "\n"
     ]
    },
    {
     "name": "stdout",
     "output_type": "stream",
     "text": [
      "\n",
      "      Epoch    GPU_mem   box_loss   seg_loss   cls_loss   dfl_loss  Instances       Size\n"
     ]
    },
    {
     "name": "stderr",
     "output_type": "stream",
     "text": [
      "     35/100      6.74G     0.6349      1.313      0.421     0.8622        480        480: 100%|██████████| 250/250 [03:41<00:00,  1.13it/s]\n",
      "                 Class     Images  Instances      Box(P          R      mAP50  mAP50-95)     Mask(P          R      mAP50  mAP50-95): 100%|██████████| 32/32 [00:12<00:00,  2.59it/s]"
     ]
    },
    {
     "name": "stdout",
     "output_type": "stream",
     "text": [
      "                   all       1000      13067      0.954      0.954      0.982      0.813      0.909      0.863      0.898      0.513\n"
     ]
    },
    {
     "name": "stderr",
     "output_type": "stream",
     "text": [
      "\n"
     ]
    },
    {
     "name": "stdout",
     "output_type": "stream",
     "text": [
      "\n",
      "      Epoch    GPU_mem   box_loss   seg_loss   cls_loss   dfl_loss  Instances       Size\n"
     ]
    },
    {
     "name": "stderr",
     "output_type": "stream",
     "text": [
      "     36/100      6.65G     0.6323      1.302     0.4169      0.862        648        480: 100%|██████████| 250/250 [03:42<00:00,  1.12it/s]\n",
      "                 Class     Images  Instances      Box(P          R      mAP50  mAP50-95)     Mask(P          R      mAP50  mAP50-95): 100%|██████████| 32/32 [00:12<00:00,  2.62it/s]"
     ]
    },
    {
     "name": "stdout",
     "output_type": "stream",
     "text": [
      "                   all       1000      13067      0.948      0.966      0.986      0.817       0.92       0.86      0.899      0.525\n"
     ]
    },
    {
     "name": "stderr",
     "output_type": "stream",
     "text": [
      "\n"
     ]
    },
    {
     "name": "stdout",
     "output_type": "stream",
     "text": [
      "\n",
      "      Epoch    GPU_mem   box_loss   seg_loss   cls_loss   dfl_loss  Instances       Size\n"
     ]
    },
    {
     "name": "stderr",
     "output_type": "stream",
     "text": [
      "     37/100      6.81G     0.6118      1.293     0.4075     0.8591        537        480: 100%|██████████| 250/250 [03:47<00:00,  1.10it/s]\n",
      "                 Class     Images  Instances      Box(P          R      mAP50  mAP50-95)     Mask(P          R      mAP50  mAP50-95): 100%|██████████| 32/32 [00:12<00:00,  2.64it/s]"
     ]
    },
    {
     "name": "stdout",
     "output_type": "stream",
     "text": [
      "                   all       1000      13067       0.94      0.959      0.976      0.797      0.897       0.86      0.875      0.491\n"
     ]
    },
    {
     "name": "stderr",
     "output_type": "stream",
     "text": [
      "\n"
     ]
    },
    {
     "name": "stdout",
     "output_type": "stream",
     "text": [
      "\n",
      "      Epoch    GPU_mem   box_loss   seg_loss   cls_loss   dfl_loss  Instances       Size\n"
     ]
    },
    {
     "name": "stderr",
     "output_type": "stream",
     "text": [
      "     38/100      6.88G     0.6159      1.282     0.4142     0.8607        645        480: 100%|██████████| 250/250 [03:43<00:00,  1.12it/s]\n",
      "                 Class     Images  Instances      Box(P          R      mAP50  mAP50-95)     Mask(P          R      mAP50  mAP50-95): 100%|██████████| 32/32 [00:12<00:00,  2.58it/s]"
     ]
    },
    {
     "name": "stdout",
     "output_type": "stream",
     "text": [
      "                   all       1000      13067      0.861      0.875      0.924      0.678      0.793      0.805      0.824      0.432\n"
     ]
    },
    {
     "name": "stderr",
     "output_type": "stream",
     "text": [
      "\n"
     ]
    },
    {
     "name": "stdout",
     "output_type": "stream",
     "text": [
      "\n",
      "      Epoch    GPU_mem   box_loss   seg_loss   cls_loss   dfl_loss  Instances       Size\n"
     ]
    },
    {
     "name": "stderr",
     "output_type": "stream",
     "text": [
      "     39/100      6.94G     0.6173       1.27     0.4129     0.8601        439        480: 100%|██████████| 250/250 [03:45<00:00,  1.11it/s]\n",
      "                 Class     Images  Instances      Box(P          R      mAP50  mAP50-95)     Mask(P          R      mAP50  mAP50-95): 100%|██████████| 32/32 [00:12<00:00,  2.56it/s]"
     ]
    },
    {
     "name": "stdout",
     "output_type": "stream",
     "text": [
      "                   all       1000      13067      0.941      0.962       0.98      0.791      0.901      0.862      0.884       0.51\n"
     ]
    },
    {
     "name": "stderr",
     "output_type": "stream",
     "text": [
      "\n"
     ]
    },
    {
     "name": "stdout",
     "output_type": "stream",
     "text": [
      "\n",
      "      Epoch    GPU_mem   box_loss   seg_loss   cls_loss   dfl_loss  Instances       Size\n"
     ]
    },
    {
     "name": "stderr",
     "output_type": "stream",
     "text": [
      "     40/100      6.62G     0.6119       1.26     0.4098      0.864        561        480: 100%|██████████| 250/250 [03:44<00:00,  1.11it/s]\n",
      "                 Class     Images  Instances      Box(P          R      mAP50  mAP50-95)     Mask(P          R      mAP50  mAP50-95): 100%|██████████| 32/32 [00:12<00:00,  2.64it/s]"
     ]
    },
    {
     "name": "stdout",
     "output_type": "stream",
     "text": [
      "                   all       1000      13067      0.939      0.953      0.977      0.775      0.891      0.857      0.881      0.503\n"
     ]
    },
    {
     "name": "stderr",
     "output_type": "stream",
     "text": [
      "\n"
     ]
    },
    {
     "name": "stdout",
     "output_type": "stream",
     "text": [
      "\n",
      "      Epoch    GPU_mem   box_loss   seg_loss   cls_loss   dfl_loss  Instances       Size\n"
     ]
    },
    {
     "name": "stderr",
     "output_type": "stream",
     "text": [
      "     41/100      6.77G     0.6007      1.259     0.4021      0.859        509        480: 100%|██████████| 250/250 [03:43<00:00,  1.12it/s]\n",
      "                 Class     Images  Instances      Box(P          R      mAP50  mAP50-95)     Mask(P          R      mAP50  mAP50-95): 100%|██████████| 32/32 [00:12<00:00,  2.57it/s]"
     ]
    },
    {
     "name": "stdout",
     "output_type": "stream",
     "text": [
      "                   all       1000      13067      0.953      0.946      0.981      0.798      0.883      0.863      0.879      0.501\n"
     ]
    },
    {
     "name": "stderr",
     "output_type": "stream",
     "text": [
      "\n"
     ]
    },
    {
     "name": "stdout",
     "output_type": "stream",
     "text": [
      "\n",
      "      Epoch    GPU_mem   box_loss   seg_loss   cls_loss   dfl_loss  Instances       Size\n"
     ]
    },
    {
     "name": "stderr",
     "output_type": "stream",
     "text": [
      "     42/100      6.76G     0.5983      1.259     0.4003     0.8557        539        480: 100%|██████████| 250/250 [03:39<00:00,  1.14it/s]\n",
      "                 Class     Images  Instances      Box(P          R      mAP50  mAP50-95)     Mask(P          R      mAP50  mAP50-95): 100%|██████████| 32/32 [00:12<00:00,  2.56it/s]"
     ]
    },
    {
     "name": "stdout",
     "output_type": "stream",
     "text": [
      "                   all       1000      13067      0.785       0.66      0.778      0.547      0.721      0.605      0.684      0.336\n"
     ]
    },
    {
     "name": "stderr",
     "output_type": "stream",
     "text": [
      "\n"
     ]
    },
    {
     "name": "stdout",
     "output_type": "stream",
     "text": [
      "\n",
      "      Epoch    GPU_mem   box_loss   seg_loss   cls_loss   dfl_loss  Instances       Size\n"
     ]
    },
    {
     "name": "stderr",
     "output_type": "stream",
     "text": [
      "     43/100      6.77G     0.5975      1.272     0.3993     0.8614        460        480: 100%|██████████| 250/250 [03:44<00:00,  1.11it/s]\n",
      "                 Class     Images  Instances      Box(P          R      mAP50  mAP50-95)     Mask(P          R      mAP50  mAP50-95): 100%|██████████| 32/32 [00:12<00:00,  2.48it/s]"
     ]
    },
    {
     "name": "stdout",
     "output_type": "stream",
     "text": [
      "                   all       1000      13067      0.953       0.96      0.981      0.811      0.902      0.855       0.88      0.506\n"
     ]
    },
    {
     "name": "stderr",
     "output_type": "stream",
     "text": [
      "\n"
     ]
    },
    {
     "name": "stdout",
     "output_type": "stream",
     "text": [
      "\n",
      "      Epoch    GPU_mem   box_loss   seg_loss   cls_loss   dfl_loss  Instances       Size\n"
     ]
    },
    {
     "name": "stderr",
     "output_type": "stream",
     "text": [
      "     44/100      6.87G     0.5933      1.251     0.3931     0.8556        558        480: 100%|██████████| 250/250 [03:45<00:00,  1.11it/s]\n",
      "                 Class     Images  Instances      Box(P          R      mAP50  mAP50-95)     Mask(P          R      mAP50  mAP50-95): 100%|██████████| 32/32 [00:12<00:00,  2.63it/s]"
     ]
    },
    {
     "name": "stdout",
     "output_type": "stream",
     "text": [
      "                   all       1000      13067      0.957      0.971      0.988      0.843      0.927      0.853      0.899      0.521\n"
     ]
    },
    {
     "name": "stderr",
     "output_type": "stream",
     "text": [
      "\n"
     ]
    },
    {
     "name": "stdout",
     "output_type": "stream",
     "text": [
      "\n",
      "      Epoch    GPU_mem   box_loss   seg_loss   cls_loss   dfl_loss  Instances       Size\n"
     ]
    },
    {
     "name": "stderr",
     "output_type": "stream",
     "text": [
      "     45/100      6.68G     0.5729       1.23     0.3825     0.8492        612        480: 100%|██████████| 250/250 [03:43<00:00,  1.12it/s]\n",
      "                 Class     Images  Instances      Box(P          R      mAP50  mAP50-95)     Mask(P          R      mAP50  mAP50-95): 100%|██████████| 32/32 [00:12<00:00,  2.61it/s]"
     ]
    },
    {
     "name": "stdout",
     "output_type": "stream",
     "text": [
      "                   all       1000      13067      0.951      0.966      0.985       0.82      0.915      0.851      0.888      0.523\n"
     ]
    },
    {
     "name": "stderr",
     "output_type": "stream",
     "text": [
      "\n"
     ]
    },
    {
     "name": "stdout",
     "output_type": "stream",
     "text": [
      "\n",
      "      Epoch    GPU_mem   box_loss   seg_loss   cls_loss   dfl_loss  Instances       Size\n"
     ]
    },
    {
     "name": "stderr",
     "output_type": "stream",
     "text": [
      "     46/100      6.67G      0.573      1.236      0.383     0.8477        564        480: 100%|██████████| 250/250 [03:44<00:00,  1.11it/s]\n",
      "                 Class     Images  Instances      Box(P          R      mAP50  mAP50-95)     Mask(P          R      mAP50  mAP50-95): 100%|██████████| 32/32 [00:12<00:00,  2.60it/s]\n"
     ]
    },
    {
     "name": "stdout",
     "output_type": "stream",
     "text": [
      "                   all       1000      13067      0.954      0.963      0.985      0.817      0.929      0.854      0.896      0.514\n",
      "\n",
      "      Epoch    GPU_mem   box_loss   seg_loss   cls_loss   dfl_loss  Instances       Size\n"
     ]
    },
    {
     "name": "stderr",
     "output_type": "stream",
     "text": [
      "     47/100      6.65G     0.5652      1.222     0.3763     0.8457        587        480: 100%|██████████| 250/250 [03:44<00:00,  1.11it/s]\n",
      "                 Class     Images  Instances      Box(P          R      mAP50  mAP50-95)     Mask(P          R      mAP50  mAP50-95): 100%|██████████| 32/32 [00:12<00:00,  2.55it/s]"
     ]
    },
    {
     "name": "stdout",
     "output_type": "stream",
     "text": [
      "                   all       1000      13067      0.959      0.971      0.989      0.837      0.929      0.855      0.896      0.524\n"
     ]
    },
    {
     "name": "stderr",
     "output_type": "stream",
     "text": [
      "\n"
     ]
    },
    {
     "name": "stdout",
     "output_type": "stream",
     "text": [
      "\n",
      "      Epoch    GPU_mem   box_loss   seg_loss   cls_loss   dfl_loss  Instances       Size\n"
     ]
    },
    {
     "name": "stderr",
     "output_type": "stream",
     "text": [
      "     48/100      6.79G     0.5806      1.249     0.3849     0.8531        473        480: 100%|██████████| 250/250 [03:46<00:00,  1.10it/s]\n",
      "                 Class     Images  Instances      Box(P          R      mAP50  mAP50-95)     Mask(P          R      mAP50  mAP50-95): 100%|██████████| 32/32 [00:12<00:00,  2.64it/s]"
     ]
    },
    {
     "name": "stdout",
     "output_type": "stream",
     "text": [
      "                   all       1000      13067      0.956       0.96      0.984      0.821        0.9      0.856      0.882      0.501\n"
     ]
    },
    {
     "name": "stderr",
     "output_type": "stream",
     "text": [
      "\n"
     ]
    },
    {
     "name": "stdout",
     "output_type": "stream",
     "text": [
      "\n",
      "      Epoch    GPU_mem   box_loss   seg_loss   cls_loss   dfl_loss  Instances       Size\n"
     ]
    },
    {
     "name": "stderr",
     "output_type": "stream",
     "text": [
      "     49/100       6.7G     0.5772      1.234     0.3835     0.8512        506        480: 100%|██████████| 250/250 [03:43<00:00,  1.12it/s]\n",
      "                 Class     Images  Instances      Box(P          R      mAP50  mAP50-95)     Mask(P          R      mAP50  mAP50-95): 100%|██████████| 32/32 [00:12<00:00,  2.64it/s]"
     ]
    },
    {
     "name": "stdout",
     "output_type": "stream",
     "text": [
      "                   all       1000      13067      0.948      0.959      0.983      0.827      0.906      0.849      0.886      0.512\n"
     ]
    },
    {
     "name": "stderr",
     "output_type": "stream",
     "text": [
      "\n"
     ]
    },
    {
     "name": "stdout",
     "output_type": "stream",
     "text": [
      "\n",
      "      Epoch    GPU_mem   box_loss   seg_loss   cls_loss   dfl_loss  Instances       Size\n"
     ]
    },
    {
     "name": "stderr",
     "output_type": "stream",
     "text": [
      "     50/100      6.62G     0.5679      1.226      0.379      0.848        500        480: 100%|██████████| 250/250 [03:43<00:00,  1.12it/s]\n",
      "                 Class     Images  Instances      Box(P          R      mAP50  mAP50-95)     Mask(P          R      mAP50  mAP50-95): 100%|██████████| 32/32 [00:12<00:00,  2.63it/s]"
     ]
    },
    {
     "name": "stdout",
     "output_type": "stream",
     "text": [
      "                   all       1000      13067      0.962      0.967      0.988      0.829      0.915      0.863      0.896      0.529\n"
     ]
    },
    {
     "name": "stderr",
     "output_type": "stream",
     "text": [
      "\n"
     ]
    },
    {
     "name": "stdout",
     "output_type": "stream",
     "text": [
      "\n",
      "      Epoch    GPU_mem   box_loss   seg_loss   cls_loss   dfl_loss  Instances       Size\n"
     ]
    },
    {
     "name": "stderr",
     "output_type": "stream",
     "text": [
      "     51/100      6.72G     0.5674      1.229     0.3764     0.8437        577        480: 100%|██████████| 250/250 [03:47<00:00,  1.10it/s]\n",
      "                 Class     Images  Instances      Box(P          R      mAP50  mAP50-95)     Mask(P          R      mAP50  mAP50-95): 100%|██████████| 32/32 [00:12<00:00,  2.62it/s]"
     ]
    },
    {
     "name": "stdout",
     "output_type": "stream",
     "text": [
      "                   all       1000      13067      0.958      0.967      0.987       0.83      0.911       0.86      0.893      0.523\n"
     ]
    },
    {
     "name": "stderr",
     "output_type": "stream",
     "text": [
      "\n"
     ]
    },
    {
     "name": "stdout",
     "output_type": "stream",
     "text": [
      "\n",
      "      Epoch    GPU_mem   box_loss   seg_loss   cls_loss   dfl_loss  Instances       Size\n"
     ]
    },
    {
     "name": "stderr",
     "output_type": "stream",
     "text": [
      "     52/100       6.8G     0.5652      1.201     0.3696     0.8456        512        480: 100%|██████████| 250/250 [03:45<00:00,  1.11it/s]\n",
      "                 Class     Images  Instances      Box(P          R      mAP50  mAP50-95)     Mask(P          R      mAP50  mAP50-95): 100%|██████████| 32/32 [00:12<00:00,  2.63it/s]"
     ]
    },
    {
     "name": "stdout",
     "output_type": "stream",
     "text": [
      "                   all       1000      13067      0.958      0.964      0.986      0.833      0.919      0.848      0.882      0.516\n"
     ]
    },
    {
     "name": "stderr",
     "output_type": "stream",
     "text": [
      "\n"
     ]
    },
    {
     "name": "stdout",
     "output_type": "stream",
     "text": [
      "\n",
      "      Epoch    GPU_mem   box_loss   seg_loss   cls_loss   dfl_loss  Instances       Size\n"
     ]
    },
    {
     "name": "stderr",
     "output_type": "stream",
     "text": [
      "     53/100      6.64G     0.5569      1.234     0.3739     0.8449        410        480: 100%|██████████| 250/250 [03:45<00:00,  1.11it/s]\n",
      "                 Class     Images  Instances      Box(P          R      mAP50  mAP50-95)     Mask(P          R      mAP50  mAP50-95): 100%|██████████| 32/32 [00:12<00:00,  2.64it/s]"
     ]
    },
    {
     "name": "stdout",
     "output_type": "stream",
     "text": [
      "                   all       1000      13067      0.955      0.965      0.986      0.825      0.916      0.847      0.883      0.514\n"
     ]
    },
    {
     "name": "stderr",
     "output_type": "stream",
     "text": [
      "\n"
     ]
    },
    {
     "name": "stdout",
     "output_type": "stream",
     "text": [
      "\n",
      "      Epoch    GPU_mem   box_loss   seg_loss   cls_loss   dfl_loss  Instances       Size\n"
     ]
    },
    {
     "name": "stderr",
     "output_type": "stream",
     "text": [
      "     54/100      6.63G     0.5622      1.204     0.3736     0.8477        635        480: 100%|██████████| 250/250 [03:44<00:00,  1.11it/s]\n",
      "                 Class     Images  Instances      Box(P          R      mAP50  mAP50-95)     Mask(P          R      mAP50  mAP50-95): 100%|██████████| 32/32 [00:12<00:00,  2.62it/s]"
     ]
    },
    {
     "name": "stdout",
     "output_type": "stream",
     "text": [
      "                   all       1000      13067      0.956      0.965      0.985      0.832      0.917      0.856      0.887      0.504\n"
     ]
    },
    {
     "name": "stderr",
     "output_type": "stream",
     "text": [
      "\n"
     ]
    },
    {
     "name": "stdout",
     "output_type": "stream",
     "text": [
      "\n",
      "      Epoch    GPU_mem   box_loss   seg_loss   cls_loss   dfl_loss  Instances       Size\n"
     ]
    },
    {
     "name": "stderr",
     "output_type": "stream",
     "text": [
      "     55/100      6.64G     0.5586      1.205      0.369     0.8453        541        480: 100%|██████████| 250/250 [03:44<00:00,  1.11it/s]\n",
      "                 Class     Images  Instances      Box(P          R      mAP50  mAP50-95)     Mask(P          R      mAP50  mAP50-95): 100%|██████████| 32/32 [00:12<00:00,  2.60it/s]"
     ]
    },
    {
     "name": "stdout",
     "output_type": "stream",
     "text": [
      "                   all       1000      13067      0.961      0.961      0.988      0.818      0.937      0.853      0.904      0.545\n"
     ]
    },
    {
     "name": "stderr",
     "output_type": "stream",
     "text": [
      "\n"
     ]
    },
    {
     "name": "stdout",
     "output_type": "stream",
     "text": [
      "\n",
      "      Epoch    GPU_mem   box_loss   seg_loss   cls_loss   dfl_loss  Instances       Size\n"
     ]
    },
    {
     "name": "stderr",
     "output_type": "stream",
     "text": [
      "     56/100      6.66G      0.551      1.187     0.3649     0.8499        608        480: 100%|██████████| 250/250 [03:44<00:00,  1.11it/s]\n",
      "                 Class     Images  Instances      Box(P          R      mAP50  mAP50-95)     Mask(P          R      mAP50  mAP50-95): 100%|██████████| 32/32 [00:12<00:00,  2.58it/s]"
     ]
    },
    {
     "name": "stdout",
     "output_type": "stream",
     "text": [
      "                   all       1000      13067      0.959      0.965      0.987      0.835      0.928      0.849      0.893      0.522\n"
     ]
    },
    {
     "name": "stderr",
     "output_type": "stream",
     "text": [
      "\n"
     ]
    },
    {
     "name": "stdout",
     "output_type": "stream",
     "text": [
      "\n",
      "      Epoch    GPU_mem   box_loss   seg_loss   cls_loss   dfl_loss  Instances       Size\n"
     ]
    },
    {
     "name": "stderr",
     "output_type": "stream",
     "text": [
      "     57/100       6.7G     0.5536      1.201     0.3681     0.8463        386        480: 100%|██████████| 250/250 [03:34<00:00,  1.17it/s]\n",
      "                 Class     Images  Instances      Box(P          R      mAP50  mAP50-95)     Mask(P          R      mAP50  mAP50-95): 100%|██████████| 32/32 [00:12<00:00,  2.64it/s]"
     ]
    },
    {
     "name": "stdout",
     "output_type": "stream",
     "text": [
      "                   all       1000      13067      0.954       0.97      0.986      0.842      0.925      0.851      0.898      0.528\n"
     ]
    },
    {
     "name": "stderr",
     "output_type": "stream",
     "text": [
      "\n"
     ]
    },
    {
     "name": "stdout",
     "output_type": "stream",
     "text": [
      "\n",
      "      Epoch    GPU_mem   box_loss   seg_loss   cls_loss   dfl_loss  Instances       Size\n"
     ]
    },
    {
     "name": "stderr",
     "output_type": "stream",
     "text": [
      "     58/100      6.66G     0.5507      1.186     0.3647     0.8421        509        480: 100%|██████████| 250/250 [03:34<00:00,  1.16it/s]\n",
      "                 Class     Images  Instances      Box(P          R      mAP50  mAP50-95)     Mask(P          R      mAP50  mAP50-95): 100%|██████████| 32/32 [00:11<00:00,  2.78it/s]"
     ]
    },
    {
     "name": "stdout",
     "output_type": "stream",
     "text": [
      "                   all       1000      13067      0.957      0.967      0.987       0.84      0.932      0.852      0.898       0.52\n"
     ]
    },
    {
     "name": "stderr",
     "output_type": "stream",
     "text": [
      "\n"
     ]
    },
    {
     "name": "stdout",
     "output_type": "stream",
     "text": [
      "\n",
      "      Epoch    GPU_mem   box_loss   seg_loss   cls_loss   dfl_loss  Instances       Size\n"
     ]
    },
    {
     "name": "stderr",
     "output_type": "stream",
     "text": [
      "     59/100      6.73G     0.5492      1.172     0.3651     0.8443        438        480: 100%|██████████| 250/250 [03:36<00:00,  1.16it/s]\n",
      "                 Class     Images  Instances      Box(P          R      mAP50  mAP50-95)     Mask(P          R      mAP50  mAP50-95): 100%|██████████| 32/32 [00:12<00:00,  2.60it/s]"
     ]
    },
    {
     "name": "stdout",
     "output_type": "stream",
     "text": [
      "                   all       1000      13067      0.958       0.97      0.988      0.836      0.924      0.853      0.895      0.532\n"
     ]
    },
    {
     "name": "stderr",
     "output_type": "stream",
     "text": [
      "\n"
     ]
    },
    {
     "name": "stdout",
     "output_type": "stream",
     "text": [
      "\n",
      "      Epoch    GPU_mem   box_loss   seg_loss   cls_loss   dfl_loss  Instances       Size\n"
     ]
    },
    {
     "name": "stderr",
     "output_type": "stream",
     "text": [
      "     60/100      6.73G     0.5397      1.192     0.3557     0.8441        488        480: 100%|██████████| 250/250 [03:41<00:00,  1.13it/s]\n",
      "                 Class     Images  Instances      Box(P          R      mAP50  mAP50-95)     Mask(P          R      mAP50  mAP50-95): 100%|██████████| 32/32 [00:12<00:00,  2.65it/s]"
     ]
    },
    {
     "name": "stdout",
     "output_type": "stream",
     "text": [
      "                   all       1000      13067      0.955      0.967      0.986      0.843      0.926      0.845      0.891       0.52\n"
     ]
    },
    {
     "name": "stderr",
     "output_type": "stream",
     "text": [
      "\n"
     ]
    },
    {
     "name": "stdout",
     "output_type": "stream",
     "text": [
      "\n",
      "      Epoch    GPU_mem   box_loss   seg_loss   cls_loss   dfl_loss  Instances       Size\n"
     ]
    },
    {
     "name": "stderr",
     "output_type": "stream",
     "text": [
      "     61/100      6.69G     0.5425      1.193     0.3553     0.8425        595        480: 100%|██████████| 250/250 [03:38<00:00,  1.14it/s]\n",
      "                 Class     Images  Instances      Box(P          R      mAP50  mAP50-95)     Mask(P          R      mAP50  mAP50-95): 100%|██████████| 32/32 [00:12<00:00,  2.57it/s]"
     ]
    },
    {
     "name": "stdout",
     "output_type": "stream",
     "text": [
      "                   all       1000      13067      0.956       0.96      0.985      0.827      0.918      0.842      0.884      0.508\n"
     ]
    },
    {
     "name": "stderr",
     "output_type": "stream",
     "text": [
      "\n"
     ]
    },
    {
     "name": "stdout",
     "output_type": "stream",
     "text": [
      "\n",
      "      Epoch    GPU_mem   box_loss   seg_loss   cls_loss   dfl_loss  Instances       Size\n"
     ]
    },
    {
     "name": "stderr",
     "output_type": "stream",
     "text": [
      "     62/100      6.66G       0.53      1.168     0.3512     0.8413        462        480: 100%|██████████| 250/250 [03:36<00:00,  1.16it/s]\n",
      "                 Class     Images  Instances      Box(P          R      mAP50  mAP50-95)     Mask(P          R      mAP50  mAP50-95): 100%|██████████| 32/32 [00:11<00:00,  2.68it/s]"
     ]
    },
    {
     "name": "stdout",
     "output_type": "stream",
     "text": [
      "                   all       1000      13067      0.957       0.97      0.987      0.841      0.918      0.857      0.897      0.529\n"
     ]
    },
    {
     "name": "stderr",
     "output_type": "stream",
     "text": [
      "\n"
     ]
    },
    {
     "name": "stdout",
     "output_type": "stream",
     "text": [
      "\n",
      "      Epoch    GPU_mem   box_loss   seg_loss   cls_loss   dfl_loss  Instances       Size\n"
     ]
    },
    {
     "name": "stderr",
     "output_type": "stream",
     "text": [
      "     63/100      6.88G       0.53      1.153     0.3468     0.8384        552        480: 100%|██████████| 250/250 [03:35<00:00,  1.16it/s]\n",
      "                 Class     Images  Instances      Box(P          R      mAP50  mAP50-95)     Mask(P          R      mAP50  mAP50-95): 100%|██████████| 32/32 [00:12<00:00,  2.64it/s]"
     ]
    },
    {
     "name": "stdout",
     "output_type": "stream",
     "text": [
      "                   all       1000      13067       0.96      0.972      0.988      0.837       0.93      0.847      0.892      0.526\n"
     ]
    },
    {
     "name": "stderr",
     "output_type": "stream",
     "text": [
      "\n"
     ]
    },
    {
     "name": "stdout",
     "output_type": "stream",
     "text": [
      "\n",
      "      Epoch    GPU_mem   box_loss   seg_loss   cls_loss   dfl_loss  Instances       Size\n"
     ]
    },
    {
     "name": "stderr",
     "output_type": "stream",
     "text": [
      "     64/100      6.74G     0.5282       1.19     0.3509     0.8376        565        480: 100%|██████████| 250/250 [03:37<00:00,  1.15it/s]\n",
      "                 Class     Images  Instances      Box(P          R      mAP50  mAP50-95)     Mask(P          R      mAP50  mAP50-95): 100%|██████████| 32/32 [00:11<00:00,  2.76it/s]"
     ]
    },
    {
     "name": "stdout",
     "output_type": "stream",
     "text": [
      "                   all       1000      13067      0.961      0.969      0.989      0.844      0.936      0.854        0.9      0.525\n"
     ]
    },
    {
     "name": "stderr",
     "output_type": "stream",
     "text": [
      "\n"
     ]
    },
    {
     "name": "stdout",
     "output_type": "stream",
     "text": [
      "\n",
      "      Epoch    GPU_mem   box_loss   seg_loss   cls_loss   dfl_loss  Instances       Size\n"
     ]
    },
    {
     "name": "stderr",
     "output_type": "stream",
     "text": [
      "     65/100      6.71G     0.5259      1.175      0.348     0.8371        538        480: 100%|██████████| 250/250 [03:38<00:00,  1.15it/s]\n",
      "                 Class     Images  Instances      Box(P          R      mAP50  mAP50-95)     Mask(P          R      mAP50  mAP50-95): 100%|██████████| 32/32 [00:11<00:00,  2.68it/s]"
     ]
    },
    {
     "name": "stdout",
     "output_type": "stream",
     "text": [
      "                   all       1000      13067      0.963      0.971      0.988      0.854      0.931      0.847      0.891      0.516\n"
     ]
    },
    {
     "name": "stderr",
     "output_type": "stream",
     "text": [
      "\n"
     ]
    },
    {
     "name": "stdout",
     "output_type": "stream",
     "text": [
      "\n",
      "      Epoch    GPU_mem   box_loss   seg_loss   cls_loss   dfl_loss  Instances       Size\n"
     ]
    },
    {
     "name": "stderr",
     "output_type": "stream",
     "text": [
      "     66/100       6.7G     0.5201      1.165     0.3442     0.8381        460        480: 100%|██████████| 250/250 [03:39<00:00,  1.14it/s]\n",
      "                 Class     Images  Instances      Box(P          R      mAP50  mAP50-95)     Mask(P          R      mAP50  mAP50-95): 100%|██████████| 32/32 [00:11<00:00,  2.72it/s]"
     ]
    },
    {
     "name": "stdout",
     "output_type": "stream",
     "text": [
      "                   all       1000      13067      0.969      0.971       0.99      0.855      0.936      0.847      0.895      0.528\n"
     ]
    },
    {
     "name": "stderr",
     "output_type": "stream",
     "text": [
      "\n"
     ]
    },
    {
     "name": "stdout",
     "output_type": "stream",
     "text": [
      "\n",
      "      Epoch    GPU_mem   box_loss   seg_loss   cls_loss   dfl_loss  Instances       Size\n"
     ]
    },
    {
     "name": "stderr",
     "output_type": "stream",
     "text": [
      "     67/100      6.73G     0.5207      1.168     0.3441     0.8376        601        480: 100%|██████████| 250/250 [03:35<00:00,  1.16it/s]\n",
      "                 Class     Images  Instances      Box(P          R      mAP50  mAP50-95)     Mask(P          R      mAP50  mAP50-95): 100%|██████████| 32/32 [00:11<00:00,  2.69it/s]"
     ]
    },
    {
     "name": "stdout",
     "output_type": "stream",
     "text": [
      "                   all       1000      13067      0.959      0.972      0.988      0.845      0.929      0.851      0.894      0.518\n"
     ]
    },
    {
     "name": "stderr",
     "output_type": "stream",
     "text": [
      "\n"
     ]
    },
    {
     "name": "stdout",
     "output_type": "stream",
     "text": [
      "\n",
      "      Epoch    GPU_mem   box_loss   seg_loss   cls_loss   dfl_loss  Instances       Size\n"
     ]
    },
    {
     "name": "stderr",
     "output_type": "stream",
     "text": [
      "     68/100      6.65G     0.5237      1.166     0.3493     0.8368        582        480: 100%|██████████| 250/250 [03:37<00:00,  1.15it/s]\n",
      "                 Class     Images  Instances      Box(P          R      mAP50  mAP50-95)     Mask(P          R      mAP50  mAP50-95): 100%|██████████| 32/32 [00:12<00:00,  2.59it/s]"
     ]
    },
    {
     "name": "stdout",
     "output_type": "stream",
     "text": [
      "                   all       1000      13067      0.956      0.969      0.988      0.842      0.931       0.85      0.893      0.527\n"
     ]
    },
    {
     "name": "stderr",
     "output_type": "stream",
     "text": [
      "\n"
     ]
    },
    {
     "name": "stdout",
     "output_type": "stream",
     "text": [
      "\n",
      "      Epoch    GPU_mem   box_loss   seg_loss   cls_loss   dfl_loss  Instances       Size\n"
     ]
    },
    {
     "name": "stderr",
     "output_type": "stream",
     "text": [
      "     69/100      6.73G     0.5281      1.143     0.3495     0.8385        465        480: 100%|██████████| 250/250 [03:38<00:00,  1.14it/s]\n",
      "                 Class     Images  Instances      Box(P          R      mAP50  mAP50-95)     Mask(P          R      mAP50  mAP50-95): 100%|██████████| 32/32 [00:11<00:00,  2.71it/s]"
     ]
    },
    {
     "name": "stdout",
     "output_type": "stream",
     "text": [
      "                   all       1000      13067      0.961      0.971      0.989       0.85      0.935      0.851      0.894      0.524\n"
     ]
    },
    {
     "name": "stderr",
     "output_type": "stream",
     "text": [
      "\n"
     ]
    },
    {
     "name": "stdout",
     "output_type": "stream",
     "text": [
      "\n",
      "      Epoch    GPU_mem   box_loss   seg_loss   cls_loss   dfl_loss  Instances       Size\n"
     ]
    },
    {
     "name": "stderr",
     "output_type": "stream",
     "text": [
      "     70/100      6.68G     0.5175      1.151     0.3368     0.8349        550        480: 100%|██████████| 250/250 [03:38<00:00,  1.14it/s]\n",
      "                 Class     Images  Instances      Box(P          R      mAP50  mAP50-95)     Mask(P          R      mAP50  mAP50-95): 100%|██████████| 32/32 [00:12<00:00,  2.66it/s]"
     ]
    },
    {
     "name": "stdout",
     "output_type": "stream",
     "text": [
      "                   all       1000      13067      0.961      0.973      0.989      0.853      0.932      0.854      0.897      0.529\n"
     ]
    },
    {
     "name": "stderr",
     "output_type": "stream",
     "text": [
      "\n"
     ]
    },
    {
     "name": "stdout",
     "output_type": "stream",
     "text": [
      "\n",
      "      Epoch    GPU_mem   box_loss   seg_loss   cls_loss   dfl_loss  Instances       Size\n"
     ]
    },
    {
     "name": "stderr",
     "output_type": "stream",
     "text": [
      "     71/100      6.79G     0.5102      1.134      0.339     0.8342        450        480: 100%|██████████| 250/250 [03:37<00:00,  1.15it/s]\n",
      "                 Class     Images  Instances      Box(P          R      mAP50  mAP50-95)     Mask(P          R      mAP50  mAP50-95): 100%|██████████| 32/32 [00:12<00:00,  2.66it/s]"
     ]
    },
    {
     "name": "stdout",
     "output_type": "stream",
     "text": [
      "                   all       1000      13067      0.959      0.972      0.989       0.85      0.932      0.854      0.898       0.53\n"
     ]
    },
    {
     "name": "stderr",
     "output_type": "stream",
     "text": [
      "\n"
     ]
    },
    {
     "name": "stdout",
     "output_type": "stream",
     "text": [
      "\n",
      "      Epoch    GPU_mem   box_loss   seg_loss   cls_loss   dfl_loss  Instances       Size\n"
     ]
    },
    {
     "name": "stderr",
     "output_type": "stream",
     "text": [
      "     72/100      6.65G     0.5095      1.158     0.3354     0.8363        585        480: 100%|██████████| 250/250 [03:38<00:00,  1.14it/s]\n",
      "                 Class     Images  Instances      Box(P          R      mAP50  mAP50-95)     Mask(P          R      mAP50  mAP50-95): 100%|██████████| 32/32 [00:11<00:00,  2.67it/s]"
     ]
    },
    {
     "name": "stdout",
     "output_type": "stream",
     "text": [
      "                   all       1000      13067      0.963      0.972       0.99      0.849      0.937      0.852      0.895      0.525\n"
     ]
    },
    {
     "name": "stderr",
     "output_type": "stream",
     "text": [
      "\n"
     ]
    },
    {
     "name": "stdout",
     "output_type": "stream",
     "text": [
      "\n",
      "      Epoch    GPU_mem   box_loss   seg_loss   cls_loss   dfl_loss  Instances       Size\n"
     ]
    },
    {
     "name": "stderr",
     "output_type": "stream",
     "text": [
      "     73/100      6.81G     0.5186      1.134      0.342     0.8343        635        480: 100%|██████████| 250/250 [03:40<00:00,  1.13it/s]\n",
      "                 Class     Images  Instances      Box(P          R      mAP50  mAP50-95)     Mask(P          R      mAP50  mAP50-95): 100%|██████████| 32/32 [00:12<00:00,  2.66it/s]"
     ]
    },
    {
     "name": "stdout",
     "output_type": "stream",
     "text": [
      "                   all       1000      13067      0.967      0.968       0.99      0.852      0.939      0.854      0.897      0.522\n"
     ]
    },
    {
     "name": "stderr",
     "output_type": "stream",
     "text": [
      "\n"
     ]
    },
    {
     "name": "stdout",
     "output_type": "stream",
     "text": [
      "\n",
      "      Epoch    GPU_mem   box_loss   seg_loss   cls_loss   dfl_loss  Instances       Size\n"
     ]
    },
    {
     "name": "stderr",
     "output_type": "stream",
     "text": [
      "     74/100      6.85G     0.5082      1.149     0.3372     0.8341        591        480: 100%|██████████| 250/250 [03:38<00:00,  1.14it/s]\n",
      "                 Class     Images  Instances      Box(P          R      mAP50  mAP50-95)     Mask(P          R      mAP50  mAP50-95): 100%|██████████| 32/32 [00:11<00:00,  2.78it/s]"
     ]
    },
    {
     "name": "stdout",
     "output_type": "stream",
     "text": [
      "                   all       1000      13067      0.967      0.969       0.99      0.859      0.941       0.85        0.9       0.53\n"
     ]
    },
    {
     "name": "stderr",
     "output_type": "stream",
     "text": [
      "\n"
     ]
    },
    {
     "name": "stdout",
     "output_type": "stream",
     "text": [
      "\n",
      "      Epoch    GPU_mem   box_loss   seg_loss   cls_loss   dfl_loss  Instances       Size\n"
     ]
    },
    {
     "name": "stderr",
     "output_type": "stream",
     "text": [
      "     75/100      6.77G     0.5026      1.133     0.3338     0.8314        507        480: 100%|██████████| 250/250 [03:34<00:00,  1.16it/s]\n",
      "                 Class     Images  Instances      Box(P          R      mAP50  mAP50-95)     Mask(P          R      mAP50  mAP50-95): 100%|██████████| 32/32 [00:11<00:00,  2.71it/s]"
     ]
    },
    {
     "name": "stdout",
     "output_type": "stream",
     "text": [
      "                   all       1000      13067      0.959      0.971      0.989      0.861      0.933      0.858      0.903      0.532\n"
     ]
    },
    {
     "name": "stderr",
     "output_type": "stream",
     "text": [
      "\n"
     ]
    },
    {
     "name": "stdout",
     "output_type": "stream",
     "text": [
      "\n",
      "      Epoch    GPU_mem   box_loss   seg_loss   cls_loss   dfl_loss  Instances       Size\n"
     ]
    },
    {
     "name": "stderr",
     "output_type": "stream",
     "text": [
      "     76/100      6.64G     0.4873      1.124      0.325     0.8307        513        480: 100%|██████████| 250/250 [03:39<00:00,  1.14it/s]\n",
      "                 Class     Images  Instances      Box(P          R      mAP50  mAP50-95)     Mask(P          R      mAP50  mAP50-95): 100%|██████████| 32/32 [00:11<00:00,  2.70it/s]"
     ]
    },
    {
     "name": "stdout",
     "output_type": "stream",
     "text": [
      "                   all       1000      13067      0.962      0.968      0.989      0.852      0.938      0.858      0.901      0.528\n"
     ]
    },
    {
     "name": "stderr",
     "output_type": "stream",
     "text": [
      "\n"
     ]
    },
    {
     "name": "stdout",
     "output_type": "stream",
     "text": [
      "\n",
      "      Epoch    GPU_mem   box_loss   seg_loss   cls_loss   dfl_loss  Instances       Size\n"
     ]
    },
    {
     "name": "stderr",
     "output_type": "stream",
     "text": [
      "     77/100      6.73G     0.4906      1.113     0.3255     0.8312        522        480: 100%|██████████| 250/250 [03:38<00:00,  1.14it/s]\n",
      "                 Class     Images  Instances      Box(P          R      mAP50  mAP50-95)     Mask(P          R      mAP50  mAP50-95): 100%|██████████| 32/32 [00:11<00:00,  2.67it/s]"
     ]
    },
    {
     "name": "stdout",
     "output_type": "stream",
     "text": [
      "                   all       1000      13067      0.962      0.967      0.989      0.852      0.934      0.854      0.899      0.538\n"
     ]
    },
    {
     "name": "stderr",
     "output_type": "stream",
     "text": [
      "\n"
     ]
    },
    {
     "name": "stdout",
     "output_type": "stream",
     "text": [
      "\n",
      "      Epoch    GPU_mem   box_loss   seg_loss   cls_loss   dfl_loss  Instances       Size\n"
     ]
    },
    {
     "name": "stderr",
     "output_type": "stream",
     "text": [
      "     78/100       6.7G     0.4943      1.127     0.3262     0.8299        539        480: 100%|██████████| 250/250 [03:37<00:00,  1.15it/s]\n",
      "                 Class     Images  Instances      Box(P          R      mAP50  mAP50-95)     Mask(P          R      mAP50  mAP50-95): 100%|██████████| 32/32 [00:11<00:00,  2.68it/s]"
     ]
    },
    {
     "name": "stdout",
     "output_type": "stream",
     "text": [
      "                   all       1000      13067       0.96      0.975      0.989      0.848      0.934      0.852      0.895      0.536\n"
     ]
    },
    {
     "name": "stderr",
     "output_type": "stream",
     "text": [
      "\n"
     ]
    },
    {
     "name": "stdout",
     "output_type": "stream",
     "text": [
      "\n",
      "      Epoch    GPU_mem   box_loss   seg_loss   cls_loss   dfl_loss  Instances       Size\n"
     ]
    },
    {
     "name": "stderr",
     "output_type": "stream",
     "text": [
      "     79/100      6.71G     0.4966      1.127     0.3248     0.8322        560        480: 100%|██████████| 250/250 [03:35<00:00,  1.16it/s]\n",
      "                 Class     Images  Instances      Box(P          R      mAP50  mAP50-95)     Mask(P          R      mAP50  mAP50-95): 100%|██████████| 32/32 [00:11<00:00,  2.74it/s]"
     ]
    },
    {
     "name": "stdout",
     "output_type": "stream",
     "text": [
      "                   all       1000      13067      0.961      0.972      0.989      0.853      0.935      0.857      0.901      0.537\n"
     ]
    },
    {
     "name": "stderr",
     "output_type": "stream",
     "text": [
      "\n"
     ]
    },
    {
     "name": "stdout",
     "output_type": "stream",
     "text": [
      "\n",
      "      Epoch    GPU_mem   box_loss   seg_loss   cls_loss   dfl_loss  Instances       Size\n"
     ]
    },
    {
     "name": "stderr",
     "output_type": "stream",
     "text": [
      "     80/100      6.79G      0.491      1.138     0.3245     0.8289        639        480: 100%|██████████| 250/250 [03:40<00:00,  1.14it/s]\n",
      "                 Class     Images  Instances      Box(P          R      mAP50  mAP50-95)     Mask(P          R      mAP50  mAP50-95): 100%|██████████| 32/32 [00:11<00:00,  2.75it/s]"
     ]
    },
    {
     "name": "stdout",
     "output_type": "stream",
     "text": [
      "                   all       1000      13067      0.964      0.975       0.99      0.852      0.938      0.856      0.899      0.532\n"
     ]
    },
    {
     "name": "stderr",
     "output_type": "stream",
     "text": [
      "\n"
     ]
    },
    {
     "name": "stdout",
     "output_type": "stream",
     "text": [
      "\n",
      "      Epoch    GPU_mem   box_loss   seg_loss   cls_loss   dfl_loss  Instances       Size\n"
     ]
    },
    {
     "name": "stderr",
     "output_type": "stream",
     "text": [
      "     81/100      6.67G     0.4893      1.101     0.3225       0.83        559        480: 100%|██████████| 250/250 [03:37<00:00,  1.15it/s]\n",
      "                 Class     Images  Instances      Box(P          R      mAP50  mAP50-95)     Mask(P          R      mAP50  mAP50-95): 100%|██████████| 32/32 [00:12<00:00,  2.59it/s]"
     ]
    },
    {
     "name": "stdout",
     "output_type": "stream",
     "text": [
      "                   all       1000      13067       0.96      0.971      0.989       0.85      0.935      0.853      0.897      0.531\n"
     ]
    },
    {
     "name": "stderr",
     "output_type": "stream",
     "text": [
      "\n"
     ]
    },
    {
     "name": "stdout",
     "output_type": "stream",
     "text": [
      "\n",
      "      Epoch    GPU_mem   box_loss   seg_loss   cls_loss   dfl_loss  Instances       Size\n"
     ]
    },
    {
     "name": "stderr",
     "output_type": "stream",
     "text": [
      "     82/100      6.72G     0.4817      1.124     0.3171     0.8301        496        480: 100%|██████████| 250/250 [03:36<00:00,  1.15it/s]\n",
      "                 Class     Images  Instances      Box(P          R      mAP50  mAP50-95)     Mask(P          R      mAP50  mAP50-95): 100%|██████████| 32/32 [00:11<00:00,  2.73it/s]"
     ]
    },
    {
     "name": "stdout",
     "output_type": "stream",
     "text": [
      "                   all       1000      13067      0.964      0.973       0.99      0.855      0.942      0.857      0.901      0.535\n"
     ]
    },
    {
     "name": "stderr",
     "output_type": "stream",
     "text": [
      "\n"
     ]
    },
    {
     "name": "stdout",
     "output_type": "stream",
     "text": [
      "\n",
      "      Epoch    GPU_mem   box_loss   seg_loss   cls_loss   dfl_loss  Instances       Size\n"
     ]
    },
    {
     "name": "stderr",
     "output_type": "stream",
     "text": [
      "     83/100      6.78G     0.4833      1.112     0.3208       0.83        545        480: 100%|██████████| 250/250 [03:37<00:00,  1.15it/s]\n",
      "                 Class     Images  Instances      Box(P          R      mAP50  mAP50-95)     Mask(P          R      mAP50  mAP50-95): 100%|██████████| 32/32 [00:11<00:00,  2.67it/s]"
     ]
    },
    {
     "name": "stdout",
     "output_type": "stream",
     "text": [
      "                   all       1000      13067      0.961      0.968       0.99      0.852      0.936      0.852      0.897      0.534\n"
     ]
    },
    {
     "name": "stderr",
     "output_type": "stream",
     "text": [
      "\n"
     ]
    },
    {
     "name": "stdout",
     "output_type": "stream",
     "text": [
      "\n",
      "      Epoch    GPU_mem   box_loss   seg_loss   cls_loss   dfl_loss  Instances       Size\n"
     ]
    },
    {
     "name": "stderr",
     "output_type": "stream",
     "text": [
      "     84/100      6.71G     0.4885      1.113     0.3224     0.8287        436        480: 100%|██████████| 250/250 [03:33<00:00,  1.17it/s]\n",
      "                 Class     Images  Instances      Box(P          R      mAP50  mAP50-95)     Mask(P          R      mAP50  mAP50-95): 100%|██████████| 32/32 [00:12<00:00,  2.62it/s]"
     ]
    },
    {
     "name": "stdout",
     "output_type": "stream",
     "text": [
      "                   all       1000      13067      0.964      0.972      0.991      0.853       0.94      0.852        0.9      0.539\n"
     ]
    },
    {
     "name": "stderr",
     "output_type": "stream",
     "text": [
      "\n"
     ]
    },
    {
     "name": "stdout",
     "output_type": "stream",
     "text": [
      "\n",
      "      Epoch    GPU_mem   box_loss   seg_loss   cls_loss   dfl_loss  Instances       Size\n"
     ]
    },
    {
     "name": "stderr",
     "output_type": "stream",
     "text": [
      "     85/100      6.79G     0.4741      1.108     0.3142     0.8268        518        480: 100%|██████████| 250/250 [03:36<00:00,  1.15it/s]\n",
      "                 Class     Images  Instances      Box(P          R      mAP50  mAP50-95)     Mask(P          R      mAP50  mAP50-95): 100%|██████████| 32/32 [00:12<00:00,  2.65it/s]"
     ]
    },
    {
     "name": "stdout",
     "output_type": "stream",
     "text": [
      "                   all       1000      13067      0.963      0.971       0.99      0.857      0.938      0.855        0.9      0.536\n"
     ]
    },
    {
     "name": "stderr",
     "output_type": "stream",
     "text": [
      "\n"
     ]
    },
    {
     "name": "stdout",
     "output_type": "stream",
     "text": [
      "\n",
      "      Epoch    GPU_mem   box_loss   seg_loss   cls_loss   dfl_loss  Instances       Size\n"
     ]
    },
    {
     "name": "stderr",
     "output_type": "stream",
     "text": [
      "     86/100      6.69G     0.4735      1.082     0.3112     0.8287        578        480: 100%|██████████| 250/250 [03:36<00:00,  1.16it/s]\n",
      "                 Class     Images  Instances      Box(P          R      mAP50  mAP50-95)     Mask(P          R      mAP50  mAP50-95): 100%|██████████| 32/32 [00:11<00:00,  2.73it/s]"
     ]
    },
    {
     "name": "stdout",
     "output_type": "stream",
     "text": [
      "                   all       1000      13067      0.965      0.972       0.99       0.86      0.935      0.854      0.899      0.535\n"
     ]
    },
    {
     "name": "stderr",
     "output_type": "stream",
     "text": [
      "\n"
     ]
    },
    {
     "name": "stdout",
     "output_type": "stream",
     "text": [
      "\n",
      "      Epoch    GPU_mem   box_loss   seg_loss   cls_loss   dfl_loss  Instances       Size\n"
     ]
    },
    {
     "name": "stderr",
     "output_type": "stream",
     "text": [
      "     87/100      6.93G     0.4722       1.09     0.3094     0.8282        534        480: 100%|██████████| 250/250 [03:38<00:00,  1.14it/s]\n",
      "                 Class     Images  Instances      Box(P          R      mAP50  mAP50-95)     Mask(P          R      mAP50  mAP50-95): 100%|██████████| 32/32 [00:12<00:00,  2.50it/s]"
     ]
    },
    {
     "name": "stdout",
     "output_type": "stream",
     "text": [
      "                   all       1000      13067      0.963       0.97       0.99      0.857      0.936      0.855      0.899      0.535\n"
     ]
    },
    {
     "name": "stderr",
     "output_type": "stream",
     "text": [
      "\n"
     ]
    },
    {
     "name": "stdout",
     "output_type": "stream",
     "text": [
      "\n",
      "      Epoch    GPU_mem   box_loss   seg_loss   cls_loss   dfl_loss  Instances       Size\n"
     ]
    },
    {
     "name": "stderr",
     "output_type": "stream",
     "text": [
      "     88/100      6.65G     0.4738       1.11     0.3126      0.827        377        480: 100%|██████████| 250/250 [03:36<00:00,  1.15it/s]\n",
      "                 Class     Images  Instances      Box(P          R      mAP50  mAP50-95)     Mask(P          R      mAP50  mAP50-95): 100%|██████████| 32/32 [00:12<00:00,  2.67it/s]"
     ]
    },
    {
     "name": "stdout",
     "output_type": "stream",
     "text": [
      "                   all       1000      13067      0.967      0.975      0.991      0.864      0.941      0.856      0.902      0.541\n"
     ]
    },
    {
     "name": "stderr",
     "output_type": "stream",
     "text": [
      "\n"
     ]
    },
    {
     "name": "stdout",
     "output_type": "stream",
     "text": [
      "\n",
      "      Epoch    GPU_mem   box_loss   seg_loss   cls_loss   dfl_loss  Instances       Size\n"
     ]
    },
    {
     "name": "stderr",
     "output_type": "stream",
     "text": [
      "     89/100      6.71G     0.4672      1.116     0.3088     0.8227        563        480: 100%|██████████| 250/250 [03:39<00:00,  1.14it/s]\n",
      "                 Class     Images  Instances      Box(P          R      mAP50  mAP50-95)     Mask(P          R      mAP50  mAP50-95): 100%|██████████| 32/32 [00:11<00:00,  2.70it/s]"
     ]
    },
    {
     "name": "stdout",
     "output_type": "stream",
     "text": [
      "                   all       1000      13067      0.965      0.978      0.991       0.86      0.938      0.859        0.9      0.537\n"
     ]
    },
    {
     "name": "stderr",
     "output_type": "stream",
     "text": [
      "\n"
     ]
    },
    {
     "name": "stdout",
     "output_type": "stream",
     "text": [
      "\n",
      "      Epoch    GPU_mem   box_loss   seg_loss   cls_loss   dfl_loss  Instances       Size\n"
     ]
    },
    {
     "name": "stderr",
     "output_type": "stream",
     "text": [
      "     90/100      6.73G      0.466      1.095     0.3073     0.8241        562        480: 100%|██████████| 250/250 [03:38<00:00,  1.15it/s]\n",
      "                 Class     Images  Instances      Box(P          R      mAP50  mAP50-95)     Mask(P          R      mAP50  mAP50-95): 100%|██████████| 32/32 [00:12<00:00,  2.59it/s]"
     ]
    },
    {
     "name": "stdout",
     "output_type": "stream",
     "text": [
      "                   all       1000      13067      0.968      0.974      0.991      0.856      0.942      0.858      0.901      0.538\n"
     ]
    },
    {
     "name": "stderr",
     "output_type": "stream",
     "text": [
      "\n"
     ]
    },
    {
     "name": "stdout",
     "output_type": "stream",
     "text": [
      "Closing dataloader mosaic\n",
      "\u001b[34m\u001b[1malbumentations: \u001b[0mBlur(p=0.01, blur_limit=(3, 7)), MedianBlur(p=0.01, blur_limit=(3, 7)), ToGray(p=0.01, num_output_channels=3, method='weighted_average'), CLAHE(p=0.01, clip_limit=(1, 4.0), tile_grid_size=(8, 8))\n"
     ]
    },
    {
     "name": "stderr",
     "output_type": "stream",
     "text": [
      "/opt/conda/lib/python3.10/multiprocessing/popen_fork.py:66: RuntimeWarning: os.fork() was called. os.fork() is incompatible with multithreaded code, and JAX is multithreaded, so this will likely lead to a deadlock.\n",
      "  self.pid = os.fork()\n",
      "/opt/conda/lib/python3.10/multiprocessing/popen_fork.py:66: RuntimeWarning: os.fork() was called. os.fork() is incompatible with multithreaded code, and JAX is multithreaded, so this will likely lead to a deadlock.\n",
      "  self.pid = os.fork()\n"
     ]
    },
    {
     "name": "stdout",
     "output_type": "stream",
     "text": [
      "\n",
      "      Epoch    GPU_mem   box_loss   seg_loss   cls_loss   dfl_loss  Instances       Size\n"
     ]
    },
    {
     "name": "stderr",
     "output_type": "stream",
     "text": [
      "     91/100      6.17G     0.5931      1.028     0.3671     0.7946        210        480: 100%|██████████| 250/250 [02:01<00:00,  2.06it/s]\n",
      "                 Class     Images  Instances      Box(P          R      mAP50  mAP50-95)     Mask(P          R      mAP50  mAP50-95): 100%|██████████| 32/32 [00:11<00:00,  2.73it/s]"
     ]
    },
    {
     "name": "stdout",
     "output_type": "stream",
     "text": [
      "                   all       1000      13067      0.962      0.974       0.99      0.875      0.931       0.85      0.896      0.532\n"
     ]
    },
    {
     "name": "stderr",
     "output_type": "stream",
     "text": [
      "\n"
     ]
    },
    {
     "name": "stdout",
     "output_type": "stream",
     "text": [
      "\n",
      "      Epoch    GPU_mem   box_loss   seg_loss   cls_loss   dfl_loss  Instances       Size\n"
     ]
    },
    {
     "name": "stderr",
     "output_type": "stream",
     "text": [
      "     92/100       6.3G     0.5846     0.9747     0.3572     0.7912        180        480: 100%|██████████| 250/250 [02:00<00:00,  2.07it/s]\n",
      "                 Class     Images  Instances      Box(P          R      mAP50  mAP50-95)     Mask(P          R      mAP50  mAP50-95): 100%|██████████| 32/32 [00:11<00:00,  2.71it/s]"
     ]
    },
    {
     "name": "stdout",
     "output_type": "stream",
     "text": [
      "                   all       1000      13067      0.961      0.978      0.991      0.879       0.93       0.85        0.9      0.543\n"
     ]
    },
    {
     "name": "stderr",
     "output_type": "stream",
     "text": [
      "\n"
     ]
    },
    {
     "name": "stdout",
     "output_type": "stream",
     "text": [
      "\n",
      "      Epoch    GPU_mem   box_loss   seg_loss   cls_loss   dfl_loss  Instances       Size\n"
     ]
    },
    {
     "name": "stderr",
     "output_type": "stream",
     "text": [
      "     93/100      6.21G     0.5759     0.9777     0.3506     0.7884        237        480: 100%|██████████| 250/250 [02:00<00:00,  2.08it/s]\n",
      "                 Class     Images  Instances      Box(P          R      mAP50  mAP50-95)     Mask(P          R      mAP50  mAP50-95): 100%|██████████| 32/32 [00:11<00:00,  2.72it/s]"
     ]
    },
    {
     "name": "stdout",
     "output_type": "stream",
     "text": [
      "                   all       1000      13067      0.962      0.974      0.991       0.88      0.931      0.846      0.898      0.539\n"
     ]
    },
    {
     "name": "stderr",
     "output_type": "stream",
     "text": [
      "\n"
     ]
    },
    {
     "name": "stdout",
     "output_type": "stream",
     "text": [
      "\n",
      "      Epoch    GPU_mem   box_loss   seg_loss   cls_loss   dfl_loss  Instances       Size\n"
     ]
    },
    {
     "name": "stderr",
     "output_type": "stream",
     "text": [
      "     94/100      6.21G      0.569     0.9895     0.3451     0.7823        254        480: 100%|██████████| 250/250 [02:00<00:00,  2.07it/s]\n",
      "                 Class     Images  Instances      Box(P          R      mAP50  mAP50-95)     Mask(P          R      mAP50  mAP50-95): 100%|██████████| 32/32 [00:11<00:00,  2.73it/s]"
     ]
    },
    {
     "name": "stdout",
     "output_type": "stream",
     "text": [
      "                   all       1000      13067       0.96      0.974       0.99      0.884       0.93      0.849      0.901      0.544\n"
     ]
    },
    {
     "name": "stderr",
     "output_type": "stream",
     "text": [
      "\n"
     ]
    },
    {
     "name": "stdout",
     "output_type": "stream",
     "text": [
      "\n",
      "      Epoch    GPU_mem   box_loss   seg_loss   cls_loss   dfl_loss  Instances       Size\n"
     ]
    },
    {
     "name": "stderr",
     "output_type": "stream",
     "text": [
      "     95/100      6.22G     0.5664     0.9769     0.3442     0.7842        172        480: 100%|██████████| 250/250 [02:00<00:00,  2.08it/s]\n",
      "                 Class     Images  Instances      Box(P          R      mAP50  mAP50-95)     Mask(P          R      mAP50  mAP50-95): 100%|██████████| 32/32 [00:11<00:00,  2.67it/s]"
     ]
    },
    {
     "name": "stdout",
     "output_type": "stream",
     "text": [
      "                   all       1000      13067      0.961      0.978       0.99      0.885      0.929       0.85        0.9      0.541\n"
     ]
    },
    {
     "name": "stderr",
     "output_type": "stream",
     "text": [
      "\n"
     ]
    },
    {
     "name": "stdout",
     "output_type": "stream",
     "text": [
      "\n",
      "      Epoch    GPU_mem   box_loss   seg_loss   cls_loss   dfl_loss  Instances       Size\n"
     ]
    },
    {
     "name": "stderr",
     "output_type": "stream",
     "text": [
      "     96/100       6.2G     0.5637     0.9617     0.3407     0.7849        196        480: 100%|██████████| 250/250 [02:00<00:00,  2.08it/s]\n",
      "                 Class     Images  Instances      Box(P          R      mAP50  mAP50-95)     Mask(P          R      mAP50  mAP50-95): 100%|██████████| 32/32 [00:11<00:00,  2.77it/s]"
     ]
    },
    {
     "name": "stdout",
     "output_type": "stream",
     "text": [
      "                   all       1000      13067      0.959      0.975       0.99      0.884      0.929      0.849      0.902      0.546\n"
     ]
    },
    {
     "name": "stderr",
     "output_type": "stream",
     "text": [
      "\n"
     ]
    },
    {
     "name": "stdout",
     "output_type": "stream",
     "text": [
      "\n",
      "      Epoch    GPU_mem   box_loss   seg_loss   cls_loss   dfl_loss  Instances       Size\n"
     ]
    },
    {
     "name": "stderr",
     "output_type": "stream",
     "text": [
      "     97/100      6.18G     0.5547     0.9585     0.3373     0.7839        235        480: 100%|██████████| 250/250 [01:59<00:00,  2.09it/s]\n",
      "                 Class     Images  Instances      Box(P          R      mAP50  mAP50-95)     Mask(P          R      mAP50  mAP50-95): 100%|██████████| 32/32 [00:11<00:00,  2.79it/s]"
     ]
    },
    {
     "name": "stdout",
     "output_type": "stream",
     "text": [
      "                   all       1000      13067      0.962      0.973      0.991      0.887      0.931      0.846        0.9      0.544\n"
     ]
    },
    {
     "name": "stderr",
     "output_type": "stream",
     "text": [
      "\n"
     ]
    },
    {
     "name": "stdout",
     "output_type": "stream",
     "text": [
      "\n",
      "      Epoch    GPU_mem   box_loss   seg_loss   cls_loss   dfl_loss  Instances       Size\n"
     ]
    },
    {
     "name": "stderr",
     "output_type": "stream",
     "text": [
      "     98/100      6.19G     0.5625     0.9642     0.3374     0.7866        238        480: 100%|██████████| 250/250 [01:59<00:00,  2.08it/s]\n",
      "                 Class     Images  Instances      Box(P          R      mAP50  mAP50-95)     Mask(P          R      mAP50  mAP50-95): 100%|██████████| 32/32 [00:11<00:00,  2.80it/s]"
     ]
    },
    {
     "name": "stdout",
     "output_type": "stream",
     "text": [
      "                   all       1000      13067      0.962      0.973       0.99      0.886      0.929      0.847      0.902      0.546\n"
     ]
    },
    {
     "name": "stderr",
     "output_type": "stream",
     "text": [
      "\n"
     ]
    },
    {
     "name": "stdout",
     "output_type": "stream",
     "text": [
      "\n",
      "      Epoch    GPU_mem   box_loss   seg_loss   cls_loss   dfl_loss  Instances       Size\n"
     ]
    },
    {
     "name": "stderr",
     "output_type": "stream",
     "text": [
      "     99/100      6.34G     0.5527     0.9544     0.3345     0.7812        201        480: 100%|██████████| 250/250 [02:00<00:00,  2.08it/s]\n",
      "                 Class     Images  Instances      Box(P          R      mAP50  mAP50-95)     Mask(P          R      mAP50  mAP50-95): 100%|██████████| 32/32 [00:11<00:00,  2.77it/s]"
     ]
    },
    {
     "name": "stdout",
     "output_type": "stream",
     "text": [
      "                   all       1000      13067      0.963      0.975       0.99      0.889      0.931      0.851      0.906      0.549\n"
     ]
    },
    {
     "name": "stderr",
     "output_type": "stream",
     "text": [
      "\n"
     ]
    },
    {
     "name": "stdout",
     "output_type": "stream",
     "text": [
      "\n",
      "      Epoch    GPU_mem   box_loss   seg_loss   cls_loss   dfl_loss  Instances       Size\n"
     ]
    },
    {
     "name": "stderr",
     "output_type": "stream",
     "text": [
      "    100/100      6.34G     0.5505     0.9521     0.3334     0.7851        211        480: 100%|██████████| 250/250 [01:59<00:00,  2.08it/s]\n",
      "                 Class     Images  Instances      Box(P          R      mAP50  mAP50-95)     Mask(P          R      mAP50  mAP50-95): 100%|██████████| 32/32 [00:11<00:00,  2.79it/s]"
     ]
    },
    {
     "name": "stdout",
     "output_type": "stream",
     "text": [
      "                   all       1000      13067      0.962      0.975      0.991      0.887       0.93      0.851      0.904       0.55\n"
     ]
    },
    {
     "name": "stderr",
     "output_type": "stream",
     "text": [
      "\n"
     ]
    },
    {
     "name": "stdout",
     "output_type": "stream",
     "text": [
      "\n",
      "100 epochs completed in 6.208 hours.\n",
      "Optimizer stripped from runs/segment/train/weights/last.pt, 45.1MB\n",
      "Optimizer stripped from runs/segment/train/weights/best.pt, 45.1MB\n",
      "\n",
      "Validating runs/segment/train/weights/best.pt...\n",
      "Ultralytics 8.3.15 🚀 Python-3.10.14 torch-2.4.0 CUDA:0 (Tesla T4, 15095MiB)\n",
      "YOLO11m-seg summary (fused): 330 layers, 22,336,083 parameters, 0 gradients, 123.0 GFLOPs\n"
     ]
    },
    {
     "name": "stderr",
     "output_type": "stream",
     "text": [
      "                 Class     Images  Instances      Box(P          R      mAP50  mAP50-95)     Mask(P          R      mAP50  mAP50-95): 100%|██████████| 32/32 [00:13<00:00,  2.45it/s]\n"
     ]
    },
    {
     "name": "stdout",
     "output_type": "stream",
     "text": [
      "                   all       1000      13067      0.963      0.975       0.99      0.889      0.931      0.851      0.905      0.548\n",
      "Speed: 0.1ms preprocess, 4.2ms inference, 0.0ms loss, 1.0ms postprocess per image\n",
      "Results saved to \u001b[1mruns/segment/train\u001b[0m\n"
     ]
    },
    {
     "name": "stderr",
     "output_type": "stream",
     "text": [
      "\u001b[34m\u001b[1mwandb\u001b[0m:                                                                                \n",
      "\u001b[34m\u001b[1mwandb\u001b[0m: \n",
      "\u001b[34m\u001b[1mwandb\u001b[0m: Run history:\n",
      "\u001b[34m\u001b[1mwandb\u001b[0m:                  lr/pg0 ▃████▇▇▇▇▇▇▇▆▆▆▆▅▅▅▅▅▅▄▄▄▄▄▄▄▄▃▃▃▂▂▂▂▂▁▁\n",
      "\u001b[34m\u001b[1mwandb\u001b[0m:                  lr/pg1 ▆██▇▇▇▇▇▇▆▆▆▆▆▆▅▅▅▅▅▄▄▄▄▄▃▃▃▃▃▃▂▂▂▂▂▂▁▁▁\n",
      "\u001b[34m\u001b[1mwandb\u001b[0m:                  lr/pg2 █████▇▇▇▇▇▇▆▆▆▆▆▆▆▅▅▅▅▅▅▄▄▄▄▄▄▃▃▃▃▃▃▃▂▂▁\n",
      "\u001b[34m\u001b[1mwandb\u001b[0m:        metrics/mAP50(B) ▅▁▆▅▇▇▃████████▇████████████████████████\n",
      "\u001b[34m\u001b[1mwandb\u001b[0m:        metrics/mAP50(M) ▁▃▃▆▆█▇▇▇▇▇█▇█▆▇▇▃███▇▇█████████████████\n",
      "\u001b[34m\u001b[1mwandb\u001b[0m:     metrics/mAP50-95(B) ▁▃▆▆▇▆▆▇▆▇▇▇▇▇▇▇▇▇▇▇▇███▇███████████████\n",
      "\u001b[34m\u001b[1mwandb\u001b[0m:     metrics/mAP50-95(M) ▁▃▆▅▅▆▇▂▆▆▇▇▇▆▇▅▇▇▇██▇█▇▇▇█▇████████████\n",
      "\u001b[34m\u001b[1mwandb\u001b[0m:    metrics/precision(B) ▄▄▁▅▆▅▆▅▇▆▇▇▇▇▇▇▄▇▇▇▇██▇████████████████\n",
      "\u001b[34m\u001b[1mwandb\u001b[0m:    metrics/precision(M) ▁▃▅▂▅▅▅▆▅▂▆▆▆▆▇▆▇▇▇▇▇█▇▇▇█▇▇████████████\n",
      "\u001b[34m\u001b[1mwandb\u001b[0m:       metrics/recall(B) ▁▄▅▆▇▇▇▇▇▇█▇▇▇█████▇████████████████████\n",
      "\u001b[34m\u001b[1mwandb\u001b[0m:       metrics/recall(M) ▂▄▅▇▇█▁█▇██▇██▇███▇██▂██████████████████\n",
      "\u001b[34m\u001b[1mwandb\u001b[0m:            model/GFLOPs ▁\n",
      "\u001b[34m\u001b[1mwandb\u001b[0m:        model/parameters ▁\n",
      "\u001b[34m\u001b[1mwandb\u001b[0m: model/speed_PyTorch(ms) ▁\n",
      "\u001b[34m\u001b[1mwandb\u001b[0m:          train/box_loss █▅▄▃▂▂▂▂▂▂▂▂▂▂▂▂▂▁▂▁▁▁▁▁▁▁▁▁▁▁▁▁▁▁▁▁▁▂▂▁\n",
      "\u001b[34m\u001b[1mwandb\u001b[0m:          train/cls_loss █▄▄▃▃▃▃▃▂▂▂▂▂▂▂▂▂▂▂▂▂▂▂▁▁▁▁▁▁▁▁▁▁▁▁▁▁▁▁▁\n",
      "\u001b[34m\u001b[1mwandb\u001b[0m:          train/dfl_loss █▇▆▅▅▄▄▄▄▃▃▃▃▃▃▃▃▃▃▃▃▃▃▃▃▃▂▂▂▂▂▂▂▂▂▂▂▂▁▁\n",
      "\u001b[34m\u001b[1mwandb\u001b[0m:          train/seg_loss █▅▅▄▄▄▄▄▃▄▄▄▃▃▃▃▃▃▃▃▃▃▃▃▃▂▃▂▂▂▂▂▂▂▂▂▂▁▁▁\n",
      "\u001b[34m\u001b[1mwandb\u001b[0m:            val/box_loss █▅▅▃▄▄▃▃▃▃▃▂▂▂▂▂▂▃▅▁▂▂▂▂▂▂▂▂▂▂▁▁▁▁▁▁▁▁▁▁\n",
      "\u001b[34m\u001b[1mwandb\u001b[0m:            val/cls_loss ▅█▃▃▂▂▂▂▂▂▂▂▂▁▂▁▂▁▄▁▁▁▁▁▁▁▁▁▁▁▁▁▁▁▁▁▁▁▁▁\n",
      "\u001b[34m\u001b[1mwandb\u001b[0m:            val/dfl_loss █▃▆▂▃▂▂▃▂▂▂▁▂▁▁▁▁▁▁▁▁▁▁▁▁▁▁▁▁▁▁▁▁▁▁▁▁▁▁▁\n",
      "\u001b[34m\u001b[1mwandb\u001b[0m:            val/seg_loss █▄▄▅▄▅▄▅▄▅▄▄▄▄▅▃▃▄▅▄▄▃▃▃▃▃▃▃▂▂▂▂▃▃▂▂▂▂▁▁\n",
      "\u001b[34m\u001b[1mwandb\u001b[0m: \n",
      "\u001b[34m\u001b[1mwandb\u001b[0m: Run summary:\n",
      "\u001b[34m\u001b[1mwandb\u001b[0m:                  lr/pg0 4e-05\n",
      "\u001b[34m\u001b[1mwandb\u001b[0m:                  lr/pg1 4e-05\n",
      "\u001b[34m\u001b[1mwandb\u001b[0m:                  lr/pg2 4e-05\n",
      "\u001b[34m\u001b[1mwandb\u001b[0m:        metrics/mAP50(B) 0.99049\n",
      "\u001b[34m\u001b[1mwandb\u001b[0m:        metrics/mAP50(M) 0.90543\n",
      "\u001b[34m\u001b[1mwandb\u001b[0m:     metrics/mAP50-95(B) 0.88891\n",
      "\u001b[34m\u001b[1mwandb\u001b[0m:     metrics/mAP50-95(M) 0.54827\n",
      "\u001b[34m\u001b[1mwandb\u001b[0m:    metrics/precision(B) 0.96267\n",
      "\u001b[34m\u001b[1mwandb\u001b[0m:    metrics/precision(M) 0.9311\n",
      "\u001b[34m\u001b[1mwandb\u001b[0m:       metrics/recall(B) 0.975\n",
      "\u001b[34m\u001b[1mwandb\u001b[0m:       metrics/recall(M) 0.85115\n",
      "\u001b[34m\u001b[1mwandb\u001b[0m:            model/GFLOPs 123.58\n",
      "\u001b[34m\u001b[1mwandb\u001b[0m:        model/parameters 22359987\n",
      "\u001b[34m\u001b[1mwandb\u001b[0m: model/speed_PyTorch(ms) 5.119\n",
      "\u001b[34m\u001b[1mwandb\u001b[0m:          train/box_loss 0.55053\n",
      "\u001b[34m\u001b[1mwandb\u001b[0m:          train/cls_loss 0.33338\n",
      "\u001b[34m\u001b[1mwandb\u001b[0m:          train/dfl_loss 0.78514\n",
      "\u001b[34m\u001b[1mwandb\u001b[0m:          train/seg_loss 0.95214\n",
      "\u001b[34m\u001b[1mwandb\u001b[0m:            val/box_loss 0.6201\n",
      "\u001b[34m\u001b[1mwandb\u001b[0m:            val/cls_loss 0.34172\n",
      "\u001b[34m\u001b[1mwandb\u001b[0m:            val/dfl_loss 0.70995\n",
      "\u001b[34m\u001b[1mwandb\u001b[0m:            val/seg_loss 0.78695\n",
      "\u001b[34m\u001b[1mwandb\u001b[0m: \n",
      "\u001b[34m\u001b[1mwandb\u001b[0m: You can sync this run to the cloud by running:\n",
      "\u001b[34m\u001b[1mwandb\u001b[0m: \u001b[1mwandb sync /kaggle/working/wandb/offline-run-20241017_070317-0at0jynz\u001b[0m\n",
      "\u001b[34m\u001b[1mwandb\u001b[0m: Find logs at: \u001b[35m\u001b[1m./wandb/offline-run-20241017_070317-0at0jynz/logs\u001b[0m\n"
     ]
    },
    {
     "data": {
      "text/plain": [
       "ultralytics.utils.metrics.SegmentMetrics object with attributes:\n",
       "\n",
       "ap_class_index: array([0])\n",
       "box: ultralytics.utils.metrics.Metric object\n",
       "confusion_matrix: <ultralytics.utils.metrics.ConfusionMatrix object at 0x7da6cc29c2e0>\n",
       "curves: ['Precision-Recall(B)', 'F1-Confidence(B)', 'Precision-Confidence(B)', 'Recall-Confidence(B)', 'Precision-Recall(M)', 'F1-Confidence(M)', 'Precision-Confidence(M)', 'Recall-Confidence(M)']\n",
       "curves_results: [[array([          0,    0.001001,    0.002002,    0.003003,    0.004004,    0.005005,    0.006006,    0.007007,    0.008008,    0.009009,     0.01001,    0.011011,    0.012012,    0.013013,    0.014014,    0.015015,    0.016016,    0.017017,    0.018018,    0.019019,     0.02002,    0.021021,    0.022022,    0.023023,\n",
       "          0.024024,    0.025025,    0.026026,    0.027027,    0.028028,    0.029029,     0.03003,    0.031031,    0.032032,    0.033033,    0.034034,    0.035035,    0.036036,    0.037037,    0.038038,    0.039039,     0.04004,    0.041041,    0.042042,    0.043043,    0.044044,    0.045045,    0.046046,    0.047047,\n",
       "          0.048048,    0.049049,     0.05005,    0.051051,    0.052052,    0.053053,    0.054054,    0.055055,    0.056056,    0.057057,    0.058058,    0.059059,     0.06006,    0.061061,    0.062062,    0.063063,    0.064064,    0.065065,    0.066066,    0.067067,    0.068068,    0.069069,     0.07007,    0.071071,\n",
       "          0.072072,    0.073073,    0.074074,    0.075075,    0.076076,    0.077077,    0.078078,    0.079079,     0.08008,    0.081081,    0.082082,    0.083083,    0.084084,    0.085085,    0.086086,    0.087087,    0.088088,    0.089089,     0.09009,    0.091091,    0.092092,    0.093093,    0.094094,    0.095095,\n",
       "          0.096096,    0.097097,    0.098098,    0.099099,      0.1001,      0.1011,      0.1021,      0.1031,      0.1041,     0.10511,     0.10611,     0.10711,     0.10811,     0.10911,     0.11011,     0.11111,     0.11211,     0.11311,     0.11411,     0.11512,     0.11612,     0.11712,     0.11812,     0.11912,\n",
       "           0.12012,     0.12112,     0.12212,     0.12312,     0.12412,     0.12513,     0.12613,     0.12713,     0.12813,     0.12913,     0.13013,     0.13113,     0.13213,     0.13313,     0.13413,     0.13514,     0.13614,     0.13714,     0.13814,     0.13914,     0.14014,     0.14114,     0.14214,     0.14314,\n",
       "           0.14414,     0.14515,     0.14615,     0.14715,     0.14815,     0.14915,     0.15015,     0.15115,     0.15215,     0.15315,     0.15415,     0.15516,     0.15616,     0.15716,     0.15816,     0.15916,     0.16016,     0.16116,     0.16216,     0.16316,     0.16416,     0.16517,     0.16617,     0.16717,\n",
       "           0.16817,     0.16917,     0.17017,     0.17117,     0.17217,     0.17317,     0.17417,     0.17518,     0.17618,     0.17718,     0.17818,     0.17918,     0.18018,     0.18118,     0.18218,     0.18318,     0.18418,     0.18519,     0.18619,     0.18719,     0.18819,     0.18919,     0.19019,     0.19119,\n",
       "           0.19219,     0.19319,     0.19419,      0.1952,      0.1962,      0.1972,      0.1982,      0.1992,      0.2002,      0.2012,      0.2022,      0.2032,      0.2042,     0.20521,     0.20621,     0.20721,     0.20821,     0.20921,     0.21021,     0.21121,     0.21221,     0.21321,     0.21421,     0.21522,\n",
       "           0.21622,     0.21722,     0.21822,     0.21922,     0.22022,     0.22122,     0.22222,     0.22322,     0.22422,     0.22523,     0.22623,     0.22723,     0.22823,     0.22923,     0.23023,     0.23123,     0.23223,     0.23323,     0.23423,     0.23524,     0.23624,     0.23724,     0.23824,     0.23924,\n",
       "           0.24024,     0.24124,     0.24224,     0.24324,     0.24424,     0.24525,     0.24625,     0.24725,     0.24825,     0.24925,     0.25025,     0.25125,     0.25225,     0.25325,     0.25425,     0.25526,     0.25626,     0.25726,     0.25826,     0.25926,     0.26026,     0.26126,     0.26226,     0.26326,\n",
       "           0.26426,     0.26527,     0.26627,     0.26727,     0.26827,     0.26927,     0.27027,     0.27127,     0.27227,     0.27327,     0.27427,     0.27528,     0.27628,     0.27728,     0.27828,     0.27928,     0.28028,     0.28128,     0.28228,     0.28328,     0.28428,     0.28529,     0.28629,     0.28729,\n",
       "           0.28829,     0.28929,     0.29029,     0.29129,     0.29229,     0.29329,     0.29429,      0.2953,      0.2963,      0.2973,      0.2983,      0.2993,      0.3003,      0.3013,      0.3023,      0.3033,      0.3043,     0.30531,     0.30631,     0.30731,     0.30831,     0.30931,     0.31031,     0.31131,\n",
       "           0.31231,     0.31331,     0.31431,     0.31532,     0.31632,     0.31732,     0.31832,     0.31932,     0.32032,     0.32132,     0.32232,     0.32332,     0.32432,     0.32533,     0.32633,     0.32733,     0.32833,     0.32933,     0.33033,     0.33133,     0.33233,     0.33333,     0.33433,     0.33534,\n",
       "           0.33634,     0.33734,     0.33834,     0.33934,     0.34034,     0.34134,     0.34234,     0.34334,     0.34434,     0.34535,     0.34635,     0.34735,     0.34835,     0.34935,     0.35035,     0.35135,     0.35235,     0.35335,     0.35435,     0.35536,     0.35636,     0.35736,     0.35836,     0.35936,\n",
       "           0.36036,     0.36136,     0.36236,     0.36336,     0.36436,     0.36537,     0.36637,     0.36737,     0.36837,     0.36937,     0.37037,     0.37137,     0.37237,     0.37337,     0.37437,     0.37538,     0.37638,     0.37738,     0.37838,     0.37938,     0.38038,     0.38138,     0.38238,     0.38338,\n",
       "           0.38438,     0.38539,     0.38639,     0.38739,     0.38839,     0.38939,     0.39039,     0.39139,     0.39239,     0.39339,     0.39439,      0.3954,      0.3964,      0.3974,      0.3984,      0.3994,      0.4004,      0.4014,      0.4024,      0.4034,      0.4044,     0.40541,     0.40641,     0.40741,\n",
       "           0.40841,     0.40941,     0.41041,     0.41141,     0.41241,     0.41341,     0.41441,     0.41542,     0.41642,     0.41742,     0.41842,     0.41942,     0.42042,     0.42142,     0.42242,     0.42342,     0.42442,     0.42543,     0.42643,     0.42743,     0.42843,     0.42943,     0.43043,     0.43143,\n",
       "           0.43243,     0.43343,     0.43443,     0.43544,     0.43644,     0.43744,     0.43844,     0.43944,     0.44044,     0.44144,     0.44244,     0.44344,     0.44444,     0.44545,     0.44645,     0.44745,     0.44845,     0.44945,     0.45045,     0.45145,     0.45245,     0.45345,     0.45445,     0.45546,\n",
       "           0.45646,     0.45746,     0.45846,     0.45946,     0.46046,     0.46146,     0.46246,     0.46346,     0.46446,     0.46547,     0.46647,     0.46747,     0.46847,     0.46947,     0.47047,     0.47147,     0.47247,     0.47347,     0.47447,     0.47548,     0.47648,     0.47748,     0.47848,     0.47948,\n",
       "           0.48048,     0.48148,     0.48248,     0.48348,     0.48448,     0.48549,     0.48649,     0.48749,     0.48849,     0.48949,     0.49049,     0.49149,     0.49249,     0.49349,     0.49449,      0.4955,      0.4965,      0.4975,      0.4985,      0.4995,      0.5005,      0.5015,      0.5025,      0.5035,\n",
       "            0.5045,     0.50551,     0.50651,     0.50751,     0.50851,     0.50951,     0.51051,     0.51151,     0.51251,     0.51351,     0.51451,     0.51552,     0.51652,     0.51752,     0.51852,     0.51952,     0.52052,     0.52152,     0.52252,     0.52352,     0.52452,     0.52553,     0.52653,     0.52753,\n",
       "           0.52853,     0.52953,     0.53053,     0.53153,     0.53253,     0.53353,     0.53453,     0.53554,     0.53654,     0.53754,     0.53854,     0.53954,     0.54054,     0.54154,     0.54254,     0.54354,     0.54454,     0.54555,     0.54655,     0.54755,     0.54855,     0.54955,     0.55055,     0.55155,\n",
       "           0.55255,     0.55355,     0.55455,     0.55556,     0.55656,     0.55756,     0.55856,     0.55956,     0.56056,     0.56156,     0.56256,     0.56356,     0.56456,     0.56557,     0.56657,     0.56757,     0.56857,     0.56957,     0.57057,     0.57157,     0.57257,     0.57357,     0.57457,     0.57558,\n",
       "           0.57658,     0.57758,     0.57858,     0.57958,     0.58058,     0.58158,     0.58258,     0.58358,     0.58458,     0.58559,     0.58659,     0.58759,     0.58859,     0.58959,     0.59059,     0.59159,     0.59259,     0.59359,     0.59459,      0.5956,      0.5966,      0.5976,      0.5986,      0.5996,\n",
       "            0.6006,      0.6016,      0.6026,      0.6036,      0.6046,     0.60561,     0.60661,     0.60761,     0.60861,     0.60961,     0.61061,     0.61161,     0.61261,     0.61361,     0.61461,     0.61562,     0.61662,     0.61762,     0.61862,     0.61962,     0.62062,     0.62162,     0.62262,     0.62362,\n",
       "           0.62462,     0.62563,     0.62663,     0.62763,     0.62863,     0.62963,     0.63063,     0.63163,     0.63263,     0.63363,     0.63463,     0.63564,     0.63664,     0.63764,     0.63864,     0.63964,     0.64064,     0.64164,     0.64264,     0.64364,     0.64464,     0.64565,     0.64665,     0.64765,\n",
       "           0.64865,     0.64965,     0.65065,     0.65165,     0.65265,     0.65365,     0.65465,     0.65566,     0.65666,     0.65766,     0.65866,     0.65966,     0.66066,     0.66166,     0.66266,     0.66366,     0.66466,     0.66567,     0.66667,     0.66767,     0.66867,     0.66967,     0.67067,     0.67167,\n",
       "           0.67267,     0.67367,     0.67467,     0.67568,     0.67668,     0.67768,     0.67868,     0.67968,     0.68068,     0.68168,     0.68268,     0.68368,     0.68468,     0.68569,     0.68669,     0.68769,     0.68869,     0.68969,     0.69069,     0.69169,     0.69269,     0.69369,     0.69469,      0.6957,\n",
       "            0.6967,      0.6977,      0.6987,      0.6997,      0.7007,      0.7017,      0.7027,      0.7037,      0.7047,     0.70571,     0.70671,     0.70771,     0.70871,     0.70971,     0.71071,     0.71171,     0.71271,     0.71371,     0.71471,     0.71572,     0.71672,     0.71772,     0.71872,     0.71972,\n",
       "           0.72072,     0.72172,     0.72272,     0.72372,     0.72472,     0.72573,     0.72673,     0.72773,     0.72873,     0.72973,     0.73073,     0.73173,     0.73273,     0.73373,     0.73473,     0.73574,     0.73674,     0.73774,     0.73874,     0.73974,     0.74074,     0.74174,     0.74274,     0.74374,\n",
       "           0.74474,     0.74575,     0.74675,     0.74775,     0.74875,     0.74975,     0.75075,     0.75175,     0.75275,     0.75375,     0.75475,     0.75576,     0.75676,     0.75776,     0.75876,     0.75976,     0.76076,     0.76176,     0.76276,     0.76376,     0.76476,     0.76577,     0.76677,     0.76777,\n",
       "           0.76877,     0.76977,     0.77077,     0.77177,     0.77277,     0.77377,     0.77477,     0.77578,     0.77678,     0.77778,     0.77878,     0.77978,     0.78078,     0.78178,     0.78278,     0.78378,     0.78478,     0.78579,     0.78679,     0.78779,     0.78879,     0.78979,     0.79079,     0.79179,\n",
       "           0.79279,     0.79379,     0.79479,      0.7958,      0.7968,      0.7978,      0.7988,      0.7998,      0.8008,      0.8018,      0.8028,      0.8038,      0.8048,     0.80581,     0.80681,     0.80781,     0.80881,     0.80981,     0.81081,     0.81181,     0.81281,     0.81381,     0.81481,     0.81582,\n",
       "           0.81682,     0.81782,     0.81882,     0.81982,     0.82082,     0.82182,     0.82282,     0.82382,     0.82482,     0.82583,     0.82683,     0.82783,     0.82883,     0.82983,     0.83083,     0.83183,     0.83283,     0.83383,     0.83483,     0.83584,     0.83684,     0.83784,     0.83884,     0.83984,\n",
       "           0.84084,     0.84184,     0.84284,     0.84384,     0.84484,     0.84585,     0.84685,     0.84785,     0.84885,     0.84985,     0.85085,     0.85185,     0.85285,     0.85385,     0.85485,     0.85586,     0.85686,     0.85786,     0.85886,     0.85986,     0.86086,     0.86186,     0.86286,     0.86386,\n",
       "           0.86486,     0.86587,     0.86687,     0.86787,     0.86887,     0.86987,     0.87087,     0.87187,     0.87287,     0.87387,     0.87487,     0.87588,     0.87688,     0.87788,     0.87888,     0.87988,     0.88088,     0.88188,     0.88288,     0.88388,     0.88488,     0.88589,     0.88689,     0.88789,\n",
       "           0.88889,     0.88989,     0.89089,     0.89189,     0.89289,     0.89389,     0.89489,      0.8959,      0.8969,      0.8979,      0.8989,      0.8999,      0.9009,      0.9019,      0.9029,      0.9039,      0.9049,     0.90591,     0.90691,     0.90791,     0.90891,     0.90991,     0.91091,     0.91191,\n",
       "           0.91291,     0.91391,     0.91491,     0.91592,     0.91692,     0.91792,     0.91892,     0.91992,     0.92092,     0.92192,     0.92292,     0.92392,     0.92492,     0.92593,     0.92693,     0.92793,     0.92893,     0.92993,     0.93093,     0.93193,     0.93293,     0.93393,     0.93493,     0.93594,\n",
       "           0.93694,     0.93794,     0.93894,     0.93994,     0.94094,     0.94194,     0.94294,     0.94394,     0.94494,     0.94595,     0.94695,     0.94795,     0.94895,     0.94995,     0.95095,     0.95195,     0.95295,     0.95395,     0.95495,     0.95596,     0.95696,     0.95796,     0.95896,     0.95996,\n",
       "           0.96096,     0.96196,     0.96296,     0.96396,     0.96496,     0.96597,     0.96697,     0.96797,     0.96897,     0.96997,     0.97097,     0.97197,     0.97297,     0.97397,     0.97497,     0.97598,     0.97698,     0.97798,     0.97898,     0.97998,     0.98098,     0.98198,     0.98298,     0.98398,\n",
       "           0.98498,     0.98599,     0.98699,     0.98799,     0.98899,     0.98999,     0.99099,     0.99199,     0.99299,     0.99399,     0.99499,       0.996,       0.997,       0.998,       0.999,           1]), array([[          1,           1,           1,           1,           1,           1,           1,           1,           1,           1,           1,           1,           1,           1,           1,           1,           1,           1,           1,           1,           1,           1,           1,\n",
       "                  1,           1,           1,           1,           1,           1,           1,           1,           1,           1,           1,           1,           1,           1,           1,           1,           1,           1,           1,           1,           1,           1,           1,\n",
       "                  1,           1,           1,           1,           1,           1,           1,           1,           1,           1,           1,           1,           1,           1,           1,           1,           1,           1,           1,           1,           1,           1,           1,\n",
       "                  1,           1,           1,           1,           1,           1,           1,           1,           1,           1,           1,           1,           1,           1,           1,           1,           1,           1,           1,           1,           1,           1,           1,\n",
       "                  1,           1,           1,           1,           1,           1,           1,           1,           1,           1,           1,           1,           1,     0.99941,     0.99941,     0.99941,     0.99941,     0.99941,     0.99941,     0.99941,     0.99941,     0.99941,     0.99941,\n",
       "            0.99941,     0.99941,     0.99941,     0.99941,     0.99941,     0.99941,     0.99941,     0.99941,     0.99941,     0.99941,     0.99941,     0.99941,     0.99941,     0.99941,     0.99941,     0.99926,     0.99926,     0.99926,     0.99926,     0.99926,     0.99926,     0.99926,     0.99926,\n",
       "            0.99926,     0.99926,     0.99926,     0.99926,     0.99926,     0.99926,     0.99926,     0.99926,     0.99926,     0.99926,     0.99926,     0.99926,     0.99926,     0.99926,     0.99926,     0.99926,     0.99926,     0.99926,     0.99926,     0.99926,     0.99926,     0.99926,     0.99926,\n",
       "            0.99926,     0.99926,     0.99926,     0.99926,     0.99926,     0.99926,     0.99926,     0.99926,     0.99926,     0.99926,     0.99926,     0.99926,     0.99926,     0.99926,     0.99926,     0.99926,     0.99926,     0.99926,     0.99926,     0.99926,     0.99926,     0.99926,     0.99926,\n",
       "            0.99926,     0.99926,     0.99926,     0.99926,     0.99926,     0.99926,     0.99926,     0.99926,     0.99926,     0.99926,     0.99926,     0.99926,     0.99926,     0.99926,     0.99926,     0.99926,     0.99926,     0.99926,     0.99926,     0.99926,     0.99926,     0.99926,     0.99926,\n",
       "            0.99926,     0.99926,     0.99926,     0.99926,     0.99926,     0.99926,     0.99926,     0.99926,     0.99926,     0.99926,     0.99926,     0.99926,     0.99926,     0.99926,     0.99926,     0.99926,     0.99926,     0.99926,     0.99926,     0.99926,     0.99926,     0.99926,     0.99926,\n",
       "            0.99926,     0.99926,     0.99926,     0.99926,     0.99926,     0.99926,     0.99926,     0.99926,     0.99926,     0.99926,     0.99926,     0.99926,     0.99926,     0.99926,     0.99926,     0.99926,     0.99926,     0.99926,     0.99926,     0.99926,     0.99926,     0.99926,     0.99926,\n",
       "            0.99926,     0.99926,     0.99926,     0.99926,     0.99926,     0.99926,     0.99926,     0.99926,     0.99926,     0.99926,     0.99926,     0.99926,     0.99926,     0.99926,     0.99926,     0.99926,     0.99926,     0.99926,     0.99926,     0.99926,     0.99926,     0.99926,     0.99926,\n",
       "            0.99926,     0.99926,     0.99926,     0.99926,     0.99926,     0.99926,     0.99926,     0.99926,     0.99926,     0.99926,     0.99926,     0.99926,     0.99926,     0.99926,     0.99926,     0.99926,     0.99926,     0.99926,     0.99926,     0.99926,     0.99926,     0.99926,     0.99926,\n",
       "            0.99926,     0.99926,     0.99926,     0.99926,     0.99926,     0.99926,     0.99926,     0.99926,     0.99926,     0.99926,     0.99926,     0.99926,     0.99926,     0.99926,     0.99926,     0.99926,     0.99926,     0.99926,     0.99926,     0.99926,     0.99926,     0.99926,     0.99926,\n",
       "            0.99926,     0.99926,     0.99926,     0.99926,     0.99926,     0.99926,     0.99926,     0.99926,     0.99926,     0.99926,     0.99926,     0.99926,     0.99926,     0.99926,     0.99926,     0.99926,     0.99926,     0.99926,     0.99926,     0.99926,     0.99926,     0.99926,     0.99926,\n",
       "            0.99926,     0.99926,     0.99926,     0.99926,     0.99926,     0.99926,     0.99926,     0.99926,     0.99926,     0.99926,     0.99926,     0.99926,     0.99926,     0.99926,     0.99926,     0.99926,     0.99926,     0.99926,     0.99926,     0.99926,     0.99926,     0.99926,     0.99926,\n",
       "            0.99926,     0.99926,     0.99926,     0.99926,     0.99926,     0.99926,     0.99926,     0.99926,     0.99926,     0.99926,     0.99926,     0.99926,     0.99926,     0.99926,     0.99926,     0.99926,     0.99926,     0.99926,     0.99926,     0.99926,     0.99926,     0.99926,     0.99926,\n",
       "            0.99926,     0.99926,     0.99926,     0.99926,     0.99926,     0.99926,     0.99926,     0.99926,     0.99926,     0.99926,     0.99926,     0.99926,     0.99926,     0.99926,     0.99926,     0.99926,     0.99926,     0.99926,     0.99926,     0.99926,     0.99926,     0.99926,     0.99926,\n",
       "            0.99926,     0.99926,     0.99926,     0.99926,     0.99926,     0.99926,     0.99926,     0.99926,     0.99926,     0.99926,     0.99926,     0.99926,     0.99926,     0.99926,     0.99926,     0.99926,     0.99926,     0.99926,     0.99926,     0.99926,     0.99926,     0.99926,     0.99926,\n",
       "            0.99926,     0.99926,     0.99926,     0.99926,     0.99926,     0.99926,     0.99926,     0.99926,     0.99926,     0.99926,     0.99926,     0.99926,     0.99926,     0.99926,     0.99926,     0.99926,     0.99926,     0.99926,     0.99926,     0.99926,     0.99926,     0.99926,     0.99926,\n",
       "            0.99926,     0.99926,     0.99926,     0.99926,     0.99926,     0.99926,     0.99926,     0.99926,     0.99926,     0.99926,     0.99926,     0.99926,     0.99926,     0.99926,     0.99926,     0.99926,     0.99926,     0.99926,     0.99926,     0.99926,     0.99926,     0.99926,     0.99926,\n",
       "            0.99926,     0.99926,     0.99926,     0.99926,     0.99926,     0.99926,     0.99926,     0.99926,     0.99926,     0.99926,     0.99926,     0.99926,     0.99926,     0.99926,     0.99926,     0.99926,     0.99926,     0.99926,     0.99926,     0.99926,     0.99926,     0.99926,     0.99926,\n",
       "            0.99926,     0.99926,     0.99926,     0.99926,     0.99926,     0.99926,     0.99926,     0.99926,     0.99921,     0.99921,     0.99921,     0.99921,     0.99921,     0.99921,     0.99921,     0.99921,     0.99921,     0.99921,     0.99921,     0.99921,     0.99921,     0.99921,     0.99921,\n",
       "            0.99921,     0.99921,     0.99921,     0.99921,     0.99921,     0.99921,     0.99921,     0.99921,     0.99921,     0.99921,     0.99921,     0.99921,     0.99921,     0.99921,     0.99921,     0.99921,     0.99921,     0.99921,     0.99921,     0.99921,     0.99921,     0.99921,     0.99921,\n",
       "            0.99921,     0.99921,     0.99921,     0.99921,     0.99921,     0.99921,     0.99921,     0.99921,     0.99921,     0.99921,     0.99921,     0.99921,     0.99921,     0.99921,     0.99921,     0.99921,     0.99921,     0.99921,     0.99921,     0.99921,     0.99921,     0.99921,     0.99921,\n",
       "            0.99921,     0.99921,     0.99921,     0.99921,     0.99911,     0.99911,     0.99911,     0.99911,     0.99911,     0.99911,     0.99911,     0.99911,     0.99911,     0.99911,     0.99911,     0.99911,     0.99911,     0.99911,     0.99911,     0.99911,     0.99911,     0.99911,     0.99911,\n",
       "            0.99911,     0.99911,     0.99911,     0.99899,     0.99899,     0.99899,     0.99894,     0.99894,     0.99894,     0.99894,     0.99894,     0.99894,     0.99894,     0.99894,     0.99894,     0.99894,     0.99894,     0.99894,     0.99894,     0.99894,     0.99894,     0.99894,     0.99894,\n",
       "            0.99894,     0.99894,     0.99894,     0.99894,     0.99894,     0.99894,     0.99894,     0.99894,     0.99894,     0.99894,     0.99894,     0.99894,     0.99894,     0.99894,     0.99894,     0.99894,     0.99894,     0.99894,     0.99894,     0.99894,     0.99894,     0.99894,     0.99894,\n",
       "            0.99894,     0.99894,     0.99883,     0.99883,     0.99883,     0.99883,     0.99876,     0.99876,     0.99876,     0.99876,     0.99876,     0.99876,     0.99876,     0.99876,     0.99876,     0.99876,     0.99876,     0.99876,     0.99876,     0.99876,     0.99876,     0.99876,     0.99876,\n",
       "            0.99876,     0.99876,     0.99876,     0.99876,     0.99876,     0.99876,     0.99876,     0.99876,     0.99876,     0.99876,     0.99876,     0.99876,     0.99866,     0.99866,     0.99866,     0.99866,     0.99866,     0.99856,     0.99856,     0.99856,     0.99856,     0.99856,     0.99856,\n",
       "            0.99856,     0.99856,     0.99846,     0.99846,     0.99837,     0.99837,     0.99837,     0.99837,     0.99837,     0.99837,     0.99837,     0.99837,     0.99837,     0.99837,     0.99837,     0.99828,     0.99828,     0.99828,     0.99828,     0.99823,     0.99823,     0.99823,     0.99823,\n",
       "            0.99823,     0.99823,     0.99823,     0.99823,     0.99823,     0.99823,     0.99823,     0.99823,     0.99823,     0.99823,     0.99823,     0.99823,     0.99823,     0.99823,     0.99823,     0.99823,     0.99823,     0.99823,     0.99823,     0.99823,     0.99823,     0.99823,     0.99804,\n",
       "            0.99804,     0.99804,     0.99804,     0.99796,     0.99796,     0.99796,     0.99796,     0.99796,     0.99796,     0.99796,     0.99796,     0.99796,     0.99796,     0.99796,     0.99787,     0.99787,     0.99787,     0.99787,     0.99778,     0.99769,     0.99769,     0.99769,     0.99769,\n",
       "            0.99759,     0.99759,      0.9975,     0.99741,     0.99741,     0.99741,     0.99741,     0.99733,     0.99733,     0.99733,     0.99733,     0.99733,     0.99723,     0.99714,     0.99707,     0.99707,     0.99707,     0.99707,     0.99707,     0.99707,     0.99707,     0.99698,     0.99698,\n",
       "            0.99698,      0.9969,      0.9969,      0.9969,     0.99684,     0.99684,     0.99684,     0.99684,     0.99684,     0.99684,     0.99684,     0.99684,     0.99684,     0.99675,     0.99675,     0.99675,     0.99667,     0.99667,     0.99667,     0.99667,     0.99658,      0.9965,      0.9965,\n",
       "             0.9965,     0.99643,     0.99643,     0.99643,     0.99643,     0.99643,     0.99643,     0.99636,     0.99636,     0.99636,     0.99636,     0.99629,     0.99629,     0.99629,     0.99629,     0.99629,     0.99611,     0.99611,     0.99611,     0.99603,     0.99585,     0.99576,     0.99568,\n",
       "            0.99568,      0.9956,      0.9956,      0.9956,     0.99552,     0.99535,     0.99535,     0.99517,     0.99509,     0.99501,     0.99501,     0.99485,     0.99485,     0.99485,     0.99477,     0.99477,     0.99477,     0.99461,     0.99461,     0.99435,       0.994,       0.994,     0.99366,\n",
       "            0.99358,      0.9935,     0.99341,     0.99315,     0.99299,     0.99273,     0.99265,     0.99231,     0.99197,     0.99189,     0.99172,     0.99147,     0.99123,     0.99123,     0.99115,     0.99099,     0.99083,     0.99075,      0.9905,     0.99026,     0.99009,      0.9895,     0.98909,\n",
       "            0.98893,     0.98852,     0.98819,     0.98777,     0.98719,     0.98687,     0.98671,     0.98597,     0.98573,     0.98541,     0.98535,     0.98511,     0.98496,     0.98473,     0.98458,     0.98402,     0.98378,     0.98363,     0.98357,     0.98333,     0.98286,     0.98246,     0.98199,\n",
       "             0.9811,     0.98073,     0.98066,      0.9806,     0.98037,     0.97998,     0.97968,     0.97947,     0.97924,       0.979,       0.979,       0.979,     0.97887,     0.97887,      0.9785,     0.97845,     0.97839,     0.97816,       0.978,       0.978,       0.978,     0.97777,     0.97764,\n",
       "            0.97758,     0.97745,     0.97738,     0.97738,     0.97738,     0.97732,     0.97719,     0.97719,     0.97683,     0.97669,      0.9764,     0.97612,     0.97607,     0.97601,      0.9758,     0.97559,     0.97531,     0.97505,     0.97498,      0.9747,     0.97464,     0.97456,     0.97456,\n",
       "            0.97456,     0.97423,     0.97423,     0.97405,     0.97377,     0.97377,     0.97372,     0.97346,      0.9734,     0.97328,     0.97285,     0.97267,     0.97252,     0.97225,     0.97207,     0.97196,     0.97196,     0.97177,     0.97171,     0.97106,     0.97079,     0.97037,     0.96966,\n",
       "            0.96954,     0.96906,      0.9688,     0.96852,     0.96715,     0.96659,     0.96574,     0.96395,     0.96267,      0.9617,     0.96043,     0.95925,     0.95856,     0.95732,     0.95508,     0.95377,     0.95219,     0.95068,     0.94906,     0.94798,     0.94587,     0.94303,     0.93884,\n",
       "            0.93193,      0.9225,      0.9145,     0.90469,     0.88493,      0.8679,     0.79534,     0.70047,     0.47262,     0.23631,           0]]), 'Recall', 'Precision'], [array([          0,    0.001001,    0.002002,    0.003003,    0.004004,    0.005005,    0.006006,    0.007007,    0.008008,    0.009009,     0.01001,    0.011011,    0.012012,    0.013013,    0.014014,    0.015015,    0.016016,    0.017017,    0.018018,    0.019019,     0.02002,    0.021021,    0.022022,    0.023023,\n",
       "          0.024024,    0.025025,    0.026026,    0.027027,    0.028028,    0.029029,     0.03003,    0.031031,    0.032032,    0.033033,    0.034034,    0.035035,    0.036036,    0.037037,    0.038038,    0.039039,     0.04004,    0.041041,    0.042042,    0.043043,    0.044044,    0.045045,    0.046046,    0.047047,\n",
       "          0.048048,    0.049049,     0.05005,    0.051051,    0.052052,    0.053053,    0.054054,    0.055055,    0.056056,    0.057057,    0.058058,    0.059059,     0.06006,    0.061061,    0.062062,    0.063063,    0.064064,    0.065065,    0.066066,    0.067067,    0.068068,    0.069069,     0.07007,    0.071071,\n",
       "          0.072072,    0.073073,    0.074074,    0.075075,    0.076076,    0.077077,    0.078078,    0.079079,     0.08008,    0.081081,    0.082082,    0.083083,    0.084084,    0.085085,    0.086086,    0.087087,    0.088088,    0.089089,     0.09009,    0.091091,    0.092092,    0.093093,    0.094094,    0.095095,\n",
       "          0.096096,    0.097097,    0.098098,    0.099099,      0.1001,      0.1011,      0.1021,      0.1031,      0.1041,     0.10511,     0.10611,     0.10711,     0.10811,     0.10911,     0.11011,     0.11111,     0.11211,     0.11311,     0.11411,     0.11512,     0.11612,     0.11712,     0.11812,     0.11912,\n",
       "           0.12012,     0.12112,     0.12212,     0.12312,     0.12412,     0.12513,     0.12613,     0.12713,     0.12813,     0.12913,     0.13013,     0.13113,     0.13213,     0.13313,     0.13413,     0.13514,     0.13614,     0.13714,     0.13814,     0.13914,     0.14014,     0.14114,     0.14214,     0.14314,\n",
       "           0.14414,     0.14515,     0.14615,     0.14715,     0.14815,     0.14915,     0.15015,     0.15115,     0.15215,     0.15315,     0.15415,     0.15516,     0.15616,     0.15716,     0.15816,     0.15916,     0.16016,     0.16116,     0.16216,     0.16316,     0.16416,     0.16517,     0.16617,     0.16717,\n",
       "           0.16817,     0.16917,     0.17017,     0.17117,     0.17217,     0.17317,     0.17417,     0.17518,     0.17618,     0.17718,     0.17818,     0.17918,     0.18018,     0.18118,     0.18218,     0.18318,     0.18418,     0.18519,     0.18619,     0.18719,     0.18819,     0.18919,     0.19019,     0.19119,\n",
       "           0.19219,     0.19319,     0.19419,      0.1952,      0.1962,      0.1972,      0.1982,      0.1992,      0.2002,      0.2012,      0.2022,      0.2032,      0.2042,     0.20521,     0.20621,     0.20721,     0.20821,     0.20921,     0.21021,     0.21121,     0.21221,     0.21321,     0.21421,     0.21522,\n",
       "           0.21622,     0.21722,     0.21822,     0.21922,     0.22022,     0.22122,     0.22222,     0.22322,     0.22422,     0.22523,     0.22623,     0.22723,     0.22823,     0.22923,     0.23023,     0.23123,     0.23223,     0.23323,     0.23423,     0.23524,     0.23624,     0.23724,     0.23824,     0.23924,\n",
       "           0.24024,     0.24124,     0.24224,     0.24324,     0.24424,     0.24525,     0.24625,     0.24725,     0.24825,     0.24925,     0.25025,     0.25125,     0.25225,     0.25325,     0.25425,     0.25526,     0.25626,     0.25726,     0.25826,     0.25926,     0.26026,     0.26126,     0.26226,     0.26326,\n",
       "           0.26426,     0.26527,     0.26627,     0.26727,     0.26827,     0.26927,     0.27027,     0.27127,     0.27227,     0.27327,     0.27427,     0.27528,     0.27628,     0.27728,     0.27828,     0.27928,     0.28028,     0.28128,     0.28228,     0.28328,     0.28428,     0.28529,     0.28629,     0.28729,\n",
       "           0.28829,     0.28929,     0.29029,     0.29129,     0.29229,     0.29329,     0.29429,      0.2953,      0.2963,      0.2973,      0.2983,      0.2993,      0.3003,      0.3013,      0.3023,      0.3033,      0.3043,     0.30531,     0.30631,     0.30731,     0.30831,     0.30931,     0.31031,     0.31131,\n",
       "           0.31231,     0.31331,     0.31431,     0.31532,     0.31632,     0.31732,     0.31832,     0.31932,     0.32032,     0.32132,     0.32232,     0.32332,     0.32432,     0.32533,     0.32633,     0.32733,     0.32833,     0.32933,     0.33033,     0.33133,     0.33233,     0.33333,     0.33433,     0.33534,\n",
       "           0.33634,     0.33734,     0.33834,     0.33934,     0.34034,     0.34134,     0.34234,     0.34334,     0.34434,     0.34535,     0.34635,     0.34735,     0.34835,     0.34935,     0.35035,     0.35135,     0.35235,     0.35335,     0.35435,     0.35536,     0.35636,     0.35736,     0.35836,     0.35936,\n",
       "           0.36036,     0.36136,     0.36236,     0.36336,     0.36436,     0.36537,     0.36637,     0.36737,     0.36837,     0.36937,     0.37037,     0.37137,     0.37237,     0.37337,     0.37437,     0.37538,     0.37638,     0.37738,     0.37838,     0.37938,     0.38038,     0.38138,     0.38238,     0.38338,\n",
       "           0.38438,     0.38539,     0.38639,     0.38739,     0.38839,     0.38939,     0.39039,     0.39139,     0.39239,     0.39339,     0.39439,      0.3954,      0.3964,      0.3974,      0.3984,      0.3994,      0.4004,      0.4014,      0.4024,      0.4034,      0.4044,     0.40541,     0.40641,     0.40741,\n",
       "           0.40841,     0.40941,     0.41041,     0.41141,     0.41241,     0.41341,     0.41441,     0.41542,     0.41642,     0.41742,     0.41842,     0.41942,     0.42042,     0.42142,     0.42242,     0.42342,     0.42442,     0.42543,     0.42643,     0.42743,     0.42843,     0.42943,     0.43043,     0.43143,\n",
       "           0.43243,     0.43343,     0.43443,     0.43544,     0.43644,     0.43744,     0.43844,     0.43944,     0.44044,     0.44144,     0.44244,     0.44344,     0.44444,     0.44545,     0.44645,     0.44745,     0.44845,     0.44945,     0.45045,     0.45145,     0.45245,     0.45345,     0.45445,     0.45546,\n",
       "           0.45646,     0.45746,     0.45846,     0.45946,     0.46046,     0.46146,     0.46246,     0.46346,     0.46446,     0.46547,     0.46647,     0.46747,     0.46847,     0.46947,     0.47047,     0.47147,     0.47247,     0.47347,     0.47447,     0.47548,     0.47648,     0.47748,     0.47848,     0.47948,\n",
       "           0.48048,     0.48148,     0.48248,     0.48348,     0.48448,     0.48549,     0.48649,     0.48749,     0.48849,     0.48949,     0.49049,     0.49149,     0.49249,     0.49349,     0.49449,      0.4955,      0.4965,      0.4975,      0.4985,      0.4995,      0.5005,      0.5015,      0.5025,      0.5035,\n",
       "            0.5045,     0.50551,     0.50651,     0.50751,     0.50851,     0.50951,     0.51051,     0.51151,     0.51251,     0.51351,     0.51451,     0.51552,     0.51652,     0.51752,     0.51852,     0.51952,     0.52052,     0.52152,     0.52252,     0.52352,     0.52452,     0.52553,     0.52653,     0.52753,\n",
       "           0.52853,     0.52953,     0.53053,     0.53153,     0.53253,     0.53353,     0.53453,     0.53554,     0.53654,     0.53754,     0.53854,     0.53954,     0.54054,     0.54154,     0.54254,     0.54354,     0.54454,     0.54555,     0.54655,     0.54755,     0.54855,     0.54955,     0.55055,     0.55155,\n",
       "           0.55255,     0.55355,     0.55455,     0.55556,     0.55656,     0.55756,     0.55856,     0.55956,     0.56056,     0.56156,     0.56256,     0.56356,     0.56456,     0.56557,     0.56657,     0.56757,     0.56857,     0.56957,     0.57057,     0.57157,     0.57257,     0.57357,     0.57457,     0.57558,\n",
       "           0.57658,     0.57758,     0.57858,     0.57958,     0.58058,     0.58158,     0.58258,     0.58358,     0.58458,     0.58559,     0.58659,     0.58759,     0.58859,     0.58959,     0.59059,     0.59159,     0.59259,     0.59359,     0.59459,      0.5956,      0.5966,      0.5976,      0.5986,      0.5996,\n",
       "            0.6006,      0.6016,      0.6026,      0.6036,      0.6046,     0.60561,     0.60661,     0.60761,     0.60861,     0.60961,     0.61061,     0.61161,     0.61261,     0.61361,     0.61461,     0.61562,     0.61662,     0.61762,     0.61862,     0.61962,     0.62062,     0.62162,     0.62262,     0.62362,\n",
       "           0.62462,     0.62563,     0.62663,     0.62763,     0.62863,     0.62963,     0.63063,     0.63163,     0.63263,     0.63363,     0.63463,     0.63564,     0.63664,     0.63764,     0.63864,     0.63964,     0.64064,     0.64164,     0.64264,     0.64364,     0.64464,     0.64565,     0.64665,     0.64765,\n",
       "           0.64865,     0.64965,     0.65065,     0.65165,     0.65265,     0.65365,     0.65465,     0.65566,     0.65666,     0.65766,     0.65866,     0.65966,     0.66066,     0.66166,     0.66266,     0.66366,     0.66466,     0.66567,     0.66667,     0.66767,     0.66867,     0.66967,     0.67067,     0.67167,\n",
       "           0.67267,     0.67367,     0.67467,     0.67568,     0.67668,     0.67768,     0.67868,     0.67968,     0.68068,     0.68168,     0.68268,     0.68368,     0.68468,     0.68569,     0.68669,     0.68769,     0.68869,     0.68969,     0.69069,     0.69169,     0.69269,     0.69369,     0.69469,      0.6957,\n",
       "            0.6967,      0.6977,      0.6987,      0.6997,      0.7007,      0.7017,      0.7027,      0.7037,      0.7047,     0.70571,     0.70671,     0.70771,     0.70871,     0.70971,     0.71071,     0.71171,     0.71271,     0.71371,     0.71471,     0.71572,     0.71672,     0.71772,     0.71872,     0.71972,\n",
       "           0.72072,     0.72172,     0.72272,     0.72372,     0.72472,     0.72573,     0.72673,     0.72773,     0.72873,     0.72973,     0.73073,     0.73173,     0.73273,     0.73373,     0.73473,     0.73574,     0.73674,     0.73774,     0.73874,     0.73974,     0.74074,     0.74174,     0.74274,     0.74374,\n",
       "           0.74474,     0.74575,     0.74675,     0.74775,     0.74875,     0.74975,     0.75075,     0.75175,     0.75275,     0.75375,     0.75475,     0.75576,     0.75676,     0.75776,     0.75876,     0.75976,     0.76076,     0.76176,     0.76276,     0.76376,     0.76476,     0.76577,     0.76677,     0.76777,\n",
       "           0.76877,     0.76977,     0.77077,     0.77177,     0.77277,     0.77377,     0.77477,     0.77578,     0.77678,     0.77778,     0.77878,     0.77978,     0.78078,     0.78178,     0.78278,     0.78378,     0.78478,     0.78579,     0.78679,     0.78779,     0.78879,     0.78979,     0.79079,     0.79179,\n",
       "           0.79279,     0.79379,     0.79479,      0.7958,      0.7968,      0.7978,      0.7988,      0.7998,      0.8008,      0.8018,      0.8028,      0.8038,      0.8048,     0.80581,     0.80681,     0.80781,     0.80881,     0.80981,     0.81081,     0.81181,     0.81281,     0.81381,     0.81481,     0.81582,\n",
       "           0.81682,     0.81782,     0.81882,     0.81982,     0.82082,     0.82182,     0.82282,     0.82382,     0.82482,     0.82583,     0.82683,     0.82783,     0.82883,     0.82983,     0.83083,     0.83183,     0.83283,     0.83383,     0.83483,     0.83584,     0.83684,     0.83784,     0.83884,     0.83984,\n",
       "           0.84084,     0.84184,     0.84284,     0.84384,     0.84484,     0.84585,     0.84685,     0.84785,     0.84885,     0.84985,     0.85085,     0.85185,     0.85285,     0.85385,     0.85485,     0.85586,     0.85686,     0.85786,     0.85886,     0.85986,     0.86086,     0.86186,     0.86286,     0.86386,\n",
       "           0.86486,     0.86587,     0.86687,     0.86787,     0.86887,     0.86987,     0.87087,     0.87187,     0.87287,     0.87387,     0.87487,     0.87588,     0.87688,     0.87788,     0.87888,     0.87988,     0.88088,     0.88188,     0.88288,     0.88388,     0.88488,     0.88589,     0.88689,     0.88789,\n",
       "           0.88889,     0.88989,     0.89089,     0.89189,     0.89289,     0.89389,     0.89489,      0.8959,      0.8969,      0.8979,      0.8989,      0.8999,      0.9009,      0.9019,      0.9029,      0.9039,      0.9049,     0.90591,     0.90691,     0.90791,     0.90891,     0.90991,     0.91091,     0.91191,\n",
       "           0.91291,     0.91391,     0.91491,     0.91592,     0.91692,     0.91792,     0.91892,     0.91992,     0.92092,     0.92192,     0.92292,     0.92392,     0.92492,     0.92593,     0.92693,     0.92793,     0.92893,     0.92993,     0.93093,     0.93193,     0.93293,     0.93393,     0.93493,     0.93594,\n",
       "           0.93694,     0.93794,     0.93894,     0.93994,     0.94094,     0.94194,     0.94294,     0.94394,     0.94494,     0.94595,     0.94695,     0.94795,     0.94895,     0.94995,     0.95095,     0.95195,     0.95295,     0.95395,     0.95495,     0.95596,     0.95696,     0.95796,     0.95896,     0.95996,\n",
       "           0.96096,     0.96196,     0.96296,     0.96396,     0.96496,     0.96597,     0.96697,     0.96797,     0.96897,     0.96997,     0.97097,     0.97197,     0.97297,     0.97397,     0.97497,     0.97598,     0.97698,     0.97798,     0.97898,     0.97998,     0.98098,     0.98198,     0.98298,     0.98398,\n",
       "           0.98498,     0.98599,     0.98699,     0.98799,     0.98899,     0.98999,     0.99099,     0.99199,     0.99299,     0.99399,     0.99499,       0.996,       0.997,       0.998,       0.999,           1]), array([[    0.71739,     0.71739,     0.76619,     0.79124,     0.80814,     0.82129,     0.83107,      0.8388,      0.8455,     0.85107,     0.85649,     0.85987,      0.8636,     0.86683,     0.86963,     0.87243,     0.87445,     0.87632,     0.87825,     0.88036,     0.88199,     0.88352,     0.88485,\n",
       "            0.88627,      0.8881,     0.88927,     0.89058,     0.89177,     0.89292,     0.89393,      0.8951,     0.89612,     0.89703,     0.89814,      0.8989,     0.89987,      0.9008,     0.90154,     0.90235,       0.903,     0.90373,     0.90443,     0.90524,     0.90631,     0.90685,     0.90733,\n",
       "            0.90808,     0.90866,     0.90917,     0.90956,     0.90999,     0.91038,     0.91085,     0.91132,     0.91196,     0.91241,      0.9133,     0.91383,     0.91418,     0.91482,     0.91521,     0.91568,     0.91617,     0.91647,     0.91675,     0.91707,      0.9173,     0.91776,     0.91838,\n",
       "            0.91877,     0.91919,     0.91971,     0.91993,     0.92022,     0.92057,     0.92075,     0.92084,     0.92125,     0.92142,     0.92176,       0.922,     0.92241,     0.92266,     0.92293,     0.92308,     0.92348,     0.92386,     0.92438,     0.92461,     0.92495,     0.92518,     0.92555,\n",
       "            0.92607,     0.92638,     0.92652,     0.92677,     0.92703,     0.92733,     0.92755,     0.92768,     0.92816,     0.92849,     0.92869,     0.92898,      0.9293,     0.92952,     0.92967,     0.92985,     0.93001,     0.93012,      0.9303,     0.93062,     0.93079,     0.93099,     0.93125,\n",
       "            0.93143,     0.93159,     0.93176,     0.93197,     0.93216,     0.93239,     0.93258,     0.93277,     0.93306,     0.93323,     0.93348,     0.93361,     0.93389,     0.93405,     0.93417,     0.93439,     0.93448,     0.93455,     0.93457,     0.93489,     0.93519,     0.93555,     0.93568,\n",
       "            0.93586,     0.93611,     0.93619,     0.93629,     0.93643,     0.93661,     0.93678,       0.937,     0.93722,     0.93746,      0.9376,     0.93777,     0.93787,     0.93801,     0.93811,     0.93825,     0.93831,     0.93861,     0.93877,     0.93887,       0.939,      0.9392,      0.9393,\n",
       "            0.93936,     0.93941,     0.93942,     0.93981,     0.93998,     0.94008,     0.94024,     0.94047,     0.94064,     0.94077,     0.94088,     0.94096,     0.94108,     0.94125,     0.94145,     0.94168,     0.94183,       0.942,     0.94216,      0.9424,     0.94256,     0.94272,     0.94282,\n",
       "             0.9429,      0.9431,     0.94336,     0.94349,     0.94354,     0.94375,     0.94387,     0.94396,     0.94422,     0.94443,     0.94454,     0.94481,     0.94499,     0.94515,     0.94527,     0.94546,     0.94566,     0.94574,      0.9459,     0.94623,     0.94639,     0.94672,     0.94677,\n",
       "            0.94682,     0.94705,     0.94717,     0.94732,     0.94744,     0.94748,     0.94755,     0.94774,     0.94788,     0.94803,     0.94818,     0.94844,     0.94856,     0.94863,     0.94866,     0.94867,     0.94882,     0.94895,     0.94901,     0.94925,      0.9494,      0.9497,     0.94989,\n",
       "            0.95007,     0.95023,     0.95038,     0.95057,     0.95073,     0.95098,     0.95106,     0.95111,     0.95119,      0.9512,     0.95146,     0.95154,     0.95169,     0.95184,     0.95189,      0.9519,     0.95191,     0.95199,     0.95226,     0.95247,     0.95269,     0.95271,     0.95278,\n",
       "            0.95297,     0.95312,     0.95334,     0.95345,     0.95348,     0.95367,     0.95371,     0.95375,     0.95394,     0.95418,     0.95426,     0.95435,     0.95439,     0.95448,      0.9547,     0.95495,     0.95506,     0.95521,     0.95527,      0.9555,     0.95553,      0.9556,      0.9559,\n",
       "            0.95602,     0.95602,     0.95606,     0.95615,     0.95637,     0.95642,     0.95655,     0.95663,     0.95674,     0.95678,     0.95701,     0.95708,      0.9572,     0.95726,     0.95739,     0.95751,      0.9577,     0.95776,     0.95802,     0.95804,     0.95818,     0.95823,     0.95834,\n",
       "             0.9584,     0.95857,     0.95864,     0.95883,     0.95889,     0.95892,     0.95913,     0.95913,     0.95918,      0.9593,     0.95944,     0.95949,      0.9596,     0.95976,     0.95983,     0.95998,     0.96009,     0.96009,     0.96017,     0.96028,     0.96035,     0.96052,     0.96055,\n",
       "            0.96067,     0.96068,     0.96096,     0.96114,     0.96118,     0.96133,     0.96155,     0.96179,     0.96192,     0.96207,     0.96215,     0.96219,     0.96237,     0.96245,     0.96252,     0.96264,     0.96271,     0.96283,     0.96294,     0.96292,     0.96294,     0.96319,     0.96329,\n",
       "            0.96331,     0.96338,     0.96349,     0.96356,     0.96362,     0.96371,     0.96378,       0.964,     0.96404,     0.96415,     0.96419,     0.96431,     0.96425,     0.96431,     0.96438,     0.96471,      0.9648,     0.96487,     0.96489,     0.96501,       0.965,     0.96511,     0.96539,\n",
       "            0.96541,     0.96545,     0.96561,     0.96559,     0.96574,     0.96587,     0.96595,     0.96596,     0.96612,      0.9662,     0.96642,     0.96656,     0.96655,     0.96654,     0.96656,     0.96659,     0.96651,     0.96647,     0.96643,     0.96654,     0.96665,     0.96666,     0.96676,\n",
       "            0.96687,     0.96682,     0.96671,     0.96678,     0.96701,     0.96701,     0.96704,     0.96703,     0.96718,     0.96718,     0.96722,     0.96733,      0.9674,      0.9674,     0.96743,      0.9674,     0.96729,     0.96735,     0.96724,     0.96731,     0.96736,     0.96731,     0.96753,\n",
       "            0.96767,     0.96766,     0.96769,     0.96774,     0.96773,     0.96775,     0.96795,     0.96784,      0.9679,     0.96794,     0.96793,      0.9679,     0.96797,     0.96805,     0.96808,      0.9681,     0.96815,     0.96822,     0.96833,     0.96841,     0.96852,     0.96856,     0.96848,\n",
       "            0.96851,     0.96859,     0.96862,      0.9687,     0.96865,     0.96862,     0.96875,     0.96871,     0.96868,     0.96859,     0.96851,     0.96851,     0.96858,     0.96868,     0.96867,     0.96859,     0.96859,     0.96865,     0.96878,     0.96877,     0.96884,      0.9688,     0.96879,\n",
       "            0.96886,     0.96878,     0.96881,     0.96881,      0.9688,     0.96877,     0.96875,     0.96882,      0.9689,     0.96897,     0.96897,     0.96895,     0.96893,       0.969,     0.96911,     0.96919,     0.96937,     0.96945,     0.96944,      0.9694,     0.96927,     0.96918,     0.96918,\n",
       "            0.96929,     0.96928,     0.96921,     0.96932,     0.96918,       0.969,     0.96907,     0.96918,     0.96919,     0.96921,     0.96925,     0.96932,     0.96924,     0.96924,     0.96911,     0.96899,      0.9688,     0.96872,      0.9686,     0.96863,     0.96831,     0.96831,     0.96823,\n",
       "            0.96825,     0.96813,     0.96789,     0.96781,     0.96784,     0.96778,     0.96779,     0.96777,     0.96762,     0.96756,     0.96736,      0.9674,     0.96728,     0.96724,     0.96707,       0.967,     0.96702,     0.96686,     0.96678,     0.96653,     0.96613,     0.96594,     0.96576,\n",
       "            0.96564,     0.96552,      0.9654,     0.96527,     0.96499,     0.96475,      0.9645,     0.96442,     0.96429,     0.96416,      0.9638,     0.96356,     0.96319,     0.96309,     0.96274,      0.9624,     0.96208,     0.96171,     0.96168,     0.96142,     0.96113,     0.96081,     0.96072,\n",
       "            0.96019,      0.9597,     0.95937,     0.95924,     0.95875,     0.95787,     0.95766,     0.95738,     0.95689,     0.95663,     0.95614,     0.95588,     0.95559,     0.95529,     0.95496,     0.95458,     0.95424,     0.95371,     0.95339,     0.95314,     0.95277,     0.95268,     0.95252,\n",
       "            0.95218,     0.95192,     0.95159,     0.95108,     0.95054,     0.94972,     0.94897,     0.94874,     0.94839,     0.94789,     0.94748,     0.94737,     0.94691,     0.94645,     0.94608,     0.94564,     0.94545,     0.94505,     0.94458,     0.94437,     0.94412,     0.94359,     0.94315,\n",
       "            0.94289,     0.94251,     0.94222,     0.94179,     0.94154,     0.94136,     0.94115,     0.94104,     0.94079,     0.94047,     0.94031,     0.94033,     0.94023,     0.93994,     0.93984,     0.93986,     0.93986,     0.93961,     0.93942,     0.93924,     0.93916,     0.93923,     0.93905,\n",
       "            0.93897,     0.93888,     0.93884,      0.9387,      0.9386,     0.93834,     0.93808,     0.93791,     0.93787,     0.93782,     0.93767,     0.93765,     0.93767,      0.9376,     0.93751,      0.9375,     0.93759,     0.93755,     0.93749,     0.93748,     0.93746,     0.93752,      0.9374,\n",
       "            0.93744,     0.93739,     0.93731,     0.93724,     0.93721,     0.93723,     0.93719,      0.9372,     0.93716,     0.93715,     0.93701,     0.93704,     0.93696,     0.93683,     0.93676,     0.93676,     0.93676,     0.93671,      0.9366,     0.93643,     0.93647,     0.93647,     0.93644,\n",
       "            0.93638,     0.93629,     0.93626,     0.93609,     0.93579,     0.93565,     0.93566,     0.93563,     0.93551,     0.93525,     0.93514,     0.93513,       0.935,     0.93497,     0.93492,     0.93483,     0.93478,     0.93469,     0.93467,     0.93463,     0.93456,     0.93451,     0.93446,\n",
       "            0.93437,     0.93441,     0.93433,     0.93431,     0.93426,      0.9342,     0.93415,     0.93398,     0.93382,     0.93374,     0.93363,     0.93366,     0.93361,     0.93352,      0.9335,     0.93348,     0.93344,     0.93342,      0.9334,     0.93328,     0.93317,     0.93299,     0.93293,\n",
       "            0.93279,     0.93277,      0.9327,     0.93269,      0.9326,     0.93247,     0.93232,     0.93219,     0.93199,     0.93195,     0.93198,     0.93188,     0.93189,     0.93184,     0.93169,     0.93169,      0.9317,     0.93172,     0.93165,     0.93153,     0.93143,     0.93146,     0.93141,\n",
       "            0.93127,     0.93125,     0.93123,     0.93107,     0.93096,     0.93095,     0.93088,      0.9308,     0.93092,     0.93083,     0.93086,     0.93081,     0.93067,     0.93062,     0.93052,     0.93044,     0.93039,     0.93027,     0.93014,     0.93002,     0.92994,     0.92983,      0.9298,\n",
       "            0.92973,      0.9297,      0.9297,     0.92967,     0.92961,     0.92951,     0.92943,     0.92941,      0.9294,     0.92936,     0.92932,     0.92922,     0.92917,     0.92913,     0.92903,     0.92895,     0.92889,     0.92879,     0.92869,     0.92865,     0.92851,     0.92828,     0.92829,\n",
       "            0.92805,      0.9279,     0.92773,     0.92763,     0.92746,     0.92749,     0.92742,     0.92746,     0.92739,     0.92737,     0.92732,     0.92725,     0.92723,      0.9272,     0.92694,     0.92681,     0.92679,     0.92659,     0.92647,     0.92629,      0.9262,     0.92589,     0.92585,\n",
       "            0.92574,      0.9256,     0.92546,     0.92529,     0.92518,     0.92505,     0.92475,     0.92464,     0.92433,     0.92425,      0.9241,     0.92388,     0.92381,      0.9237,     0.92347,     0.92294,      0.9228,     0.92249,     0.92224,     0.92217,     0.92151,     0.92114,     0.92092,\n",
       "            0.92082,     0.92058,     0.92048,     0.92025,      0.9201,     0.91979,     0.91952,     0.91936,     0.91909,     0.91901,     0.91877,     0.91858,     0.91798,     0.91753,     0.91708,     0.91676,     0.91636,     0.91593,     0.91556,      0.9154,     0.91493,     0.91425,     0.91365,\n",
       "            0.91288,      0.9122,     0.91161,     0.91106,     0.91019,     0.90951,     0.90894,     0.90825,     0.90747,     0.90571,     0.90484,      0.9035,     0.90246,     0.90153,     0.90022,     0.89906,     0.89795,     0.89608,     0.89444,     0.89323,     0.89168,     0.88912,     0.88746,\n",
       "            0.88574,      0.8836,     0.88088,     0.87944,     0.87803,     0.87531,     0.87216,     0.86872,     0.86674,     0.86482,     0.86093,     0.85877,     0.85531,     0.85265,     0.84845,     0.84532,     0.84081,     0.83633,     0.83279,     0.82718,     0.82347,     0.81739,     0.81003,\n",
       "            0.80206,      0.7971,     0.78879,     0.77863,     0.76949,     0.76138,     0.75184,     0.74323,     0.73353,     0.72829,     0.72132,     0.70907,     0.69547,     0.68807,     0.67541,     0.66689,     0.65149,     0.64189,     0.62741,     0.61004,     0.60148,     0.58483,     0.56753,\n",
       "            0.54731,     0.52668,     0.50752,     0.49696,     0.47397,       0.451,     0.42922,     0.40441,     0.37726,     0.36251,     0.33625,     0.31435,     0.29031,     0.26546,     0.24356,     0.22352,     0.19604,     0.17946,     0.16527,     0.15007,     0.13195,     0.11401,     0.10333,\n",
       "           0.091824,    0.076226,    0.067684,    0.055311,    0.049207,    0.039394,    0.034669,    0.025455,    0.019161,    0.015544,    0.012367,   0.0097862,   0.0065906,    0.004452,   0.0036822,   0.0026065,   0.0022935,   0.0014493,  0.00091292,  0.00080842,  0.00060771,  0.00056291,  0.00051811,\n",
       "         0.00047331,  0.00028575,  0.00018118,           0,           0,           0,           0,           0,           0,           0,           0,           0,           0,           0,           0,           0,           0,           0,           0,           0,           0,           0,           0,\n",
       "                  0,           0,           0,           0,           0,           0,           0,           0,           0,           0,           0]]), 'Confidence', 'F1'], [array([          0,    0.001001,    0.002002,    0.003003,    0.004004,    0.005005,    0.006006,    0.007007,    0.008008,    0.009009,     0.01001,    0.011011,    0.012012,    0.013013,    0.014014,    0.015015,    0.016016,    0.017017,    0.018018,    0.019019,     0.02002,    0.021021,    0.022022,    0.023023,\n",
       "          0.024024,    0.025025,    0.026026,    0.027027,    0.028028,    0.029029,     0.03003,    0.031031,    0.032032,    0.033033,    0.034034,    0.035035,    0.036036,    0.037037,    0.038038,    0.039039,     0.04004,    0.041041,    0.042042,    0.043043,    0.044044,    0.045045,    0.046046,    0.047047,\n",
       "          0.048048,    0.049049,     0.05005,    0.051051,    0.052052,    0.053053,    0.054054,    0.055055,    0.056056,    0.057057,    0.058058,    0.059059,     0.06006,    0.061061,    0.062062,    0.063063,    0.064064,    0.065065,    0.066066,    0.067067,    0.068068,    0.069069,     0.07007,    0.071071,\n",
       "          0.072072,    0.073073,    0.074074,    0.075075,    0.076076,    0.077077,    0.078078,    0.079079,     0.08008,    0.081081,    0.082082,    0.083083,    0.084084,    0.085085,    0.086086,    0.087087,    0.088088,    0.089089,     0.09009,    0.091091,    0.092092,    0.093093,    0.094094,    0.095095,\n",
       "          0.096096,    0.097097,    0.098098,    0.099099,      0.1001,      0.1011,      0.1021,      0.1031,      0.1041,     0.10511,     0.10611,     0.10711,     0.10811,     0.10911,     0.11011,     0.11111,     0.11211,     0.11311,     0.11411,     0.11512,     0.11612,     0.11712,     0.11812,     0.11912,\n",
       "           0.12012,     0.12112,     0.12212,     0.12312,     0.12412,     0.12513,     0.12613,     0.12713,     0.12813,     0.12913,     0.13013,     0.13113,     0.13213,     0.13313,     0.13413,     0.13514,     0.13614,     0.13714,     0.13814,     0.13914,     0.14014,     0.14114,     0.14214,     0.14314,\n",
       "           0.14414,     0.14515,     0.14615,     0.14715,     0.14815,     0.14915,     0.15015,     0.15115,     0.15215,     0.15315,     0.15415,     0.15516,     0.15616,     0.15716,     0.15816,     0.15916,     0.16016,     0.16116,     0.16216,     0.16316,     0.16416,     0.16517,     0.16617,     0.16717,\n",
       "           0.16817,     0.16917,     0.17017,     0.17117,     0.17217,     0.17317,     0.17417,     0.17518,     0.17618,     0.17718,     0.17818,     0.17918,     0.18018,     0.18118,     0.18218,     0.18318,     0.18418,     0.18519,     0.18619,     0.18719,     0.18819,     0.18919,     0.19019,     0.19119,\n",
       "           0.19219,     0.19319,     0.19419,      0.1952,      0.1962,      0.1972,      0.1982,      0.1992,      0.2002,      0.2012,      0.2022,      0.2032,      0.2042,     0.20521,     0.20621,     0.20721,     0.20821,     0.20921,     0.21021,     0.21121,     0.21221,     0.21321,     0.21421,     0.21522,\n",
       "           0.21622,     0.21722,     0.21822,     0.21922,     0.22022,     0.22122,     0.22222,     0.22322,     0.22422,     0.22523,     0.22623,     0.22723,     0.22823,     0.22923,     0.23023,     0.23123,     0.23223,     0.23323,     0.23423,     0.23524,     0.23624,     0.23724,     0.23824,     0.23924,\n",
       "           0.24024,     0.24124,     0.24224,     0.24324,     0.24424,     0.24525,     0.24625,     0.24725,     0.24825,     0.24925,     0.25025,     0.25125,     0.25225,     0.25325,     0.25425,     0.25526,     0.25626,     0.25726,     0.25826,     0.25926,     0.26026,     0.26126,     0.26226,     0.26326,\n",
       "           0.26426,     0.26527,     0.26627,     0.26727,     0.26827,     0.26927,     0.27027,     0.27127,     0.27227,     0.27327,     0.27427,     0.27528,     0.27628,     0.27728,     0.27828,     0.27928,     0.28028,     0.28128,     0.28228,     0.28328,     0.28428,     0.28529,     0.28629,     0.28729,\n",
       "           0.28829,     0.28929,     0.29029,     0.29129,     0.29229,     0.29329,     0.29429,      0.2953,      0.2963,      0.2973,      0.2983,      0.2993,      0.3003,      0.3013,      0.3023,      0.3033,      0.3043,     0.30531,     0.30631,     0.30731,     0.30831,     0.30931,     0.31031,     0.31131,\n",
       "           0.31231,     0.31331,     0.31431,     0.31532,     0.31632,     0.31732,     0.31832,     0.31932,     0.32032,     0.32132,     0.32232,     0.32332,     0.32432,     0.32533,     0.32633,     0.32733,     0.32833,     0.32933,     0.33033,     0.33133,     0.33233,     0.33333,     0.33433,     0.33534,\n",
       "           0.33634,     0.33734,     0.33834,     0.33934,     0.34034,     0.34134,     0.34234,     0.34334,     0.34434,     0.34535,     0.34635,     0.34735,     0.34835,     0.34935,     0.35035,     0.35135,     0.35235,     0.35335,     0.35435,     0.35536,     0.35636,     0.35736,     0.35836,     0.35936,\n",
       "           0.36036,     0.36136,     0.36236,     0.36336,     0.36436,     0.36537,     0.36637,     0.36737,     0.36837,     0.36937,     0.37037,     0.37137,     0.37237,     0.37337,     0.37437,     0.37538,     0.37638,     0.37738,     0.37838,     0.37938,     0.38038,     0.38138,     0.38238,     0.38338,\n",
       "           0.38438,     0.38539,     0.38639,     0.38739,     0.38839,     0.38939,     0.39039,     0.39139,     0.39239,     0.39339,     0.39439,      0.3954,      0.3964,      0.3974,      0.3984,      0.3994,      0.4004,      0.4014,      0.4024,      0.4034,      0.4044,     0.40541,     0.40641,     0.40741,\n",
       "           0.40841,     0.40941,     0.41041,     0.41141,     0.41241,     0.41341,     0.41441,     0.41542,     0.41642,     0.41742,     0.41842,     0.41942,     0.42042,     0.42142,     0.42242,     0.42342,     0.42442,     0.42543,     0.42643,     0.42743,     0.42843,     0.42943,     0.43043,     0.43143,\n",
       "           0.43243,     0.43343,     0.43443,     0.43544,     0.43644,     0.43744,     0.43844,     0.43944,     0.44044,     0.44144,     0.44244,     0.44344,     0.44444,     0.44545,     0.44645,     0.44745,     0.44845,     0.44945,     0.45045,     0.45145,     0.45245,     0.45345,     0.45445,     0.45546,\n",
       "           0.45646,     0.45746,     0.45846,     0.45946,     0.46046,     0.46146,     0.46246,     0.46346,     0.46446,     0.46547,     0.46647,     0.46747,     0.46847,     0.46947,     0.47047,     0.47147,     0.47247,     0.47347,     0.47447,     0.47548,     0.47648,     0.47748,     0.47848,     0.47948,\n",
       "           0.48048,     0.48148,     0.48248,     0.48348,     0.48448,     0.48549,     0.48649,     0.48749,     0.48849,     0.48949,     0.49049,     0.49149,     0.49249,     0.49349,     0.49449,      0.4955,      0.4965,      0.4975,      0.4985,      0.4995,      0.5005,      0.5015,      0.5025,      0.5035,\n",
       "            0.5045,     0.50551,     0.50651,     0.50751,     0.50851,     0.50951,     0.51051,     0.51151,     0.51251,     0.51351,     0.51451,     0.51552,     0.51652,     0.51752,     0.51852,     0.51952,     0.52052,     0.52152,     0.52252,     0.52352,     0.52452,     0.52553,     0.52653,     0.52753,\n",
       "           0.52853,     0.52953,     0.53053,     0.53153,     0.53253,     0.53353,     0.53453,     0.53554,     0.53654,     0.53754,     0.53854,     0.53954,     0.54054,     0.54154,     0.54254,     0.54354,     0.54454,     0.54555,     0.54655,     0.54755,     0.54855,     0.54955,     0.55055,     0.55155,\n",
       "           0.55255,     0.55355,     0.55455,     0.55556,     0.55656,     0.55756,     0.55856,     0.55956,     0.56056,     0.56156,     0.56256,     0.56356,     0.56456,     0.56557,     0.56657,     0.56757,     0.56857,     0.56957,     0.57057,     0.57157,     0.57257,     0.57357,     0.57457,     0.57558,\n",
       "           0.57658,     0.57758,     0.57858,     0.57958,     0.58058,     0.58158,     0.58258,     0.58358,     0.58458,     0.58559,     0.58659,     0.58759,     0.58859,     0.58959,     0.59059,     0.59159,     0.59259,     0.59359,     0.59459,      0.5956,      0.5966,      0.5976,      0.5986,      0.5996,\n",
       "            0.6006,      0.6016,      0.6026,      0.6036,      0.6046,     0.60561,     0.60661,     0.60761,     0.60861,     0.60961,     0.61061,     0.61161,     0.61261,     0.61361,     0.61461,     0.61562,     0.61662,     0.61762,     0.61862,     0.61962,     0.62062,     0.62162,     0.62262,     0.62362,\n",
       "           0.62462,     0.62563,     0.62663,     0.62763,     0.62863,     0.62963,     0.63063,     0.63163,     0.63263,     0.63363,     0.63463,     0.63564,     0.63664,     0.63764,     0.63864,     0.63964,     0.64064,     0.64164,     0.64264,     0.64364,     0.64464,     0.64565,     0.64665,     0.64765,\n",
       "           0.64865,     0.64965,     0.65065,     0.65165,     0.65265,     0.65365,     0.65465,     0.65566,     0.65666,     0.65766,     0.65866,     0.65966,     0.66066,     0.66166,     0.66266,     0.66366,     0.66466,     0.66567,     0.66667,     0.66767,     0.66867,     0.66967,     0.67067,     0.67167,\n",
       "           0.67267,     0.67367,     0.67467,     0.67568,     0.67668,     0.67768,     0.67868,     0.67968,     0.68068,     0.68168,     0.68268,     0.68368,     0.68468,     0.68569,     0.68669,     0.68769,     0.68869,     0.68969,     0.69069,     0.69169,     0.69269,     0.69369,     0.69469,      0.6957,\n",
       "            0.6967,      0.6977,      0.6987,      0.6997,      0.7007,      0.7017,      0.7027,      0.7037,      0.7047,     0.70571,     0.70671,     0.70771,     0.70871,     0.70971,     0.71071,     0.71171,     0.71271,     0.71371,     0.71471,     0.71572,     0.71672,     0.71772,     0.71872,     0.71972,\n",
       "           0.72072,     0.72172,     0.72272,     0.72372,     0.72472,     0.72573,     0.72673,     0.72773,     0.72873,     0.72973,     0.73073,     0.73173,     0.73273,     0.73373,     0.73473,     0.73574,     0.73674,     0.73774,     0.73874,     0.73974,     0.74074,     0.74174,     0.74274,     0.74374,\n",
       "           0.74474,     0.74575,     0.74675,     0.74775,     0.74875,     0.74975,     0.75075,     0.75175,     0.75275,     0.75375,     0.75475,     0.75576,     0.75676,     0.75776,     0.75876,     0.75976,     0.76076,     0.76176,     0.76276,     0.76376,     0.76476,     0.76577,     0.76677,     0.76777,\n",
       "           0.76877,     0.76977,     0.77077,     0.77177,     0.77277,     0.77377,     0.77477,     0.77578,     0.77678,     0.77778,     0.77878,     0.77978,     0.78078,     0.78178,     0.78278,     0.78378,     0.78478,     0.78579,     0.78679,     0.78779,     0.78879,     0.78979,     0.79079,     0.79179,\n",
       "           0.79279,     0.79379,     0.79479,      0.7958,      0.7968,      0.7978,      0.7988,      0.7998,      0.8008,      0.8018,      0.8028,      0.8038,      0.8048,     0.80581,     0.80681,     0.80781,     0.80881,     0.80981,     0.81081,     0.81181,     0.81281,     0.81381,     0.81481,     0.81582,\n",
       "           0.81682,     0.81782,     0.81882,     0.81982,     0.82082,     0.82182,     0.82282,     0.82382,     0.82482,     0.82583,     0.82683,     0.82783,     0.82883,     0.82983,     0.83083,     0.83183,     0.83283,     0.83383,     0.83483,     0.83584,     0.83684,     0.83784,     0.83884,     0.83984,\n",
       "           0.84084,     0.84184,     0.84284,     0.84384,     0.84484,     0.84585,     0.84685,     0.84785,     0.84885,     0.84985,     0.85085,     0.85185,     0.85285,     0.85385,     0.85485,     0.85586,     0.85686,     0.85786,     0.85886,     0.85986,     0.86086,     0.86186,     0.86286,     0.86386,\n",
       "           0.86486,     0.86587,     0.86687,     0.86787,     0.86887,     0.86987,     0.87087,     0.87187,     0.87287,     0.87387,     0.87487,     0.87588,     0.87688,     0.87788,     0.87888,     0.87988,     0.88088,     0.88188,     0.88288,     0.88388,     0.88488,     0.88589,     0.88689,     0.88789,\n",
       "           0.88889,     0.88989,     0.89089,     0.89189,     0.89289,     0.89389,     0.89489,      0.8959,      0.8969,      0.8979,      0.8989,      0.8999,      0.9009,      0.9019,      0.9029,      0.9039,      0.9049,     0.90591,     0.90691,     0.90791,     0.90891,     0.90991,     0.91091,     0.91191,\n",
       "           0.91291,     0.91391,     0.91491,     0.91592,     0.91692,     0.91792,     0.91892,     0.91992,     0.92092,     0.92192,     0.92292,     0.92392,     0.92492,     0.92593,     0.92693,     0.92793,     0.92893,     0.92993,     0.93093,     0.93193,     0.93293,     0.93393,     0.93493,     0.93594,\n",
       "           0.93694,     0.93794,     0.93894,     0.93994,     0.94094,     0.94194,     0.94294,     0.94394,     0.94494,     0.94595,     0.94695,     0.94795,     0.94895,     0.94995,     0.95095,     0.95195,     0.95295,     0.95395,     0.95495,     0.95596,     0.95696,     0.95796,     0.95896,     0.95996,\n",
       "           0.96096,     0.96196,     0.96296,     0.96396,     0.96496,     0.96597,     0.96697,     0.96797,     0.96897,     0.96997,     0.97097,     0.97197,     0.97297,     0.97397,     0.97497,     0.97598,     0.97698,     0.97798,     0.97898,     0.97998,     0.98098,     0.98198,     0.98298,     0.98398,\n",
       "           0.98498,     0.98599,     0.98699,     0.98799,     0.98899,     0.98999,     0.99099,     0.99199,     0.99299,     0.99399,     0.99499,       0.996,       0.997,       0.998,       0.999,           1]), array([[    0.56006,     0.56006,     0.62197,     0.65578,     0.67942,     0.69822,     0.71252,     0.72405,     0.73413,     0.74256,     0.75091,     0.75612,     0.76189,     0.76698,     0.77147,     0.77599,     0.77919,      0.7822,     0.78529,     0.78871,     0.79134,     0.79385,     0.79605,\n",
       "            0.79835,     0.80133,     0.80329,     0.80543,     0.80737,     0.80926,     0.81092,     0.81284,     0.81454,      0.8161,     0.81792,     0.81919,     0.82086,     0.82245,      0.8237,     0.82504,     0.82613,     0.82736,     0.82854,     0.82989,     0.83169,     0.83261,     0.83341,\n",
       "            0.83468,     0.83566,     0.83657,     0.83724,     0.83797,     0.83863,     0.83943,     0.84022,     0.84136,     0.84213,     0.84365,     0.84456,     0.84515,     0.84624,     0.84692,     0.84773,     0.84857,     0.84914,     0.84962,     0.85016,     0.85056,     0.85135,     0.85242,\n",
       "            0.85309,     0.85381,     0.85472,     0.85515,     0.85564,     0.85626,     0.85657,     0.85672,     0.85743,     0.85773,     0.85832,      0.8588,     0.85955,     0.85999,     0.86047,     0.86072,     0.86142,     0.86208,     0.86299,     0.86345,     0.86404,     0.86445,     0.86509,\n",
       "            0.86606,      0.8666,     0.86683,     0.86727,     0.86774,     0.86831,     0.86871,     0.86893,     0.86984,     0.87041,     0.87076,     0.87128,     0.87184,     0.87223,     0.87266,     0.87299,     0.87326,     0.87358,     0.87396,     0.87452,     0.87482,     0.87518,     0.87563,\n",
       "            0.87594,     0.87623,     0.87653,      0.8769,     0.87725,     0.87765,     0.87799,     0.87833,     0.87883,     0.87913,     0.87958,     0.87987,     0.88037,     0.88066,     0.88088,     0.88132,     0.88149,      0.8816,      0.8817,     0.88227,     0.88281,     0.88345,     0.88374,\n",
       "            0.88406,     0.88456,     0.88471,     0.88493,     0.88521,     0.88551,     0.88582,     0.88622,     0.88662,     0.88705,      0.8873,      0.8876,     0.88778,     0.88803,     0.88826,     0.88858,     0.88869,     0.88923,     0.88951,      0.8897,     0.88998,     0.89035,     0.89058,\n",
       "             0.8907,     0.89089,     0.89099,      0.8917,     0.89199,     0.89217,     0.89246,     0.89288,     0.89318,     0.89342,     0.89364,     0.89382,     0.89405,     0.89434,      0.8947,     0.89512,      0.8954,     0.89571,       0.896,     0.89643,     0.89671,       0.897,     0.89718,\n",
       "            0.89734,      0.8977,     0.89817,      0.8984,     0.89856,     0.89894,     0.89915,     0.89931,     0.89979,     0.90017,     0.90037,     0.90086,      0.9012,     0.90149,      0.9017,     0.90211,      0.9025,     0.90269,     0.90298,     0.90357,     0.90387,     0.90453,     0.90469,\n",
       "            0.90484,     0.90525,     0.90547,     0.90576,     0.90598,     0.90604,     0.90618,     0.90653,     0.90679,     0.90706,     0.90733,      0.9078,     0.90802,     0.90829,     0.90834,     0.90842,      0.9087,       0.909,     0.90917,     0.90961,     0.90989,     0.91043,     0.91078,\n",
       "            0.91119,     0.91147,     0.91175,      0.9121,     0.91252,     0.91298,     0.91319,     0.91329,     0.91344,     0.91352,       0.914,     0.91422,     0.91462,      0.9149,     0.91499,     0.91507,     0.91515,     0.91531,     0.91583,     0.91627,     0.91673,     0.91677,      0.9169,\n",
       "            0.91733,     0.91759,     0.91801,     0.91828,     0.91833,     0.91868,     0.91875,     0.91896,     0.91931,     0.91976,     0.91998,     0.92014,     0.92022,     0.92038,      0.9208,     0.92133,     0.92154,      0.9218,     0.92191,     0.92237,     0.92247,     0.92268,     0.92323,\n",
       "            0.92345,     0.92352,      0.9236,     0.92389,      0.9243,     0.92445,     0.92484,     0.92505,     0.92526,      0.9254,     0.92583,     0.92597,     0.92618,      0.9263,     0.92654,     0.92677,     0.92712,     0.92731,      0.9278,     0.92784,      0.9281,     0.92819,     0.92839,\n",
       "            0.92859,     0.92895,      0.9291,     0.92944,     0.92956,     0.92961,     0.93002,     0.93005,     0.93018,      0.9304,     0.93067,     0.93075,     0.93097,     0.93126,      0.9314,     0.93168,     0.93189,     0.93197,     0.93212,     0.93232,     0.93244,     0.93279,     0.93289,\n",
       "            0.93311,     0.93325,      0.9338,     0.93414,     0.93429,     0.93457,     0.93498,     0.93544,     0.93568,     0.93597,     0.93611,     0.93619,     0.93655,     0.93669,     0.93682,     0.93711,     0.93725,     0.93747,     0.93777,     0.93777,     0.93782,     0.93857,      0.9389,\n",
       "            0.93894,     0.93906,     0.93934,     0.93949,     0.93964,     0.93997,     0.94011,     0.94053,     0.94068,     0.94088,     0.94096,     0.94118,     0.94119,     0.94133,     0.94153,     0.94215,     0.94236,     0.94256,     0.94278,       0.943,     0.94307,     0.94328,     0.94381,\n",
       "            0.94385,     0.94399,     0.94465,     0.94478,     0.94517,     0.94543,     0.94565,     0.94595,     0.94632,     0.94648,     0.94697,     0.94731,     0.94751,     0.94764,      0.9478,       0.948,     0.94806,     0.94813,      0.9484,     0.94861,     0.94883,     0.94905,     0.94926,\n",
       "            0.94947,     0.94959,     0.94972,     0.94987,      0.9503,     0.95041,     0.95064,     0.95078,      0.9511,     0.95128,     0.95142,     0.95163,     0.95178,     0.95185,     0.95198,     0.95199,     0.95206,     0.95219,     0.95226,     0.95254,     0.95266,     0.95283,     0.95328,\n",
       "            0.95366,     0.95377,     0.95397,     0.95416,     0.95436,     0.95452,     0.95493,     0.95507,      0.9552,     0.95549,     0.95562,     0.95563,     0.95577,     0.95592,     0.95606,     0.95612,     0.95634,     0.95656,     0.95677,     0.95698,      0.9572,     0.95732,     0.95736,\n",
       "            0.95745,     0.95771,     0.95792,     0.95814,     0.95834,     0.95842,     0.95877,     0.95904,     0.95905,     0.95918,     0.95924,     0.95938,     0.95959,     0.96001,     0.96036,     0.96043,      0.9605,     0.96071,     0.96107,     0.96116,     0.96145,     0.96173,     0.96187,\n",
       "            0.96229,     0.96236,     0.96246,     0.96257,     0.96267,     0.96272,     0.96281,     0.96317,     0.96357,     0.96379,     0.96386,     0.96388,       0.964,     0.96415,     0.96444,     0.96459,     0.96503,     0.96525,     0.96539,     0.96553,     0.96581,     0.96594,     0.96609,\n",
       "            0.96638,     0.96645,      0.9666,     0.96696,     0.96708,     0.96716,     0.96738,      0.9676,      0.9678,     0.96804,      0.9683,     0.96852,     0.96852,     0.96866,     0.96876,     0.96879,     0.96878,     0.96877,     0.96888,     0.96906,     0.96908,     0.96922,     0.96929,\n",
       "            0.96939,      0.9696,     0.96959,     0.96966,     0.96987,     0.96993,     0.97002,     0.97015,     0.97037,     0.97058,     0.97064,     0.97086,     0.97086,     0.97093,     0.97099,     0.97099,     0.97135,     0.97149,     0.97164,     0.97176,     0.97174,     0.97182,     0.97194,\n",
       "            0.97194,     0.97193,     0.97192,     0.97206,     0.97205,     0.97203,     0.97224,     0.97238,     0.97252,     0.97266,     0.97265,     0.97274,     0.97295,     0.97327,      0.9733,     0.97346,     0.97344,     0.97342,      0.9737,     0.97371,     0.97377,     0.97375,     0.97404,\n",
       "            0.97409,     0.97422,      0.9742,     0.97449,     0.97455,      0.9745,      0.9746,      0.9747,     0.97468,     0.97501,     0.97506,     0.97524,      0.9753,     0.97559,     0.97565,     0.97586,     0.97599,     0.97605,     0.97617,     0.97639,     0.97662,     0.97677,     0.97676,\n",
       "             0.9769,     0.97704,     0.97718,     0.97731,     0.97736,     0.97733,     0.97729,     0.97748,     0.97758,     0.97756,     0.97767,       0.978,     0.97798,     0.97796,     0.97795,     0.97799,     0.97837,     0.97837,     0.97843,      0.9785,     0.97849,     0.97855,     0.97884,\n",
       "            0.97899,     0.97898,     0.97896,     0.97895,     0.97901,     0.97917,     0.97929,     0.97947,     0.97946,     0.97953,     0.97954,      0.9796,     0.97984,     0.97983,     0.98006,     0.98017,      0.9803,     0.98029,     0.98036,     0.98036,     0.98035,      0.9806,     0.98059,\n",
       "            0.98059,     0.98058,     0.98058,     0.98066,     0.98065,     0.98072,     0.98072,     0.98071,     0.98079,     0.98079,     0.98092,     0.98098,     0.98121,     0.98126,     0.98126,     0.98137,     0.98157,     0.98158,     0.98158,     0.98158,     0.98174,     0.98199,     0.98208,\n",
       "            0.98223,     0.98231,      0.9823,      0.9823,      0.9823,     0.98246,     0.98246,     0.98257,     0.98265,     0.98278,     0.98278,     0.98285,     0.98286,     0.98285,     0.98285,     0.98289,     0.98301,     0.98306,     0.98309,     0.98308,     0.98326,     0.98334,     0.98341,\n",
       "            0.98349,     0.98349,     0.98355,     0.98356,     0.98355,     0.98357,     0.98363,     0.98363,     0.98363,     0.98362,     0.98361,     0.98378,     0.98377,     0.98394,     0.98402,     0.98401,     0.98401,     0.98401,     0.98401,     0.98401,     0.98417,     0.98417,     0.98421,\n",
       "            0.98439,     0.98448,     0.98457,     0.98466,     0.98465,     0.98465,     0.98465,     0.98465,     0.98472,     0.98472,     0.98472,      0.9848,     0.98488,     0.98488,     0.98488,     0.98488,     0.98496,     0.98496,     0.98496,     0.98495,     0.98503,     0.98503,     0.98511,\n",
       "            0.98511,     0.98518,      0.9853,     0.98535,     0.98535,     0.98534,     0.98534,     0.98534,     0.98533,     0.98533,     0.98539,     0.98541,     0.98549,     0.98549,     0.98549,     0.98551,     0.98554,     0.98557,     0.98557,     0.98557,     0.98556,     0.98573,     0.98573,\n",
       "            0.98573,     0.98572,     0.98572,     0.98589,     0.98597,     0.98605,     0.98605,     0.98609,     0.98638,     0.98638,     0.98652,     0.98671,     0.98671,     0.98671,     0.98681,     0.98687,     0.98687,     0.98695,     0.98701,     0.98711,     0.98743,     0.98744,     0.98744,\n",
       "            0.98744,     0.98744,     0.98757,     0.98769,     0.98777,     0.98802,     0.98802,     0.98802,     0.98804,      0.9881,     0.98819,     0.98819,     0.98818,     0.98844,     0.98843,     0.98843,     0.98843,     0.98851,     0.98867,     0.98885,     0.98884,     0.98892,     0.98909,\n",
       "            0.98909,     0.98909,     0.98917,     0.98916,     0.98925,     0.98939,     0.98962,     0.98971,     0.98976,     0.98975,     0.98975,     0.98982,     0.99009,     0.99009,     0.99009,     0.99021,     0.99025,     0.99034,     0.99042,      0.9905,      0.9905,     0.99068,     0.99075,\n",
       "            0.99075,     0.99075,     0.99083,     0.99083,     0.99082,     0.99099,     0.99099,     0.99107,     0.99107,     0.99115,     0.99115,     0.99123,     0.99123,     0.99123,     0.99122,      0.9913,      0.9913,     0.99148,     0.99164,     0.99172,     0.99188,     0.99205,     0.99214,\n",
       "            0.99213,     0.99239,     0.99256,     0.99265,     0.99265,     0.99273,     0.99273,     0.99288,     0.99307,     0.99307,     0.99315,     0.99333,     0.99349,     0.99358,     0.99357,     0.99365,     0.99385,       0.994,     0.99399,     0.99435,     0.99452,      0.9946,     0.99477,\n",
       "            0.99477,     0.99476,     0.99484,     0.99484,     0.99501,       0.995,     0.99516,     0.99526,     0.99534,      0.9956,     0.99568,     0.99576,     0.99603,     0.99611,     0.99629,     0.99628,     0.99627,     0.99635,     0.99643,     0.99642,     0.99641,     0.99658,     0.99666,\n",
       "            0.99675,     0.99683,     0.99681,      0.9968,     0.99689,     0.99707,     0.99705,     0.99732,     0.99741,      0.9974,     0.99768,     0.99787,     0.99796,     0.99795,     0.99803,     0.99823,     0.99821,      0.9982,     0.99818,     0.99827,     0.99836,     0.99845,     0.99865,\n",
       "            0.99875,     0.99873,     0.99871,     0.99892,      0.9989,     0.99888,     0.99899,      0.9991,     0.99921,      0.9992,     0.99919,     0.99917,     0.99914,     0.99913,     0.99925,     0.99924,     0.99921,     0.99919,     0.99916,     0.99913,     0.99911,     0.99908,     0.99904,\n",
       "            0.99899,     0.99893,      0.9991,     0.99908,     0.99902,     0.99895,     0.99888,      0.9991,     0.99901,     0.99896,     0.99887,     0.99877,     0.99865,      0.9985,      0.9989,     0.99939,      0.9993,           1,           1,           1,           1,           1,           1,\n",
       "                  1,           1,           1,           1,           1,           1,           1,           1,           1,           1,           1,           1,           1,           1,           1,           1,           1,           1,           1,           1,           1,           1,           1,\n",
       "                  1,           1,           1,           1,           1,           1,           1,           1,           1,           1,           1,           1,           1,           1,           1,           1,           1,           1,           1,           1,           1,           1,           1,\n",
       "                  1,           1,           1,           1,           1,           1,           1,           1,           1,           1,           1]]), 'Confidence', 'Precision'], [array([          0,    0.001001,    0.002002,    0.003003,    0.004004,    0.005005,    0.006006,    0.007007,    0.008008,    0.009009,     0.01001,    0.011011,    0.012012,    0.013013,    0.014014,    0.015015,    0.016016,    0.017017,    0.018018,    0.019019,     0.02002,    0.021021,    0.022022,    0.023023,\n",
       "          0.024024,    0.025025,    0.026026,    0.027027,    0.028028,    0.029029,     0.03003,    0.031031,    0.032032,    0.033033,    0.034034,    0.035035,    0.036036,    0.037037,    0.038038,    0.039039,     0.04004,    0.041041,    0.042042,    0.043043,    0.044044,    0.045045,    0.046046,    0.047047,\n",
       "          0.048048,    0.049049,     0.05005,    0.051051,    0.052052,    0.053053,    0.054054,    0.055055,    0.056056,    0.057057,    0.058058,    0.059059,     0.06006,    0.061061,    0.062062,    0.063063,    0.064064,    0.065065,    0.066066,    0.067067,    0.068068,    0.069069,     0.07007,    0.071071,\n",
       "          0.072072,    0.073073,    0.074074,    0.075075,    0.076076,    0.077077,    0.078078,    0.079079,     0.08008,    0.081081,    0.082082,    0.083083,    0.084084,    0.085085,    0.086086,    0.087087,    0.088088,    0.089089,     0.09009,    0.091091,    0.092092,    0.093093,    0.094094,    0.095095,\n",
       "          0.096096,    0.097097,    0.098098,    0.099099,      0.1001,      0.1011,      0.1021,      0.1031,      0.1041,     0.10511,     0.10611,     0.10711,     0.10811,     0.10911,     0.11011,     0.11111,     0.11211,     0.11311,     0.11411,     0.11512,     0.11612,     0.11712,     0.11812,     0.11912,\n",
       "           0.12012,     0.12112,     0.12212,     0.12312,     0.12412,     0.12513,     0.12613,     0.12713,     0.12813,     0.12913,     0.13013,     0.13113,     0.13213,     0.13313,     0.13413,     0.13514,     0.13614,     0.13714,     0.13814,     0.13914,     0.14014,     0.14114,     0.14214,     0.14314,\n",
       "           0.14414,     0.14515,     0.14615,     0.14715,     0.14815,     0.14915,     0.15015,     0.15115,     0.15215,     0.15315,     0.15415,     0.15516,     0.15616,     0.15716,     0.15816,     0.15916,     0.16016,     0.16116,     0.16216,     0.16316,     0.16416,     0.16517,     0.16617,     0.16717,\n",
       "           0.16817,     0.16917,     0.17017,     0.17117,     0.17217,     0.17317,     0.17417,     0.17518,     0.17618,     0.17718,     0.17818,     0.17918,     0.18018,     0.18118,     0.18218,     0.18318,     0.18418,     0.18519,     0.18619,     0.18719,     0.18819,     0.18919,     0.19019,     0.19119,\n",
       "           0.19219,     0.19319,     0.19419,      0.1952,      0.1962,      0.1972,      0.1982,      0.1992,      0.2002,      0.2012,      0.2022,      0.2032,      0.2042,     0.20521,     0.20621,     0.20721,     0.20821,     0.20921,     0.21021,     0.21121,     0.21221,     0.21321,     0.21421,     0.21522,\n",
       "           0.21622,     0.21722,     0.21822,     0.21922,     0.22022,     0.22122,     0.22222,     0.22322,     0.22422,     0.22523,     0.22623,     0.22723,     0.22823,     0.22923,     0.23023,     0.23123,     0.23223,     0.23323,     0.23423,     0.23524,     0.23624,     0.23724,     0.23824,     0.23924,\n",
       "           0.24024,     0.24124,     0.24224,     0.24324,     0.24424,     0.24525,     0.24625,     0.24725,     0.24825,     0.24925,     0.25025,     0.25125,     0.25225,     0.25325,     0.25425,     0.25526,     0.25626,     0.25726,     0.25826,     0.25926,     0.26026,     0.26126,     0.26226,     0.26326,\n",
       "           0.26426,     0.26527,     0.26627,     0.26727,     0.26827,     0.26927,     0.27027,     0.27127,     0.27227,     0.27327,     0.27427,     0.27528,     0.27628,     0.27728,     0.27828,     0.27928,     0.28028,     0.28128,     0.28228,     0.28328,     0.28428,     0.28529,     0.28629,     0.28729,\n",
       "           0.28829,     0.28929,     0.29029,     0.29129,     0.29229,     0.29329,     0.29429,      0.2953,      0.2963,      0.2973,      0.2983,      0.2993,      0.3003,      0.3013,      0.3023,      0.3033,      0.3043,     0.30531,     0.30631,     0.30731,     0.30831,     0.30931,     0.31031,     0.31131,\n",
       "           0.31231,     0.31331,     0.31431,     0.31532,     0.31632,     0.31732,     0.31832,     0.31932,     0.32032,     0.32132,     0.32232,     0.32332,     0.32432,     0.32533,     0.32633,     0.32733,     0.32833,     0.32933,     0.33033,     0.33133,     0.33233,     0.33333,     0.33433,     0.33534,\n",
       "           0.33634,     0.33734,     0.33834,     0.33934,     0.34034,     0.34134,     0.34234,     0.34334,     0.34434,     0.34535,     0.34635,     0.34735,     0.34835,     0.34935,     0.35035,     0.35135,     0.35235,     0.35335,     0.35435,     0.35536,     0.35636,     0.35736,     0.35836,     0.35936,\n",
       "           0.36036,     0.36136,     0.36236,     0.36336,     0.36436,     0.36537,     0.36637,     0.36737,     0.36837,     0.36937,     0.37037,     0.37137,     0.37237,     0.37337,     0.37437,     0.37538,     0.37638,     0.37738,     0.37838,     0.37938,     0.38038,     0.38138,     0.38238,     0.38338,\n",
       "           0.38438,     0.38539,     0.38639,     0.38739,     0.38839,     0.38939,     0.39039,     0.39139,     0.39239,     0.39339,     0.39439,      0.3954,      0.3964,      0.3974,      0.3984,      0.3994,      0.4004,      0.4014,      0.4024,      0.4034,      0.4044,     0.40541,     0.40641,     0.40741,\n",
       "           0.40841,     0.40941,     0.41041,     0.41141,     0.41241,     0.41341,     0.41441,     0.41542,     0.41642,     0.41742,     0.41842,     0.41942,     0.42042,     0.42142,     0.42242,     0.42342,     0.42442,     0.42543,     0.42643,     0.42743,     0.42843,     0.42943,     0.43043,     0.43143,\n",
       "           0.43243,     0.43343,     0.43443,     0.43544,     0.43644,     0.43744,     0.43844,     0.43944,     0.44044,     0.44144,     0.44244,     0.44344,     0.44444,     0.44545,     0.44645,     0.44745,     0.44845,     0.44945,     0.45045,     0.45145,     0.45245,     0.45345,     0.45445,     0.45546,\n",
       "           0.45646,     0.45746,     0.45846,     0.45946,     0.46046,     0.46146,     0.46246,     0.46346,     0.46446,     0.46547,     0.46647,     0.46747,     0.46847,     0.46947,     0.47047,     0.47147,     0.47247,     0.47347,     0.47447,     0.47548,     0.47648,     0.47748,     0.47848,     0.47948,\n",
       "           0.48048,     0.48148,     0.48248,     0.48348,     0.48448,     0.48549,     0.48649,     0.48749,     0.48849,     0.48949,     0.49049,     0.49149,     0.49249,     0.49349,     0.49449,      0.4955,      0.4965,      0.4975,      0.4985,      0.4995,      0.5005,      0.5015,      0.5025,      0.5035,\n",
       "            0.5045,     0.50551,     0.50651,     0.50751,     0.50851,     0.50951,     0.51051,     0.51151,     0.51251,     0.51351,     0.51451,     0.51552,     0.51652,     0.51752,     0.51852,     0.51952,     0.52052,     0.52152,     0.52252,     0.52352,     0.52452,     0.52553,     0.52653,     0.52753,\n",
       "           0.52853,     0.52953,     0.53053,     0.53153,     0.53253,     0.53353,     0.53453,     0.53554,     0.53654,     0.53754,     0.53854,     0.53954,     0.54054,     0.54154,     0.54254,     0.54354,     0.54454,     0.54555,     0.54655,     0.54755,     0.54855,     0.54955,     0.55055,     0.55155,\n",
       "           0.55255,     0.55355,     0.55455,     0.55556,     0.55656,     0.55756,     0.55856,     0.55956,     0.56056,     0.56156,     0.56256,     0.56356,     0.56456,     0.56557,     0.56657,     0.56757,     0.56857,     0.56957,     0.57057,     0.57157,     0.57257,     0.57357,     0.57457,     0.57558,\n",
       "           0.57658,     0.57758,     0.57858,     0.57958,     0.58058,     0.58158,     0.58258,     0.58358,     0.58458,     0.58559,     0.58659,     0.58759,     0.58859,     0.58959,     0.59059,     0.59159,     0.59259,     0.59359,     0.59459,      0.5956,      0.5966,      0.5976,      0.5986,      0.5996,\n",
       "            0.6006,      0.6016,      0.6026,      0.6036,      0.6046,     0.60561,     0.60661,     0.60761,     0.60861,     0.60961,     0.61061,     0.61161,     0.61261,     0.61361,     0.61461,     0.61562,     0.61662,     0.61762,     0.61862,     0.61962,     0.62062,     0.62162,     0.62262,     0.62362,\n",
       "           0.62462,     0.62563,     0.62663,     0.62763,     0.62863,     0.62963,     0.63063,     0.63163,     0.63263,     0.63363,     0.63463,     0.63564,     0.63664,     0.63764,     0.63864,     0.63964,     0.64064,     0.64164,     0.64264,     0.64364,     0.64464,     0.64565,     0.64665,     0.64765,\n",
       "           0.64865,     0.64965,     0.65065,     0.65165,     0.65265,     0.65365,     0.65465,     0.65566,     0.65666,     0.65766,     0.65866,     0.65966,     0.66066,     0.66166,     0.66266,     0.66366,     0.66466,     0.66567,     0.66667,     0.66767,     0.66867,     0.66967,     0.67067,     0.67167,\n",
       "           0.67267,     0.67367,     0.67467,     0.67568,     0.67668,     0.67768,     0.67868,     0.67968,     0.68068,     0.68168,     0.68268,     0.68368,     0.68468,     0.68569,     0.68669,     0.68769,     0.68869,     0.68969,     0.69069,     0.69169,     0.69269,     0.69369,     0.69469,      0.6957,\n",
       "            0.6967,      0.6977,      0.6987,      0.6997,      0.7007,      0.7017,      0.7027,      0.7037,      0.7047,     0.70571,     0.70671,     0.70771,     0.70871,     0.70971,     0.71071,     0.71171,     0.71271,     0.71371,     0.71471,     0.71572,     0.71672,     0.71772,     0.71872,     0.71972,\n",
       "           0.72072,     0.72172,     0.72272,     0.72372,     0.72472,     0.72573,     0.72673,     0.72773,     0.72873,     0.72973,     0.73073,     0.73173,     0.73273,     0.73373,     0.73473,     0.73574,     0.73674,     0.73774,     0.73874,     0.73974,     0.74074,     0.74174,     0.74274,     0.74374,\n",
       "           0.74474,     0.74575,     0.74675,     0.74775,     0.74875,     0.74975,     0.75075,     0.75175,     0.75275,     0.75375,     0.75475,     0.75576,     0.75676,     0.75776,     0.75876,     0.75976,     0.76076,     0.76176,     0.76276,     0.76376,     0.76476,     0.76577,     0.76677,     0.76777,\n",
       "           0.76877,     0.76977,     0.77077,     0.77177,     0.77277,     0.77377,     0.77477,     0.77578,     0.77678,     0.77778,     0.77878,     0.77978,     0.78078,     0.78178,     0.78278,     0.78378,     0.78478,     0.78579,     0.78679,     0.78779,     0.78879,     0.78979,     0.79079,     0.79179,\n",
       "           0.79279,     0.79379,     0.79479,      0.7958,      0.7968,      0.7978,      0.7988,      0.7998,      0.8008,      0.8018,      0.8028,      0.8038,      0.8048,     0.80581,     0.80681,     0.80781,     0.80881,     0.80981,     0.81081,     0.81181,     0.81281,     0.81381,     0.81481,     0.81582,\n",
       "           0.81682,     0.81782,     0.81882,     0.81982,     0.82082,     0.82182,     0.82282,     0.82382,     0.82482,     0.82583,     0.82683,     0.82783,     0.82883,     0.82983,     0.83083,     0.83183,     0.83283,     0.83383,     0.83483,     0.83584,     0.83684,     0.83784,     0.83884,     0.83984,\n",
       "           0.84084,     0.84184,     0.84284,     0.84384,     0.84484,     0.84585,     0.84685,     0.84785,     0.84885,     0.84985,     0.85085,     0.85185,     0.85285,     0.85385,     0.85485,     0.85586,     0.85686,     0.85786,     0.85886,     0.85986,     0.86086,     0.86186,     0.86286,     0.86386,\n",
       "           0.86486,     0.86587,     0.86687,     0.86787,     0.86887,     0.86987,     0.87087,     0.87187,     0.87287,     0.87387,     0.87487,     0.87588,     0.87688,     0.87788,     0.87888,     0.87988,     0.88088,     0.88188,     0.88288,     0.88388,     0.88488,     0.88589,     0.88689,     0.88789,\n",
       "           0.88889,     0.88989,     0.89089,     0.89189,     0.89289,     0.89389,     0.89489,      0.8959,      0.8969,      0.8979,      0.8989,      0.8999,      0.9009,      0.9019,      0.9029,      0.9039,      0.9049,     0.90591,     0.90691,     0.90791,     0.90891,     0.90991,     0.91091,     0.91191,\n",
       "           0.91291,     0.91391,     0.91491,     0.91592,     0.91692,     0.91792,     0.91892,     0.91992,     0.92092,     0.92192,     0.92292,     0.92392,     0.92492,     0.92593,     0.92693,     0.92793,     0.92893,     0.92993,     0.93093,     0.93193,     0.93293,     0.93393,     0.93493,     0.93594,\n",
       "           0.93694,     0.93794,     0.93894,     0.93994,     0.94094,     0.94194,     0.94294,     0.94394,     0.94494,     0.94595,     0.94695,     0.94795,     0.94895,     0.94995,     0.95095,     0.95195,     0.95295,     0.95395,     0.95495,     0.95596,     0.95696,     0.95796,     0.95896,     0.95996,\n",
       "           0.96096,     0.96196,     0.96296,     0.96396,     0.96496,     0.96597,     0.96697,     0.96797,     0.96897,     0.96997,     0.97097,     0.97197,     0.97297,     0.97397,     0.97497,     0.97598,     0.97698,     0.97798,     0.97898,     0.97998,     0.98098,     0.98198,     0.98298,     0.98398,\n",
       "           0.98498,     0.98599,     0.98699,     0.98799,     0.98899,     0.98999,     0.99099,     0.99199,     0.99299,     0.99399,     0.99499,       0.996,       0.997,       0.998,       0.999,           1]), array([[    0.99763,     0.99763,     0.99747,     0.99724,     0.99702,     0.99702,     0.99694,     0.99679,     0.99671,     0.99671,     0.99663,     0.99663,     0.99663,     0.99656,      0.9964,     0.99625,     0.99625,     0.99617,     0.99617,      0.9961,      0.9961,     0.99602,     0.99594,\n",
       "            0.99594,     0.99594,     0.99587,     0.99587,     0.99587,     0.99587,     0.99587,     0.99587,     0.99587,     0.99579,     0.99579,     0.99579,     0.99571,     0.99564,     0.99564,     0.99564,     0.99564,     0.99564,     0.99564,     0.99564,     0.99564,     0.99564,     0.99564,\n",
       "            0.99564,     0.99564,     0.99556,     0.99556,     0.99556,     0.99556,     0.99556,     0.99556,     0.99548,     0.99548,     0.99548,     0.99548,     0.99548,     0.99548,     0.99548,     0.99548,     0.99548,     0.99541,     0.99541,     0.99541,     0.99541,     0.99541,     0.99541,\n",
       "            0.99541,     0.99541,     0.99541,     0.99533,     0.99533,     0.99533,     0.99533,     0.99533,     0.99533,     0.99533,     0.99533,     0.99526,     0.99518,     0.99518,     0.99518,     0.99518,     0.99518,     0.99518,     0.99518,      0.9951,      0.9951,      0.9951,      0.9951,\n",
       "            0.99503,     0.99503,     0.99503,     0.99503,     0.99503,     0.99495,     0.99495,     0.99495,     0.99487,     0.99487,     0.99487,     0.99487,     0.99487,     0.99487,     0.99464,     0.99464,     0.99464,     0.99449,     0.99441,     0.99441,     0.99441,     0.99441,     0.99441,\n",
       "            0.99441,     0.99441,     0.99441,     0.99441,     0.99441,     0.99441,     0.99441,     0.99441,     0.99441,     0.99441,     0.99441,     0.99434,     0.99434,     0.99434,     0.99434,     0.99426,     0.99426,     0.99426,     0.99419,     0.99418,     0.99418,     0.99418,     0.99411,\n",
       "            0.99411,     0.99403,     0.99403,     0.99398,     0.99395,     0.99395,     0.99395,     0.99395,     0.99395,     0.99395,     0.99395,     0.99395,     0.99395,     0.99395,     0.99388,      0.9938,      0.9938,      0.9938,      0.9938,      0.9938,     0.99372,     0.99372,     0.99365,\n",
       "            0.99365,     0.99353,     0.99342,     0.99342,     0.99342,     0.99342,     0.99342,     0.99342,     0.99342,     0.99342,      0.9934,     0.99334,     0.99334,     0.99334,     0.99334,     0.99334,     0.99334,     0.99334,     0.99334,     0.99334,     0.99334,     0.99334,     0.99334,\n",
       "            0.99334,     0.99334,     0.99334,     0.99334,     0.99327,     0.99327,     0.99327,     0.99327,     0.99327,     0.99327,     0.99327,     0.99327,     0.99327,     0.99327,     0.99327,     0.99319,     0.99316,     0.99311,     0.99311,     0.99311,     0.99311,     0.99304,     0.99297,\n",
       "            0.99288,     0.99288,     0.99288,     0.99288,     0.99288,     0.99288,     0.99288,     0.99288,     0.99288,     0.99288,     0.99288,     0.99288,     0.99288,     0.99273,     0.99273,     0.99265,     0.99265,     0.99258,      0.9925,      0.9925,      0.9925,      0.9925,      0.9925,\n",
       "            0.99242,     0.99242,     0.99242,     0.99242,     0.99229,     0.99227,     0.99219,     0.99219,     0.99219,     0.99212,     0.99212,     0.99204,     0.99189,     0.99189,     0.99189,     0.99181,     0.99173,     0.99173,     0.99171,     0.99166,     0.99158,     0.99158,     0.99158,\n",
       "            0.99151,     0.99151,     0.99151,     0.99143,     0.99143,     0.99143,     0.99143,     0.99128,     0.99128,     0.99127,      0.9912,      0.9912,      0.9912,      0.9912,      0.9912,     0.99112,     0.99112,     0.99112,     0.99112,     0.99109,     0.99105,     0.99097,     0.99097,\n",
       "            0.99097,     0.99089,     0.99089,     0.99074,     0.99074,     0.99068,     0.99051,     0.99043,     0.99043,     0.99036,     0.99036,     0.99036,     0.99036,     0.99036,     0.99036,     0.99036,     0.99036,     0.99028,     0.99028,     0.99028,     0.99028,     0.99028,     0.99028,\n",
       "            0.99018,     0.99013,     0.99013,     0.99013,     0.99013,     0.99013,     0.99013,     0.99008,     0.99005,     0.99005,     0.99005,     0.99005,     0.99005,     0.99005,     0.99005,     0.99005,     0.99005,     0.98997,     0.98997,     0.98997,     0.98997,     0.98995,      0.9899,\n",
       "             0.9899,     0.98977,     0.98975,     0.98975,     0.98967,     0.98967,     0.98967,     0.98967,     0.98967,     0.98967,     0.98967,     0.98967,     0.98967,     0.98967,     0.98967,     0.98959,     0.98959,     0.98959,     0.98949,     0.98945,     0.98944,     0.98913,     0.98898,\n",
       "            0.98898,     0.98898,      0.9889,      0.9889,     0.98885,     0.98867,     0.98867,     0.98867,      0.9886,      0.9886,      0.9886,      0.9886,     0.98847,     0.98844,     0.98837,     0.98837,     0.98835,     0.98827,     0.98806,     0.98806,     0.98799,     0.98799,     0.98799,\n",
       "            0.98799,     0.98791,     0.98751,     0.98733,     0.98722,     0.98722,     0.98714,     0.98684,     0.98676,     0.98676,     0.98669,     0.98661,     0.98638,      0.9862,     0.98607,     0.98592,     0.98569,     0.98554,     0.98515,     0.98515,     0.98515,     0.98494,     0.98492,\n",
       "            0.98492,     0.98469,     0.98431,     0.98431,     0.98431,      0.9842,     0.98401,     0.98385,     0.98382,     0.98362,     0.98355,     0.98355,     0.98355,     0.98347,     0.98339,     0.98332,     0.98301,     0.98299,      0.9827,     0.98255,     0.98253,     0.98225,     0.98222,\n",
       "            0.98209,     0.98197,     0.98181,     0.98171,     0.98148,     0.98135,     0.98133,     0.98096,     0.98094,     0.98071,     0.98055,     0.98049,     0.98049,     0.98049,     0.98041,     0.98039,     0.98026,     0.98018,     0.98018,      0.9801,      0.9801,     0.98006,     0.97987,\n",
       "            0.97982,     0.97972,     0.97957,     0.97949,     0.97918,     0.97905,     0.97895,     0.97857,      0.9785,      0.9782,     0.97796,     0.97781,     0.97773,      0.9775,     0.97712,     0.97689,     0.97681,     0.97672,     0.97663,     0.97651,     0.97635,     0.97597,     0.97582,\n",
       "            0.97551,     0.97528,     0.97524,     0.97513,       0.975,      0.9749,     0.97477,     0.97454,     0.97429,     0.97421,     0.97413,     0.97407,      0.9739,      0.9739,     0.97383,     0.97383,     0.97375,     0.97368,     0.97352,     0.97329,     0.97275,     0.97245,     0.97229,\n",
       "            0.97221,     0.97213,     0.97184,     0.97168,     0.97129,     0.97084,     0.97077,     0.97077,     0.97059,     0.97038,      0.9702,     0.97013,     0.96997,     0.96982,     0.96947,      0.9692,     0.96882,     0.96866,     0.96832,      0.9682,     0.96755,      0.9674,     0.96717,\n",
       "            0.96712,     0.96666,      0.9662,     0.96596,     0.96581,     0.96564,     0.96558,     0.96541,     0.96488,     0.96457,     0.96411,     0.96396,     0.96373,     0.96357,     0.96319,     0.96304,     0.96273,     0.96226,     0.96197,     0.96134,     0.96058,     0.96013,     0.95965,\n",
       "            0.95942,     0.95919,     0.95896,     0.95857,     0.95804,     0.95758,     0.95688,     0.95658,     0.95619,     0.95581,     0.95512,     0.95454,     0.95362,     0.95312,      0.9524,     0.95159,     0.95097,     0.95028,     0.94995,     0.94944,     0.94882,     0.94821,     0.94775,\n",
       "            0.94667,      0.9456,     0.94499,     0.94445,     0.94345,      0.9418,      0.9413,     0.94065,     0.93973,     0.93893,     0.93794,     0.93728,     0.93666,     0.93582,     0.93513,     0.93421,     0.93344,     0.93237,     0.93166,     0.93097,     0.93007,     0.92976,     0.92945,\n",
       "            0.92868,     0.92807,      0.9273,     0.92623,     0.92516,     0.92362,     0.92224,     0.92163,      0.9209,     0.91998,     0.91911,      0.9186,     0.91776,     0.91691,     0.91622,     0.91536,     0.91467,     0.91392,       0.913,     0.91254,     0.91208,     0.91104,     0.90997,\n",
       "            0.90935,     0.90866,     0.90813,     0.90736,     0.90682,     0.90636,     0.90587,     0.90551,     0.90505,      0.9044,     0.90411,     0.90409,     0.90371,     0.90317,     0.90278,     0.90273,     0.90263,     0.90217,     0.90175,     0.90144,     0.90128,      0.9012,     0.90089,\n",
       "            0.90074,     0.90058,     0.90051,     0.90019,         0.9,     0.89947,     0.89901,      0.8987,     0.89854,     0.89846,     0.89806,     0.89799,     0.89783,     0.89765,      0.8975,     0.89738,     0.89738,      0.8973,      0.8972,     0.89717,     0.89699,     0.89691,     0.89661,\n",
       "            0.89656,     0.89641,     0.89625,     0.89612,     0.89608,     0.89598,      0.8959,     0.89584,     0.89569,     0.89556,     0.89532,     0.89531,     0.89516,     0.89493,      0.8948,     0.89477,     0.89466,     0.89454,     0.89431,       0.894,     0.89393,     0.89385,     0.89375,\n",
       "            0.89357,     0.89342,     0.89332,     0.89299,     0.89245,     0.89217,     0.89215,      0.8921,     0.89187,     0.89141,     0.89122,     0.89106,     0.89083,     0.89064,     0.89048,     0.89033,     0.89024,     0.89008,     0.89004,     0.88998,     0.88971,     0.88963,     0.88949,\n",
       "            0.88919,     0.88919,     0.88897,     0.88885,     0.88878,     0.88867,     0.88858,     0.88827,     0.88793,     0.88777,     0.88758,     0.88758,     0.88742,     0.88726,     0.88722,     0.88719,     0.88704,     0.88701,     0.88698,     0.88676,     0.88649,     0.88618,       0.886,\n",
       "            0.88575,     0.88567,     0.88544,     0.88537,     0.88521,     0.88498,     0.88471,     0.88448,     0.88413,     0.88406,     0.88406,     0.88386,     0.88382,     0.88373,     0.88347,     0.88345,     0.88345,     0.88345,     0.88333,     0.88312,     0.88294,     0.88284,     0.88277,\n",
       "            0.88252,     0.88248,     0.88245,     0.88203,     0.88176,     0.88168,     0.88157,     0.88138,     0.88137,     0.88121,     0.88115,     0.88091,     0.88066,     0.88056,     0.88031,     0.88011,     0.88002,     0.87975,     0.87947,     0.87917,     0.87878,     0.87858,     0.87851,\n",
       "             0.8784,     0.87834,     0.87824,     0.87808,     0.87792,     0.87755,      0.8774,     0.87736,     0.87732,     0.87721,     0.87708,      0.8769,      0.8768,     0.87653,     0.87635,     0.87622,     0.87612,     0.87588,     0.87556,     0.87536,     0.87511,     0.87464,     0.87453,\n",
       "             0.8741,     0.87384,     0.87348,      0.8733,     0.87294,     0.87289,     0.87258,     0.87258,     0.87242,     0.87238,      0.8723,     0.87212,     0.87187,     0.87182,     0.87137,     0.87105,     0.87098,     0.87055,     0.87028,      0.8699,     0.86974,     0.86906,     0.86894,\n",
       "            0.86873,     0.86849,     0.86819,     0.86788,      0.8677,     0.86733,     0.86682,     0.86656,     0.86602,     0.86582,     0.86556,     0.86509,     0.86497,     0.86478,     0.86439,     0.86339,     0.86316,     0.86248,     0.86193,     0.86174,     0.86047,      0.8597,     0.85925,\n",
       "            0.85908,     0.85846,     0.85815,     0.85769,     0.85744,     0.85684,     0.85638,     0.85597,     0.85537,     0.85524,     0.85475,     0.85429,     0.85314,     0.85229,     0.85152,     0.85091,     0.85008,     0.84923,      0.8486,     0.84806,     0.84714,     0.84591,     0.84476,\n",
       "            0.84345,      0.8423,     0.84123,      0.8403,     0.83869,     0.83754,     0.83646,     0.83524,     0.83386,     0.83072,     0.82918,     0.82688,     0.82496,     0.82335,     0.82105,     0.81914,      0.8173,     0.81415,      0.8114,      0.8094,     0.80687,     0.80258,     0.79982,\n",
       "            0.79699,     0.79346,      0.7891,      0.7868,      0.7845,     0.78006,     0.77508,     0.76949,     0.76635,     0.76336,     0.75716,     0.75371,     0.74835,     0.74429,     0.73786,     0.73303,     0.72629,     0.71963,     0.71442,     0.70615,     0.70072,     0.69191,     0.68135,\n",
       "            0.67009,      0.6632,     0.65179,     0.63794,     0.62577,     0.61513,     0.60272,      0.5917,     0.57945,     0.57294,     0.56437,     0.54952,     0.53337,     0.52472,     0.51009,     0.50045,      0.4833,     0.47281,     0.45727,     0.43906,     0.43025,     0.41341,     0.39634,\n",
       "             0.3769,     0.35761,     0.34016,     0.33074,     0.31069,     0.29125,     0.27333,     0.25351,     0.23254,     0.22144,     0.20215,     0.18653,     0.16984,     0.15308,     0.13869,     0.12583,     0.10868,    0.098577,    0.090078,    0.081121,    0.070632,     0.06045,    0.054477,\n",
       "           0.048121,    0.039623,    0.035027,    0.028442,    0.025224,    0.020093,     0.01764,    0.012891,   0.0096734,   0.0078329,    0.006222,   0.0049171,   0.0033062,    0.002231,   0.0018445,    0.001305,   0.0011481,  0.00072518,  0.00045667,  0.00040437,  0.00030395,  0.00028154,  0.00025912,\n",
       "         0.00023671,  0.00014289,  9.0598e-05,           0,           0,           0,           0,           0,           0,           0,           0,           0,           0,           0,           0,           0,           0,           0,           0,           0,           0,           0,           0,\n",
       "                  0,           0,           0,           0,           0,           0,           0,           0,           0,           0,           0]]), 'Confidence', 'Recall'], [array([          0,    0.001001,    0.002002,    0.003003,    0.004004,    0.005005,    0.006006,    0.007007,    0.008008,    0.009009,     0.01001,    0.011011,    0.012012,    0.013013,    0.014014,    0.015015,    0.016016,    0.017017,    0.018018,    0.019019,     0.02002,    0.021021,    0.022022,    0.023023,\n",
       "          0.024024,    0.025025,    0.026026,    0.027027,    0.028028,    0.029029,     0.03003,    0.031031,    0.032032,    0.033033,    0.034034,    0.035035,    0.036036,    0.037037,    0.038038,    0.039039,     0.04004,    0.041041,    0.042042,    0.043043,    0.044044,    0.045045,    0.046046,    0.047047,\n",
       "          0.048048,    0.049049,     0.05005,    0.051051,    0.052052,    0.053053,    0.054054,    0.055055,    0.056056,    0.057057,    0.058058,    0.059059,     0.06006,    0.061061,    0.062062,    0.063063,    0.064064,    0.065065,    0.066066,    0.067067,    0.068068,    0.069069,     0.07007,    0.071071,\n",
       "          0.072072,    0.073073,    0.074074,    0.075075,    0.076076,    0.077077,    0.078078,    0.079079,     0.08008,    0.081081,    0.082082,    0.083083,    0.084084,    0.085085,    0.086086,    0.087087,    0.088088,    0.089089,     0.09009,    0.091091,    0.092092,    0.093093,    0.094094,    0.095095,\n",
       "          0.096096,    0.097097,    0.098098,    0.099099,      0.1001,      0.1011,      0.1021,      0.1031,      0.1041,     0.10511,     0.10611,     0.10711,     0.10811,     0.10911,     0.11011,     0.11111,     0.11211,     0.11311,     0.11411,     0.11512,     0.11612,     0.11712,     0.11812,     0.11912,\n",
       "           0.12012,     0.12112,     0.12212,     0.12312,     0.12412,     0.12513,     0.12613,     0.12713,     0.12813,     0.12913,     0.13013,     0.13113,     0.13213,     0.13313,     0.13413,     0.13514,     0.13614,     0.13714,     0.13814,     0.13914,     0.14014,     0.14114,     0.14214,     0.14314,\n",
       "           0.14414,     0.14515,     0.14615,     0.14715,     0.14815,     0.14915,     0.15015,     0.15115,     0.15215,     0.15315,     0.15415,     0.15516,     0.15616,     0.15716,     0.15816,     0.15916,     0.16016,     0.16116,     0.16216,     0.16316,     0.16416,     0.16517,     0.16617,     0.16717,\n",
       "           0.16817,     0.16917,     0.17017,     0.17117,     0.17217,     0.17317,     0.17417,     0.17518,     0.17618,     0.17718,     0.17818,     0.17918,     0.18018,     0.18118,     0.18218,     0.18318,     0.18418,     0.18519,     0.18619,     0.18719,     0.18819,     0.18919,     0.19019,     0.19119,\n",
       "           0.19219,     0.19319,     0.19419,      0.1952,      0.1962,      0.1972,      0.1982,      0.1992,      0.2002,      0.2012,      0.2022,      0.2032,      0.2042,     0.20521,     0.20621,     0.20721,     0.20821,     0.20921,     0.21021,     0.21121,     0.21221,     0.21321,     0.21421,     0.21522,\n",
       "           0.21622,     0.21722,     0.21822,     0.21922,     0.22022,     0.22122,     0.22222,     0.22322,     0.22422,     0.22523,     0.22623,     0.22723,     0.22823,     0.22923,     0.23023,     0.23123,     0.23223,     0.23323,     0.23423,     0.23524,     0.23624,     0.23724,     0.23824,     0.23924,\n",
       "           0.24024,     0.24124,     0.24224,     0.24324,     0.24424,     0.24525,     0.24625,     0.24725,     0.24825,     0.24925,     0.25025,     0.25125,     0.25225,     0.25325,     0.25425,     0.25526,     0.25626,     0.25726,     0.25826,     0.25926,     0.26026,     0.26126,     0.26226,     0.26326,\n",
       "           0.26426,     0.26527,     0.26627,     0.26727,     0.26827,     0.26927,     0.27027,     0.27127,     0.27227,     0.27327,     0.27427,     0.27528,     0.27628,     0.27728,     0.27828,     0.27928,     0.28028,     0.28128,     0.28228,     0.28328,     0.28428,     0.28529,     0.28629,     0.28729,\n",
       "           0.28829,     0.28929,     0.29029,     0.29129,     0.29229,     0.29329,     0.29429,      0.2953,      0.2963,      0.2973,      0.2983,      0.2993,      0.3003,      0.3013,      0.3023,      0.3033,      0.3043,     0.30531,     0.30631,     0.30731,     0.30831,     0.30931,     0.31031,     0.31131,\n",
       "           0.31231,     0.31331,     0.31431,     0.31532,     0.31632,     0.31732,     0.31832,     0.31932,     0.32032,     0.32132,     0.32232,     0.32332,     0.32432,     0.32533,     0.32633,     0.32733,     0.32833,     0.32933,     0.33033,     0.33133,     0.33233,     0.33333,     0.33433,     0.33534,\n",
       "           0.33634,     0.33734,     0.33834,     0.33934,     0.34034,     0.34134,     0.34234,     0.34334,     0.34434,     0.34535,     0.34635,     0.34735,     0.34835,     0.34935,     0.35035,     0.35135,     0.35235,     0.35335,     0.35435,     0.35536,     0.35636,     0.35736,     0.35836,     0.35936,\n",
       "           0.36036,     0.36136,     0.36236,     0.36336,     0.36436,     0.36537,     0.36637,     0.36737,     0.36837,     0.36937,     0.37037,     0.37137,     0.37237,     0.37337,     0.37437,     0.37538,     0.37638,     0.37738,     0.37838,     0.37938,     0.38038,     0.38138,     0.38238,     0.38338,\n",
       "           0.38438,     0.38539,     0.38639,     0.38739,     0.38839,     0.38939,     0.39039,     0.39139,     0.39239,     0.39339,     0.39439,      0.3954,      0.3964,      0.3974,      0.3984,      0.3994,      0.4004,      0.4014,      0.4024,      0.4034,      0.4044,     0.40541,     0.40641,     0.40741,\n",
       "           0.40841,     0.40941,     0.41041,     0.41141,     0.41241,     0.41341,     0.41441,     0.41542,     0.41642,     0.41742,     0.41842,     0.41942,     0.42042,     0.42142,     0.42242,     0.42342,     0.42442,     0.42543,     0.42643,     0.42743,     0.42843,     0.42943,     0.43043,     0.43143,\n",
       "           0.43243,     0.43343,     0.43443,     0.43544,     0.43644,     0.43744,     0.43844,     0.43944,     0.44044,     0.44144,     0.44244,     0.44344,     0.44444,     0.44545,     0.44645,     0.44745,     0.44845,     0.44945,     0.45045,     0.45145,     0.45245,     0.45345,     0.45445,     0.45546,\n",
       "           0.45646,     0.45746,     0.45846,     0.45946,     0.46046,     0.46146,     0.46246,     0.46346,     0.46446,     0.46547,     0.46647,     0.46747,     0.46847,     0.46947,     0.47047,     0.47147,     0.47247,     0.47347,     0.47447,     0.47548,     0.47648,     0.47748,     0.47848,     0.47948,\n",
       "           0.48048,     0.48148,     0.48248,     0.48348,     0.48448,     0.48549,     0.48649,     0.48749,     0.48849,     0.48949,     0.49049,     0.49149,     0.49249,     0.49349,     0.49449,      0.4955,      0.4965,      0.4975,      0.4985,      0.4995,      0.5005,      0.5015,      0.5025,      0.5035,\n",
       "            0.5045,     0.50551,     0.50651,     0.50751,     0.50851,     0.50951,     0.51051,     0.51151,     0.51251,     0.51351,     0.51451,     0.51552,     0.51652,     0.51752,     0.51852,     0.51952,     0.52052,     0.52152,     0.52252,     0.52352,     0.52452,     0.52553,     0.52653,     0.52753,\n",
       "           0.52853,     0.52953,     0.53053,     0.53153,     0.53253,     0.53353,     0.53453,     0.53554,     0.53654,     0.53754,     0.53854,     0.53954,     0.54054,     0.54154,     0.54254,     0.54354,     0.54454,     0.54555,     0.54655,     0.54755,     0.54855,     0.54955,     0.55055,     0.55155,\n",
       "           0.55255,     0.55355,     0.55455,     0.55556,     0.55656,     0.55756,     0.55856,     0.55956,     0.56056,     0.56156,     0.56256,     0.56356,     0.56456,     0.56557,     0.56657,     0.56757,     0.56857,     0.56957,     0.57057,     0.57157,     0.57257,     0.57357,     0.57457,     0.57558,\n",
       "           0.57658,     0.57758,     0.57858,     0.57958,     0.58058,     0.58158,     0.58258,     0.58358,     0.58458,     0.58559,     0.58659,     0.58759,     0.58859,     0.58959,     0.59059,     0.59159,     0.59259,     0.59359,     0.59459,      0.5956,      0.5966,      0.5976,      0.5986,      0.5996,\n",
       "            0.6006,      0.6016,      0.6026,      0.6036,      0.6046,     0.60561,     0.60661,     0.60761,     0.60861,     0.60961,     0.61061,     0.61161,     0.61261,     0.61361,     0.61461,     0.61562,     0.61662,     0.61762,     0.61862,     0.61962,     0.62062,     0.62162,     0.62262,     0.62362,\n",
       "           0.62462,     0.62563,     0.62663,     0.62763,     0.62863,     0.62963,     0.63063,     0.63163,     0.63263,     0.63363,     0.63463,     0.63564,     0.63664,     0.63764,     0.63864,     0.63964,     0.64064,     0.64164,     0.64264,     0.64364,     0.64464,     0.64565,     0.64665,     0.64765,\n",
       "           0.64865,     0.64965,     0.65065,     0.65165,     0.65265,     0.65365,     0.65465,     0.65566,     0.65666,     0.65766,     0.65866,     0.65966,     0.66066,     0.66166,     0.66266,     0.66366,     0.66466,     0.66567,     0.66667,     0.66767,     0.66867,     0.66967,     0.67067,     0.67167,\n",
       "           0.67267,     0.67367,     0.67467,     0.67568,     0.67668,     0.67768,     0.67868,     0.67968,     0.68068,     0.68168,     0.68268,     0.68368,     0.68468,     0.68569,     0.68669,     0.68769,     0.68869,     0.68969,     0.69069,     0.69169,     0.69269,     0.69369,     0.69469,      0.6957,\n",
       "            0.6967,      0.6977,      0.6987,      0.6997,      0.7007,      0.7017,      0.7027,      0.7037,      0.7047,     0.70571,     0.70671,     0.70771,     0.70871,     0.70971,     0.71071,     0.71171,     0.71271,     0.71371,     0.71471,     0.71572,     0.71672,     0.71772,     0.71872,     0.71972,\n",
       "           0.72072,     0.72172,     0.72272,     0.72372,     0.72472,     0.72573,     0.72673,     0.72773,     0.72873,     0.72973,     0.73073,     0.73173,     0.73273,     0.73373,     0.73473,     0.73574,     0.73674,     0.73774,     0.73874,     0.73974,     0.74074,     0.74174,     0.74274,     0.74374,\n",
       "           0.74474,     0.74575,     0.74675,     0.74775,     0.74875,     0.74975,     0.75075,     0.75175,     0.75275,     0.75375,     0.75475,     0.75576,     0.75676,     0.75776,     0.75876,     0.75976,     0.76076,     0.76176,     0.76276,     0.76376,     0.76476,     0.76577,     0.76677,     0.76777,\n",
       "           0.76877,     0.76977,     0.77077,     0.77177,     0.77277,     0.77377,     0.77477,     0.77578,     0.77678,     0.77778,     0.77878,     0.77978,     0.78078,     0.78178,     0.78278,     0.78378,     0.78478,     0.78579,     0.78679,     0.78779,     0.78879,     0.78979,     0.79079,     0.79179,\n",
       "           0.79279,     0.79379,     0.79479,      0.7958,      0.7968,      0.7978,      0.7988,      0.7998,      0.8008,      0.8018,      0.8028,      0.8038,      0.8048,     0.80581,     0.80681,     0.80781,     0.80881,     0.80981,     0.81081,     0.81181,     0.81281,     0.81381,     0.81481,     0.81582,\n",
       "           0.81682,     0.81782,     0.81882,     0.81982,     0.82082,     0.82182,     0.82282,     0.82382,     0.82482,     0.82583,     0.82683,     0.82783,     0.82883,     0.82983,     0.83083,     0.83183,     0.83283,     0.83383,     0.83483,     0.83584,     0.83684,     0.83784,     0.83884,     0.83984,\n",
       "           0.84084,     0.84184,     0.84284,     0.84384,     0.84484,     0.84585,     0.84685,     0.84785,     0.84885,     0.84985,     0.85085,     0.85185,     0.85285,     0.85385,     0.85485,     0.85586,     0.85686,     0.85786,     0.85886,     0.85986,     0.86086,     0.86186,     0.86286,     0.86386,\n",
       "           0.86486,     0.86587,     0.86687,     0.86787,     0.86887,     0.86987,     0.87087,     0.87187,     0.87287,     0.87387,     0.87487,     0.87588,     0.87688,     0.87788,     0.87888,     0.87988,     0.88088,     0.88188,     0.88288,     0.88388,     0.88488,     0.88589,     0.88689,     0.88789,\n",
       "           0.88889,     0.88989,     0.89089,     0.89189,     0.89289,     0.89389,     0.89489,      0.8959,      0.8969,      0.8979,      0.8989,      0.8999,      0.9009,      0.9019,      0.9029,      0.9039,      0.9049,     0.90591,     0.90691,     0.90791,     0.90891,     0.90991,     0.91091,     0.91191,\n",
       "           0.91291,     0.91391,     0.91491,     0.91592,     0.91692,     0.91792,     0.91892,     0.91992,     0.92092,     0.92192,     0.92292,     0.92392,     0.92492,     0.92593,     0.92693,     0.92793,     0.92893,     0.92993,     0.93093,     0.93193,     0.93293,     0.93393,     0.93493,     0.93594,\n",
       "           0.93694,     0.93794,     0.93894,     0.93994,     0.94094,     0.94194,     0.94294,     0.94394,     0.94494,     0.94595,     0.94695,     0.94795,     0.94895,     0.94995,     0.95095,     0.95195,     0.95295,     0.95395,     0.95495,     0.95596,     0.95696,     0.95796,     0.95896,     0.95996,\n",
       "           0.96096,     0.96196,     0.96296,     0.96396,     0.96496,     0.96597,     0.96697,     0.96797,     0.96897,     0.96997,     0.97097,     0.97197,     0.97297,     0.97397,     0.97497,     0.97598,     0.97698,     0.97798,     0.97898,     0.97998,     0.98098,     0.98198,     0.98298,     0.98398,\n",
       "           0.98498,     0.98599,     0.98699,     0.98799,     0.98899,     0.98999,     0.99099,     0.99199,     0.99299,     0.99399,     0.99499,       0.996,       0.997,       0.998,       0.999,           1]), array([[          1,           1,           1,           1,           1,           1,           1,           1,           1,           1,           1,           1,           1,           1,           1,           1,           1,           1,           1,           1,           1,           1,           1,\n",
       "                  1,           1,           1,           1,           1,           1,           1,           1,           1,           1,           1,           1,           1,           1,           1,           1,           1,           1,           1,           1,           1,           1,           1,\n",
       "                  1,           1,           1,           1,           1,           1,           1,           1,           1,           1,           1,           1,           1,           1,           1,           1,           1,           1,           1,           1,           1,           1,           1,\n",
       "                  1,           1,           1,           1,           1,      0.9992,      0.9992,      0.9992,      0.9992,      0.9992,      0.9992,      0.9992,      0.9992,      0.9992,      0.9992,      0.9992,      0.9992,      0.9992,      0.9992,      0.9992,      0.9992,      0.9992,      0.9992,\n",
       "             0.9992,      0.9992,      0.9992,      0.9992,     0.99854,     0.99854,     0.99854,     0.99854,     0.99854,     0.99854,     0.99854,     0.99854,     0.99854,     0.99792,     0.99792,     0.99792,     0.99792,     0.99792,     0.99792,     0.99604,     0.99604,     0.99604,     0.99604,\n",
       "            0.99604,     0.99552,     0.99552,     0.99552,     0.99529,     0.99529,     0.99529,     0.99529,     0.99529,     0.99529,     0.99529,     0.99529,     0.99529,     0.99529,     0.99529,     0.99475,     0.99449,     0.99449,     0.99449,     0.99449,     0.99449,     0.99449,     0.99449,\n",
       "            0.99449,     0.99424,     0.99424,     0.99424,     0.99424,     0.99424,     0.99424,     0.99424,     0.99382,     0.99382,     0.99342,     0.99342,     0.99342,     0.99271,     0.99271,     0.99271,     0.99271,     0.99271,     0.99271,      0.9925,      0.9925,      0.9925,      0.9925,\n",
       "             0.9925,     0.99207,      0.9919,      0.9919,      0.9919,      0.9919,      0.9919,      0.9919,     0.99109,     0.99109,     0.99074,      0.9906,      0.9906,      0.9906,      0.9906,      0.9906,      0.9906,      0.9903,      0.9903,      0.9899,      0.9899,      0.9899,      0.9899,\n",
       "             0.9899,      0.9899,      0.9899,      0.9899,      0.9899,      0.9899,      0.9899,      0.9899,      0.9899,      0.9899,      0.9899,     0.98918,     0.98884,     0.98881,     0.98881,     0.98881,     0.98881,     0.98881,     0.98881,     0.98876,     0.98876,     0.98876,     0.98876,\n",
       "            0.98876,     0.98876,     0.98856,     0.98856,     0.98856,     0.98826,     0.98803,     0.98803,     0.98787,     0.98787,     0.98787,     0.98776,     0.98776,     0.98776,     0.98776,     0.98776,     0.98725,     0.98725,     0.98695,     0.98668,     0.98639,     0.98622,     0.98622,\n",
       "            0.98622,     0.98622,     0.98622,     0.98622,     0.98622,     0.98622,     0.98621,     0.98621,     0.98621,     0.98621,     0.98621,     0.98606,     0.98606,     0.98606,     0.98585,     0.98585,     0.98532,     0.98481,     0.98437,     0.98437,     0.98437,     0.98431,     0.98431,\n",
       "            0.98431,     0.98431,     0.98431,     0.98431,     0.98431,     0.98431,     0.98431,     0.98431,     0.98431,     0.98431,     0.98431,     0.98431,     0.98431,     0.98431,     0.98431,     0.98431,     0.98409,     0.98393,     0.98393,     0.98393,     0.98393,     0.98393,     0.98393,\n",
       "            0.98393,     0.98393,     0.98393,     0.98393,     0.98393,     0.98386,     0.98386,     0.98386,     0.98386,     0.98366,     0.98345,     0.98337,     0.98337,     0.98337,     0.98316,      0.9829,      0.9829,      0.9829,      0.9829,     0.98252,     0.98252,     0.98236,     0.98236,\n",
       "            0.98195,     0.98175,     0.98162,     0.98162,      0.9815,      0.9815,     0.98112,      0.9809,     0.98062,     0.98062,     0.98062,     0.98056,     0.98056,     0.98056,     0.98011,     0.98011,     0.98011,     0.98011,     0.97974,     0.97957,     0.97944,     0.97944,     0.97944,\n",
       "            0.97944,     0.97944,     0.97944,     0.97944,     0.97944,     0.97944,     0.97941,     0.97941,     0.97941,     0.97941,     0.97941,     0.97941,     0.97941,     0.97924,     0.97913,     0.97913,     0.97817,     0.97817,     0.97759,     0.97747,      0.9772,      0.9772,      0.9772,\n",
       "             0.9766,      0.9766,      0.9766,     0.97644,     0.97601,     0.97601,     0.97601,     0.97564,      0.9755,     0.97523,     0.97523,     0.97496,     0.97496,     0.97496,     0.97496,     0.97496,     0.97451,     0.97451,     0.97451,     0.97451,     0.97451,     0.97451,     0.97451,\n",
       "            0.97451,     0.97451,     0.97451,     0.97451,     0.97447,     0.97447,     0.97413,     0.97407,     0.97407,     0.97379,     0.97369,     0.97369,     0.97361,     0.97354,     0.97354,     0.97354,     0.97354,     0.97354,     0.97287,     0.97283,     0.97283,     0.97272,     0.97263,\n",
       "            0.97263,      0.9723,      0.9723,      0.9723,      0.9723,      0.9723,      0.9723,     0.97201,     0.97171,     0.97147,     0.97134,     0.97104,     0.97075,     0.97069,     0.97069,     0.97069,     0.97069,     0.97069,     0.97069,     0.97069,     0.97069,     0.97069,     0.97066,\n",
       "            0.97066,     0.97038,     0.97023,     0.96999,     0.96985,     0.96969,     0.96969,     0.96964,     0.96964,     0.96964,     0.96964,     0.96951,     0.96939,     0.96935,     0.96934,     0.96934,     0.96934,     0.96929,     0.96913,     0.96899,     0.96899,     0.96899,     0.96899,\n",
       "            0.96899,     0.96899,     0.96899,     0.96899,     0.96899,     0.96884,     0.96859,     0.96851,      0.9685,      0.9685,     0.96838,     0.96834,     0.96834,     0.96834,     0.96834,     0.96834,     0.96834,     0.96823,     0.96816,     0.96816,     0.96816,     0.96816,     0.96813,\n",
       "            0.96801,     0.96791,     0.96776,     0.96776,     0.96771,     0.96771,     0.96747,     0.96738,     0.96714,     0.96698,     0.96698,     0.96698,     0.96698,     0.96698,     0.96698,     0.96695,     0.96695,      0.9668,      0.9668,     0.96662,     0.96662,     0.96647,     0.96647,\n",
       "            0.96624,     0.96612,     0.96576,      0.9657,     0.96562,     0.96532,     0.96532,     0.96532,     0.96532,     0.96532,     0.96532,     0.96514,     0.96514,      0.9649,     0.96488,     0.96488,     0.96488,     0.96488,     0.96488,     0.96488,     0.96488,     0.96488,     0.96488,\n",
       "            0.96488,     0.96488,     0.96488,     0.96483,     0.96476,     0.96461,     0.96461,     0.96461,     0.96461,     0.96461,     0.96461,     0.96461,     0.96461,     0.96454,     0.96453,     0.96453,     0.96453,     0.96453,     0.96453,     0.96453,     0.96443,     0.96424,     0.96414,\n",
       "            0.96399,     0.96399,     0.96367,     0.96359,     0.96299,     0.96294,     0.96286,     0.96258,     0.96246,     0.96243,     0.96243,     0.96243,     0.96243,     0.96243,     0.96243,     0.96243,      0.9623,      0.9623,      0.9623,      0.9623,      0.9623,      0.9623,      0.9623,\n",
       "             0.9623,      0.9623,      0.9623,      0.9623,      0.9623,     0.96213,     0.96201,     0.96201,      0.9618,     0.96169,     0.96169,     0.96151,     0.96151,     0.96151,     0.96151,     0.96151,     0.96151,     0.96151,     0.96151,     0.96151,     0.96122,     0.96086,     0.96086,\n",
       "            0.96085,     0.96085,     0.96079,     0.96052,     0.96044,      0.9601,      0.9601,     0.96003,     0.95999,     0.95999,     0.95999,     0.95969,     0.95964,     0.95949,     0.95949,     0.95949,     0.95919,     0.95914,     0.95908,     0.95907,     0.95898,     0.95884,     0.95876,\n",
       "            0.95872,     0.95872,     0.95872,     0.95869,     0.95858,     0.95858,     0.95834,     0.95834,     0.95807,     0.95806,     0.95806,     0.95806,     0.95787,     0.95763,      0.9574,      0.9574,      0.9574,      0.9574,      0.9574,      0.9574,      0.9574,     0.95735,     0.95735,\n",
       "            0.95735,     0.95735,     0.95727,     0.95727,     0.95727,     0.95727,     0.95727,     0.95727,     0.95726,     0.95726,     0.95706,     0.95706,     0.95702,     0.95699,     0.95696,     0.95696,     0.95696,     0.95696,     0.95696,     0.95696,     0.95696,     0.95696,     0.95696,\n",
       "            0.95696,     0.95694,     0.95694,     0.95694,     0.95693,     0.95686,      0.9566,     0.95659,     0.95651,      0.9565,     0.95641,     0.95612,     0.95612,     0.95608,     0.95608,     0.95608,     0.95604,     0.95589,     0.95572,     0.95572,     0.95572,     0.95572,     0.95572,\n",
       "            0.95564,     0.95564,     0.95559,     0.95556,     0.95538,     0.95503,     0.95503,     0.95499,     0.95499,     0.95499,     0.95466,     0.95463,     0.95461,     0.95461,      0.9545,      0.9545,      0.9545,     0.95446,     0.95446,     0.95446,     0.95446,     0.95446,     0.95446,\n",
       "            0.95446,     0.95441,     0.95426,     0.95421,     0.95421,     0.95421,     0.95421,     0.95421,     0.95421,     0.95421,     0.95421,     0.95417,     0.95409,     0.95409,     0.95401,     0.95397,     0.95376,     0.95365,     0.95358,     0.95335,      0.9533,     0.95325,     0.95325,\n",
       "            0.95325,     0.95325,     0.95325,     0.95297,     0.95297,     0.95294,      0.9529,     0.95285,     0.95264,     0.95264,     0.95258,     0.95253,     0.95246,     0.95246,     0.95246,     0.95242,     0.95241,     0.95225,     0.95225,     0.95225,     0.95225,     0.95201,      0.9519,\n",
       "            0.95158,      0.9511,      0.9511,      0.9511,     0.95094,     0.95094,     0.95094,     0.95081,      0.9507,      0.9507,      0.9507,      0.9507,      0.9507,      0.9507,      0.9507,      0.9507,      0.9507,      0.9507,      0.9507,      0.9507,      0.9507,      0.9507,      0.9507,\n",
       "             0.9507,      0.9507,     0.95067,     0.95067,     0.95067,     0.95067,     0.95053,     0.95032,     0.95022,     0.95007,     0.94997,     0.94987,     0.94983,     0.94978,     0.94955,     0.94955,     0.94919,     0.94909,     0.94896,     0.94896,     0.94896,     0.94896,     0.94896,\n",
       "            0.94892,     0.94892,     0.94892,     0.94891,     0.94871,     0.94868,     0.94859,     0.94857,     0.94845,     0.94834,     0.94827,     0.94827,     0.94799,     0.94778,     0.94771,     0.94768,     0.94763,      0.9475,      0.9475,     0.94748,     0.94739,     0.94737,     0.94723,\n",
       "            0.94723,     0.94709,     0.94645,     0.94645,     0.94577,     0.94567,     0.94554,     0.94537,     0.94493,     0.94464,     0.94446,     0.94419,       0.944,     0.94375,     0.94355,     0.94338,     0.94319,     0.94319,     0.94314,     0.94282,      0.9427,     0.94235,     0.94195,\n",
       "            0.94169,     0.94108,     0.94075,     0.94049,     0.93997,     0.93964,      0.9393,     0.93841,     0.93823,     0.93736,     0.93712,     0.93688,     0.93682,     0.93658,      0.9365,     0.93576,     0.93551,     0.93487,     0.93416,     0.93375,     0.93297,     0.93257,     0.93179,\n",
       "            0.93007,     0.92914,     0.92753,     0.92629,     0.92529,     0.92369,     0.92264,      0.9206,     0.91872,     0.91671,      0.9142,     0.91239,     0.91106,     0.90846,      0.9068,     0.90524,     0.90447,     0.90305,     0.90119,     0.90074,     0.89914,     0.89684,     0.89526,\n",
       "            0.89375,     0.89109,      0.8896,     0.88891,      0.8877,     0.88542,      0.8839,     0.88198,     0.87968,     0.87779,     0.87545,     0.87307,     0.87129,     0.86869,     0.86525,      0.8618,     0.85939,     0.85789,     0.85693,     0.85362,     0.85146,     0.84901,     0.84578,\n",
       "            0.84156,     0.83817,     0.83575,     0.83237,     0.83064,     0.82603,     0.82056,     0.81367,     0.81043,     0.80642,     0.79984,     0.79164,     0.77672,     0.76497,     0.74271,     0.72321,     0.70208,      0.6546,     0.61054,     0.57642,      0.5185,     0.50984,     0.50355,\n",
       "            0.49725,     0.49096,     0.48466,     0.47837,     0.47207,     0.46578,     0.45949,     0.45319,      0.4469,      0.4406,     0.43431,     0.42801,     0.42172,     0.41543,     0.40913,     0.40284,     0.39654,     0.39025,     0.38395,     0.37766,     0.37137,     0.36507,     0.35878,\n",
       "            0.35248,     0.34619,     0.33989,      0.3336,      0.3273,     0.32101,     0.31472,     0.30842,     0.30213,     0.29583,     0.28954,     0.28324,     0.27695,     0.27066,     0.26436,     0.25807,     0.25177,     0.24548,     0.23918,     0.23289,      0.2266,      0.2203,     0.21401,\n",
       "            0.20771,     0.20142,     0.19512,     0.18883,     0.18254,     0.17624,     0.16995,     0.16365,     0.15736,     0.15106,     0.14477,     0.13848,     0.13218,     0.12589,     0.11959,      0.1133,       0.107,     0.10071,    0.094415,    0.088121,    0.081826,    0.075532,    0.069238,\n",
       "           0.062943,    0.056649,    0.050355,     0.04406,    0.037766,    0.031472,    0.025177,    0.018883,    0.012589,   0.0062943,           0]]), 'Recall', 'Precision'], [array([          0,    0.001001,    0.002002,    0.003003,    0.004004,    0.005005,    0.006006,    0.007007,    0.008008,    0.009009,     0.01001,    0.011011,    0.012012,    0.013013,    0.014014,    0.015015,    0.016016,    0.017017,    0.018018,    0.019019,     0.02002,    0.021021,    0.022022,    0.023023,\n",
       "          0.024024,    0.025025,    0.026026,    0.027027,    0.028028,    0.029029,     0.03003,    0.031031,    0.032032,    0.033033,    0.034034,    0.035035,    0.036036,    0.037037,    0.038038,    0.039039,     0.04004,    0.041041,    0.042042,    0.043043,    0.044044,    0.045045,    0.046046,    0.047047,\n",
       "          0.048048,    0.049049,     0.05005,    0.051051,    0.052052,    0.053053,    0.054054,    0.055055,    0.056056,    0.057057,    0.058058,    0.059059,     0.06006,    0.061061,    0.062062,    0.063063,    0.064064,    0.065065,    0.066066,    0.067067,    0.068068,    0.069069,     0.07007,    0.071071,\n",
       "          0.072072,    0.073073,    0.074074,    0.075075,    0.076076,    0.077077,    0.078078,    0.079079,     0.08008,    0.081081,    0.082082,    0.083083,    0.084084,    0.085085,    0.086086,    0.087087,    0.088088,    0.089089,     0.09009,    0.091091,    0.092092,    0.093093,    0.094094,    0.095095,\n",
       "          0.096096,    0.097097,    0.098098,    0.099099,      0.1001,      0.1011,      0.1021,      0.1031,      0.1041,     0.10511,     0.10611,     0.10711,     0.10811,     0.10911,     0.11011,     0.11111,     0.11211,     0.11311,     0.11411,     0.11512,     0.11612,     0.11712,     0.11812,     0.11912,\n",
       "           0.12012,     0.12112,     0.12212,     0.12312,     0.12412,     0.12513,     0.12613,     0.12713,     0.12813,     0.12913,     0.13013,     0.13113,     0.13213,     0.13313,     0.13413,     0.13514,     0.13614,     0.13714,     0.13814,     0.13914,     0.14014,     0.14114,     0.14214,     0.14314,\n",
       "           0.14414,     0.14515,     0.14615,     0.14715,     0.14815,     0.14915,     0.15015,     0.15115,     0.15215,     0.15315,     0.15415,     0.15516,     0.15616,     0.15716,     0.15816,     0.15916,     0.16016,     0.16116,     0.16216,     0.16316,     0.16416,     0.16517,     0.16617,     0.16717,\n",
       "           0.16817,     0.16917,     0.17017,     0.17117,     0.17217,     0.17317,     0.17417,     0.17518,     0.17618,     0.17718,     0.17818,     0.17918,     0.18018,     0.18118,     0.18218,     0.18318,     0.18418,     0.18519,     0.18619,     0.18719,     0.18819,     0.18919,     0.19019,     0.19119,\n",
       "           0.19219,     0.19319,     0.19419,      0.1952,      0.1962,      0.1972,      0.1982,      0.1992,      0.2002,      0.2012,      0.2022,      0.2032,      0.2042,     0.20521,     0.20621,     0.20721,     0.20821,     0.20921,     0.21021,     0.21121,     0.21221,     0.21321,     0.21421,     0.21522,\n",
       "           0.21622,     0.21722,     0.21822,     0.21922,     0.22022,     0.22122,     0.22222,     0.22322,     0.22422,     0.22523,     0.22623,     0.22723,     0.22823,     0.22923,     0.23023,     0.23123,     0.23223,     0.23323,     0.23423,     0.23524,     0.23624,     0.23724,     0.23824,     0.23924,\n",
       "           0.24024,     0.24124,     0.24224,     0.24324,     0.24424,     0.24525,     0.24625,     0.24725,     0.24825,     0.24925,     0.25025,     0.25125,     0.25225,     0.25325,     0.25425,     0.25526,     0.25626,     0.25726,     0.25826,     0.25926,     0.26026,     0.26126,     0.26226,     0.26326,\n",
       "           0.26426,     0.26527,     0.26627,     0.26727,     0.26827,     0.26927,     0.27027,     0.27127,     0.27227,     0.27327,     0.27427,     0.27528,     0.27628,     0.27728,     0.27828,     0.27928,     0.28028,     0.28128,     0.28228,     0.28328,     0.28428,     0.28529,     0.28629,     0.28729,\n",
       "           0.28829,     0.28929,     0.29029,     0.29129,     0.29229,     0.29329,     0.29429,      0.2953,      0.2963,      0.2973,      0.2983,      0.2993,      0.3003,      0.3013,      0.3023,      0.3033,      0.3043,     0.30531,     0.30631,     0.30731,     0.30831,     0.30931,     0.31031,     0.31131,\n",
       "           0.31231,     0.31331,     0.31431,     0.31532,     0.31632,     0.31732,     0.31832,     0.31932,     0.32032,     0.32132,     0.32232,     0.32332,     0.32432,     0.32533,     0.32633,     0.32733,     0.32833,     0.32933,     0.33033,     0.33133,     0.33233,     0.33333,     0.33433,     0.33534,\n",
       "           0.33634,     0.33734,     0.33834,     0.33934,     0.34034,     0.34134,     0.34234,     0.34334,     0.34434,     0.34535,     0.34635,     0.34735,     0.34835,     0.34935,     0.35035,     0.35135,     0.35235,     0.35335,     0.35435,     0.35536,     0.35636,     0.35736,     0.35836,     0.35936,\n",
       "           0.36036,     0.36136,     0.36236,     0.36336,     0.36436,     0.36537,     0.36637,     0.36737,     0.36837,     0.36937,     0.37037,     0.37137,     0.37237,     0.37337,     0.37437,     0.37538,     0.37638,     0.37738,     0.37838,     0.37938,     0.38038,     0.38138,     0.38238,     0.38338,\n",
       "           0.38438,     0.38539,     0.38639,     0.38739,     0.38839,     0.38939,     0.39039,     0.39139,     0.39239,     0.39339,     0.39439,      0.3954,      0.3964,      0.3974,      0.3984,      0.3994,      0.4004,      0.4014,      0.4024,      0.4034,      0.4044,     0.40541,     0.40641,     0.40741,\n",
       "           0.40841,     0.40941,     0.41041,     0.41141,     0.41241,     0.41341,     0.41441,     0.41542,     0.41642,     0.41742,     0.41842,     0.41942,     0.42042,     0.42142,     0.42242,     0.42342,     0.42442,     0.42543,     0.42643,     0.42743,     0.42843,     0.42943,     0.43043,     0.43143,\n",
       "           0.43243,     0.43343,     0.43443,     0.43544,     0.43644,     0.43744,     0.43844,     0.43944,     0.44044,     0.44144,     0.44244,     0.44344,     0.44444,     0.44545,     0.44645,     0.44745,     0.44845,     0.44945,     0.45045,     0.45145,     0.45245,     0.45345,     0.45445,     0.45546,\n",
       "           0.45646,     0.45746,     0.45846,     0.45946,     0.46046,     0.46146,     0.46246,     0.46346,     0.46446,     0.46547,     0.46647,     0.46747,     0.46847,     0.46947,     0.47047,     0.47147,     0.47247,     0.47347,     0.47447,     0.47548,     0.47648,     0.47748,     0.47848,     0.47948,\n",
       "           0.48048,     0.48148,     0.48248,     0.48348,     0.48448,     0.48549,     0.48649,     0.48749,     0.48849,     0.48949,     0.49049,     0.49149,     0.49249,     0.49349,     0.49449,      0.4955,      0.4965,      0.4975,      0.4985,      0.4995,      0.5005,      0.5015,      0.5025,      0.5035,\n",
       "            0.5045,     0.50551,     0.50651,     0.50751,     0.50851,     0.50951,     0.51051,     0.51151,     0.51251,     0.51351,     0.51451,     0.51552,     0.51652,     0.51752,     0.51852,     0.51952,     0.52052,     0.52152,     0.52252,     0.52352,     0.52452,     0.52553,     0.52653,     0.52753,\n",
       "           0.52853,     0.52953,     0.53053,     0.53153,     0.53253,     0.53353,     0.53453,     0.53554,     0.53654,     0.53754,     0.53854,     0.53954,     0.54054,     0.54154,     0.54254,     0.54354,     0.54454,     0.54555,     0.54655,     0.54755,     0.54855,     0.54955,     0.55055,     0.55155,\n",
       "           0.55255,     0.55355,     0.55455,     0.55556,     0.55656,     0.55756,     0.55856,     0.55956,     0.56056,     0.56156,     0.56256,     0.56356,     0.56456,     0.56557,     0.56657,     0.56757,     0.56857,     0.56957,     0.57057,     0.57157,     0.57257,     0.57357,     0.57457,     0.57558,\n",
       "           0.57658,     0.57758,     0.57858,     0.57958,     0.58058,     0.58158,     0.58258,     0.58358,     0.58458,     0.58559,     0.58659,     0.58759,     0.58859,     0.58959,     0.59059,     0.59159,     0.59259,     0.59359,     0.59459,      0.5956,      0.5966,      0.5976,      0.5986,      0.5996,\n",
       "            0.6006,      0.6016,      0.6026,      0.6036,      0.6046,     0.60561,     0.60661,     0.60761,     0.60861,     0.60961,     0.61061,     0.61161,     0.61261,     0.61361,     0.61461,     0.61562,     0.61662,     0.61762,     0.61862,     0.61962,     0.62062,     0.62162,     0.62262,     0.62362,\n",
       "           0.62462,     0.62563,     0.62663,     0.62763,     0.62863,     0.62963,     0.63063,     0.63163,     0.63263,     0.63363,     0.63463,     0.63564,     0.63664,     0.63764,     0.63864,     0.63964,     0.64064,     0.64164,     0.64264,     0.64364,     0.64464,     0.64565,     0.64665,     0.64765,\n",
       "           0.64865,     0.64965,     0.65065,     0.65165,     0.65265,     0.65365,     0.65465,     0.65566,     0.65666,     0.65766,     0.65866,     0.65966,     0.66066,     0.66166,     0.66266,     0.66366,     0.66466,     0.66567,     0.66667,     0.66767,     0.66867,     0.66967,     0.67067,     0.67167,\n",
       "           0.67267,     0.67367,     0.67467,     0.67568,     0.67668,     0.67768,     0.67868,     0.67968,     0.68068,     0.68168,     0.68268,     0.68368,     0.68468,     0.68569,     0.68669,     0.68769,     0.68869,     0.68969,     0.69069,     0.69169,     0.69269,     0.69369,     0.69469,      0.6957,\n",
       "            0.6967,      0.6977,      0.6987,      0.6997,      0.7007,      0.7017,      0.7027,      0.7037,      0.7047,     0.70571,     0.70671,     0.70771,     0.70871,     0.70971,     0.71071,     0.71171,     0.71271,     0.71371,     0.71471,     0.71572,     0.71672,     0.71772,     0.71872,     0.71972,\n",
       "           0.72072,     0.72172,     0.72272,     0.72372,     0.72472,     0.72573,     0.72673,     0.72773,     0.72873,     0.72973,     0.73073,     0.73173,     0.73273,     0.73373,     0.73473,     0.73574,     0.73674,     0.73774,     0.73874,     0.73974,     0.74074,     0.74174,     0.74274,     0.74374,\n",
       "           0.74474,     0.74575,     0.74675,     0.74775,     0.74875,     0.74975,     0.75075,     0.75175,     0.75275,     0.75375,     0.75475,     0.75576,     0.75676,     0.75776,     0.75876,     0.75976,     0.76076,     0.76176,     0.76276,     0.76376,     0.76476,     0.76577,     0.76677,     0.76777,\n",
       "           0.76877,     0.76977,     0.77077,     0.77177,     0.77277,     0.77377,     0.77477,     0.77578,     0.77678,     0.77778,     0.77878,     0.77978,     0.78078,     0.78178,     0.78278,     0.78378,     0.78478,     0.78579,     0.78679,     0.78779,     0.78879,     0.78979,     0.79079,     0.79179,\n",
       "           0.79279,     0.79379,     0.79479,      0.7958,      0.7968,      0.7978,      0.7988,      0.7998,      0.8008,      0.8018,      0.8028,      0.8038,      0.8048,     0.80581,     0.80681,     0.80781,     0.80881,     0.80981,     0.81081,     0.81181,     0.81281,     0.81381,     0.81481,     0.81582,\n",
       "           0.81682,     0.81782,     0.81882,     0.81982,     0.82082,     0.82182,     0.82282,     0.82382,     0.82482,     0.82583,     0.82683,     0.82783,     0.82883,     0.82983,     0.83083,     0.83183,     0.83283,     0.83383,     0.83483,     0.83584,     0.83684,     0.83784,     0.83884,     0.83984,\n",
       "           0.84084,     0.84184,     0.84284,     0.84384,     0.84484,     0.84585,     0.84685,     0.84785,     0.84885,     0.84985,     0.85085,     0.85185,     0.85285,     0.85385,     0.85485,     0.85586,     0.85686,     0.85786,     0.85886,     0.85986,     0.86086,     0.86186,     0.86286,     0.86386,\n",
       "           0.86486,     0.86587,     0.86687,     0.86787,     0.86887,     0.86987,     0.87087,     0.87187,     0.87287,     0.87387,     0.87487,     0.87588,     0.87688,     0.87788,     0.87888,     0.87988,     0.88088,     0.88188,     0.88288,     0.88388,     0.88488,     0.88589,     0.88689,     0.88789,\n",
       "           0.88889,     0.88989,     0.89089,     0.89189,     0.89289,     0.89389,     0.89489,      0.8959,      0.8969,      0.8979,      0.8989,      0.8999,      0.9009,      0.9019,      0.9029,      0.9039,      0.9049,     0.90591,     0.90691,     0.90791,     0.90891,     0.90991,     0.91091,     0.91191,\n",
       "           0.91291,     0.91391,     0.91491,     0.91592,     0.91692,     0.91792,     0.91892,     0.91992,     0.92092,     0.92192,     0.92292,     0.92392,     0.92492,     0.92593,     0.92693,     0.92793,     0.92893,     0.92993,     0.93093,     0.93193,     0.93293,     0.93393,     0.93493,     0.93594,\n",
       "           0.93694,     0.93794,     0.93894,     0.93994,     0.94094,     0.94194,     0.94294,     0.94394,     0.94494,     0.94595,     0.94695,     0.94795,     0.94895,     0.94995,     0.95095,     0.95195,     0.95295,     0.95395,     0.95495,     0.95596,     0.95696,     0.95796,     0.95896,     0.95996,\n",
       "           0.96096,     0.96196,     0.96296,     0.96396,     0.96496,     0.96597,     0.96697,     0.96797,     0.96897,     0.96997,     0.97097,     0.97197,     0.97297,     0.97397,     0.97497,     0.97598,     0.97698,     0.97798,     0.97898,     0.97998,     0.98098,     0.98198,     0.98298,     0.98398,\n",
       "           0.98498,     0.98599,     0.98699,     0.98799,     0.98899,     0.98999,     0.99099,     0.99199,     0.99299,     0.99399,     0.99499,       0.996,       0.997,       0.998,       0.999,           1]), array([[    0.66015,     0.66015,      0.7044,     0.72688,     0.74195,     0.75383,     0.76281,      0.7697,     0.77584,     0.78069,     0.78553,     0.78857,     0.79198,     0.79494,     0.79749,     0.79999,     0.80184,     0.80341,     0.80504,      0.8069,     0.80827,     0.80946,      0.8106,\n",
       "            0.81183,     0.81344,     0.81451,     0.81564,     0.81666,     0.81764,     0.81857,      0.8195,     0.82044,     0.82127,     0.82221,     0.82283,     0.82358,     0.82449,     0.82511,     0.82585,     0.82644,     0.82711,     0.82769,     0.82843,      0.8294,      0.8299,     0.83033,\n",
       "            0.83095,     0.83142,      0.8318,     0.83216,     0.83256,     0.83284,     0.83321,     0.83362,     0.83407,     0.83441,     0.83523,     0.83571,     0.83603,     0.83654,      0.8369,     0.83733,     0.83746,     0.83777,     0.83803,      0.8381,     0.83831,     0.83874,      0.8393,\n",
       "            0.83966,     0.84004,     0.84052,     0.84071,      0.8409,     0.84123,     0.84139,     0.84141,     0.84178,     0.84186,     0.84217,     0.84246,     0.84282,     0.84305,     0.84328,     0.84337,     0.84373,     0.84408,     0.84455,     0.84476,     0.84507,     0.84521,     0.84554,\n",
       "            0.84602,     0.84623,     0.84628,     0.84651,     0.84668,     0.84701,     0.84715,     0.84726,      0.8477,       0.848,     0.84818,     0.84845,     0.84859,      0.8488,     0.84891,     0.84908,     0.84915,     0.84931,     0.84947,     0.84977,     0.84985,     0.85003,     0.85026,\n",
       "            0.85043,      0.8505,     0.85066,     0.85085,     0.85096,     0.85116,     0.85127,     0.85144,     0.85163,     0.85174,     0.85194,     0.85205,     0.85224,     0.85232,     0.85243,     0.85262,      0.8527,     0.85276,     0.85278,     0.85303,     0.85327,      0.8536,     0.85371,\n",
       "            0.85373,     0.85395,     0.85403,     0.85411,     0.85417,     0.85427,     0.85441,     0.85447,     0.85467,     0.85489,     0.85495,     0.85502,     0.85512,     0.85524,     0.85523,     0.85531,     0.85536,     0.85549,     0.85556,     0.85566,     0.85569,     0.85581,     0.85583,\n",
       "            0.85587,     0.85598,     0.85599,     0.85626,      0.8564,     0.85636,     0.85651,     0.85672,     0.85687,     0.85692,     0.85702,     0.85701,     0.85712,     0.85727,     0.85738,     0.85745,     0.85759,     0.85774,     0.85789,     0.85811,     0.85818,     0.85832,     0.85841,\n",
       "            0.85849,     0.85867,     0.85891,     0.85895,     0.85899,     0.85919,     0.85929,     0.85937,     0.85961,     0.85973,     0.85976,        0.86,      0.8601,     0.86019,     0.86021,     0.86045,     0.86058,     0.86069,     0.86084,     0.86114,     0.86128,      0.8615,     0.86155,\n",
       "            0.86158,     0.86179,     0.86182,     0.86197,     0.86208,     0.86211,     0.86217,     0.86225,     0.86226,     0.86239,     0.86253,     0.86276,     0.86274,     0.86278,      0.8628,      0.8628,     0.86295,     0.86298,     0.86303,     0.86325,     0.86339,     0.86365,     0.86383,\n",
       "            0.86406,      0.8642,     0.86434,     0.86444,     0.86451,     0.86458,     0.86464,     0.86469,     0.86477,     0.86478,     0.86486,       0.865,      0.8649,     0.86504,     0.86508,     0.86507,     0.86501,     0.86508,     0.86521,      0.8653,     0.86548,      0.8655,     0.86557,\n",
       "            0.86581,     0.86587,     0.86607,     0.86616,     0.86612,     0.86621,     0.86625,      0.8662,      0.8663,     0.86644,     0.86644,     0.86652,     0.86655,     0.86656,     0.86669,     0.86691,     0.86694,     0.86699,     0.86705,     0.86725,     0.86724,     0.86727,     0.86746,\n",
       "            0.86753,     0.86744,     0.86739,     0.86744,     0.86764,     0.86761,     0.86771,     0.86778,     0.86788,     0.86792,     0.86804,     0.86804,     0.86814,      0.8682,     0.86831,     0.86842,     0.86852,     0.86857,     0.86866,     0.86868,     0.86881,     0.86878,      0.8688,\n",
       "            0.86877,     0.86892,     0.86899,     0.86908,     0.86909,     0.86909,     0.86929,     0.86932,     0.86939,      0.8695,     0.86956,     0.86956,     0.86963,     0.86977,     0.86984,     0.86997,     0.87007,     0.87014,     0.87015,     0.87024,      0.8703,     0.87048,     0.87055,\n",
       "            0.87065,     0.87058,     0.87075,     0.87092,     0.87095,     0.87108,     0.87123,     0.87135,     0.87139,     0.87138,     0.87145,     0.87149,     0.87158,     0.87165,     0.87172,     0.87167,     0.87173,     0.87184,     0.87178,     0.87176,     0.87178,     0.87227,     0.87228,\n",
       "             0.8723,     0.87235,     0.87252,     0.87259,     0.87263,     0.87255,     0.87254,     0.87259,     0.87262,     0.87265,     0.87268,     0.87279,     0.87273,     0.87278,     0.87276,      0.8729,     0.87299,     0.87307,     0.87312,     0.87315,     0.87314,     0.87324,     0.87341,\n",
       "            0.87343,     0.87346,     0.87364,     0.87361,      0.8738,     0.87378,     0.87384,     0.87405,     0.87426,     0.87433,     0.87452,     0.87464,     0.87454,     0.87451,     0.87451,      0.8746,     0.87456,     0.87454,     0.87446,     0.87449,     0.87459,     0.87463,     0.87474,\n",
       "            0.87477,     0.87486,     0.87494,       0.875,     0.87513,     0.87513,     0.87513,     0.87519,     0.87535,     0.87545,     0.87548,      0.8755,     0.87557,     0.87556,     0.87566,     0.87562,     0.87557,     0.87563,     0.87572,     0.87585,     0.87589,     0.87597,     0.87617,\n",
       "            0.87635,     0.87646,      0.8765,     0.87661,     0.87666,     0.87666,     0.87684,     0.87699,     0.87706,     0.87708,     0.87713,     0.87717,     0.87723,      0.8773,      0.8774,     0.87744,      0.8776,     0.87766,     0.87776,     0.87789,     0.87799,     0.87803,     0.87802,\n",
       "            0.87809,      0.8781,     0.87819,     0.87825,     0.87818,     0.87828,     0.87841,     0.87856,     0.87859,     0.87865,      0.8787,     0.87868,     0.87874,     0.87896,     0.87907,     0.87905,     0.87912,     0.87917,     0.87928,     0.87926,     0.87931,     0.87938,     0.87944,\n",
       "            0.87955,     0.87953,     0.87956,     0.87955,     0.87957,     0.87964,     0.87967,     0.87993,     0.88008,     0.88014,     0.88008,     0.88003,     0.88001,     0.88007,     0.88024,      0.8803,     0.88046,     0.88053,     0.88058,     0.88067,     0.88081,     0.88086,     0.88084,\n",
       "            0.88093,     0.88092,     0.88098,     0.88122,     0.88136,     0.88123,     0.88129,     0.88139,     0.88141,     0.88154,     0.88166,     0.88177,     0.88168,     0.88162,     0.88175,     0.88181,      0.8819,     0.88193,     0.88202,     0.88215,     0.88215,     0.88221,     0.88219,\n",
       "            0.88221,     0.88229,     0.88239,     0.88252,     0.88256,     0.88257,     0.88257,     0.88262,     0.88273,     0.88266,     0.88267,     0.88284,     0.88287,     0.88296,     0.88294,     0.88293,     0.88308,     0.88312,     0.88325,     0.88327,     0.88332,      0.8834,     0.88343,\n",
       "            0.88347,      0.8834,     0.88327,     0.88328,      0.8832,     0.88318,     0.88331,      0.8834,     0.88348,     0.88349,      0.8836,     0.88376,     0.88388,     0.88414,     0.88422,     0.88435,     0.88439,     0.88439,     0.88451,     0.88447,     0.88454,     0.88466,     0.88469,\n",
       "            0.88488,     0.88512,     0.88524,     0.88547,     0.88571,     0.88541,     0.88549,     0.88521,     0.88531,     0.88568,     0.88554,     0.88568,     0.88568,     0.88573,     0.88572,     0.88561,     0.88561,     0.88582,     0.88589,     0.88599,     0.88612,     0.88611,     0.88616,\n",
       "             0.8865,     0.88669,     0.88679,     0.88704,     0.88693,     0.88684,     0.88708,     0.88721,     0.88728,     0.88742,     0.88761,     0.88786,      0.8879,     0.88808,     0.88813,     0.88832,     0.88849,     0.88869,     0.88867,     0.88876,     0.88897,     0.88901,     0.88901,\n",
       "            0.88925,     0.88925,     0.88902,     0.88917,     0.88914,     0.88922,     0.88923,     0.88911,     0.88913,     0.88907,     0.88914,     0.88915,      0.8892,     0.88907,     0.88911,     0.88918,     0.88926,     0.88911,     0.88919,     0.88932,     0.88939,     0.88954,     0.88944,\n",
       "            0.88951,      0.8895,     0.88945,     0.88938,     0.88936,     0.88937,     0.88929,     0.88919,     0.88922,     0.88924,     0.88917,     0.88915,     0.88916,     0.88919,     0.88918,     0.88921,     0.88929,     0.88933,      0.8893,     0.88931,     0.88947,     0.88953,     0.88947,\n",
       "            0.88951,     0.88946,     0.88937,     0.88932,     0.88934,     0.88936,     0.88933,     0.88938,     0.88927,     0.88926,     0.88912,     0.88914,     0.88914,     0.88908,     0.88901,     0.88901,       0.889,     0.88895,     0.88883,     0.88881,     0.88885,     0.88884,     0.88881,\n",
       "            0.88874,     0.88865,      0.8887,      0.8887,     0.88869,     0.88853,     0.88855,     0.88852,     0.88839,     0.88836,     0.88824,     0.88826,     0.88817,     0.88813,     0.88815,     0.88814,     0.88809,     0.88808,     0.88806,     0.88802,     0.88801,     0.88797,     0.88791,\n",
       "            0.88781,     0.88784,     0.88776,     0.88773,     0.88768,     0.88768,     0.88765,     0.88747,     0.88742,     0.88737,     0.88734,     0.88738,     0.88741,     0.88738,     0.88737,     0.88734,      0.8873,     0.88731,     0.88733,     0.88727,     0.88717,     0.88699,     0.88692,\n",
       "            0.88677,     0.88675,     0.88667,     0.88666,     0.88656,     0.88643,     0.88627,     0.88625,     0.88609,     0.88605,     0.88607,     0.88597,      0.8859,     0.88584,     0.88569,     0.88569,      0.8857,     0.88571,     0.88565,      0.8856,     0.88549,     0.88551,     0.88547,\n",
       "            0.88532,      0.8853,     0.88528,     0.88511,     0.88498,     0.88497,      0.8849,     0.88482,     0.88485,     0.88483,     0.88486,     0.88488,     0.88474,     0.88468,     0.88466,     0.88457,     0.88451,     0.88439,     0.88425,     0.88412,      0.8841,     0.88404,     0.88404,\n",
       "            0.88397,     0.88394,     0.88393,     0.88397,     0.88399,     0.88388,     0.88379,     0.88376,     0.88375,     0.88372,     0.88367,     0.88357,     0.88351,     0.88346,     0.88335,     0.88327,     0.88321,     0.88318,     0.88315,     0.88319,     0.88303,      0.8828,      0.8828,\n",
       "            0.88263,     0.88252,     0.88229,     0.88218,     0.88201,     0.88204,     0.88195,     0.88199,     0.88191,     0.88189,     0.88185,     0.88177,      0.8819,     0.88187,     0.88166,      0.8815,     0.88151,      0.8813,     0.88126,     0.88107,     0.88105,     0.88081,     0.88076,\n",
       "            0.88064,      0.8805,     0.88046,     0.88033,     0.88028,     0.88008,     0.87979,     0.87973,     0.87941,     0.87943,     0.87933,     0.87909,     0.87902,      0.8789,     0.87867,     0.87811,     0.87805,     0.87772,     0.87745,     0.87738,     0.87676,     0.87646,     0.87622,\n",
       "            0.87612,     0.87585,     0.87574,      0.8755,     0.87543,      0.8751,     0.87497,     0.87481,     0.87452,     0.87444,     0.87435,     0.87422,      0.8736,     0.87329,      0.8729,     0.87256,     0.87239,      0.8721,     0.87172,     0.87162,     0.87129,     0.87066,     0.87007,\n",
       "             0.8694,     0.86875,     0.86815,     0.86767,     0.86683,     0.86621,     0.86561,     0.86498,     0.86433,     0.86274,     0.86199,     0.86077,     0.85976,      0.8588,     0.85743,     0.85623,     0.85524,     0.85363,     0.85235,     0.85142,     0.85016,     0.84809,     0.84645,\n",
       "            0.84475,      0.8426,     0.84004,     0.83855,     0.83726,     0.83469,     0.83195,     0.82923,     0.82745,     0.82581,     0.82204,     0.82006,     0.81692,     0.81443,     0.81096,     0.80799,      0.8036,     0.79968,     0.79631,     0.79123,     0.78812,      0.7824,      0.7759,\n",
       "            0.76835,     0.76371,     0.75601,      0.7464,     0.73853,     0.73135,     0.72282,     0.71516,      0.7063,     0.70124,     0.69471,     0.68408,     0.67132,     0.66439,     0.65241,     0.64487,     0.63065,     0.62194,     0.60819,     0.59186,     0.58394,     0.56859,     0.55285,\n",
       "            0.53375,      0.5145,     0.49748,     0.48708,     0.46557,     0.44389,     0.42285,     0.39842,     0.37229,     0.35838,     0.33281,     0.31139,     0.28835,     0.26387,     0.24249,     0.22256,     0.19577,     0.17918,     0.16513,     0.14993,     0.13195,     0.11401,     0.10333,\n",
       "           0.091824,    0.076226,    0.067684,    0.055311,    0.049207,    0.039394,    0.034669,    0.025455,    0.019161,    0.015544,    0.012367,   0.0097862,   0.0065906,    0.004452,   0.0036822,   0.0026065,   0.0022935,   0.0014493,  0.00091292,  0.00080842,  0.00060771,  0.00056291,  0.00051811,\n",
       "         0.00047331,  0.00028575,  0.00018118,           0,           0,           0,           0,           0,           0,           0,           0,           0,           0,           0,           0,           0,           0,           0,           0,           0,           0,           0,           0,\n",
       "                  0,           0,           0,           0,           0,           0,           0,           0,           0,           0,           0]]), 'Confidence', 'F1'], [array([          0,    0.001001,    0.002002,    0.003003,    0.004004,    0.005005,    0.006006,    0.007007,    0.008008,    0.009009,     0.01001,    0.011011,    0.012012,    0.013013,    0.014014,    0.015015,    0.016016,    0.017017,    0.018018,    0.019019,     0.02002,    0.021021,    0.022022,    0.023023,\n",
       "          0.024024,    0.025025,    0.026026,    0.027027,    0.028028,    0.029029,     0.03003,    0.031031,    0.032032,    0.033033,    0.034034,    0.035035,    0.036036,    0.037037,    0.038038,    0.039039,     0.04004,    0.041041,    0.042042,    0.043043,    0.044044,    0.045045,    0.046046,    0.047047,\n",
       "          0.048048,    0.049049,     0.05005,    0.051051,    0.052052,    0.053053,    0.054054,    0.055055,    0.056056,    0.057057,    0.058058,    0.059059,     0.06006,    0.061061,    0.062062,    0.063063,    0.064064,    0.065065,    0.066066,    0.067067,    0.068068,    0.069069,     0.07007,    0.071071,\n",
       "          0.072072,    0.073073,    0.074074,    0.075075,    0.076076,    0.077077,    0.078078,    0.079079,     0.08008,    0.081081,    0.082082,    0.083083,    0.084084,    0.085085,    0.086086,    0.087087,    0.088088,    0.089089,     0.09009,    0.091091,    0.092092,    0.093093,    0.094094,    0.095095,\n",
       "          0.096096,    0.097097,    0.098098,    0.099099,      0.1001,      0.1011,      0.1021,      0.1031,      0.1041,     0.10511,     0.10611,     0.10711,     0.10811,     0.10911,     0.11011,     0.11111,     0.11211,     0.11311,     0.11411,     0.11512,     0.11612,     0.11712,     0.11812,     0.11912,\n",
       "           0.12012,     0.12112,     0.12212,     0.12312,     0.12412,     0.12513,     0.12613,     0.12713,     0.12813,     0.12913,     0.13013,     0.13113,     0.13213,     0.13313,     0.13413,     0.13514,     0.13614,     0.13714,     0.13814,     0.13914,     0.14014,     0.14114,     0.14214,     0.14314,\n",
       "           0.14414,     0.14515,     0.14615,     0.14715,     0.14815,     0.14915,     0.15015,     0.15115,     0.15215,     0.15315,     0.15415,     0.15516,     0.15616,     0.15716,     0.15816,     0.15916,     0.16016,     0.16116,     0.16216,     0.16316,     0.16416,     0.16517,     0.16617,     0.16717,\n",
       "           0.16817,     0.16917,     0.17017,     0.17117,     0.17217,     0.17317,     0.17417,     0.17518,     0.17618,     0.17718,     0.17818,     0.17918,     0.18018,     0.18118,     0.18218,     0.18318,     0.18418,     0.18519,     0.18619,     0.18719,     0.18819,     0.18919,     0.19019,     0.19119,\n",
       "           0.19219,     0.19319,     0.19419,      0.1952,      0.1962,      0.1972,      0.1982,      0.1992,      0.2002,      0.2012,      0.2022,      0.2032,      0.2042,     0.20521,     0.20621,     0.20721,     0.20821,     0.20921,     0.21021,     0.21121,     0.21221,     0.21321,     0.21421,     0.21522,\n",
       "           0.21622,     0.21722,     0.21822,     0.21922,     0.22022,     0.22122,     0.22222,     0.22322,     0.22422,     0.22523,     0.22623,     0.22723,     0.22823,     0.22923,     0.23023,     0.23123,     0.23223,     0.23323,     0.23423,     0.23524,     0.23624,     0.23724,     0.23824,     0.23924,\n",
       "           0.24024,     0.24124,     0.24224,     0.24324,     0.24424,     0.24525,     0.24625,     0.24725,     0.24825,     0.24925,     0.25025,     0.25125,     0.25225,     0.25325,     0.25425,     0.25526,     0.25626,     0.25726,     0.25826,     0.25926,     0.26026,     0.26126,     0.26226,     0.26326,\n",
       "           0.26426,     0.26527,     0.26627,     0.26727,     0.26827,     0.26927,     0.27027,     0.27127,     0.27227,     0.27327,     0.27427,     0.27528,     0.27628,     0.27728,     0.27828,     0.27928,     0.28028,     0.28128,     0.28228,     0.28328,     0.28428,     0.28529,     0.28629,     0.28729,\n",
       "           0.28829,     0.28929,     0.29029,     0.29129,     0.29229,     0.29329,     0.29429,      0.2953,      0.2963,      0.2973,      0.2983,      0.2993,      0.3003,      0.3013,      0.3023,      0.3033,      0.3043,     0.30531,     0.30631,     0.30731,     0.30831,     0.30931,     0.31031,     0.31131,\n",
       "           0.31231,     0.31331,     0.31431,     0.31532,     0.31632,     0.31732,     0.31832,     0.31932,     0.32032,     0.32132,     0.32232,     0.32332,     0.32432,     0.32533,     0.32633,     0.32733,     0.32833,     0.32933,     0.33033,     0.33133,     0.33233,     0.33333,     0.33433,     0.33534,\n",
       "           0.33634,     0.33734,     0.33834,     0.33934,     0.34034,     0.34134,     0.34234,     0.34334,     0.34434,     0.34535,     0.34635,     0.34735,     0.34835,     0.34935,     0.35035,     0.35135,     0.35235,     0.35335,     0.35435,     0.35536,     0.35636,     0.35736,     0.35836,     0.35936,\n",
       "           0.36036,     0.36136,     0.36236,     0.36336,     0.36436,     0.36537,     0.36637,     0.36737,     0.36837,     0.36937,     0.37037,     0.37137,     0.37237,     0.37337,     0.37437,     0.37538,     0.37638,     0.37738,     0.37838,     0.37938,     0.38038,     0.38138,     0.38238,     0.38338,\n",
       "           0.38438,     0.38539,     0.38639,     0.38739,     0.38839,     0.38939,     0.39039,     0.39139,     0.39239,     0.39339,     0.39439,      0.3954,      0.3964,      0.3974,      0.3984,      0.3994,      0.4004,      0.4014,      0.4024,      0.4034,      0.4044,     0.40541,     0.40641,     0.40741,\n",
       "           0.40841,     0.40941,     0.41041,     0.41141,     0.41241,     0.41341,     0.41441,     0.41542,     0.41642,     0.41742,     0.41842,     0.41942,     0.42042,     0.42142,     0.42242,     0.42342,     0.42442,     0.42543,     0.42643,     0.42743,     0.42843,     0.42943,     0.43043,     0.43143,\n",
       "           0.43243,     0.43343,     0.43443,     0.43544,     0.43644,     0.43744,     0.43844,     0.43944,     0.44044,     0.44144,     0.44244,     0.44344,     0.44444,     0.44545,     0.44645,     0.44745,     0.44845,     0.44945,     0.45045,     0.45145,     0.45245,     0.45345,     0.45445,     0.45546,\n",
       "           0.45646,     0.45746,     0.45846,     0.45946,     0.46046,     0.46146,     0.46246,     0.46346,     0.46446,     0.46547,     0.46647,     0.46747,     0.46847,     0.46947,     0.47047,     0.47147,     0.47247,     0.47347,     0.47447,     0.47548,     0.47648,     0.47748,     0.47848,     0.47948,\n",
       "           0.48048,     0.48148,     0.48248,     0.48348,     0.48448,     0.48549,     0.48649,     0.48749,     0.48849,     0.48949,     0.49049,     0.49149,     0.49249,     0.49349,     0.49449,      0.4955,      0.4965,      0.4975,      0.4985,      0.4995,      0.5005,      0.5015,      0.5025,      0.5035,\n",
       "            0.5045,     0.50551,     0.50651,     0.50751,     0.50851,     0.50951,     0.51051,     0.51151,     0.51251,     0.51351,     0.51451,     0.51552,     0.51652,     0.51752,     0.51852,     0.51952,     0.52052,     0.52152,     0.52252,     0.52352,     0.52452,     0.52553,     0.52653,     0.52753,\n",
       "           0.52853,     0.52953,     0.53053,     0.53153,     0.53253,     0.53353,     0.53453,     0.53554,     0.53654,     0.53754,     0.53854,     0.53954,     0.54054,     0.54154,     0.54254,     0.54354,     0.54454,     0.54555,     0.54655,     0.54755,     0.54855,     0.54955,     0.55055,     0.55155,\n",
       "           0.55255,     0.55355,     0.55455,     0.55556,     0.55656,     0.55756,     0.55856,     0.55956,     0.56056,     0.56156,     0.56256,     0.56356,     0.56456,     0.56557,     0.56657,     0.56757,     0.56857,     0.56957,     0.57057,     0.57157,     0.57257,     0.57357,     0.57457,     0.57558,\n",
       "           0.57658,     0.57758,     0.57858,     0.57958,     0.58058,     0.58158,     0.58258,     0.58358,     0.58458,     0.58559,     0.58659,     0.58759,     0.58859,     0.58959,     0.59059,     0.59159,     0.59259,     0.59359,     0.59459,      0.5956,      0.5966,      0.5976,      0.5986,      0.5996,\n",
       "            0.6006,      0.6016,      0.6026,      0.6036,      0.6046,     0.60561,     0.60661,     0.60761,     0.60861,     0.60961,     0.61061,     0.61161,     0.61261,     0.61361,     0.61461,     0.61562,     0.61662,     0.61762,     0.61862,     0.61962,     0.62062,     0.62162,     0.62262,     0.62362,\n",
       "           0.62462,     0.62563,     0.62663,     0.62763,     0.62863,     0.62963,     0.63063,     0.63163,     0.63263,     0.63363,     0.63463,     0.63564,     0.63664,     0.63764,     0.63864,     0.63964,     0.64064,     0.64164,     0.64264,     0.64364,     0.64464,     0.64565,     0.64665,     0.64765,\n",
       "           0.64865,     0.64965,     0.65065,     0.65165,     0.65265,     0.65365,     0.65465,     0.65566,     0.65666,     0.65766,     0.65866,     0.65966,     0.66066,     0.66166,     0.66266,     0.66366,     0.66466,     0.66567,     0.66667,     0.66767,     0.66867,     0.66967,     0.67067,     0.67167,\n",
       "           0.67267,     0.67367,     0.67467,     0.67568,     0.67668,     0.67768,     0.67868,     0.67968,     0.68068,     0.68168,     0.68268,     0.68368,     0.68468,     0.68569,     0.68669,     0.68769,     0.68869,     0.68969,     0.69069,     0.69169,     0.69269,     0.69369,     0.69469,      0.6957,\n",
       "            0.6967,      0.6977,      0.6987,      0.6997,      0.7007,      0.7017,      0.7027,      0.7037,      0.7047,     0.70571,     0.70671,     0.70771,     0.70871,     0.70971,     0.71071,     0.71171,     0.71271,     0.71371,     0.71471,     0.71572,     0.71672,     0.71772,     0.71872,     0.71972,\n",
       "           0.72072,     0.72172,     0.72272,     0.72372,     0.72472,     0.72573,     0.72673,     0.72773,     0.72873,     0.72973,     0.73073,     0.73173,     0.73273,     0.73373,     0.73473,     0.73574,     0.73674,     0.73774,     0.73874,     0.73974,     0.74074,     0.74174,     0.74274,     0.74374,\n",
       "           0.74474,     0.74575,     0.74675,     0.74775,     0.74875,     0.74975,     0.75075,     0.75175,     0.75275,     0.75375,     0.75475,     0.75576,     0.75676,     0.75776,     0.75876,     0.75976,     0.76076,     0.76176,     0.76276,     0.76376,     0.76476,     0.76577,     0.76677,     0.76777,\n",
       "           0.76877,     0.76977,     0.77077,     0.77177,     0.77277,     0.77377,     0.77477,     0.77578,     0.77678,     0.77778,     0.77878,     0.77978,     0.78078,     0.78178,     0.78278,     0.78378,     0.78478,     0.78579,     0.78679,     0.78779,     0.78879,     0.78979,     0.79079,     0.79179,\n",
       "           0.79279,     0.79379,     0.79479,      0.7958,      0.7968,      0.7978,      0.7988,      0.7998,      0.8008,      0.8018,      0.8028,      0.8038,      0.8048,     0.80581,     0.80681,     0.80781,     0.80881,     0.80981,     0.81081,     0.81181,     0.81281,     0.81381,     0.81481,     0.81582,\n",
       "           0.81682,     0.81782,     0.81882,     0.81982,     0.82082,     0.82182,     0.82282,     0.82382,     0.82482,     0.82583,     0.82683,     0.82783,     0.82883,     0.82983,     0.83083,     0.83183,     0.83283,     0.83383,     0.83483,     0.83584,     0.83684,     0.83784,     0.83884,     0.83984,\n",
       "           0.84084,     0.84184,     0.84284,     0.84384,     0.84484,     0.84585,     0.84685,     0.84785,     0.84885,     0.84985,     0.85085,     0.85185,     0.85285,     0.85385,     0.85485,     0.85586,     0.85686,     0.85786,     0.85886,     0.85986,     0.86086,     0.86186,     0.86286,     0.86386,\n",
       "           0.86486,     0.86587,     0.86687,     0.86787,     0.86887,     0.86987,     0.87087,     0.87187,     0.87287,     0.87387,     0.87487,     0.87588,     0.87688,     0.87788,     0.87888,     0.87988,     0.88088,     0.88188,     0.88288,     0.88388,     0.88488,     0.88589,     0.88689,     0.88789,\n",
       "           0.88889,     0.88989,     0.89089,     0.89189,     0.89289,     0.89389,     0.89489,      0.8959,      0.8969,      0.8979,      0.8989,      0.8999,      0.9009,      0.9019,      0.9029,      0.9039,      0.9049,     0.90591,     0.90691,     0.90791,     0.90891,     0.90991,     0.91091,     0.91191,\n",
       "           0.91291,     0.91391,     0.91491,     0.91592,     0.91692,     0.91792,     0.91892,     0.91992,     0.92092,     0.92192,     0.92292,     0.92392,     0.92492,     0.92593,     0.92693,     0.92793,     0.92893,     0.92993,     0.93093,     0.93193,     0.93293,     0.93393,     0.93493,     0.93594,\n",
       "           0.93694,     0.93794,     0.93894,     0.93994,     0.94094,     0.94194,     0.94294,     0.94394,     0.94494,     0.94595,     0.94695,     0.94795,     0.94895,     0.94995,     0.95095,     0.95195,     0.95295,     0.95395,     0.95495,     0.95596,     0.95696,     0.95796,     0.95896,     0.95996,\n",
       "           0.96096,     0.96196,     0.96296,     0.96396,     0.96496,     0.96597,     0.96697,     0.96797,     0.96897,     0.96997,     0.97097,     0.97197,     0.97297,     0.97397,     0.97497,     0.97598,     0.97698,     0.97798,     0.97898,     0.97998,     0.98098,     0.98198,     0.98298,     0.98398,\n",
       "           0.98498,     0.98599,     0.98699,     0.98799,     0.98899,     0.98999,     0.99099,     0.99199,     0.99299,     0.99399,     0.99499,       0.996,       0.997,       0.998,       0.999,           1]), array([[    0.51538,     0.51538,     0.57181,     0.60243,     0.62378,     0.64088,       0.654,      0.6644,     0.67364,     0.68116,     0.68869,     0.69341,     0.69871,     0.70337,     0.70748,     0.71155,     0.71449,     0.71713,     0.71983,     0.72291,     0.72519,     0.72731,     0.72925,\n",
       "             0.7313,     0.73397,     0.73576,     0.73766,     0.73937,     0.74103,     0.74256,      0.7442,     0.74575,     0.74717,     0.74878,     0.74987,     0.75127,     0.75279,     0.75387,      0.7551,     0.75609,     0.75722,     0.75823,     0.75947,     0.76111,     0.76196,     0.76268,\n",
       "            0.76378,     0.76462,     0.76538,       0.766,     0.76666,      0.7672,     0.76787,     0.76858,      0.7695,     0.77014,     0.77153,     0.77236,      0.7729,     0.77384,     0.77445,     0.77519,     0.77566,     0.77621,     0.77666,     0.77695,     0.77732,     0.77804,     0.77902,\n",
       "            0.77964,     0.78029,     0.78112,     0.78151,     0.78189,     0.78246,     0.78274,     0.78282,     0.78346,     0.78367,     0.78421,      0.7847,     0.78539,     0.78579,     0.78621,     0.78639,     0.78703,     0.78763,     0.78846,     0.78888,     0.78942,     0.78972,     0.79031,\n",
       "            0.79119,     0.79162,     0.79176,     0.79217,     0.79252,     0.79311,      0.7934,     0.79361,     0.79443,     0.79496,     0.79527,     0.79575,     0.79612,     0.79648,     0.79685,     0.79716,     0.79734,     0.79768,     0.79802,     0.79854,     0.79874,     0.79907,     0.79948,\n",
       "            0.79977,     0.79997,     0.80024,     0.80058,     0.80083,     0.80119,     0.80144,     0.80174,     0.80214,     0.80237,     0.80275,     0.80301,      0.8034,      0.8036,     0.80379,     0.80419,     0.80434,     0.80444,     0.80453,     0.80502,     0.80548,     0.80606,     0.80632,\n",
       "            0.80647,     0.80693,     0.80706,     0.80725,     0.80744,     0.80767,     0.80794,     0.80816,     0.80853,     0.80892,     0.80908,     0.80928,     0.80945,     0.80967,     0.80979,     0.81003,     0.81012,     0.81048,     0.81067,     0.81084,     0.81102,      0.8113,     0.81144,\n",
       "            0.81153,     0.81177,     0.81186,     0.81243,     0.81268,     0.81272,     0.81299,     0.81337,     0.81364,     0.81379,     0.81399,     0.81408,     0.81428,     0.81456,     0.81481,     0.81505,     0.81531,     0.81559,     0.81586,     0.81625,     0.81643,      0.8167,     0.81687,\n",
       "              0.817,     0.81733,     0.81777,      0.8179,     0.81804,     0.81839,     0.81858,     0.81873,     0.81916,     0.81944,     0.81955,        0.82,     0.82024,     0.82045,     0.82056,     0.82099,      0.8213,     0.82151,     0.82178,     0.82232,     0.82258,     0.82311,     0.82325,\n",
       "            0.82338,     0.82376,     0.82389,     0.82415,     0.82435,     0.82441,     0.82453,     0.82476,     0.82487,     0.82512,     0.82537,      0.8258,     0.82587,     0.82609,     0.82613,      0.8262,     0.82645,     0.82665,      0.8268,      0.8272,     0.82746,     0.82795,     0.82826,\n",
       "             0.8287,     0.82896,     0.82921,     0.82946,     0.82976,     0.83003,     0.83022,     0.83031,     0.83045,     0.83053,     0.83081,     0.83107,     0.83121,     0.83147,     0.83155,      0.8316,     0.83161,     0.83175,      0.8321,      0.8324,     0.83281,     0.83286,     0.83298,\n",
       "            0.83342,      0.8336,     0.83397,     0.83421,      0.8342,     0.83443,      0.8345,      0.8346,     0.83485,     0.83519,     0.83531,     0.83545,     0.83552,      0.8356,     0.83591,     0.83639,     0.83651,     0.83667,     0.83678,     0.83719,     0.83723,     0.83738,     0.83782,\n",
       "            0.83797,     0.83795,     0.83793,     0.83818,     0.83855,     0.83861,     0.83895,     0.83914,     0.83933,     0.83946,     0.83976,     0.83982,     0.84001,     0.84012,     0.84034,     0.84054,     0.84079,     0.84096,     0.84126,      0.8413,     0.84153,     0.84155,     0.84165,\n",
       "            0.84175,     0.84208,     0.84221,     0.84245,     0.84251,     0.84253,      0.8429,     0.84297,     0.84311,     0.84331,     0.84348,     0.84352,     0.84368,     0.84394,     0.84407,     0.84433,     0.84452,     0.84465,     0.84472,      0.8449,     0.84501,     0.84535,     0.84548,\n",
       "            0.84568,     0.84572,     0.84614,     0.84645,     0.84658,     0.84683,     0.84716,     0.84748,     0.84762,     0.84774,     0.84787,     0.84794,     0.84819,     0.84832,     0.84844,     0.84855,     0.84868,     0.84888,       0.849,     0.84899,     0.84904,     0.84998,     0.85019,\n",
       "            0.85023,     0.85034,     0.85066,     0.85079,     0.85092,     0.85106,     0.85112,     0.85134,     0.85147,     0.85159,     0.85166,     0.85185,     0.85186,     0.85198,     0.85208,      0.8525,     0.85268,     0.85288,     0.85311,     0.85324,     0.85329,     0.85348,     0.85389,\n",
       "            0.85392,     0.85404,     0.85468,     0.85478,     0.85519,     0.85529,     0.85547,     0.85594,     0.85635,     0.85649,     0.85692,     0.85723,     0.85731,     0.85741,     0.85754,     0.85778,     0.85786,     0.85794,     0.85815,     0.85827,     0.85846,      0.8587,      0.8589,\n",
       "            0.85902,     0.85927,     0.85956,     0.85969,     0.86002,     0.86011,      0.8603,     0.86048,      0.8608,     0.86106,     0.86118,      0.8613,     0.86143,     0.86148,     0.86168,     0.86167,     0.86178,     0.86191,     0.86216,     0.86247,     0.86258,     0.86286,     0.86326,\n",
       "            0.86367,     0.86387,     0.86407,     0.86431,     0.86454,     0.86467,     0.86504,     0.86542,     0.86555,      0.8658,     0.86598,     0.86605,     0.86618,     0.86631,     0.86651,     0.86657,      0.8669,     0.86708,     0.86728,     0.86754,     0.86774,     0.86784,     0.86793,\n",
       "            0.86806,     0.86824,     0.86849,     0.86868,     0.86883,     0.86903,     0.86935,     0.86979,     0.86985,      0.8701,     0.87029,      0.8704,     0.87059,      0.8711,     0.87153,     0.87165,     0.87178,     0.87196,     0.87228,     0.87235,      0.8726,     0.87297,     0.87316,\n",
       "            0.87359,      0.8737,      0.8738,     0.87389,     0.87401,     0.87414,     0.87427,      0.8748,     0.87525,     0.87544,     0.87544,     0.87543,     0.87554,     0.87566,       0.876,     0.87613,     0.87652,     0.87672,      0.8769,     0.87716,     0.87767,     0.87792,     0.87803,\n",
       "            0.87829,     0.87835,     0.87861,     0.87908,     0.87946,     0.87956,     0.87975,     0.87996,     0.88014,     0.88047,      0.8808,     0.88104,     0.88102,     0.88109,     0.88142,     0.88162,     0.88188,     0.88198,     0.88227,     0.88254,     0.88285,     0.88304,     0.88316,\n",
       "            0.88325,     0.88363,     0.88394,     0.88421,     0.88442,     0.88453,      0.8846,     0.88478,     0.88524,     0.88541,     0.88566,       0.886,     0.88613,     0.88633,     0.88651,     0.88658,     0.88704,     0.88736,     0.88769,     0.88806,     0.88845,     0.88878,     0.88909,\n",
       "            0.88923,     0.88927,     0.88924,     0.88949,     0.88966,     0.88984,     0.89039,      0.8907,     0.89103,     0.89128,     0.89171,     0.89218,     0.89284,     0.89349,     0.89392,     0.89452,     0.89484,     0.89516,     0.89557,     0.89577,     0.89617,     0.89658,     0.89697,\n",
       "             0.8977,     0.89851,     0.89893,     0.89955,     0.90031,     0.90078,     0.90115,     0.90123,     0.90178,     0.90269,     0.90306,     0.90362,     0.90395,     0.90455,     0.90491,     0.90535,      0.9058,     0.90657,     0.90705,      0.9076,      0.9083,     0.90851,     0.90871,\n",
       "            0.90951,     0.91008,     0.91064,      0.9115,     0.91196,     0.91262,     0.91356,     0.91409,     0.91458,     0.91519,     0.91588,     0.91657,     0.91704,     0.91764,     0.91805,     0.91871,     0.91943,     0.92003,     0.92052,     0.92088,     0.92134,     0.92194,     0.92265,\n",
       "             0.9233,     0.92365,     0.92369,     0.92425,     0.92453,     0.92493,     0.92526,     0.92542,     0.92568,       0.926,     0.92622,     0.92628,     0.92665,      0.9268,     0.92717,     0.92732,     0.92752,      0.9276,     0.92795,     0.92825,     0.92841,     0.92872,     0.92878,\n",
       "            0.92894,     0.92901,       0.929,     0.92914,      0.9292,     0.92955,     0.92971,     0.92977,     0.92992,     0.92997,     0.93019,     0.93024,     0.93044,      0.9306,     0.93067,     0.93082,     0.93101,      0.9311,     0.93112,     0.93115,     0.93149,     0.93171,     0.93187,\n",
       "            0.93201,     0.93207,     0.93206,     0.93208,     0.93212,     0.93228,      0.9323,     0.93243,     0.93244,     0.93256,     0.93254,     0.93261,      0.9327,     0.93276,     0.93275,     0.93279,      0.9329,     0.93293,     0.93295,      0.9331,     0.93326,     0.93333,     0.93339,\n",
       "            0.93346,     0.93345,     0.93358,     0.93377,     0.93405,     0.93405,      0.9341,      0.9341,     0.93408,      0.9343,     0.93429,     0.93447,      0.9345,     0.93465,      0.9348,     0.93487,     0.93487,     0.93494,     0.93494,     0.93493,     0.93516,     0.93515,     0.93518,\n",
       "            0.93534,     0.93542,      0.9355,     0.93557,     0.93556,     0.93562,     0.93563,     0.93561,     0.93579,     0.93583,      0.9359,     0.93598,     0.93614,      0.9362,      0.9362,      0.9362,     0.93627,     0.93631,     0.93634,      0.9364,     0.93648,     0.93646,     0.93652,\n",
       "            0.93651,     0.93657,     0.93667,     0.93672,     0.93671,     0.93669,     0.93667,     0.93678,      0.9368,      0.9368,     0.93685,     0.93686,     0.93685,     0.93685,     0.93683,     0.93685,     0.93687,      0.9369,      0.9369,     0.93697,     0.93696,     0.93711,     0.93711,\n",
       "            0.93709,     0.93709,     0.93708,     0.93721,     0.93728,     0.93735,     0.93734,     0.93738,     0.93756,     0.93764,     0.93777,     0.93802,     0.93801,       0.938,     0.93817,     0.93822,     0.93821,     0.93827,     0.93831,     0.93839,     0.93876,     0.93881,     0.93884,\n",
       "            0.93883,     0.93883,     0.93895,     0.93914,      0.9393,     0.93951,      0.9395,      0.9395,     0.93951,     0.93957,     0.93964,     0.93963,     0.93963,     0.93985,     0.93984,     0.93983,     0.93982,     0.93997,     0.94019,     0.94044,     0.94042,     0.94047,     0.94062,\n",
       "            0.94068,     0.94072,     0.94072,     0.94071,     0.94077,      0.9409,     0.94111,     0.94119,     0.94122,     0.94122,     0.94121,     0.94127,     0.94169,     0.94168,     0.94173,      0.9418,     0.94187,     0.94193,     0.94208,     0.94214,     0.94222,     0.94244,      0.9425,\n",
       "            0.94248,     0.94247,     0.94265,     0.94269,     0.94274,     0.94281,     0.94281,     0.94293,      0.9429,     0.94309,     0.94313,     0.94318,     0.94317,     0.94316,     0.94313,     0.94315,     0.94322,     0.94336,     0.94348,     0.94355,     0.94372,     0.94392,     0.94398,\n",
       "            0.94397,     0.94418,     0.94432,     0.94438,     0.94445,      0.9445,     0.94462,     0.94477,     0.94491,     0.94491,     0.94514,     0.94536,     0.94546,     0.94567,     0.94571,     0.94575,     0.94616,     0.94643,     0.94639,     0.94679,     0.94708,     0.94718,     0.94733,\n",
       "            0.94738,     0.94737,     0.94742,     0.94745,     0.94761,     0.94763,     0.94773,     0.94784,     0.94802,     0.94836,     0.94854,     0.94867,      0.9489,     0.94889,     0.94893,     0.94881,     0.94888,     0.94915,     0.94953,     0.94979,     0.95001,     0.95059,      0.9506,\n",
       "            0.95061,     0.95058,      0.9506,     0.95046,      0.9506,      0.9508,     0.95107,     0.95199,     0.95219,      0.9524,     0.95261,     0.95289,     0.95316,     0.95321,     0.95394,     0.95415,     0.95404,     0.95446,     0.95445,     0.95489,     0.95551,     0.95572,     0.95657,\n",
       "            0.95677,      0.9569,      0.9572,     0.95758,     0.95871,     0.95949,     0.96043,     0.96136,     0.96213,      0.9621,     0.96233,     0.96396,     0.96445,     0.96474,     0.96522,     0.96623,     0.96725,     0.96814,     0.96856,     0.96935,     0.96997,     0.97133,     0.97319,\n",
       "            0.97424,     0.97584,     0.97932,     0.97919,      0.9813,      0.9832,     0.98406,     0.98432,     0.98586,     0.98757,     0.98866,     0.98935,      0.9919,     0.99251,     0.99449,     0.99514,     0.99789,     0.99845,     0.99915,     0.99906,           1,           1,           1,\n",
       "                  1,           1,           1,           1,           1,           1,           1,           1,           1,           1,           1,           1,           1,           1,           1,           1,           1,           1,           1,           1,           1,           1,           1,\n",
       "                  1,           1,           1,           1,           1,           1,           1,           1,           1,           1,           1,           1,           1,           1,           1,           1,           1,           1,           1,           1,           1,           1,           1,\n",
       "                  1,           1,           1,           1,           1,           1,           1,           1,           1,           1,           1]]), 'Confidence', 'Precision'], [array([          0,    0.001001,    0.002002,    0.003003,    0.004004,    0.005005,    0.006006,    0.007007,    0.008008,    0.009009,     0.01001,    0.011011,    0.012012,    0.013013,    0.014014,    0.015015,    0.016016,    0.017017,    0.018018,    0.019019,     0.02002,    0.021021,    0.022022,    0.023023,\n",
       "          0.024024,    0.025025,    0.026026,    0.027027,    0.028028,    0.029029,     0.03003,    0.031031,    0.032032,    0.033033,    0.034034,    0.035035,    0.036036,    0.037037,    0.038038,    0.039039,     0.04004,    0.041041,    0.042042,    0.043043,    0.044044,    0.045045,    0.046046,    0.047047,\n",
       "          0.048048,    0.049049,     0.05005,    0.051051,    0.052052,    0.053053,    0.054054,    0.055055,    0.056056,    0.057057,    0.058058,    0.059059,     0.06006,    0.061061,    0.062062,    0.063063,    0.064064,    0.065065,    0.066066,    0.067067,    0.068068,    0.069069,     0.07007,    0.071071,\n",
       "          0.072072,    0.073073,    0.074074,    0.075075,    0.076076,    0.077077,    0.078078,    0.079079,     0.08008,    0.081081,    0.082082,    0.083083,    0.084084,    0.085085,    0.086086,    0.087087,    0.088088,    0.089089,     0.09009,    0.091091,    0.092092,    0.093093,    0.094094,    0.095095,\n",
       "          0.096096,    0.097097,    0.098098,    0.099099,      0.1001,      0.1011,      0.1021,      0.1031,      0.1041,     0.10511,     0.10611,     0.10711,     0.10811,     0.10911,     0.11011,     0.11111,     0.11211,     0.11311,     0.11411,     0.11512,     0.11612,     0.11712,     0.11812,     0.11912,\n",
       "           0.12012,     0.12112,     0.12212,     0.12312,     0.12412,     0.12513,     0.12613,     0.12713,     0.12813,     0.12913,     0.13013,     0.13113,     0.13213,     0.13313,     0.13413,     0.13514,     0.13614,     0.13714,     0.13814,     0.13914,     0.14014,     0.14114,     0.14214,     0.14314,\n",
       "           0.14414,     0.14515,     0.14615,     0.14715,     0.14815,     0.14915,     0.15015,     0.15115,     0.15215,     0.15315,     0.15415,     0.15516,     0.15616,     0.15716,     0.15816,     0.15916,     0.16016,     0.16116,     0.16216,     0.16316,     0.16416,     0.16517,     0.16617,     0.16717,\n",
       "           0.16817,     0.16917,     0.17017,     0.17117,     0.17217,     0.17317,     0.17417,     0.17518,     0.17618,     0.17718,     0.17818,     0.17918,     0.18018,     0.18118,     0.18218,     0.18318,     0.18418,     0.18519,     0.18619,     0.18719,     0.18819,     0.18919,     0.19019,     0.19119,\n",
       "           0.19219,     0.19319,     0.19419,      0.1952,      0.1962,      0.1972,      0.1982,      0.1992,      0.2002,      0.2012,      0.2022,      0.2032,      0.2042,     0.20521,     0.20621,     0.20721,     0.20821,     0.20921,     0.21021,     0.21121,     0.21221,     0.21321,     0.21421,     0.21522,\n",
       "           0.21622,     0.21722,     0.21822,     0.21922,     0.22022,     0.22122,     0.22222,     0.22322,     0.22422,     0.22523,     0.22623,     0.22723,     0.22823,     0.22923,     0.23023,     0.23123,     0.23223,     0.23323,     0.23423,     0.23524,     0.23624,     0.23724,     0.23824,     0.23924,\n",
       "           0.24024,     0.24124,     0.24224,     0.24324,     0.24424,     0.24525,     0.24625,     0.24725,     0.24825,     0.24925,     0.25025,     0.25125,     0.25225,     0.25325,     0.25425,     0.25526,     0.25626,     0.25726,     0.25826,     0.25926,     0.26026,     0.26126,     0.26226,     0.26326,\n",
       "           0.26426,     0.26527,     0.26627,     0.26727,     0.26827,     0.26927,     0.27027,     0.27127,     0.27227,     0.27327,     0.27427,     0.27528,     0.27628,     0.27728,     0.27828,     0.27928,     0.28028,     0.28128,     0.28228,     0.28328,     0.28428,     0.28529,     0.28629,     0.28729,\n",
       "           0.28829,     0.28929,     0.29029,     0.29129,     0.29229,     0.29329,     0.29429,      0.2953,      0.2963,      0.2973,      0.2983,      0.2993,      0.3003,      0.3013,      0.3023,      0.3033,      0.3043,     0.30531,     0.30631,     0.30731,     0.30831,     0.30931,     0.31031,     0.31131,\n",
       "           0.31231,     0.31331,     0.31431,     0.31532,     0.31632,     0.31732,     0.31832,     0.31932,     0.32032,     0.32132,     0.32232,     0.32332,     0.32432,     0.32533,     0.32633,     0.32733,     0.32833,     0.32933,     0.33033,     0.33133,     0.33233,     0.33333,     0.33433,     0.33534,\n",
       "           0.33634,     0.33734,     0.33834,     0.33934,     0.34034,     0.34134,     0.34234,     0.34334,     0.34434,     0.34535,     0.34635,     0.34735,     0.34835,     0.34935,     0.35035,     0.35135,     0.35235,     0.35335,     0.35435,     0.35536,     0.35636,     0.35736,     0.35836,     0.35936,\n",
       "           0.36036,     0.36136,     0.36236,     0.36336,     0.36436,     0.36537,     0.36637,     0.36737,     0.36837,     0.36937,     0.37037,     0.37137,     0.37237,     0.37337,     0.37437,     0.37538,     0.37638,     0.37738,     0.37838,     0.37938,     0.38038,     0.38138,     0.38238,     0.38338,\n",
       "           0.38438,     0.38539,     0.38639,     0.38739,     0.38839,     0.38939,     0.39039,     0.39139,     0.39239,     0.39339,     0.39439,      0.3954,      0.3964,      0.3974,      0.3984,      0.3994,      0.4004,      0.4014,      0.4024,      0.4034,      0.4044,     0.40541,     0.40641,     0.40741,\n",
       "           0.40841,     0.40941,     0.41041,     0.41141,     0.41241,     0.41341,     0.41441,     0.41542,     0.41642,     0.41742,     0.41842,     0.41942,     0.42042,     0.42142,     0.42242,     0.42342,     0.42442,     0.42543,     0.42643,     0.42743,     0.42843,     0.42943,     0.43043,     0.43143,\n",
       "           0.43243,     0.43343,     0.43443,     0.43544,     0.43644,     0.43744,     0.43844,     0.43944,     0.44044,     0.44144,     0.44244,     0.44344,     0.44444,     0.44545,     0.44645,     0.44745,     0.44845,     0.44945,     0.45045,     0.45145,     0.45245,     0.45345,     0.45445,     0.45546,\n",
       "           0.45646,     0.45746,     0.45846,     0.45946,     0.46046,     0.46146,     0.46246,     0.46346,     0.46446,     0.46547,     0.46647,     0.46747,     0.46847,     0.46947,     0.47047,     0.47147,     0.47247,     0.47347,     0.47447,     0.47548,     0.47648,     0.47748,     0.47848,     0.47948,\n",
       "           0.48048,     0.48148,     0.48248,     0.48348,     0.48448,     0.48549,     0.48649,     0.48749,     0.48849,     0.48949,     0.49049,     0.49149,     0.49249,     0.49349,     0.49449,      0.4955,      0.4965,      0.4975,      0.4985,      0.4995,      0.5005,      0.5015,      0.5025,      0.5035,\n",
       "            0.5045,     0.50551,     0.50651,     0.50751,     0.50851,     0.50951,     0.51051,     0.51151,     0.51251,     0.51351,     0.51451,     0.51552,     0.51652,     0.51752,     0.51852,     0.51952,     0.52052,     0.52152,     0.52252,     0.52352,     0.52452,     0.52553,     0.52653,     0.52753,\n",
       "           0.52853,     0.52953,     0.53053,     0.53153,     0.53253,     0.53353,     0.53453,     0.53554,     0.53654,     0.53754,     0.53854,     0.53954,     0.54054,     0.54154,     0.54254,     0.54354,     0.54454,     0.54555,     0.54655,     0.54755,     0.54855,     0.54955,     0.55055,     0.55155,\n",
       "           0.55255,     0.55355,     0.55455,     0.55556,     0.55656,     0.55756,     0.55856,     0.55956,     0.56056,     0.56156,     0.56256,     0.56356,     0.56456,     0.56557,     0.56657,     0.56757,     0.56857,     0.56957,     0.57057,     0.57157,     0.57257,     0.57357,     0.57457,     0.57558,\n",
       "           0.57658,     0.57758,     0.57858,     0.57958,     0.58058,     0.58158,     0.58258,     0.58358,     0.58458,     0.58559,     0.58659,     0.58759,     0.58859,     0.58959,     0.59059,     0.59159,     0.59259,     0.59359,     0.59459,      0.5956,      0.5966,      0.5976,      0.5986,      0.5996,\n",
       "            0.6006,      0.6016,      0.6026,      0.6036,      0.6046,     0.60561,     0.60661,     0.60761,     0.60861,     0.60961,     0.61061,     0.61161,     0.61261,     0.61361,     0.61461,     0.61562,     0.61662,     0.61762,     0.61862,     0.61962,     0.62062,     0.62162,     0.62262,     0.62362,\n",
       "           0.62462,     0.62563,     0.62663,     0.62763,     0.62863,     0.62963,     0.63063,     0.63163,     0.63263,     0.63363,     0.63463,     0.63564,     0.63664,     0.63764,     0.63864,     0.63964,     0.64064,     0.64164,     0.64264,     0.64364,     0.64464,     0.64565,     0.64665,     0.64765,\n",
       "           0.64865,     0.64965,     0.65065,     0.65165,     0.65265,     0.65365,     0.65465,     0.65566,     0.65666,     0.65766,     0.65866,     0.65966,     0.66066,     0.66166,     0.66266,     0.66366,     0.66466,     0.66567,     0.66667,     0.66767,     0.66867,     0.66967,     0.67067,     0.67167,\n",
       "           0.67267,     0.67367,     0.67467,     0.67568,     0.67668,     0.67768,     0.67868,     0.67968,     0.68068,     0.68168,     0.68268,     0.68368,     0.68468,     0.68569,     0.68669,     0.68769,     0.68869,     0.68969,     0.69069,     0.69169,     0.69269,     0.69369,     0.69469,      0.6957,\n",
       "            0.6967,      0.6977,      0.6987,      0.6997,      0.7007,      0.7017,      0.7027,      0.7037,      0.7047,     0.70571,     0.70671,     0.70771,     0.70871,     0.70971,     0.71071,     0.71171,     0.71271,     0.71371,     0.71471,     0.71572,     0.71672,     0.71772,     0.71872,     0.71972,\n",
       "           0.72072,     0.72172,     0.72272,     0.72372,     0.72472,     0.72573,     0.72673,     0.72773,     0.72873,     0.72973,     0.73073,     0.73173,     0.73273,     0.73373,     0.73473,     0.73574,     0.73674,     0.73774,     0.73874,     0.73974,     0.74074,     0.74174,     0.74274,     0.74374,\n",
       "           0.74474,     0.74575,     0.74675,     0.74775,     0.74875,     0.74975,     0.75075,     0.75175,     0.75275,     0.75375,     0.75475,     0.75576,     0.75676,     0.75776,     0.75876,     0.75976,     0.76076,     0.76176,     0.76276,     0.76376,     0.76476,     0.76577,     0.76677,     0.76777,\n",
       "           0.76877,     0.76977,     0.77077,     0.77177,     0.77277,     0.77377,     0.77477,     0.77578,     0.77678,     0.77778,     0.77878,     0.77978,     0.78078,     0.78178,     0.78278,     0.78378,     0.78478,     0.78579,     0.78679,     0.78779,     0.78879,     0.78979,     0.79079,     0.79179,\n",
       "           0.79279,     0.79379,     0.79479,      0.7958,      0.7968,      0.7978,      0.7988,      0.7998,      0.8008,      0.8018,      0.8028,      0.8038,      0.8048,     0.80581,     0.80681,     0.80781,     0.80881,     0.80981,     0.81081,     0.81181,     0.81281,     0.81381,     0.81481,     0.81582,\n",
       "           0.81682,     0.81782,     0.81882,     0.81982,     0.82082,     0.82182,     0.82282,     0.82382,     0.82482,     0.82583,     0.82683,     0.82783,     0.82883,     0.82983,     0.83083,     0.83183,     0.83283,     0.83383,     0.83483,     0.83584,     0.83684,     0.83784,     0.83884,     0.83984,\n",
       "           0.84084,     0.84184,     0.84284,     0.84384,     0.84484,     0.84585,     0.84685,     0.84785,     0.84885,     0.84985,     0.85085,     0.85185,     0.85285,     0.85385,     0.85485,     0.85586,     0.85686,     0.85786,     0.85886,     0.85986,     0.86086,     0.86186,     0.86286,     0.86386,\n",
       "           0.86486,     0.86587,     0.86687,     0.86787,     0.86887,     0.86987,     0.87087,     0.87187,     0.87287,     0.87387,     0.87487,     0.87588,     0.87688,     0.87788,     0.87888,     0.87988,     0.88088,     0.88188,     0.88288,     0.88388,     0.88488,     0.88589,     0.88689,     0.88789,\n",
       "           0.88889,     0.88989,     0.89089,     0.89189,     0.89289,     0.89389,     0.89489,      0.8959,      0.8969,      0.8979,      0.8989,      0.8999,      0.9009,      0.9019,      0.9029,      0.9039,      0.9049,     0.90591,     0.90691,     0.90791,     0.90891,     0.90991,     0.91091,     0.91191,\n",
       "           0.91291,     0.91391,     0.91491,     0.91592,     0.91692,     0.91792,     0.91892,     0.91992,     0.92092,     0.92192,     0.92292,     0.92392,     0.92492,     0.92593,     0.92693,     0.92793,     0.92893,     0.92993,     0.93093,     0.93193,     0.93293,     0.93393,     0.93493,     0.93594,\n",
       "           0.93694,     0.93794,     0.93894,     0.93994,     0.94094,     0.94194,     0.94294,     0.94394,     0.94494,     0.94595,     0.94695,     0.94795,     0.94895,     0.94995,     0.95095,     0.95195,     0.95295,     0.95395,     0.95495,     0.95596,     0.95696,     0.95796,     0.95896,     0.95996,\n",
       "           0.96096,     0.96196,     0.96296,     0.96396,     0.96496,     0.96597,     0.96697,     0.96797,     0.96897,     0.96997,     0.97097,     0.97197,     0.97297,     0.97397,     0.97497,     0.97598,     0.97698,     0.97798,     0.97898,     0.97998,     0.98098,     0.98198,     0.98298,     0.98398,\n",
       "           0.98498,     0.98599,     0.98699,     0.98799,     0.98899,     0.98999,     0.99099,     0.99199,     0.99299,     0.99399,     0.99499,       0.996,       0.997,       0.998,       0.999,           1]), array([[    0.91804,     0.91804,     0.91704,     0.91612,     0.91536,     0.91513,     0.91505,     0.91467,     0.91459,     0.91429,     0.91406,     0.91398,     0.91398,     0.91391,     0.91375,     0.91352,     0.91352,     0.91329,     0.91314,     0.91299,     0.91283,     0.91253,     0.91237,\n",
       "             0.9123,     0.91222,     0.91215,     0.91207,     0.91199,     0.91192,     0.91192,     0.91176,     0.91176,     0.91169,     0.91161,     0.91152,      0.9113,      0.9113,     0.91123,     0.91123,     0.91123,     0.91123,     0.91115,     0.91115,     0.91115,     0.91115,     0.91115,\n",
       "            0.91107,       0.911,     0.91084,     0.91084,     0.91084,     0.91077,     0.91069,     0.91067,     0.91046,     0.91038,     0.91038,     0.91038,     0.91038,     0.91031,     0.91031,     0.91031,     0.90995,     0.90993,     0.90993,      0.9097,      0.9097,      0.9097,      0.9097,\n",
       "             0.9097,      0.9097,      0.9097,     0.90962,     0.90954,     0.90954,     0.90954,     0.90947,     0.90947,     0.90939,     0.90939,     0.90939,     0.90931,     0.90931,     0.90929,     0.90924,     0.90924,     0.90924,     0.90924,     0.90916,     0.90916,     0.90908,     0.90908,\n",
       "            0.90901,     0.90893,     0.90885,     0.90885,     0.90878,     0.90878,      0.9087,      0.9087,     0.90862,     0.90862,     0.90862,     0.90862,     0.90847,     0.90847,     0.90824,     0.90824,     0.90817,     0.90809,     0.90801,     0.90801,     0.90794,     0.90794,     0.90794,\n",
       "            0.90794,     0.90786,     0.90786,     0.90786,     0.90778,     0.90778,     0.90771,     0.90771,     0.90763,     0.90759,     0.90755,     0.90747,      0.9074,     0.90732,     0.90732,     0.90725,     0.90725,     0.90725,     0.90718,     0.90714,     0.90709,     0.90709,     0.90702,\n",
       "            0.90686,     0.90679,     0.90679,     0.90674,     0.90664,     0.90657,     0.90656,     0.90641,     0.90641,     0.90641,     0.90633,     0.90625,     0.90625,     0.90625,     0.90608,     0.90595,     0.90595,     0.90579,     0.90572,     0.90572,     0.90556,     0.90549,     0.90535,\n",
       "            0.90533,     0.90529,      0.9052,      0.9051,     0.90509,     0.90495,     0.90495,     0.90495,     0.90495,     0.90487,     0.90486,     0.90472,     0.90472,     0.90472,     0.90465,     0.90449,     0.90449,     0.90449,     0.90449,     0.90449,     0.90442,     0.90442,     0.90442,\n",
       "            0.90442,     0.90442,     0.90442,     0.90434,     0.90426,     0.90426,     0.90426,     0.90426,     0.90426,     0.90419,     0.90411,     0.90411,     0.90403,     0.90398,     0.90388,     0.90388,      0.9038,      0.9038,      0.9038,      0.9038,      0.9038,     0.90365,     0.90358,\n",
       "             0.9035,      0.9035,     0.90342,     0.90342,     0.90342,     0.90342,     0.90342,     0.90332,     0.90319,     0.90319,     0.90319,     0.90319,     0.90305,     0.90289,     0.90289,     0.90281,     0.90281,     0.90266,     0.90258,     0.90258,     0.90258,     0.90258,     0.90258,\n",
       "            0.90258,     0.90258,     0.90258,      0.9025,     0.90229,     0.90212,     0.90204,     0.90204,     0.90204,     0.90198,     0.90181,     0.90181,     0.90143,     0.90143,     0.90143,     0.90134,      0.9012,      0.9012,     0.90105,      0.9009,     0.90082,     0.90082,     0.90082,\n",
       "            0.90082,     0.90074,     0.90074,     0.90066,     0.90059,     0.90051,     0.90051,     0.90028,     0.90021,     0.90012,     0.89998,     0.89998,     0.89996,      0.8999,     0.89982,     0.89975,     0.89967,     0.89959,     0.89959,     0.89956,     0.89947,     0.89936,     0.89929,\n",
       "            0.89925,     0.89908,     0.89899,     0.89883,     0.89883,     0.89869,     0.89852,     0.89845,     0.89845,     0.89838,     0.89829,     0.89822,     0.89822,     0.89822,     0.89822,     0.89822,     0.89814,     0.89806,     0.89791,     0.89791,     0.89791,     0.89784,     0.89776,\n",
       "            0.89758,     0.89753,     0.89753,     0.89745,     0.89741,     0.89738,     0.89738,     0.89738,     0.89738,     0.89738,      0.8973,     0.89726,     0.89722,     0.89722,     0.89722,     0.89722,     0.89722,     0.89722,     0.89715,     0.89715,     0.89715,     0.89715,     0.89715,\n",
       "            0.89715,     0.89694,     0.89684,     0.89684,     0.89676,     0.89676,     0.89671,     0.89661,     0.89653,     0.89638,     0.89638,     0.89638,      0.8963,      0.8963,      0.8963,     0.89607,     0.89607,     0.89607,     0.89582,     0.89578,     0.89577,     0.89577,     0.89554,\n",
       "            0.89554,     0.89554,     0.89554,     0.89554,     0.89548,     0.89516,     0.89508,     0.89493,     0.89485,     0.89477,     0.89477,     0.89477,     0.89464,     0.89462,     0.89447,     0.89431,     0.89429,     0.89424,     0.89408,     0.89401,     0.89393,     0.89393,     0.89385,\n",
       "            0.89385,     0.89378,     0.89345,     0.89328,     0.89324,     0.89309,     0.89301,     0.89294,     0.89294,     0.89294,     0.89286,     0.89278,     0.89248,      0.8923,     0.89217,     0.89209,     0.89191,     0.89179,     0.89141,     0.89133,     0.89133,     0.89118,     0.89118,\n",
       "             0.8911,     0.89102,     0.89087,     0.89087,     0.89079,     0.89069,     0.89049,     0.89041,     0.89041,     0.89033,     0.89026,     0.89018,     0.89018,      0.8901,      0.8901,     0.89004,      0.8898,      0.8898,     0.88972,     0.88965,     0.88962,     0.88949,     0.88947,\n",
       "            0.88942,     0.88942,     0.88929,     0.88926,     0.88911,     0.88898,     0.88896,     0.88888,     0.88888,     0.88865,     0.88857,     0.88857,     0.88857,     0.88857,     0.88857,     0.88857,     0.88857,      0.8885,      0.8885,      0.8885,      0.8885,     0.88846,     0.88834,\n",
       "            0.88834,     0.88819,     0.88812,     0.88804,     0.88773,     0.88773,     0.88766,      0.8875,      0.8875,     0.88736,     0.88727,     0.88712,     0.88704,     0.88697,     0.88674,     0.88658,     0.88658,      0.8865,      0.8864,     0.88628,     0.88613,      0.8859,     0.88582,\n",
       "            0.88559,     0.88544,     0.88539,     0.88528,     0.88521,     0.88521,     0.88513,     0.88513,     0.88498,      0.8849,     0.88477,     0.88469,     0.88453,     0.88452,     0.88452,     0.88452,     0.88444,     0.88437,     0.88429,     0.88421,     0.88398,     0.88383,     0.88367,\n",
       "            0.88359,     0.88351,     0.88337,     0.88337,     0.88328,     0.88291,     0.88283,     0.88283,     0.88268,     0.88261,     0.88253,      0.8825,     0.88235,     0.88215,     0.88207,     0.88199,     0.88192,     0.88188,     0.88176,     0.88176,     0.88146,     0.88138,     0.88123,\n",
       "            0.88118,     0.88095,     0.88084,     0.88084,     0.88071,     0.88062,     0.88055,     0.88046,     0.88023,     0.87993,      0.8797,      0.8797,     0.87962,     0.87962,     0.87939,     0.87931,     0.87916,     0.87893,     0.87886,     0.87854,     0.87824,     0.87809,     0.87784,\n",
       "            0.87778,     0.87761,     0.87738,     0.87715,     0.87684,     0.87661,     0.87633,     0.87622,     0.87607,     0.87584,     0.87564,     0.87549,     0.87511,     0.87499,     0.87472,     0.87442,     0.87419,     0.87388,     0.87373,     0.87344,     0.87321,     0.87306,     0.87275,\n",
       "            0.87243,     0.87212,     0.87197,     0.87181,     0.87158,     0.87056,     0.87036,     0.86975,     0.86944,     0.86929,     0.86868,     0.86845,     0.86814,     0.86768,     0.86733,     0.86671,      0.8663,       0.866,     0.86569,     0.86539,       0.865,     0.86479,      0.8647,\n",
       "            0.86462,     0.86447,     0.86416,     0.86386,     0.86324,     0.86248,      0.8621,     0.86187,     0.86156,     0.86128,     0.86102,      0.8609,     0.86056,     0.86036,     0.86011,     0.85988,     0.85957,     0.85942,     0.85896,      0.8588,      0.8588,     0.85835,     0.85773,\n",
       "            0.85762,     0.85731,     0.85685,     0.85666,     0.85636,     0.85616,      0.8559,     0.85554,     0.85536,     0.85498,      0.8549,     0.85488,     0.85465,     0.85429,     0.85406,     0.85406,     0.85403,     0.85368,     0.85354,     0.85352,     0.85352,     0.85352,     0.85329,\n",
       "            0.85329,     0.85321,     0.85313,     0.85289,     0.85279,     0.85253,     0.85225,     0.85202,     0.85194,     0.85192,     0.85161,     0.85153,     0.85138,      0.8513,     0.85123,     0.85115,     0.85115,     0.85115,     0.85108,     0.85108,     0.85108,     0.85099,     0.85077,\n",
       "            0.85072,     0.85057,     0.85041,     0.85031,     0.85031,     0.85021,     0.85016,     0.85013,     0.84993,      0.8498,     0.84955,     0.84954,     0.84947,     0.84932,     0.84919,     0.84916,     0.84905,     0.84893,      0.8487,     0.84854,     0.84847,      0.8484,     0.84829,\n",
       "            0.84811,     0.84796,     0.84794,     0.84778,     0.84753,     0.84725,     0.84723,     0.84718,     0.84695,     0.84672,     0.84653,     0.84641,     0.84622,     0.84602,     0.84594,     0.84587,     0.84578,     0.84569,     0.84566,     0.84559,      0.8454,     0.84532,     0.84518,\n",
       "            0.84488,     0.84488,     0.84466,     0.84454,     0.84447,     0.84442,     0.84435,     0.84404,     0.84381,     0.84369,     0.84358,     0.84358,      0.8435,      0.8434,     0.84337,     0.84333,     0.84319,     0.84319,     0.84319,     0.84304,     0.84279,     0.84248,      0.8423,\n",
       "            0.84206,     0.84197,     0.84174,     0.84167,     0.84151,     0.84128,     0.84101,      0.8409,     0.84059,     0.84051,     0.84051,     0.84031,      0.8402,     0.84011,     0.83985,     0.83983,     0.83983,     0.83983,     0.83971,     0.83957,     0.83939,      0.8393,     0.83922,\n",
       "            0.83897,     0.83894,     0.83891,     0.83849,     0.83822,     0.83814,     0.83802,     0.83784,     0.83775,     0.83766,     0.83761,     0.83744,     0.83719,     0.83709,     0.83692,     0.83672,     0.83663,     0.83636,     0.83608,     0.83578,     0.83546,     0.83531,     0.83527,\n",
       "            0.83516,     0.83511,       0.835,     0.83492,     0.83484,     0.83446,     0.83431,     0.83427,     0.83424,     0.83413,     0.83399,     0.83382,     0.83372,     0.83345,     0.83327,     0.83314,     0.83303,     0.83286,     0.83263,     0.83251,     0.83225,     0.83179,     0.83167,\n",
       "            0.83132,      0.8311,      0.8307,     0.83052,     0.83016,     0.83011,      0.8298,      0.8298,     0.82964,      0.8296,     0.82952,     0.82934,     0.82925,     0.82919,     0.82881,     0.82847,     0.82842,       0.828,     0.82781,     0.82743,     0.82734,     0.82674,     0.82662,\n",
       "            0.82641,     0.82617,     0.82597,     0.82571,     0.82559,     0.82517,     0.82467,     0.82447,     0.82393,     0.82383,     0.82362,     0.82315,     0.82303,     0.82284,     0.82245,     0.82146,      0.8213,     0.82062,     0.82007,     0.81988,     0.81868,     0.81799,     0.81754,\n",
       "            0.81737,     0.81675,     0.81644,     0.81598,     0.81581,     0.81521,     0.81488,     0.81449,     0.81389,     0.81376,     0.81343,     0.81304,     0.81189,      0.8112,      0.8105,     0.80989,     0.80929,     0.80859,     0.80796,      0.8075,     0.80673,     0.80558,     0.80447,\n",
       "            0.80328,     0.80217,     0.80113,     0.80028,     0.79875,     0.79767,     0.79659,     0.79544,     0.79421,      0.7913,     0.78992,     0.78778,     0.78593,     0.78432,     0.78202,     0.78011,     0.77842,     0.77558,     0.77321,     0.77152,      0.7693,     0.76554,     0.76286,\n",
       "             0.7601,     0.75665,     0.75252,     0.75022,     0.74807,     0.74386,     0.73934,     0.73451,      0.7316,     0.72892,     0.72295,     0.71973,     0.71475,     0.71092,     0.70525,     0.70066,     0.69415,      0.6881,     0.68312,     0.67547,     0.67064,     0.66229,     0.65264,\n",
       "            0.64193,     0.63542,      0.6247,     0.61154,     0.60059,     0.59087,     0.57946,     0.56935,     0.55795,     0.55167,     0.54355,     0.53016,     0.51485,     0.50665,     0.49272,     0.48392,     0.46784,     0.45812,     0.44327,     0.42597,      0.4177,     0.40193,     0.38609,\n",
       "            0.36756,     0.34935,     0.33342,     0.32416,     0.30518,     0.28665,     0.26928,     0.24976,     0.22948,     0.21891,     0.20008,     0.18477,      0.1687,     0.15216,     0.13808,     0.12529,     0.10853,    0.098424,    0.090002,    0.081044,    0.070632,     0.06045,    0.054477,\n",
       "           0.048121,    0.039623,    0.035027,    0.028442,    0.025224,    0.020093,     0.01764,    0.012891,   0.0096734,   0.0078329,    0.006222,   0.0049171,   0.0033062,    0.002231,   0.0018445,    0.001305,   0.0011481,  0.00072518,  0.00045667,  0.00040437,  0.00030395,  0.00028154,  0.00025912,\n",
       "         0.00023671,  0.00014289,  9.0598e-05,           0,           0,           0,           0,           0,           0,           0,           0,           0,           0,           0,           0,           0,           0,           0,           0,           0,           0,           0,           0,\n",
       "                  0,           0,           0,           0,           0,           0,           0,           0,           0,           0,           0]]), 'Confidence', 'Recall']]\n",
       "fitness: 1.4830552773597958\n",
       "keys: ['metrics/precision(B)', 'metrics/recall(B)', 'metrics/mAP50(B)', 'metrics/mAP50-95(B)', 'metrics/precision(M)', 'metrics/recall(M)', 'metrics/mAP50(M)', 'metrics/mAP50-95(M)']\n",
       "maps: array([     1.4372])\n",
       "names: {0: 'table row'}\n",
       "plot: True\n",
       "results_dict: {'metrics/precision(B)': 0.9626730011110001, 'metrics/recall(B)': 0.9750048510284218, 'metrics/mAP50(B)': 0.9904852388929879, 'metrics/mAP50-95(B)': 0.8889087695049585, 'metrics/precision(M)': 0.9310982263318285, 'metrics/recall(M)': 0.8511517563327466, 'metrics/mAP50(M)': 0.905427241780245, 'metrics/mAP50-95(M)': 0.5482734852644555, 'fitness': 1.4830552773597958}\n",
       "save_dir: PosixPath('runs/segment/train')\n",
       "seg: ultralytics.utils.metrics.Metric object\n",
       "speed: {'preprocess': 0.07695960998535156, 'inference': 4.231245040893555, 'loss': 0.0006499290466308594, 'postprocess': 1.0144298076629639}\n",
       "task: 'segment'"
      ]
     },
     "execution_count": 12,
     "metadata": {},
     "output_type": "execute_result"
    }
   ],
   "source": [
    "from ultralytics import YOLO\n",
    "model = YOLO(\"yolo11m-seg.pt\")\n",
    "model.train(\n",
    "    data=dataset_yaml_path,\n",
    "    epochs=100,\n",
    "    imgsz=480,\n",
    "    device=\"cuda\",\n",
    "    translate=0.2,\n",
    "    scale=0.7,\n",
    "    flipud=0.0,\n",
    "    erasing=0.2\n",
    ")"
   ]
  },
  {
   "cell_type": "markdown",
   "id": "b8c8c91a",
   "metadata": {
    "papermill": {
     "duration": 4.71479,
     "end_time": "2024-10-17T13:16:47.441245",
     "exception": false,
     "start_time": "2024-10-17T13:16:42.726455",
     "status": "completed"
    },
    "tags": []
   },
   "source": [
    "# Model testing"
   ]
  },
  {
   "cell_type": "code",
   "execution_count": 13,
   "id": "17af9139",
   "metadata": {
    "execution": {
     "iopub.execute_input": "2024-10-17T13:16:56.876036Z",
     "iopub.status.busy": "2024-10-17T13:16:56.875068Z",
     "iopub.status.idle": "2024-10-17T13:16:57.414706Z",
     "shell.execute_reply": "2024-10-17T13:16:57.413755Z"
    },
    "id": "HYUTmD6FSM6K",
    "outputId": "dab4e454-83e7-4d10-a02a-e967e41877b6",
    "papermill": {
     "duration": 5.302958,
     "end_time": "2024-10-17T13:16:57.417032",
     "exception": false,
     "start_time": "2024-10-17T13:16:52.114074",
     "status": "completed"
    },
    "tags": []
   },
   "outputs": [
    {
     "name": "stdout",
     "output_type": "stream",
     "text": [
      "\n",
      "0: 128x480 4 table rows, 61.1ms\n",
      "Speed: 0.8ms preprocess, 61.1ms inference, 3.6ms postprocess per image at shape (1, 3, 128, 480)\n"
     ]
    },
    {
     "data": {
      "image/jpeg": "[encoded data removed]",
      "image/png": "[encoded data removed]",
      "text/plain": [
       "<PIL.Image.Image image mode=RGB size=550x139>"
      ]
     },
     "metadata": {},
     "output_type": "display_data"
    }
   ],
   "source": [
    "# Load the dataset configuration\n",
    "with open(r\"/kaggle/working/dataset/dataset.yaml\", 'r') as file:\n",
    "    dataset_config = yaml.safe_load(file)\n",
    "\n",
    "# Get the dataset path and class names\n",
    "dataset_path = dataset_config['path']\n",
    "class_names = dataset_config['names']\n",
    "\n",
    "# Choose a random set (train or val)\n",
    "image_set = random.choice(['train', 'val'])\n",
    "images_path = os.path.join(dataset_path, image_set, 'images')\n",
    "\n",
    "# Get a list of all image files\n",
    "image_files = [f for f in os.listdir(images_path) if f.endswith(('.jpg', '.jpeg', '.png'))]\n",
    "\n",
    "# Choose a random image\n",
    "random_image = random.choice(image_files)\n",
    "image_path = os.path.join(images_path, random_image)\n",
    "\n",
    "# Run batched inference on a list of images\n",
    "results = model([image_path])  # return a list of Results objects\n",
    "\n",
    "# Process results list\n",
    "for result in results:\n",
    "    boxes = result.boxes  # Boxes object for bounding box outputs\n",
    "    masks = result.masks  # Masks object for segmentation masks outputs\n",
    "    keypoints = result.keypoints  # Keypoints object for pose outputs\n",
    "    probs = result.probs  # Probs object for classification outputs\n",
    "    obb = result.obb  # Oriented boxes object for OBB outputs\n",
    "    result.show()  # display to screen\n",
    "    result.save(filename=\"result.jpg\")  # save to disk"
   ]
  },
  {
   "cell_type": "markdown",
   "id": "9ddf59eb",
   "metadata": {
    "papermill": {
     "duration": 4.686347,
     "end_time": "2024-10-17T13:17:06.820138",
     "exception": false,
     "start_time": "2024-10-17T13:17:02.133791",
     "status": "completed"
    },
    "tags": []
   },
   "source": [
    "# Model export"
   ]
  },
  {
   "cell_type": "code",
   "execution_count": 14,
   "id": "3b919441",
   "metadata": {
    "execution": {
     "iopub.execute_input": "2024-10-17T13:17:16.188675Z",
     "iopub.status.busy": "2024-10-17T13:17:16.187887Z",
     "iopub.status.idle": "2024-10-17T13:18:17.901394Z",
     "shell.execute_reply": "2024-10-17T13:18:17.900292Z"
    },
    "id": "k_9dJ4sNVjnL",
    "papermill": {
     "duration": 66.4475,
     "end_time": "2024-10-17T13:18:17.903588",
     "exception": false,
     "start_time": "2024-10-17T13:17:11.456088",
     "status": "completed"
    },
    "tags": []
   },
   "outputs": [
    {
     "name": "stdout",
     "output_type": "stream",
     "text": [
      "Ultralytics 8.3.15 🚀 Python-3.10.14 torch-2.4.0 CPU (Intel Xeon 2.00GHz)\n",
      "\n",
      "\u001b[34m\u001b[1mPyTorch:\u001b[0m starting from 'runs/segment/train/weights/best.pt' with input shape (1, 3, 480, 480) BCHW and output shape(s) ((1, 37, 4725), (1, 32, 120, 120)) (43.0 MB)\n",
      "\u001b[31m\u001b[1mrequirements:\u001b[0m Ultralytics requirements ['onnxslim', 'onnxruntime-gpu'] not found, attempting AutoUpdate...\n",
      "Collecting onnxslim\n",
      "  Downloading onnxslim-0.1.35-py3-none-any.whl.metadata (3.0 kB)\n",
      "Collecting onnxruntime-gpu\n",
      "  Downloading onnxruntime_gpu-1.19.2-cp310-cp310-manylinux_2_27_x86_64.manylinux_2_28_x86_64.whl.metadata (4.5 kB)\n",
      "Requirement already satisfied: onnx in /opt/conda/lib/python3.10/site-packages (from onnxslim) (1.17.0)\n",
      "Requirement already satisfied: sympy in /opt/conda/lib/python3.10/site-packages (from onnxslim) (1.13.3)\n",
      "Requirement already satisfied: packaging in /opt/conda/lib/python3.10/site-packages (from onnxslim) (21.3)\n",
      "Collecting coloredlogs (from onnxruntime-gpu)\n",
      "  Downloading coloredlogs-15.0.1-py2.py3-none-any.whl.metadata (12 kB)\n",
      "Requirement already satisfied: flatbuffers in /opt/conda/lib/python3.10/site-packages (from onnxruntime-gpu) (24.3.25)\n",
      "Requirement already satisfied: numpy>=1.21.6 in /opt/conda/lib/python3.10/site-packages (from onnxruntime-gpu) (1.26.4)\n",
      "Requirement already satisfied: protobuf in /opt/conda/lib/python3.10/site-packages (from onnxruntime-gpu) (3.20.3)\n",
      "Collecting humanfriendly>=9.1 (from coloredlogs->onnxruntime-gpu)\n",
      "  Downloading humanfriendly-10.0-py2.py3-none-any.whl.metadata (9.2 kB)\n",
      "Requirement already satisfied: pyparsing!=3.0.5,>=2.0.2 in /opt/conda/lib/python3.10/site-packages (from packaging->onnxslim) (3.1.2)\n",
      "Requirement already satisfied: mpmath<1.4,>=1.1.0 in /opt/conda/lib/python3.10/site-packages (from sympy->onnxslim) (1.3.0)\n",
      "Downloading onnxslim-0.1.35-py3-none-any.whl (140 kB)\n",
      "\u001b[2K   \u001b[90m━━━━━━━━━━━━━━━━━━━━━━━━━━━━━━━━━━━━━━━━\u001b[0m \u001b[32m140.4/140.4 kB\u001b[0m \u001b[31m7.1 MB/s\u001b[0m eta \u001b[36m0:00:00\u001b[0m\n",
      "\u001b[?25hDownloading onnxruntime_gpu-1.19.2-cp310-cp310-manylinux_2_27_x86_64.manylinux_2_28_x86_64.whl (226.2 MB)\n",
      "\u001b[2K   \u001b[90m━━━━━━━━━━━━━━━━━━━━━━━━━━━━━━━━━━━━━━━\u001b[0m \u001b[32m226.2/226.2 MB\u001b[0m \u001b[31m237.5 MB/s\u001b[0m eta \u001b[36m0:00:00\u001b[0m\n",
      "\u001b[?25hDownloading coloredlogs-15.0.1-py2.py3-none-any.whl (46 kB)\n",
      "\u001b[2K   \u001b[90m━━━━━━━━━━━━━━━━━━━━━━━━━━━━━━━━━━━━━━━━\u001b[0m \u001b[32m46.0/46.0 kB\u001b[0m \u001b[31m208.6 MB/s\u001b[0m eta \u001b[36m0:00:00\u001b[0m\n",
      "\u001b[?25hDownloading humanfriendly-10.0-py2.py3-none-any.whl (86 kB)\n",
      "\u001b[2K   \u001b[90m━━━━━━━━━━━━━━━━━━━━━━━━━━━━━━━━━━━━━━━━\u001b[0m \u001b[32m86.8/86.8 kB\u001b[0m \u001b[31m220.6 MB/s\u001b[0m eta \u001b[36m0:00:00\u001b[0m\n",
      "\u001b[?25hInstalling collected packages: humanfriendly, onnxslim, coloredlogs, onnxruntime-gpu\n",
      "Successfully installed coloredlogs-15.0.1 humanfriendly-10.0 onnxruntime-gpu-1.19.2 onnxslim-0.1.35\n",
      "\n",
      "\u001b[31m\u001b[1mrequirements:\u001b[0m AutoUpdate success ✅ 18.7s, installed 2 packages: ['onnxslim', 'onnxruntime-gpu']\n",
      "\u001b[31m\u001b[1mrequirements:\u001b[0m ⚠️ \u001b[1mRestart runtime or rerun command for updates to take effect\u001b[0m\n",
      "\n",
      "\n",
      "\u001b[34m\u001b[1mONNX:\u001b[0m starting export with onnx 1.17.0 opset 19...\n",
      "\u001b[34m\u001b[1mONNX:\u001b[0m slimming with onnxslim 0.1.35...\n",
      "\u001b[34m\u001b[1mONNX:\u001b[0m export success ✅ 59.0s, saved as 'runs/segment/train/weights/best.onnx' (85.4 MB)\n",
      "\n",
      "Export complete (61.7s)\n",
      "Results saved to \u001b[1m/kaggle/working/runs/segment/train/weights\u001b[0m\n",
      "Predict:         yolo predict task=segment model=runs/segment/train/weights/best.onnx imgsz=480  \n",
      "Validate:        yolo val task=segment model=runs/segment/train/weights/best.onnx imgsz=480 data=/kaggle/working/dataset/dataset.yaml  \n",
      "Visualize:       https://netron.app\n"
     ]
    },
    {
     "data": {
      "text/plain": [
       "'runs/segment/train/weights/best.onnx'"
      ]
     },
     "execution_count": 14,
     "metadata": {},
     "output_type": "execute_result"
    }
   ],
   "source": [
    "model.export(format=\"onnx\", dynamic=True)"
   ]
  }
 ],
 "metadata": {
  "accelerator": "GPU",
  "colab": {
   "gpuType": "T4",
   "provenance": []
  },
  "kaggle": {
   "accelerator": "nvidiaTeslaT4",
   "dataSources": [],
   "isGpuEnabled": true,
   "isInternetEnabled": true,
   "language": "python",
   "sourceType": "notebook"
  },
  "kernelspec": {
   "display_name": "Python 3",
   "language": "python",
   "name": "python3"
  },
  "language_info": {
   "codemirror_mode": {
    "name": "ipython",
    "version": 3
   },
   "file_extension": ".py",
   "mimetype": "text/x-python",
   "name": "python",
   "nbconvert_exporter": "python",
   "pygments_lexer": "ipython3",
   "version": "3.10.14"
  },
  "papermill": {
   "default_parameters": {},
   "duration": 22699.949144,
   "end_time": "2024-10-17T13:18:25.488537",
   "environment_variables": {},
   "exception": null,
   "input_path": "__notebook__.ipynb",
   "output_path": "__notebook__.ipynb",
   "parameters": {},
   "start_time": "2024-10-17T07:00:05.539393",
   "version": "2.6.0"
  }
 },
 "nbformat": 4,
 "nbformat_minor": 5
}
